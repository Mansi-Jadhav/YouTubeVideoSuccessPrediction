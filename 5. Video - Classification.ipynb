{
 "cells": [
  {
   "cell_type": "markdown",
   "id": "c16a16a8-2f0c-4366-8b16-234f3c36f59c",
   "metadata": {},
   "source": [
    "# VideoMAE - Classification"
   ]
  },
  {
   "cell_type": "markdown",
   "id": "e3c966d7-eddf-4e09-8650-5e9f4ebfc97d",
   "metadata": {},
   "source": [
    "Note that the feature extraction pipeline is given in the VideoMAE Regression file. "
   ]
  },
  {
   "cell_type": "markdown",
   "id": "44ab6b2f-27a4-43fb-ba60-2ee3e8c6819d",
   "metadata": {},
   "source": [
    "## Imports and config"
   ]
  },
  {
   "cell_type": "code",
   "execution_count": 21,
   "id": "601ce04c-ee64-47ff-9e2a-d902df831522",
   "metadata": {},
   "outputs": [],
   "source": [
    "import os\n",
    "from pathlib import Path\n",
    "import copy\n",
    "import json\n",
    "import numpy as np\n",
    "import pandas as pd\n",
    "import pickle\n",
    "import matplotlib.pyplot as plt\n",
    "import seaborn as sns\n",
    "\n",
    "import torch\n",
    "import torch.nn as nn\n",
    "import torch.optim as optim\n",
    "from torch.utils.data import Dataset, DataLoader\n",
    "\n",
    "import optuna\n",
    "from optuna.samplers import TPESampler\n",
    "\n",
    "from sklearn.metrics import (\n",
    "    accuracy_score, f1_score, classification_report, confusion_matrix,\n",
    "    roc_curve, auc, roc_auc_score\n",
    ")\n",
    "from sklearn.preprocessing import label_binarize\n",
    "\n",
    "# ----------------------------- global knobs (match regression) -----------------------------\n",
    "SEED = 42\n",
    "DEVICE = torch.device(\"cuda\" if torch.cuda.is_available() else \"cpu\")\n",
    "BATCH_SIZE = 5\n",
    "N_EPOCHS = 40\n",
    "PATIENCE = 10\n",
    "N_TRIALS = 30\n",
    "FEATURE_DIR = \"videomae_features_new\"\n",
    "MODEL_DIR = Path(\"models_final\")\n",
    "MODEL_DIR.mkdir(exist_ok=True)\n",
    "RESULTS_DIR = Path(\"results_final\")\n",
    "RESULTS_DIR.mkdir(exist_ok=True)\n",
    "PIN = torch.cuda.is_available()\n",
    "NUM_WORKERS = 0\n",
    "\n",
    "CSV_PATH = \"FinalDataset.csv\"\n",
    "NUM_CLASSES = 5  # adjust if your encoding uses a different count\n",
    "\n",
    "# Two label columns → choose by split name\n",
    "LABEL_COL_MAP = {\n",
    "    \"ind\": \"view_range_enc_ind\",\n",
    "    \"dep\": \"view_range_enc_dep\",\n",
    "}\n",
    "\n",
    "def set_seed(seed: int = SEED):\n",
    "    np.random.seed(seed)\n",
    "    torch.manual_seed(seed)\n",
    "    if torch.cuda.is_available():\n",
    "        torch.cuda.manual_seed_all(seed)\n",
    "    torch.backends.cudnn.deterministic = True\n",
    "    torch.backends.cudnn.benchmark = False\n",
    "set_seed()"
   ]
  },
  {
   "cell_type": "markdown",
   "id": "bc2c4eb9-65ad-4e50-8f51-1011765d366c",
   "metadata": {},
   "source": [
    "# Dataset Class"
   ]
  },
  {
   "cell_type": "code",
   "execution_count": 22,
   "id": "b9d449da-5687-4f8f-8e15-459abaeb6a2a",
   "metadata": {},
   "outputs": [],
   "source": [
    "class TemporalFeatureDataset(Dataset):\n",
    "    def __init__(self, dataframe: pd.DataFrame, feature_dir: str, target_column: str):\n",
    "        self.df = dataframe.reset_index(drop=True)\n",
    "        self.feature_dir = feature_dir     # Base directory containing .npy feature files\n",
    "        self.target_column = target_column\n",
    "\n",
    "    def __len__(self):\n",
    "        return len(self.df)\n",
    "\n",
    "    def __getitem__(self, idx):\n",
    "        row = self.df.iloc[idx]   # select the idx-th row\n",
    "        video_id = row[\"video_id\"]\n",
    "        feature_path = os.path.join(self.feature_dir, f\"{video_id}_temporal.npy\") \n",
    "        features = np.load(feature_path)  # load features: expected shape [T, D]\n",
    "        label = int(row[self.target_column])  # fetch the target for this sample\n",
    "        return torch.tensor(features, dtype=torch.float32), torch.tensor(label, dtype=torch.long)  # Convert to Pytorch tensors"
   ]
  },
  {
   "cell_type": "markdown",
   "id": "1e458cc9-81f6-44ad-8174-9ed4db4c217e",
   "metadata": {},
   "source": [
    "# Model - Transformer"
   ]
  },
  {
   "cell_type": "code",
   "execution_count": 23,
   "id": "06fbb165-bcfd-420d-9cf5-3e7243ecd179",
   "metadata": {},
   "outputs": [],
   "source": [
    "class TransformerClassifier(nn.Module):\n",
    "    def __init__(self, d_model=768, nhead=8, num_layers=2, num_classes=5):\n",
    "        super().__init__()\n",
    "        # One encoder block (self-attention + FFN + residual + norm)\n",
    "        encoder_layer = nn.TransformerEncoderLayer(d_model, nhead)\n",
    "        self.transformer = nn.TransformerEncoder(encoder_layer, num_layers) # Stack 'num_layers' encoder blocks\n",
    "        self.classifier = nn.Linear(d_model, num_classes) # Linear classifier head mapping pooled [B, D] -> [B, num_classes].\n",
    "\n",
    "    def forward(self, x):  # x: (B, T, D)\n",
    "        x = x.permute(1, 0, 2)         # Permute as by default the transformer expects [T, B, D]\n",
    "        x = self.transformer(x)        # (T, B, D)\n",
    "        x = x.mean(dim=0)              # global average pooling over time\n",
    "        return self.classifier(x)      # Project to class logits - (B, num_classes)"
   ]
  },
  {
   "cell_type": "markdown",
   "id": "0a068010-4b17-4b71-acd9-a880db000f94",
   "metadata": {},
   "source": [
    "# Training Loop"
   ]
  },
  {
   "cell_type": "code",
   "execution_count": 24,
   "id": "2d3e2f5c-4031-463a-9a76-5300c68b91ff",
   "metadata": {},
   "outputs": [],
   "source": [
    "def acc_f1_from_logits(logits: np.ndarray, targets: np.ndarray):\n",
    "    preds = logits.argmax(axis=1)   # predicted class = argmax over classes\n",
    "    acc = accuracy_score(targets, preds)  # overall accuracy\n",
    "    f1  = f1_score(targets, preds, average=\"macro\")  # macro-F1 (treats classes equally)\n",
    "    return float(acc), float(f1)\n",
    "\n",
    "def train_one_epoch(model, loader, criterion, optimizer, clip_norm: float = 1.0):\n",
    "    model.train()     # Set the model in train mode\n",
    "    total_loss, n = 0.0, 0\n",
    "    logits_all, tgts_all = [], []\n",
    "\n",
    "    for x, y in loader:\n",
    "        x = x.to(DEVICE, non_blocking=True)   # Move to device\n",
    "        y = y.to(DEVICE, non_blocking=True)   # Move to device\n",
    "\n",
    "        optimizer.zero_grad(set_to_none=True)   # Instead of setting to 0, set the grads to None - slightly faster\n",
    "        logits = model(x)                 # forward pass -> logits (B, C)\n",
    "        loss = criterion(logits, y)       # Cross Entropy loss (expects long targets)\n",
    "        loss.backward()                # Backpropagation\n",
    "        \n",
    "        if clip_norm is not None:        # optional grad-norm clipping for stability\n",
    "            nn.utils.clip_grad_norm_(model.parameters(), clip_norm)\n",
    "            \n",
    "        optimizer.step()                    # apply updates\n",
    "\n",
    "        bs = x.size(0)               # batch size\n",
    "        total_loss += loss.item() * bs    # accumulate sum of loss over samples\n",
    "        n += bs       # accumulate sample count\n",
    "\n",
    "        logits_all.append(logits.detach().cpu())   # Stash logits on CPU\n",
    "        tgts_all.append(y.detach().cpu())         # Stash targets on CPU\n",
    "\n",
    "    if n == 0:\n",
    "        return float(\"nan\"), float(\"nan\"), float(\"nan\")\n",
    "\n",
    "    # Concatenate all batches\n",
    "    logits_all = torch.cat(logits_all, dim=0).numpy()\n",
    "    tgts_all   = torch.cat(tgts_all,   dim=0).numpy()\n",
    "    \n",
    "    acc, f1 = acc_f1_from_logits(logits_all, tgts_all)   # Compute accuracy and macro-F1\n",
    "    avg_ce = total_loss / n             # convert summed loss to mean over samples\n",
    "    return avg_ce, acc, f1\n",
    "\n",
    "\n",
    "@torch.no_grad()                 # disable autograd for evaluation\n",
    "def evaluate(model, loader, criterion=None):\n",
    "    model.eval()         # Set eval mode\n",
    "    total_loss, n = 0.0, 0\n",
    "    logits_all, tgts_all = [], []\n",
    "\n",
    "    # Build/default CE once, move to DEVICE\n",
    "    if criterion is None:\n",
    "        criterion = nn.CrossEntropyLoss()\n",
    "    criterion = criterion.to(DEVICE)\n",
    "\n",
    "    for x, y in loader:\n",
    "        x = x.to(DEVICE, non_blocking=True)   # Move inputs to device\n",
    "        y = y.to(DEVICE, non_blocking=True)   # Move targets to device\n",
    "\n",
    "        logits = model(x)       # (B, C)\n",
    "        loss = criterion(logits, y)   # CE on this batch\n",
    "\n",
    "        batch_size = x.size(0)\n",
    "        total_loss += loss.item() * batch_size     # accumulate sum of losses\n",
    "        n += batch_size\n",
    "\n",
    "        logits_all.append(logits.detach().cpu())\n",
    "        tgts_all.append(y.detach().cpu())\n",
    "\n",
    "    if n == 0:\n",
    "        # empty split safety\n",
    "        return float(\"nan\"), float(\"nan\"), float(\"nan\"), np.empty((0,)), np.empty((0,)), np.empty((0,))\n",
    "\n",
    "    logits_all = torch.cat(logits_all, dim=0).numpy()     # (N, C)\n",
    "    tgts_all   = torch.cat(tgts_all,   dim=0).numpy()     # (N,)\n",
    "    probs = torch.softmax(torch.from_numpy(logits_all), dim=1).numpy()   # convert logits -> probs\n",
    "\n",
    "    acc, f1 = acc_f1_from_logits(logits_all, tgts_all)\n",
    "    avg_ce = total_loss / n         # mean cross entropy over samples\n",
    "    return avg_ce, acc, f1, probs, logits_all, tgts_all\n",
    "\n",
    "\n",
    "def class_weights_from_df(train_df, target_col, num_classes):\n",
    "    # Count per class using integer labels {0..num_classes-1}; fill missing with 0\n",
    "    counts = train_df[target_col].value_counts().reindex(range(num_classes), fill_value=0).astype(float).values\n",
    "    total = counts.sum()\n",
    "    if total <= 0:\n",
    "        # no training data- fall back to uniform\n",
    "        return torch.ones(num_classes, dtype=torch.float32, device=DEVICE)\n",
    "    \n",
    "    weights = total / (num_classes * np.maximum(counts, 1.0)) # Inverse-frequency scaling: total/(num_classes * count_c)\n",
    "    weights = np.maximum(weights, 1e-6)  # avoid zeros\n",
    "    return torch.tensor(weights, dtype=torch.float32, device=DEVICE)    # Return a tensor of weights\n",
    "\n",
    "def train_and_evaluate(model, train_loader, val_loader, lr, weight_decay,\n",
    "                       n_epochs=N_EPOCHS, patience=PATIENCE, class_weights=None):\n",
    "    crit = nn.CrossEntropyLoss(weight=class_weights).to(DEVICE)   # Build CE with weights \n",
    "    opt  = optim.Adam(model.parameters(), lr=lr, weight_decay=weight_decay)  # Adam optimizer with weight decay\n",
    "\n",
    "    best_val_acc = -1.0\n",
    "    best_state = None; bad = 0; best_f1 = 0.0\n",
    "    \n",
    "    for ep in range(1, n_epochs + 1):\n",
    "        tr_ce, tr_acc, tr_f1 = train_one_epoch(model, train_loader, crit, opt) # One epoch of training (returns mean CE/Acc/F1 over the epoch)\n",
    "        va_ce, va_acc, va_f1, _, _, _ = evaluate(model, val_loader, crit)  # Validation (no grad)\n",
    "        print(f\"Epoch {ep:02d}: Train Loss={tr_ce:.4f}, Acc={tr_acc:.4f}, F1={tr_f1:.4f} | \"\n",
    "              f\"Val Loss={va_ce:.4f}, Acc={va_acc:.4f}, F1={va_f1:.4f}\")\n",
    "        if va_acc > best_val_acc:\n",
    "            best_val_acc, best_f1 = float(va_acc), float(va_f1)    # save metrics\n",
    "            best_state = copy.deepcopy(model.state_dict())         # save weights\n",
    "            bad = 0\n",
    "        else:\n",
    "            bad += 1\n",
    "            if bad >= patience:\n",
    "                print(\"Early stopping\"); break\n",
    "\n",
    "    # Restore best checkpoint before returning\n",
    "    model.load_state_dict(best_state)\n",
    "    return model, best_val_acc, best_f1"
   ]
  },
  {
   "cell_type": "markdown",
   "id": "fdbc39c2-a0ec-4892-9974-7d49d0ca8e43",
   "metadata": {},
   "source": [
    "# Optuna - Hyperparameter Tuning"
   ]
  },
  {
   "cell_type": "code",
   "execution_count": 25,
   "id": "07612f78-3801-4088-b287-acfb3047502a",
   "metadata": {},
   "outputs": [],
   "source": [
    "# ------------------------------ optuna objective (mirrors reg) ------------------------------\n",
    "def objective_builder(train_df, val_df, input_dim=768, target_col=\"view_range_enc_ind\"):\n",
    "    def objective(trial):\n",
    "        print(f\"\\n[trial {trial.number}] build loaders...\", flush=True)\n",
    "        g = torch.Generator().manual_seed(SEED + trial.number)  # trial-specific RNG for shuffle order\n",
    "        train_loader = DataLoader(\n",
    "            TemporalFeatureDataset(train_df, FEATURE_DIR, target_col),\n",
    "            batch_size=BATCH_SIZE, shuffle=True, generator=g,\n",
    "            num_workers=NUM_WORKERS, pin_memory=PIN\n",
    "        )\n",
    "        val_loader = DataLoader(\n",
    "            TemporalFeatureDataset(val_df, FEATURE_DIR, target_col),\n",
    "            batch_size=BATCH_SIZE, shuffle=False,   # same dataset, no shuffle for val\n",
    "            num_workers=NUM_WORKERS, pin_memory=PIN\n",
    "        )\n",
    "\n",
    "        # hyperparams (kept parallel to regression)\n",
    "        nhead       = trial.suggest_categorical(\"nhead\", [4, 8])   # Suggests either 4 or 8\n",
    "        num_layers  = trial.suggest_int(\"num_layers\", 1, 4)        # Suggests any integer between 1 to 4\n",
    "        lr          = trial.suggest_float(\"lr\", 1e-4, 1e-2, log=True)   # Suggests any positive float between the range sampled log uniformly\n",
    "        weight_decay= trial.suggest_float(\"weight_decay\", 1e-6, 1e-3, log=True) # Any positive float - also log uniform\n",
    "\n",
    "        model = TransformerClassifier(d_model=input_dim, nhead=nhead, num_layers=num_layers,\n",
    "                                      num_classes=NUM_CLASSES).to(DEVICE)  # Model instance\n",
    "\n",
    "        # class weights per split/target\n",
    "        cw = class_weights_from_df(train_df, target_col, NUM_CLASSES)\n",
    "\n",
    "        # Train and validate\n",
    "        model, val_acc, val_f1 = train_and_evaluate(\n",
    "            model, train_loader, val_loader, lr, weight_decay,\n",
    "            n_epochs=N_EPOCHS, patience=PATIENCE, class_weights=cw\n",
    "        )\n",
    "        \n",
    "        # Attach useful artifacts to the trial for later inspection\n",
    "        trial.set_user_attr(\"val_acc\", float(val_acc))\n",
    "        trial.set_user_attr(\"val_f1\", float(val_f1))\n",
    "        trial.set_user_attr(\"state_dict\", copy.deepcopy(model.state_dict()))\n",
    "        \n",
    "        return float(val_acc) # maximize accuracy\n",
    "    return objective"
   ]
  },
  {
   "cell_type": "markdown",
   "id": "0231a80f-7f7e-4cc2-8ad8-1349aa0c1667",
   "metadata": {},
   "source": [
    "# Run Experiment"
   ]
  },
  {
   "cell_type": "code",
   "execution_count": 26,
   "id": "7142c850-16f3-47f4-82b2-a48c42d72b92",
   "metadata": {},
   "outputs": [],
   "source": [
    "# ------------------------ plotting helpers (heatmap + ROC) ------------------------\n",
    "def plot_confusion_heatmap(y_true, y_pred, num_classes, title):\n",
    "    cm = confusion_matrix(y_true, y_pred, labels=list(range(num_classes)))   # Get the confusion matrix\n",
    "    plt.figure(figsize=(6.5, 5.5))\n",
    "    sns.heatmap(cm, annot=True, fmt=\"d\", cmap=\"Blues\",     # Plot the heatmap of the confusion matrix for better visualisation\n",
    "                xticklabels=[f\"{i}\" for i in range(num_classes)],   # Predicted class labels\n",
    "                yticklabels=[f\"{i}\" for i in range(num_classes)])   # True class labels\n",
    "    plt.xlabel(\"Predicted\")\n",
    "    plt.ylabel(\"True\") \n",
    "    plt.title(title)\n",
    "    plt.tight_layout()\n",
    "    plt.show()\n",
    "    return cm         # Return counts for further analysis\n",
    "\n",
    "def plot_multiclass_roc(y_true, probs, num_classes, title):\n",
    "    y_true_bin = label_binarize(y_true, classes=list(range(num_classes))) # Binarize in one vs all fashion\n",
    "    plt.figure(figsize=(7.5, 6))\n",
    "    any_class = False    # Track if at least one class is plottable\n",
    "    for c in range(num_classes):          # Plot per class ROC\n",
    "        if y_true_bin[:, c].sum() == 0:         # Skip if no positive samples for the true values\n",
    "            continue\n",
    "        fpr, tpr, _ = roc_curve(y_true_bin[:, c], probs[:, c])  # ROC for class c vs rest\n",
    "        auc_c = auc(fpr, tpr)         # AUC for class c\n",
    "        plt.plot(fpr, tpr, lw=1.8, label=f\"Class {c} (AUC={auc_c:.3f})\")   # Add curve to the plot\n",
    "        any_class = True\n",
    "    # micro-average\n",
    "    try:\n",
    "        auc_micro = roc_auc_score(y_true_bin, probs, average=\"micro\", multi_class=\"ovr\")\n",
    "        fpr_micro, tpr_micro, _ = roc_curve(y_true_bin.ravel(), probs.ravel()) # Compute micro-average ROC curve by flattening all decisions\n",
    "        plt.plot(fpr_micro, tpr_micro, lw=2.2, linestyle=\"--\", label=f\"Micro (AUC={auc_micro:.3f})\")\n",
    "    except Exception:\n",
    "        auc_micro = np.nan\n",
    "    plt.plot([0,1],[0,1],\"k--\", lw=1)    # diagonal reference\n",
    "    plt.xlabel(\"False Positive Rate\")\n",
    "    plt.ylabel(\"True Positive Rate\")\n",
    "    plt.title(title + (\"\" if any_class else \" (no per-class ROC: missing labels)\"))\n",
    "    plt.legend(loc=\"lower right\", fontsize=9)\n",
    "    plt.grid(alpha=0.25)\n",
    "    plt.tight_layout()\n",
    "    plt.show()\n",
    "    return auc_micro"
   ]
  },
  {
   "cell_type": "code",
   "execution_count": 27,
   "id": "8de46b43-25eb-4e8d-88af-2831e85fb858",
   "metadata": {},
   "outputs": [],
   "source": [
    "def run_split(name: str, train_ids: list, val_ids: list, input_dim: int = 768):\n",
    "    assert name in LABEL_COL_MAP, f\"name must be one of {list(LABEL_COL_MAP.keys())}\"\n",
    "    target_col = LABEL_COL_MAP[name]\n",
    "\n",
    "    print(f\"\\n=== Running CLASSIFICATION split: {name} (target: {target_col}) ===\")\n",
    "\n",
    "    df = pd.read_csv(CSV_PATH)\n",
    "    train_df = df[df.video_id.isin(train_ids)].reset_index(drop=True)\n",
    "    val_df   = df[df.video_id.isin(val_ids)].reset_index(drop=True)\n",
    "\n",
    "    # Optuna (maximize accuracy)\n",
    "    study = optuna.create_study(direction=\"maximize\", sampler=TPESampler(seed=SEED))\n",
    "    study.optimize(objective_builder(train_df, val_df, input_dim, target_col), n_trials=N_TRIALS)\n",
    "    best = study.best_params   # Get the best trial\n",
    "    print(\"Best hyper-parameters:\", best)\n",
    "    print(\"Best Val ACC (Optuna):\", study.best_trial.value, \"| Val F1:\", study.best_trial.user_attrs[\"val_f1\"])\n",
    "\n",
    "    # Rebuild best model and load exact best-epoch weights\n",
    "    model = TransformerClassifier(\n",
    "        d_model=input_dim, nhead=best[\"nhead\"], num_layers=best[\"num_layers\"], num_classes=NUM_CLASSES\n",
    "    ).to(DEVICE)\n",
    "    model.load_state_dict(study.best_trial.user_attrs[\"state_dict\"])\n",
    "\n",
    "    # Eval loaders (no shuffle)\n",
    "    train_loader = DataLoader(TemporalFeatureDataset(train_df, FEATURE_DIR, target_col),\n",
    "                              batch_size=BATCH_SIZE, shuffle=False, num_workers=NUM_WORKERS, pin_memory=PIN)\n",
    "    val_loader   = DataLoader(TemporalFeatureDataset(val_df, FEATURE_DIR, target_col),\n",
    "                              batch_size=BATCH_SIZE, shuffle=False, num_workers=NUM_WORKERS, pin_memory=PIN)\n",
    "\n",
    "    # Re-evaluate the reloaded model to verify results with Optuna’s numbers\n",
    "    tr_ce, tr_acc, tr_f1, tr_probs, tr_logits, tr_tgts = evaluate(model, train_loader)\n",
    "    va_ce, va_acc, va_f1, va_probs, va_logits, va_tgts = evaluate(model, val_loader)\n",
    "    print(f\"Reloaded eval — Train Acc={tr_acc:.4f}, F1={tr_f1:.4f} | \"\n",
    "          f\"Val Acc={va_acc:.4f}, F1={va_f1:.4f} | ΔACC={abs(va_acc - study.best_trial.value):.6f}\")\n",
    "\n",
    "    # Save bundle + study \n",
    "    bundle_path = MODEL_DIR / f\"video_cls_{name}.pt\"\n",
    "    torch.save({\n",
    "        \"state_dict\": study.best_trial.user_attrs[\"state_dict\"],\n",
    "        \"best_params\": best,\n",
    "        \"val_acc\": study.best_trial.value,\n",
    "        \"val_f1\": study.best_trial.user_attrs[\"val_f1\"],\n",
    "        \"num_classes\": NUM_CLASSES,\n",
    "        \"target_col\": target_col,\n",
    "    }, bundle_path)\n",
    "\n",
    "    with open(MODEL_DIR / f\"video_cls_{name}.pkl\", \"wb\") as f:\n",
    "        pickle.dump(study, f)  # Save the full Optuna study\n",
    "\n",
    "    # Save VAL predictions (for fusion)\n",
    "    va_pred = va_probs.argmax(axis=1)   # predicted class per sample (N,)\n",
    "    out = pd.DataFrame({\n",
    "        \"video_id\": val_df[\"video_id\"].values,  # aligns with val_loader order since shuffle=False\n",
    "        \"y_true\":   va_tgts.astype(int),\n",
    "        \"y_pred\":   va_pred.astype(int),\n",
    "    })\n",
    "    for c in range(NUM_CLASSES):\n",
    "        out[f\"prob_class_{c}\"] = va_probs[:, c]  # Append per-class probabilities as columns: prob_class_0 .. prob_class_{C-1}\n",
    "    fname = RESULTS_DIR / f\"video_cls_val_{name}.csv\"\n",
    "    out.to_csv(fname, index=False)\n",
    "    print(f\"Saved VAL preds → {fname}\")\n",
    "\n",
    "    # Confusion matrix (HEATMAP)\n",
    "    cm = plot_confusion_heatmap(va_tgts, va_pred, NUM_CLASSES, f\"Confusion Matrix (VAL) — {name}\")\n",
    "    print(\"\\nClassification Report (VAL):\\n\",\n",
    "          classification_report(va_tgts, va_pred, labels=list(range(NUM_CLASSES)), digits=4, zero_division=0)) # Detailed per-class precision/recall/F1 report\n",
    "\n",
    "    # ROC curves (multi-class)\n",
    "    auc_micro = plot_multiclass_roc(va_tgts, va_probs, NUM_CLASSES, f\"ROC Curves (VAL) — {name}\")\n",
    "    try:      # Macro-average AUC (may fail if some classes are entirely missing)\n",
    "        y_true_bin = label_binarize(va_tgts, classes=list(range(NUM_CLASSES)))\n",
    "        auc_macro = roc_auc_score(y_true_bin, va_probs, average=\"macro\", multi_class=\"ovr\")\n",
    "    except Exception:\n",
    "        auc_macro = np.nan\n",
    "    print(f\"\\nAUC-ROC (VAL): micro {auc_micro:.4f} | macro {auc_macro:.4f}\")\n",
    "\n",
    "    return {\n",
    "        \"model\": model,\n",
    "        \"train_df\": train_df, \"val_df\": val_df,\n",
    "        \"vl_probs\": va_probs, \"vl_logits\": va_logits, \"vl_tgts\": va_tgts,\n",
    "        \"vl_acc\": va_acc, \"vl_f1\": va_f1,\n",
    "        \"bundle_path\": bundle_path,\n",
    "        \"val_csv\": fname\n",
    "    }"
   ]
  },
  {
   "cell_type": "markdown",
   "id": "60db3248-d5f9-4890-913c-473e382e0351",
   "metadata": {},
   "source": [
    "# Person - Independent Split"
   ]
  },
  {
   "cell_type": "code",
   "execution_count": 11,
   "id": "530af8e1-710a-4ebe-8d25-217cded42308",
   "metadata": {
    "scrolled": true
   },
   "outputs": [
    {
     "name": "stderr",
     "output_type": "stream",
     "text": [
      "[I 2025-08-16 18:39:11,329] A new study created in memory with name: no-name-6490882c-b6a2-42fe-b54a-ace4648a194e\n"
     ]
    },
    {
     "name": "stdout",
     "output_type": "stream",
     "text": [
      "\n",
      "=== Running CLASSIFICATION split: ind (target: view_range_enc_ind) ===\n",
      "\n",
      "[trial 0] build loaders...\n"
     ]
    },
    {
     "name": "stderr",
     "output_type": "stream",
     "text": [
      "C:\\ProgramData\\anaconda3\\Lib\\site-packages\\torch\\nn\\modules\\transformer.py:379: UserWarning: enable_nested_tensor is True, but self.use_nested_tensor is False because encoder_layer.self_attn.batch_first was not True(use batch_first for better inference performance)\n",
      "  warnings.warn(\n"
     ]
    },
    {
     "name": "stdout",
     "output_type": "stream",
     "text": [
      "Epoch 01: Train Loss=2.6233, Acc=0.1933, F1=0.1858 | Val Loss=2.1618, Acc=0.2200, F1=0.0721\n",
      "Epoch 02: Train Loss=1.8027, Acc=0.2167, F1=0.2181 | Val Loss=1.6407, Acc=0.2600, F1=0.0825\n",
      "Epoch 03: Train Loss=1.7734, Acc=0.1833, F1=0.1742 | Val Loss=1.7055, Acc=0.2600, F1=0.0825\n",
      "Epoch 04: Train Loss=1.7488, Acc=0.1767, F1=0.1732 | Val Loss=1.7002, Acc=0.1000, F1=0.0364\n",
      "Epoch 05: Train Loss=1.6886, Acc=0.1800, F1=0.1709 | Val Loss=1.6694, Acc=0.2600, F1=0.0825\n",
      "Epoch 06: Train Loss=1.6893, Acc=0.1867, F1=0.1820 | Val Loss=1.7222, Acc=0.1000, F1=0.0364\n",
      "Epoch 07: Train Loss=1.6721, Acc=0.2100, F1=0.2038 | Val Loss=1.5760, Acc=0.2600, F1=0.0825\n",
      "Epoch 08: Train Loss=1.6692, Acc=0.1767, F1=0.1683 | Val Loss=1.7620, Acc=0.1000, F1=0.0364\n",
      "Epoch 09: Train Loss=1.6624, Acc=0.1833, F1=0.1689 | Val Loss=1.7568, Acc=0.1000, F1=0.0364\n",
      "Epoch 10: Train Loss=1.6478, Acc=0.1800, F1=0.1699 | Val Loss=1.6421, Acc=0.2600, F1=0.0825\n",
      "Epoch 11: Train Loss=1.6494, Acc=0.2067, F1=0.1936 | Val Loss=1.5809, Acc=0.2600, F1=0.0825\n"
     ]
    },
    {
     "name": "stderr",
     "output_type": "stream",
     "text": [
      "[I 2025-08-16 18:40:26,126] Trial 0 finished with value: 0.26 and parameters: {'nhead': 8, 'num_layers': 3, 'lr': 0.0015751320499779737, 'weight_decay': 2.9380279387035354e-06}. Best is trial 0 with value: 0.26.\n"
     ]
    },
    {
     "name": "stdout",
     "output_type": "stream",
     "text": [
      "Epoch 12: Train Loss=1.6466, Acc=0.1867, F1=0.1618 | Val Loss=1.6074, Acc=0.2600, F1=0.0825\n",
      "Early stopping\n",
      "\n",
      "[trial 1] build loaders...\n"
     ]
    },
    {
     "name": "stderr",
     "output_type": "stream",
     "text": [
      "C:\\ProgramData\\anaconda3\\Lib\\site-packages\\torch\\nn\\modules\\transformer.py:379: UserWarning: enable_nested_tensor is True, but self.use_nested_tensor is False because encoder_layer.self_attn.batch_first was not True(use batch_first for better inference performance)\n",
      "  warnings.warn(\n"
     ]
    },
    {
     "name": "stdout",
     "output_type": "stream",
     "text": [
      "Epoch 01: Train Loss=2.4603, Acc=0.2333, F1=0.2196 | Val Loss=1.7023, Acc=0.1600, F1=0.0552\n",
      "Epoch 02: Train Loss=1.8486, Acc=0.2367, F1=0.2252 | Val Loss=1.8765, Acc=0.2600, F1=0.0825\n",
      "Epoch 03: Train Loss=1.7740, Acc=0.1800, F1=0.1631 | Val Loss=1.8801, Acc=0.2600, F1=0.0825\n",
      "Epoch 04: Train Loss=1.7789, Acc=0.1367, F1=0.1306 | Val Loss=1.5892, Acc=0.2600, F1=0.0825\n",
      "Epoch 05: Train Loss=1.6682, Acc=0.2167, F1=0.1945 | Val Loss=1.5895, Acc=0.2200, F1=0.0721\n",
      "Epoch 06: Train Loss=1.6883, Acc=0.1633, F1=0.1450 | Val Loss=1.7097, Acc=0.2600, F1=0.0825\n",
      "Epoch 07: Train Loss=1.6833, Acc=0.1733, F1=0.1513 | Val Loss=1.7061, Acc=0.1600, F1=0.0552\n",
      "Epoch 08: Train Loss=1.6701, Acc=0.2167, F1=0.1822 | Val Loss=1.6712, Acc=0.1000, F1=0.0364\n",
      "Epoch 09: Train Loss=1.6434, Acc=0.1933, F1=0.1594 | Val Loss=1.8349, Acc=0.1200, F1=0.0732\n",
      "Epoch 10: Train Loss=1.6352, Acc=0.2200, F1=0.1892 | Val Loss=1.6985, Acc=0.2600, F1=0.0825\n",
      "Epoch 11: Train Loss=1.6613, Acc=0.2067, F1=0.1946 | Val Loss=1.7169, Acc=0.1000, F1=0.0364\n"
     ]
    },
    {
     "name": "stderr",
     "output_type": "stream",
     "text": [
      "[I 2025-08-16 18:41:58,152] Trial 1 finished with value: 0.26 and parameters: {'nhead': 4, 'num_layers': 4, 'lr': 0.0015930522616241021, 'weight_decay': 0.000133112160807369}. Best is trial 0 with value: 0.26.\n"
     ]
    },
    {
     "name": "stdout",
     "output_type": "stream",
     "text": [
      "Epoch 12: Train Loss=1.6481, Acc=0.1900, F1=0.1527 | Val Loss=1.5873, Acc=0.2600, F1=0.0825\n",
      "Early stopping\n",
      "\n",
      "[trial 2] build loaders...\n"
     ]
    },
    {
     "name": "stderr",
     "output_type": "stream",
     "text": [
      "C:\\ProgramData\\anaconda3\\Lib\\site-packages\\torch\\nn\\modules\\transformer.py:379: UserWarning: enable_nested_tensor is True, but self.use_nested_tensor is False because encoder_layer.self_attn.batch_first was not True(use batch_first for better inference performance)\n",
      "  warnings.warn(\n"
     ]
    },
    {
     "name": "stdout",
     "output_type": "stream",
     "text": [
      "Epoch 01: Train Loss=2.1024, Acc=0.1333, F1=0.1287 | Val Loss=1.6039, Acc=0.2600, F1=0.0825\n",
      "Epoch 02: Train Loss=1.6772, Acc=0.2267, F1=0.2187 | Val Loss=1.8610, Acc=0.1600, F1=0.0932\n",
      "Epoch 03: Train Loss=1.6477, Acc=0.3233, F1=0.2968 | Val Loss=1.5401, Acc=0.3200, F1=0.1741\n",
      "Epoch 04: Train Loss=1.6660, Acc=0.2467, F1=0.2364 | Val Loss=1.7568, Acc=0.1200, F1=0.0867\n",
      "Epoch 05: Train Loss=1.5795, Acc=0.2967, F1=0.2753 | Val Loss=1.7506, Acc=0.3000, F1=0.1623\n",
      "Epoch 06: Train Loss=1.5205, Acc=0.3200, F1=0.3097 | Val Loss=1.5473, Acc=0.3200, F1=0.1971\n",
      "Epoch 07: Train Loss=1.5581, Acc=0.3000, F1=0.2873 | Val Loss=1.6896, Acc=0.3600, F1=0.2556\n",
      "Epoch 08: Train Loss=1.5020, Acc=0.3600, F1=0.3281 | Val Loss=1.6376, Acc=0.1600, F1=0.0552\n",
      "Epoch 09: Train Loss=1.5510, Acc=0.3133, F1=0.3129 | Val Loss=1.5713, Acc=0.3200, F1=0.2193\n",
      "Epoch 10: Train Loss=1.4818, Acc=0.3100, F1=0.2631 | Val Loss=1.5696, Acc=0.2200, F1=0.1414\n",
      "Epoch 11: Train Loss=1.5337, Acc=0.3133, F1=0.2907 | Val Loss=1.6420, Acc=0.2800, F1=0.1456\n",
      "Epoch 12: Train Loss=1.5218, Acc=0.3267, F1=0.3136 | Val Loss=1.5957, Acc=0.2200, F1=0.1264\n",
      "Epoch 13: Train Loss=1.5462, Acc=0.3100, F1=0.2826 | Val Loss=1.5597, Acc=0.3000, F1=0.1514\n",
      "Epoch 14: Train Loss=1.4929, Acc=0.3033, F1=0.2891 | Val Loss=1.6448, Acc=0.1600, F1=0.0552\n",
      "Epoch 15: Train Loss=1.4834, Acc=0.2800, F1=0.2748 | Val Loss=1.5984, Acc=0.2800, F1=0.1439\n",
      "Epoch 16: Train Loss=1.5060, Acc=0.2800, F1=0.2604 | Val Loss=1.7087, Acc=0.2600, F1=0.1357\n"
     ]
    },
    {
     "name": "stderr",
     "output_type": "stream",
     "text": [
      "[I 2025-08-16 18:44:16,070] Trial 2 finished with value: 0.36 and parameters: {'nhead': 8, 'num_layers': 4, 'lr': 0.00026587543983272726, 'weight_decay': 3.5113563139704077e-06}. Best is trial 2 with value: 0.36.\n"
     ]
    },
    {
     "name": "stdout",
     "output_type": "stream",
     "text": [
      "Epoch 17: Train Loss=1.4647, Acc=0.3167, F1=0.2924 | Val Loss=1.5540, Acc=0.3000, F1=0.1514\n",
      "Early stopping\n",
      "\n",
      "[trial 3] build loaders...\n"
     ]
    },
    {
     "name": "stderr",
     "output_type": "stream",
     "text": [
      "C:\\ProgramData\\anaconda3\\Lib\\site-packages\\torch\\nn\\modules\\transformer.py:379: UserWarning: enable_nested_tensor is True, but self.use_nested_tensor is False because encoder_layer.self_attn.batch_first was not True(use batch_first for better inference performance)\n",
      "  warnings.warn(\n"
     ]
    },
    {
     "name": "stdout",
     "output_type": "stream",
     "text": [
      "Epoch 01: Train Loss=2.3817, Acc=0.1700, F1=0.1672 | Val Loss=1.7530, Acc=0.2200, F1=0.0721\n",
      "Epoch 02: Train Loss=1.7510, Acc=0.1633, F1=0.1618 | Val Loss=1.9110, Acc=0.1000, F1=0.0364\n",
      "Epoch 03: Train Loss=1.7876, Acc=0.1967, F1=0.1949 | Val Loss=1.5832, Acc=0.2600, F1=0.0825\n",
      "Epoch 04: Train Loss=1.7304, Acc=0.2300, F1=0.2246 | Val Loss=1.7744, Acc=0.1600, F1=0.0552\n",
      "Epoch 05: Train Loss=1.6849, Acc=0.2033, F1=0.1797 | Val Loss=1.6336, Acc=0.2600, F1=0.0825\n",
      "Epoch 06: Train Loss=1.6966, Acc=0.1767, F1=0.1674 | Val Loss=1.6874, Acc=0.1000, F1=0.0364\n",
      "Epoch 07: Train Loss=1.6801, Acc=0.1733, F1=0.1461 | Val Loss=1.8985, Acc=0.1000, F1=0.0364\n",
      "Epoch 08: Train Loss=1.6795, Acc=0.1800, F1=0.1471 | Val Loss=1.6928, Acc=0.1000, F1=0.0364\n",
      "Epoch 09: Train Loss=1.6993, Acc=0.1667, F1=0.1438 | Val Loss=1.6659, Acc=0.1600, F1=0.0552\n",
      "Epoch 10: Train Loss=1.6727, Acc=0.1767, F1=0.1603 | Val Loss=1.7040, Acc=0.1600, F1=0.0552\n",
      "Epoch 11: Train Loss=1.6434, Acc=0.2367, F1=0.1993 | Val Loss=1.5881, Acc=0.2200, F1=0.0721\n",
      "Epoch 12: Train Loss=1.6859, Acc=0.2233, F1=0.1899 | Val Loss=1.6021, Acc=0.2600, F1=0.0825\n"
     ]
    },
    {
     "name": "stderr",
     "output_type": "stream",
     "text": [
      "[I 2025-08-16 18:45:36,707] Trial 3 finished with value: 0.26 and parameters: {'nhead': 8, 'num_layers': 3, 'lr': 0.0007309539835912913, 'weight_decay': 7.4763120622522945e-06}. Best is trial 2 with value: 0.36.\n"
     ]
    },
    {
     "name": "stdout",
     "output_type": "stream",
     "text": [
      "Epoch 13: Train Loss=1.6512, Acc=0.1533, F1=0.1289 | Val Loss=1.7068, Acc=0.1000, F1=0.0364\n",
      "Early stopping\n",
      "\n",
      "[trial 4] build loaders...\n"
     ]
    },
    {
     "name": "stderr",
     "output_type": "stream",
     "text": [
      "C:\\ProgramData\\anaconda3\\Lib\\site-packages\\torch\\nn\\modules\\transformer.py:379: UserWarning: enable_nested_tensor is True, but self.use_nested_tensor is False because encoder_layer.self_attn.batch_first was not True(use batch_first for better inference performance)\n",
      "  warnings.warn(\n"
     ]
    },
    {
     "name": "stdout",
     "output_type": "stream",
     "text": [
      "Epoch 01: Train Loss=2.2216, Acc=0.2267, F1=0.2256 | Val Loss=1.8254, Acc=0.1600, F1=0.0552\n",
      "Epoch 02: Train Loss=1.6377, Acc=0.3133, F1=0.2908 | Val Loss=1.7502, Acc=0.3600, F1=0.2755\n",
      "Epoch 03: Train Loss=1.6566, Acc=0.2700, F1=0.2659 | Val Loss=1.7387, Acc=0.2600, F1=0.1338\n",
      "Epoch 04: Train Loss=1.6076, Acc=0.2533, F1=0.2358 | Val Loss=1.8606, Acc=0.2600, F1=0.1545\n",
      "Epoch 05: Train Loss=1.5878, Acc=0.2900, F1=0.2745 | Val Loss=1.5963, Acc=0.3000, F1=0.1500\n",
      "Epoch 06: Train Loss=1.5219, Acc=0.2800, F1=0.2753 | Val Loss=1.5488, Acc=0.2800, F1=0.1412\n",
      "Epoch 07: Train Loss=1.5063, Acc=0.3033, F1=0.2801 | Val Loss=1.5395, Acc=0.2800, F1=0.1850\n",
      "Epoch 08: Train Loss=1.5276, Acc=0.3167, F1=0.3091 | Val Loss=1.5675, Acc=0.3400, F1=0.1945\n",
      "Epoch 09: Train Loss=1.5661, Acc=0.3433, F1=0.3386 | Val Loss=1.6047, Acc=0.3000, F1=0.1607\n",
      "Epoch 10: Train Loss=1.4959, Acc=0.3433, F1=0.3219 | Val Loss=1.6579, Acc=0.2800, F1=0.1460\n",
      "Epoch 11: Train Loss=1.5499, Acc=0.2667, F1=0.2430 | Val Loss=1.7970, Acc=0.1800, F1=0.1060\n"
     ]
    },
    {
     "name": "stderr",
     "output_type": "stream",
     "text": [
      "[I 2025-08-16 18:46:28,059] Trial 4 finished with value: 0.36 and parameters: {'nhead': 4, 'num_layers': 2, 'lr': 0.0005404103854647331, 'weight_decay': 2.334586407601622e-05}. Best is trial 2 with value: 0.36.\n"
     ]
    },
    {
     "name": "stdout",
     "output_type": "stream",
     "text": [
      "Epoch 12: Train Loss=1.4829, Acc=0.3433, F1=0.3114 | Val Loss=1.6523, Acc=0.2800, F1=0.1400\n",
      "Early stopping\n",
      "\n",
      "[trial 5] build loaders...\n"
     ]
    },
    {
     "name": "stderr",
     "output_type": "stream",
     "text": [
      "C:\\ProgramData\\anaconda3\\Lib\\site-packages\\torch\\nn\\modules\\transformer.py:379: UserWarning: enable_nested_tensor is True, but self.use_nested_tensor is False because encoder_layer.self_attn.batch_first was not True(use batch_first for better inference performance)\n",
      "  warnings.warn(\n"
     ]
    },
    {
     "name": "stdout",
     "output_type": "stream",
     "text": [
      "Epoch 01: Train Loss=2.3372, Acc=0.1900, F1=0.1875 | Val Loss=2.3083, Acc=0.1600, F1=0.0552\n",
      "Epoch 02: Train Loss=1.8581, Acc=0.1733, F1=0.1698 | Val Loss=1.8605, Acc=0.2600, F1=0.0825\n",
      "Epoch 03: Train Loss=1.7614, Acc=0.1733, F1=0.1685 | Val Loss=1.7991, Acc=0.1000, F1=0.0364\n",
      "Epoch 04: Train Loss=1.7558, Acc=0.2000, F1=0.1853 | Val Loss=1.7013, Acc=0.2600, F1=0.0825\n",
      "Epoch 05: Train Loss=1.7168, Acc=0.1933, F1=0.1891 | Val Loss=1.7806, Acc=0.1600, F1=0.0552\n",
      "Epoch 06: Train Loss=1.7145, Acc=0.2033, F1=0.1763 | Val Loss=1.5963, Acc=0.2200, F1=0.0721\n",
      "Epoch 07: Train Loss=1.6731, Acc=0.1800, F1=0.1614 | Val Loss=1.6633, Acc=0.1600, F1=0.0552\n",
      "Epoch 08: Train Loss=1.6749, Acc=0.1700, F1=0.1579 | Val Loss=1.7542, Acc=0.1600, F1=0.0552\n",
      "Epoch 09: Train Loss=1.6482, Acc=0.1733, F1=0.1626 | Val Loss=1.8426, Acc=0.1600, F1=0.0552\n",
      "Epoch 10: Train Loss=1.6588, Acc=0.1600, F1=0.1502 | Val Loss=1.6501, Acc=0.1000, F1=0.0364\n",
      "Epoch 11: Train Loss=1.6690, Acc=0.1900, F1=0.1889 | Val Loss=1.6834, Acc=0.1600, F1=0.0552\n"
     ]
    },
    {
     "name": "stderr",
     "output_type": "stream",
     "text": [
      "[I 2025-08-16 18:47:40,682] Trial 5 finished with value: 0.26 and parameters: {'nhead': 4, 'num_layers': 3, 'lr': 0.0015304852121831463, 'weight_decay': 1.3783237455007196e-06}. Best is trial 2 with value: 0.36.\n"
     ]
    },
    {
     "name": "stdout",
     "output_type": "stream",
     "text": [
      "Epoch 12: Train Loss=1.6523, Acc=0.1767, F1=0.1651 | Val Loss=1.6865, Acc=0.1600, F1=0.0552\n",
      "Early stopping\n",
      "\n",
      "[trial 6] build loaders...\n"
     ]
    },
    {
     "name": "stderr",
     "output_type": "stream",
     "text": [
      "C:\\ProgramData\\anaconda3\\Lib\\site-packages\\torch\\nn\\modules\\transformer.py:379: UserWarning: enable_nested_tensor is True, but self.use_nested_tensor is False because encoder_layer.self_attn.batch_first was not True(use batch_first for better inference performance)\n",
      "  warnings.warn(\n"
     ]
    },
    {
     "name": "stdout",
     "output_type": "stream",
     "text": [
      "Epoch 01: Train Loss=3.1601, Acc=0.1967, F1=0.1958 | Val Loss=1.6182, Acc=0.2600, F1=0.0825\n",
      "Epoch 02: Train Loss=1.9734, Acc=0.2033, F1=0.2030 | Val Loss=1.6177, Acc=0.2800, F1=0.1397\n",
      "Epoch 03: Train Loss=1.7047, Acc=0.1933, F1=0.1863 | Val Loss=1.8011, Acc=0.1600, F1=0.0552\n",
      "Epoch 04: Train Loss=1.7086, Acc=0.1633, F1=0.1582 | Val Loss=1.6496, Acc=0.1000, F1=0.0364\n",
      "Epoch 05: Train Loss=1.6588, Acc=0.1833, F1=0.1663 | Val Loss=1.7087, Acc=0.2200, F1=0.0721\n",
      "Epoch 06: Train Loss=1.6576, Acc=0.1467, F1=0.1432 | Val Loss=1.6199, Acc=0.2600, F1=0.0825\n",
      "Epoch 07: Train Loss=1.6347, Acc=0.1900, F1=0.1510 | Val Loss=1.6287, Acc=0.2600, F1=0.0825\n",
      "Epoch 08: Train Loss=1.6679, Acc=0.2200, F1=0.2177 | Val Loss=1.6304, Acc=0.2200, F1=0.0721\n",
      "Epoch 09: Train Loss=1.6378, Acc=0.1767, F1=0.1734 | Val Loss=1.7774, Acc=0.2000, F1=0.1096\n",
      "Epoch 10: Train Loss=1.6521, Acc=0.2067, F1=0.1990 | Val Loss=1.6150, Acc=0.2600, F1=0.0825\n",
      "Epoch 11: Train Loss=1.6651, Acc=0.1933, F1=0.1853 | Val Loss=1.5845, Acc=0.2200, F1=0.0721\n"
     ]
    },
    {
     "name": "stderr",
     "output_type": "stream",
     "text": [
      "[I 2025-08-16 18:48:11,183] Trial 6 finished with value: 0.28 and parameters: {'nhead': 4, 'num_layers': 1, 'lr': 0.007902619549708232, 'weight_decay': 0.0007886714129990489}. Best is trial 2 with value: 0.36.\n"
     ]
    },
    {
     "name": "stdout",
     "output_type": "stream",
     "text": [
      "Epoch 12: Train Loss=1.6281, Acc=0.2600, F1=0.2460 | Val Loss=1.5392, Acc=0.1600, F1=0.0964\n",
      "Early stopping\n",
      "\n",
      "[trial 7] build loaders...\n"
     ]
    },
    {
     "name": "stderr",
     "output_type": "stream",
     "text": [
      "C:\\ProgramData\\anaconda3\\Lib\\site-packages\\torch\\nn\\modules\\transformer.py:379: UserWarning: enable_nested_tensor is True, but self.use_nested_tensor is False because encoder_layer.self_attn.batch_first was not True(use batch_first for better inference performance)\n",
      "  warnings.warn(\n"
     ]
    },
    {
     "name": "stdout",
     "output_type": "stream",
     "text": [
      "Epoch 01: Train Loss=2.4812, Acc=0.2300, F1=0.2251 | Val Loss=1.7774, Acc=0.2200, F1=0.1333\n",
      "Epoch 02: Train Loss=1.8293, Acc=0.2300, F1=0.2274 | Val Loss=1.6476, Acc=0.2400, F1=0.1429\n",
      "Epoch 03: Train Loss=1.6483, Acc=0.3233, F1=0.3139 | Val Loss=1.7653, Acc=0.3000, F1=0.1642\n",
      "Epoch 04: Train Loss=1.7749, Acc=0.2367, F1=0.2207 | Val Loss=2.0504, Acc=0.1200, F1=0.0916\n",
      "Epoch 05: Train Loss=1.7324, Acc=0.2767, F1=0.2569 | Val Loss=1.7018, Acc=0.1600, F1=0.0552\n",
      "Epoch 06: Train Loss=1.5994, Acc=0.2700, F1=0.2566 | Val Loss=1.8413, Acc=0.2800, F1=0.1759\n",
      "Epoch 07: Train Loss=1.5470, Acc=0.2700, F1=0.2667 | Val Loss=1.7779, Acc=0.2800, F1=0.1412\n",
      "Epoch 08: Train Loss=1.5822, Acc=0.2867, F1=0.2351 | Val Loss=1.7970, Acc=0.2800, F1=0.1545\n",
      "Epoch 09: Train Loss=1.5582, Acc=0.3267, F1=0.3211 | Val Loss=1.5709, Acc=0.2600, F1=0.1431\n",
      "Epoch 10: Train Loss=1.5438, Acc=0.3000, F1=0.2666 | Val Loss=1.6013, Acc=0.2200, F1=0.1954\n",
      "Epoch 11: Train Loss=1.5229, Acc=0.2833, F1=0.2645 | Val Loss=1.6336, Acc=0.3000, F1=0.1998\n",
      "Epoch 12: Train Loss=1.4752, Acc=0.3300, F1=0.2897 | Val Loss=1.6120, Acc=0.2600, F1=0.1396\n"
     ]
    },
    {
     "name": "stderr",
     "output_type": "stream",
     "text": [
      "[I 2025-08-16 18:48:44,335] Trial 7 finished with value: 0.3 and parameters: {'nhead': 4, 'num_layers': 1, 'lr': 0.0023359635026261607, 'weight_decay': 2.091498132903561e-05}. Best is trial 2 with value: 0.36.\n"
     ]
    },
    {
     "name": "stdout",
     "output_type": "stream",
     "text": [
      "Epoch 13: Train Loss=1.4805, Acc=0.2967, F1=0.2663 | Val Loss=1.6058, Acc=0.2800, F1=0.1456\n",
      "Early stopping\n",
      "\n",
      "[trial 8] build loaders...\n"
     ]
    },
    {
     "name": "stderr",
     "output_type": "stream",
     "text": [
      "C:\\ProgramData\\anaconda3\\Lib\\site-packages\\torch\\nn\\modules\\transformer.py:379: UserWarning: enable_nested_tensor is True, but self.use_nested_tensor is False because encoder_layer.self_attn.batch_first was not True(use batch_first for better inference performance)\n",
      "  warnings.warn(\n"
     ]
    },
    {
     "name": "stdout",
     "output_type": "stream",
     "text": [
      "Epoch 01: Train Loss=3.0625, Acc=0.2000, F1=0.1991 | Val Loss=2.4224, Acc=0.1600, F1=0.0552\n",
      "Epoch 02: Train Loss=2.1922, Acc=0.2033, F1=0.2028 | Val Loss=2.5779, Acc=0.2600, F1=0.0825\n",
      "Epoch 03: Train Loss=1.7535, Acc=0.2367, F1=0.2383 | Val Loss=1.5342, Acc=0.3000, F1=0.1956\n",
      "Epoch 04: Train Loss=1.6338, Acc=0.2600, F1=0.2429 | Val Loss=1.5624, Acc=0.3000, F1=0.2020\n",
      "Epoch 05: Train Loss=1.5560, Acc=0.3000, F1=0.2831 | Val Loss=1.9016, Acc=0.1400, F1=0.0993\n",
      "Epoch 06: Train Loss=1.5247, Acc=0.2600, F1=0.2518 | Val Loss=1.6841, Acc=0.3400, F1=0.2844\n",
      "Epoch 07: Train Loss=1.5039, Acc=0.3133, F1=0.3007 | Val Loss=1.6779, Acc=0.2400, F1=0.1455\n",
      "Epoch 08: Train Loss=1.4370, Acc=0.3267, F1=0.3153 | Val Loss=1.5956, Acc=0.2800, F1=0.2053\n",
      "Epoch 09: Train Loss=1.3911, Acc=0.3500, F1=0.3422 | Val Loss=1.7728, Acc=0.2200, F1=0.1016\n",
      "Epoch 10: Train Loss=1.3845, Acc=0.3000, F1=0.2907 | Val Loss=1.6777, Acc=0.2600, F1=0.1888\n",
      "Epoch 11: Train Loss=1.3027, Acc=0.3367, F1=0.3209 | Val Loss=1.7025, Acc=0.2800, F1=0.2185\n",
      "Epoch 12: Train Loss=1.2344, Acc=0.3633, F1=0.3319 | Val Loss=1.7986, Acc=0.1600, F1=0.1074\n",
      "Epoch 13: Train Loss=1.2007, Acc=0.4200, F1=0.4177 | Val Loss=2.0850, Acc=0.3000, F1=0.2239\n",
      "Epoch 14: Train Loss=1.0940, Acc=0.4233, F1=0.4140 | Val Loss=2.4504, Acc=0.2400, F1=0.1707\n",
      "Epoch 15: Train Loss=1.2328, Acc=0.4367, F1=0.4284 | Val Loss=2.3423, Acc=0.1600, F1=0.1106\n"
     ]
    },
    {
     "name": "stderr",
     "output_type": "stream",
     "text": [
      "[I 2025-08-16 18:49:25,843] Trial 8 finished with value: 0.34 and parameters: {'nhead': 8, 'num_layers': 1, 'lr': 0.006586289317583112, 'weight_decay': 5.975027999960295e-06}. Best is trial 2 with value: 0.36.\n"
     ]
    },
    {
     "name": "stdout",
     "output_type": "stream",
     "text": [
      "Epoch 16: Train Loss=1.0742, Acc=0.4867, F1=0.4543 | Val Loss=2.4366, Acc=0.2400, F1=0.1769\n",
      "Early stopping\n",
      "\n",
      "[trial 9] build loaders...\n"
     ]
    },
    {
     "name": "stderr",
     "output_type": "stream",
     "text": [
      "C:\\ProgramData\\anaconda3\\Lib\\site-packages\\torch\\nn\\modules\\transformer.py:379: UserWarning: enable_nested_tensor is True, but self.use_nested_tensor is False because encoder_layer.self_attn.batch_first was not True(use batch_first for better inference performance)\n",
      "  warnings.warn(\n"
     ]
    },
    {
     "name": "stdout",
     "output_type": "stream",
     "text": [
      "Epoch 01: Train Loss=2.7885, Acc=0.2033, F1=0.2027 | Val Loss=1.9324, Acc=0.1000, F1=0.0364\n",
      "Epoch 02: Train Loss=1.7889, Acc=0.1900, F1=0.1816 | Val Loss=1.6004, Acc=0.2200, F1=0.0721\n",
      "Epoch 03: Train Loss=1.7357, Acc=0.2033, F1=0.1822 | Val Loss=1.6215, Acc=0.2600, F1=0.0825\n",
      "Epoch 04: Train Loss=1.7398, Acc=0.2200, F1=0.1979 | Val Loss=1.7126, Acc=0.1600, F1=0.0552\n",
      "Epoch 05: Train Loss=1.7349, Acc=0.2133, F1=0.2068 | Val Loss=1.6491, Acc=0.2600, F1=0.0825\n",
      "Epoch 06: Train Loss=1.6969, Acc=0.1567, F1=0.1532 | Val Loss=1.6680, Acc=0.2600, F1=0.0825\n",
      "Epoch 07: Train Loss=1.6883, Acc=0.1933, F1=0.1693 | Val Loss=1.7643, Acc=0.1600, F1=0.0552\n",
      "Epoch 08: Train Loss=1.6889, Acc=0.2233, F1=0.1931 | Val Loss=1.6581, Acc=0.1000, F1=0.0364\n",
      "Epoch 09: Train Loss=1.6936, Acc=0.1733, F1=0.1691 | Val Loss=1.6479, Acc=0.2600, F1=0.0825\n",
      "Epoch 10: Train Loss=1.6323, Acc=0.2133, F1=0.1746 | Val Loss=1.7577, Acc=0.1600, F1=0.0552\n",
      "Epoch 11: Train Loss=1.6954, Acc=0.2233, F1=0.1970 | Val Loss=1.6561, Acc=0.2200, F1=0.0721\n",
      "Epoch 12: Train Loss=1.6507, Acc=0.1800, F1=0.1704 | Val Loss=1.6446, Acc=0.1600, F1=0.0552\n"
     ]
    },
    {
     "name": "stderr",
     "output_type": "stream",
     "text": [
      "[I 2025-08-16 18:50:45,450] Trial 9 finished with value: 0.26 and parameters: {'nhead': 4, 'num_layers': 3, 'lr': 0.0012399967836846098, 'weight_decay': 3.5856126103453987e-06}. Best is trial 2 with value: 0.36.\n"
     ]
    },
    {
     "name": "stdout",
     "output_type": "stream",
     "text": [
      "Epoch 13: Train Loss=1.6494, Acc=0.1900, F1=0.1542 | Val Loss=1.6214, Acc=0.1600, F1=0.0552\n",
      "Early stopping\n",
      "\n",
      "[trial 10] build loaders...\n"
     ]
    },
    {
     "name": "stderr",
     "output_type": "stream",
     "text": [
      "C:\\ProgramData\\anaconda3\\Lib\\site-packages\\torch\\nn\\modules\\transformer.py:379: UserWarning: enable_nested_tensor is True, but self.use_nested_tensor is False because encoder_layer.self_attn.batch_first was not True(use batch_first for better inference performance)\n",
      "  warnings.warn(\n"
     ]
    },
    {
     "name": "stdout",
     "output_type": "stream",
     "text": [
      "Epoch 01: Train Loss=1.8731, Acc=0.2267, F1=0.2137 | Val Loss=1.5949, Acc=0.2800, F1=0.1547\n",
      "Epoch 02: Train Loss=1.6202, Acc=0.2733, F1=0.2643 | Val Loss=1.7167, Acc=0.2600, F1=0.1467\n",
      "Epoch 03: Train Loss=1.6393, Acc=0.2900, F1=0.2882 | Val Loss=1.5166, Acc=0.3600, F1=0.2567\n",
      "Epoch 04: Train Loss=1.5489, Acc=0.3100, F1=0.3007 | Val Loss=1.7838, Acc=0.1600, F1=0.0561\n",
      "Epoch 05: Train Loss=1.5313, Acc=0.3633, F1=0.3483 | Val Loss=1.6114, Acc=0.3400, F1=0.2724\n",
      "Epoch 06: Train Loss=1.5529, Acc=0.2700, F1=0.2608 | Val Loss=1.6362, Acc=0.3000, F1=0.2216\n",
      "Epoch 07: Train Loss=1.5767, Acc=0.3200, F1=0.3148 | Val Loss=1.5608, Acc=0.3600, F1=0.2752\n",
      "Epoch 08: Train Loss=1.5059, Acc=0.3233, F1=0.3138 | Val Loss=1.6017, Acc=0.4200, F1=0.2879\n",
      "Epoch 09: Train Loss=1.4748, Acc=0.3533, F1=0.3399 | Val Loss=1.6099, Acc=0.3800, F1=0.2622\n",
      "Epoch 10: Train Loss=1.4422, Acc=0.3767, F1=0.3598 | Val Loss=1.4897, Acc=0.3200, F1=0.2364\n",
      "Epoch 11: Train Loss=1.5225, Acc=0.3600, F1=0.3584 | Val Loss=1.4741, Acc=0.3800, F1=0.3333\n",
      "Epoch 12: Train Loss=1.4471, Acc=0.4000, F1=0.3857 | Val Loss=1.5314, Acc=0.2600, F1=0.1338\n",
      "Epoch 13: Train Loss=1.4474, Acc=0.3967, F1=0.3684 | Val Loss=1.5906, Acc=0.3000, F1=0.1952\n",
      "Epoch 14: Train Loss=1.4282, Acc=0.3467, F1=0.3345 | Val Loss=1.4158, Acc=0.4600, F1=0.3865\n",
      "Epoch 15: Train Loss=1.3335, Acc=0.4267, F1=0.4191 | Val Loss=1.6758, Acc=0.4000, F1=0.2765\n",
      "Epoch 16: Train Loss=1.3370, Acc=0.4133, F1=0.4066 | Val Loss=1.4381, Acc=0.4800, F1=0.4213\n",
      "Epoch 17: Train Loss=1.2857, Acc=0.4500, F1=0.4359 | Val Loss=1.4792, Acc=0.4800, F1=0.4025\n",
      "Epoch 18: Train Loss=1.3631, Acc=0.4500, F1=0.4473 | Val Loss=1.7089, Acc=0.3000, F1=0.2709\n",
      "Epoch 19: Train Loss=1.2320, Acc=0.4733, F1=0.4601 | Val Loss=1.4719, Acc=0.3400, F1=0.3185\n",
      "Epoch 20: Train Loss=1.2820, Acc=0.5167, F1=0.5069 | Val Loss=1.4974, Acc=0.3600, F1=0.3058\n",
      "Epoch 21: Train Loss=1.2037, Acc=0.5200, F1=0.5152 | Val Loss=1.6872, Acc=0.3400, F1=0.2684\n",
      "Epoch 22: Train Loss=1.1352, Acc=0.5200, F1=0.5187 | Val Loss=1.9966, Acc=0.4000, F1=0.3110\n",
      "Epoch 23: Train Loss=1.0928, Acc=0.5833, F1=0.5802 | Val Loss=1.7055, Acc=0.3400, F1=0.2614\n",
      "Epoch 24: Train Loss=1.1303, Acc=0.5600, F1=0.5623 | Val Loss=2.0829, Acc=0.4800, F1=0.3765\n",
      "Epoch 25: Train Loss=1.0125, Acc=0.6567, F1=0.6575 | Val Loss=1.5718, Acc=0.4600, F1=0.4190\n"
     ]
    },
    {
     "name": "stderr",
     "output_type": "stream",
     "text": [
      "[I 2025-08-16 18:54:15,378] Trial 10 finished with value: 0.48 and parameters: {'nhead': 8, 'num_layers': 4, 'lr': 0.00010353677627159794, 'weight_decay': 0.00010323015857001468}. Best is trial 10 with value: 0.48.\n"
     ]
    },
    {
     "name": "stdout",
     "output_type": "stream",
     "text": [
      "Epoch 26: Train Loss=0.8060, Acc=0.6767, F1=0.6774 | Val Loss=2.1666, Acc=0.4200, F1=0.3571\n",
      "Early stopping\n",
      "\n",
      "[trial 11] build loaders...\n"
     ]
    },
    {
     "name": "stderr",
     "output_type": "stream",
     "text": [
      "C:\\ProgramData\\anaconda3\\Lib\\site-packages\\torch\\nn\\modules\\transformer.py:379: UserWarning: enable_nested_tensor is True, but self.use_nested_tensor is False because encoder_layer.self_attn.batch_first was not True(use batch_first for better inference performance)\n",
      "  warnings.warn(\n"
     ]
    },
    {
     "name": "stdout",
     "output_type": "stream",
     "text": [
      "Epoch 01: Train Loss=1.9518, Acc=0.2233, F1=0.2206 | Val Loss=1.6765, Acc=0.1600, F1=0.0819\n",
      "Epoch 02: Train Loss=1.6018, Acc=0.3033, F1=0.2887 | Val Loss=1.6411, Acc=0.3000, F1=0.1887\n",
      "Epoch 03: Train Loss=1.6083, Acc=0.3267, F1=0.3174 | Val Loss=1.6909, Acc=0.2400, F1=0.1286\n",
      "Epoch 04: Train Loss=1.5673, Acc=0.3300, F1=0.3184 | Val Loss=1.6164, Acc=0.3600, F1=0.3027\n",
      "Epoch 05: Train Loss=1.5553, Acc=0.3500, F1=0.3096 | Val Loss=1.6159, Acc=0.2600, F1=0.1689\n",
      "Epoch 06: Train Loss=1.5509, Acc=0.3267, F1=0.3210 | Val Loss=1.6561, Acc=0.2200, F1=0.1511\n",
      "Epoch 07: Train Loss=1.5193, Acc=0.3133, F1=0.3090 | Val Loss=1.6851, Acc=0.2800, F1=0.1834\n",
      "Epoch 08: Train Loss=1.4616, Acc=0.3767, F1=0.3610 | Val Loss=1.6020, Acc=0.2000, F1=0.1470\n",
      "Epoch 09: Train Loss=1.4721, Acc=0.3833, F1=0.3619 | Val Loss=1.6663, Acc=0.3400, F1=0.2490\n",
      "Epoch 10: Train Loss=1.4890, Acc=0.3633, F1=0.3542 | Val Loss=1.5194, Acc=0.3800, F1=0.2763\n",
      "Epoch 11: Train Loss=1.4161, Acc=0.3833, F1=0.3745 | Val Loss=1.5984, Acc=0.3200, F1=0.2259\n",
      "Epoch 12: Train Loss=1.4434, Acc=0.3900, F1=0.3727 | Val Loss=1.5621, Acc=0.4000, F1=0.3046\n",
      "Epoch 13: Train Loss=1.4240, Acc=0.3800, F1=0.3393 | Val Loss=1.5324, Acc=0.4400, F1=0.4162\n",
      "Epoch 14: Train Loss=1.4523, Acc=0.3700, F1=0.3524 | Val Loss=1.5218, Acc=0.3400, F1=0.2469\n",
      "Epoch 15: Train Loss=1.4373, Acc=0.3567, F1=0.3481 | Val Loss=1.6429, Acc=0.3200, F1=0.2757\n",
      "Epoch 16: Train Loss=1.3657, Acc=0.4333, F1=0.4126 | Val Loss=1.5519, Acc=0.3600, F1=0.2719\n",
      "Epoch 17: Train Loss=1.3345, Acc=0.4333, F1=0.4227 | Val Loss=1.5312, Acc=0.4600, F1=0.3219\n",
      "Epoch 18: Train Loss=1.3181, Acc=0.4567, F1=0.4467 | Val Loss=1.6107, Acc=0.3000, F1=0.2000\n",
      "Epoch 19: Train Loss=1.3085, Acc=0.4600, F1=0.4421 | Val Loss=1.5916, Acc=0.3000, F1=0.1859\n",
      "Epoch 20: Train Loss=1.2702, Acc=0.4467, F1=0.4356 | Val Loss=1.6717, Acc=0.3600, F1=0.2966\n",
      "Epoch 21: Train Loss=1.2270, Acc=0.5033, F1=0.4782 | Val Loss=1.6593, Acc=0.3800, F1=0.3157\n",
      "Epoch 22: Train Loss=1.1643, Acc=0.5067, F1=0.5035 | Val Loss=1.7965, Acc=0.4000, F1=0.3000\n",
      "Epoch 23: Train Loss=1.1187, Acc=0.5200, F1=0.5054 | Val Loss=1.7130, Acc=0.3800, F1=0.3240\n",
      "Epoch 24: Train Loss=1.1104, Acc=0.5300, F1=0.5141 | Val Loss=1.7905, Acc=0.3800, F1=0.3747\n",
      "Epoch 25: Train Loss=1.1109, Acc=0.5300, F1=0.5271 | Val Loss=1.7963, Acc=0.4000, F1=0.2907\n",
      "Epoch 26: Train Loss=0.9070, Acc=0.6267, F1=0.6202 | Val Loss=1.8858, Acc=0.4000, F1=0.3556\n"
     ]
    },
    {
     "name": "stderr",
     "output_type": "stream",
     "text": [
      "[I 2025-08-16 18:57:53,054] Trial 11 finished with value: 0.46 and parameters: {'nhead': 8, 'num_layers': 4, 'lr': 0.00010703464927379283, 'weight_decay': 0.00017476943076551356}. Best is trial 10 with value: 0.48.\n"
     ]
    },
    {
     "name": "stdout",
     "output_type": "stream",
     "text": [
      "Epoch 27: Train Loss=0.8817, Acc=0.6767, F1=0.6717 | Val Loss=2.6533, Acc=0.3200, F1=0.2619\n",
      "Early stopping\n",
      "\n",
      "[trial 12] build loaders...\n"
     ]
    },
    {
     "name": "stderr",
     "output_type": "stream",
     "text": [
      "C:\\ProgramData\\anaconda3\\Lib\\site-packages\\torch\\nn\\modules\\transformer.py:379: UserWarning: enable_nested_tensor is True, but self.use_nested_tensor is False because encoder_layer.self_attn.batch_first was not True(use batch_first for better inference performance)\n",
      "  warnings.warn(\n"
     ]
    },
    {
     "name": "stdout",
     "output_type": "stream",
     "text": [
      "Epoch 01: Train Loss=1.9123, Acc=0.2533, F1=0.2520 | Val Loss=1.7822, Acc=0.2800, F1=0.1764\n",
      "Epoch 02: Train Loss=1.6676, Acc=0.2567, F1=0.2447 | Val Loss=1.5860, Acc=0.3000, F1=0.2029\n",
      "Epoch 03: Train Loss=1.5873, Acc=0.3233, F1=0.3074 | Val Loss=1.6713, Acc=0.3400, F1=0.2441\n",
      "Epoch 04: Train Loss=1.5829, Acc=0.2667, F1=0.2577 | Val Loss=1.6969, Acc=0.2800, F1=0.1460\n",
      "Epoch 05: Train Loss=1.5706, Acc=0.3167, F1=0.3005 | Val Loss=1.7909, Acc=0.2600, F1=0.1337\n",
      "Epoch 06: Train Loss=1.5907, Acc=0.2967, F1=0.2896 | Val Loss=1.6150, Acc=0.3000, F1=0.2300\n",
      "Epoch 07: Train Loss=1.5327, Acc=0.3400, F1=0.3175 | Val Loss=1.6563, Acc=0.2600, F1=0.1361\n",
      "Epoch 08: Train Loss=1.4838, Acc=0.3233, F1=0.3061 | Val Loss=1.5641, Acc=0.3200, F1=0.2105\n",
      "Epoch 09: Train Loss=1.5532, Acc=0.3067, F1=0.2946 | Val Loss=1.5948, Acc=0.3400, F1=0.2375\n",
      "Epoch 10: Train Loss=1.5455, Acc=0.3067, F1=0.2949 | Val Loss=1.6481, Acc=0.3200, F1=0.2262\n",
      "Epoch 11: Train Loss=1.4968, Acc=0.3233, F1=0.3094 | Val Loss=1.5201, Acc=0.4200, F1=0.2890\n",
      "Epoch 12: Train Loss=1.5009, Acc=0.3400, F1=0.3218 | Val Loss=1.6875, Acc=0.2800, F1=0.1904\n",
      "Epoch 13: Train Loss=1.4864, Acc=0.3333, F1=0.3120 | Val Loss=1.5893, Acc=0.2800, F1=0.1979\n",
      "Epoch 14: Train Loss=1.4626, Acc=0.3167, F1=0.2887 | Val Loss=1.5026, Acc=0.3400, F1=0.2453\n",
      "Epoch 15: Train Loss=1.4878, Acc=0.3767, F1=0.3674 | Val Loss=1.5869, Acc=0.3000, F1=0.1901\n",
      "Epoch 16: Train Loss=1.4286, Acc=0.3767, F1=0.3739 | Val Loss=1.6738, Acc=0.3000, F1=0.1976\n",
      "Epoch 17: Train Loss=1.3777, Acc=0.4233, F1=0.3973 | Val Loss=1.5989, Acc=0.4800, F1=0.3389\n",
      "Epoch 18: Train Loss=1.4186, Acc=0.4200, F1=0.4151 | Val Loss=1.5093, Acc=0.4200, F1=0.2873\n",
      "Epoch 19: Train Loss=1.3415, Acc=0.4300, F1=0.4141 | Val Loss=1.4696, Acc=0.4400, F1=0.3096\n",
      "Epoch 20: Train Loss=1.4387, Acc=0.3833, F1=0.3804 | Val Loss=1.5663, Acc=0.2800, F1=0.1673\n",
      "Epoch 21: Train Loss=1.3671, Acc=0.4133, F1=0.4125 | Val Loss=1.4557, Acc=0.4400, F1=0.3751\n",
      "Epoch 22: Train Loss=1.3581, Acc=0.4500, F1=0.4343 | Val Loss=1.5575, Acc=0.3800, F1=0.3246\n",
      "Epoch 23: Train Loss=1.3283, Acc=0.4300, F1=0.4269 | Val Loss=1.5466, Acc=0.3200, F1=0.2704\n",
      "Epoch 24: Train Loss=1.2915, Acc=0.4433, F1=0.4391 | Val Loss=1.4994, Acc=0.4000, F1=0.3576\n",
      "Epoch 25: Train Loss=1.2802, Acc=0.4800, F1=0.4715 | Val Loss=1.4672, Acc=0.4800, F1=0.4471\n",
      "Epoch 26: Train Loss=1.2597, Acc=0.4667, F1=0.4521 | Val Loss=1.4828, Acc=0.5400, F1=0.4381\n",
      "Epoch 27: Train Loss=1.2226, Acc=0.4667, F1=0.4535 | Val Loss=1.7311, Acc=0.3200, F1=0.2393\n",
      "Epoch 28: Train Loss=1.1885, Acc=0.4567, F1=0.4501 | Val Loss=1.7559, Acc=0.4000, F1=0.3467\n",
      "Epoch 29: Train Loss=1.1536, Acc=0.5233, F1=0.5095 | Val Loss=1.6813, Acc=0.4200, F1=0.3646\n",
      "Epoch 30: Train Loss=1.0607, Acc=0.5767, F1=0.5744 | Val Loss=1.9555, Acc=0.3800, F1=0.3145\n",
      "Epoch 31: Train Loss=1.0175, Acc=0.5867, F1=0.5799 | Val Loss=1.7218, Acc=0.4600, F1=0.4259\n",
      "Epoch 32: Train Loss=0.9860, Acc=0.6200, F1=0.6206 | Val Loss=1.8456, Acc=0.4400, F1=0.3670\n",
      "Epoch 33: Train Loss=0.9116, Acc=0.6267, F1=0.6200 | Val Loss=1.8019, Acc=0.4200, F1=0.3851\n",
      "Epoch 34: Train Loss=0.8195, Acc=0.6600, F1=0.6605 | Val Loss=2.4158, Acc=0.3400, F1=0.2676\n",
      "Epoch 35: Train Loss=0.7458, Acc=0.7100, F1=0.7111 | Val Loss=2.1232, Acc=0.4600, F1=0.4477\n"
     ]
    },
    {
     "name": "stderr",
     "output_type": "stream",
     "text": [
      "[I 2025-08-16 19:02:52,552] Trial 12 finished with value: 0.54 and parameters: {'nhead': 8, 'num_layers': 4, 'lr': 0.00010752174995221688, 'weight_decay': 0.00017350533812756405}. Best is trial 12 with value: 0.54.\n"
     ]
    },
    {
     "name": "stdout",
     "output_type": "stream",
     "text": [
      "Epoch 36: Train Loss=0.6661, Acc=0.7600, F1=0.7612 | Val Loss=2.5038, Acc=0.4200, F1=0.3514\n",
      "Early stopping\n",
      "\n",
      "[trial 13] build loaders...\n"
     ]
    },
    {
     "name": "stderr",
     "output_type": "stream",
     "text": [
      "C:\\ProgramData\\anaconda3\\Lib\\site-packages\\torch\\nn\\modules\\transformer.py:379: UserWarning: enable_nested_tensor is True, but self.use_nested_tensor is False because encoder_layer.self_attn.batch_first was not True(use batch_first for better inference performance)\n",
      "  warnings.warn(\n"
     ]
    },
    {
     "name": "stdout",
     "output_type": "stream",
     "text": [
      "Epoch 01: Train Loss=1.9161, Acc=0.2133, F1=0.2127 | Val Loss=1.5768, Acc=0.3200, F1=0.1997\n",
      "Epoch 02: Train Loss=1.6019, Acc=0.3000, F1=0.2988 | Val Loss=1.5926, Acc=0.3400, F1=0.2405\n",
      "Epoch 03: Train Loss=1.5787, Acc=0.3033, F1=0.2797 | Val Loss=1.6451, Acc=0.2600, F1=0.1659\n",
      "Epoch 04: Train Loss=1.5428, Acc=0.3533, F1=0.3279 | Val Loss=1.5827, Acc=0.4000, F1=0.3172\n",
      "Epoch 05: Train Loss=1.5992, Acc=0.2800, F1=0.2729 | Val Loss=1.5480, Acc=0.3000, F1=0.1844\n",
      "Epoch 06: Train Loss=1.5324, Acc=0.3033, F1=0.2959 | Val Loss=1.5224, Acc=0.3200, F1=0.2526\n",
      "Epoch 07: Train Loss=1.5113, Acc=0.3033, F1=0.2780 | Val Loss=1.5092, Acc=0.3400, F1=0.3074\n",
      "Epoch 08: Train Loss=1.5379, Acc=0.3333, F1=0.3256 | Val Loss=1.6806, Acc=0.1800, F1=0.1219\n",
      "Epoch 09: Train Loss=1.4702, Acc=0.3433, F1=0.3350 | Val Loss=1.6060, Acc=0.3200, F1=0.2472\n",
      "Epoch 10: Train Loss=1.4781, Acc=0.3667, F1=0.3509 | Val Loss=1.5397, Acc=0.3800, F1=0.3481\n",
      "Epoch 11: Train Loss=1.4324, Acc=0.4100, F1=0.3856 | Val Loss=1.4750, Acc=0.4400, F1=0.3476\n",
      "Epoch 12: Train Loss=1.4334, Acc=0.3833, F1=0.3455 | Val Loss=1.4986, Acc=0.4800, F1=0.3979\n",
      "Epoch 13: Train Loss=1.3968, Acc=0.3600, F1=0.3531 | Val Loss=1.4996, Acc=0.4000, F1=0.3130\n",
      "Epoch 14: Train Loss=1.3489, Acc=0.4067, F1=0.3873 | Val Loss=1.5805, Acc=0.3400, F1=0.2386\n",
      "Epoch 15: Train Loss=1.3766, Acc=0.4167, F1=0.4157 | Val Loss=1.4589, Acc=0.4200, F1=0.3225\n",
      "Epoch 16: Train Loss=1.3308, Acc=0.4067, F1=0.3870 | Val Loss=1.5826, Acc=0.3000, F1=0.2742\n",
      "Epoch 17: Train Loss=1.3096, Acc=0.4467, F1=0.4403 | Val Loss=1.5433, Acc=0.3200, F1=0.2615\n",
      "Epoch 18: Train Loss=1.2543, Acc=0.4500, F1=0.4353 | Val Loss=1.6304, Acc=0.4600, F1=0.3645\n",
      "Epoch 19: Train Loss=1.2531, Acc=0.4533, F1=0.4386 | Val Loss=1.9029, Acc=0.3800, F1=0.3312\n",
      "Epoch 20: Train Loss=1.2100, Acc=0.5233, F1=0.5135 | Val Loss=1.7062, Acc=0.3200, F1=0.3004\n",
      "Epoch 21: Train Loss=1.1530, Acc=0.5333, F1=0.5249 | Val Loss=1.5134, Acc=0.4200, F1=0.3414\n"
     ]
    },
    {
     "name": "stderr",
     "output_type": "stream",
     "text": [
      "[I 2025-08-16 19:05:58,457] Trial 13 finished with value: 0.48 and parameters: {'nhead': 8, 'num_layers': 4, 'lr': 0.00011531865648562694, 'weight_decay': 0.00011146634654798883}. Best is trial 12 with value: 0.54.\n"
     ]
    },
    {
     "name": "stdout",
     "output_type": "stream",
     "text": [
      "Epoch 22: Train Loss=1.1888, Acc=0.5033, F1=0.5054 | Val Loss=1.8120, Acc=0.3800, F1=0.3626\n",
      "Early stopping\n",
      "\n",
      "[trial 14] build loaders...\n"
     ]
    },
    {
     "name": "stderr",
     "output_type": "stream",
     "text": [
      "C:\\ProgramData\\anaconda3\\Lib\\site-packages\\torch\\nn\\modules\\transformer.py:379: UserWarning: enable_nested_tensor is True, but self.use_nested_tensor is False because encoder_layer.self_attn.batch_first was not True(use batch_first for better inference performance)\n",
      "  warnings.warn(\n"
     ]
    },
    {
     "name": "stdout",
     "output_type": "stream",
     "text": [
      "Epoch 01: Train Loss=1.9327, Acc=0.2533, F1=0.2471 | Val Loss=1.6145, Acc=0.3000, F1=0.2688\n",
      "Epoch 02: Train Loss=1.6483, Acc=0.2767, F1=0.2733 | Val Loss=1.6573, Acc=0.2800, F1=0.2006\n",
      "Epoch 03: Train Loss=1.5835, Acc=0.3033, F1=0.3052 | Val Loss=1.6897, Acc=0.2600, F1=0.1319\n",
      "Epoch 04: Train Loss=1.5624, Acc=0.3067, F1=0.3027 | Val Loss=1.6651, Acc=0.2800, F1=0.1758\n",
      "Epoch 05: Train Loss=1.5558, Acc=0.3333, F1=0.3279 | Val Loss=1.5167, Acc=0.3600, F1=0.2503\n",
      "Epoch 06: Train Loss=1.5268, Acc=0.3133, F1=0.3028 | Val Loss=1.6608, Acc=0.2800, F1=0.2470\n",
      "Epoch 07: Train Loss=1.5542, Acc=0.3167, F1=0.3039 | Val Loss=1.4796, Acc=0.4400, F1=0.3642\n",
      "Epoch 08: Train Loss=1.4804, Acc=0.3633, F1=0.3586 | Val Loss=1.4935, Acc=0.4000, F1=0.3453\n",
      "Epoch 09: Train Loss=1.4590, Acc=0.3633, F1=0.3488 | Val Loss=1.4912, Acc=0.4600, F1=0.3858\n",
      "Epoch 10: Train Loss=1.4613, Acc=0.3533, F1=0.3504 | Val Loss=1.5056, Acc=0.3600, F1=0.2888\n",
      "Epoch 11: Train Loss=1.4363, Acc=0.3833, F1=0.3749 | Val Loss=1.4740, Acc=0.4400, F1=0.4148\n",
      "Epoch 12: Train Loss=1.4260, Acc=0.3800, F1=0.3755 | Val Loss=1.4478, Acc=0.4400, F1=0.3357\n",
      "Epoch 13: Train Loss=1.3874, Acc=0.4233, F1=0.4144 | Val Loss=1.4994, Acc=0.4000, F1=0.3314\n",
      "Epoch 14: Train Loss=1.3710, Acc=0.3833, F1=0.3783 | Val Loss=1.4184, Acc=0.3800, F1=0.3044\n",
      "Epoch 15: Train Loss=1.3829, Acc=0.4300, F1=0.4228 | Val Loss=1.3594, Acc=0.4600, F1=0.4094\n",
      "Epoch 16: Train Loss=1.3370, Acc=0.4300, F1=0.4237 | Val Loss=1.3805, Acc=0.4000, F1=0.3147\n",
      "Epoch 17: Train Loss=1.3564, Acc=0.4100, F1=0.3905 | Val Loss=1.4432, Acc=0.4000, F1=0.3271\n",
      "Epoch 18: Train Loss=1.3256, Acc=0.4600, F1=0.4447 | Val Loss=1.6850, Acc=0.3400, F1=0.3390\n"
     ]
    },
    {
     "name": "stderr",
     "output_type": "stream",
     "text": [
      "[I 2025-08-16 19:07:28,156] Trial 14 finished with value: 0.46 and parameters: {'nhead': 8, 'num_layers': 2, 'lr': 0.0002583605014014802, 'weight_decay': 0.00048054815675422816}. Best is trial 12 with value: 0.54.\n"
     ]
    },
    {
     "name": "stdout",
     "output_type": "stream",
     "text": [
      "Epoch 19: Train Loss=1.3140, Acc=0.4567, F1=0.4429 | Val Loss=1.3803, Acc=0.4200, F1=0.3647\n",
      "Early stopping\n",
      "\n",
      "[trial 15] build loaders...\n"
     ]
    },
    {
     "name": "stderr",
     "output_type": "stream",
     "text": [
      "C:\\ProgramData\\anaconda3\\Lib\\site-packages\\torch\\nn\\modules\\transformer.py:379: UserWarning: enable_nested_tensor is True, but self.use_nested_tensor is False because encoder_layer.self_attn.batch_first was not True(use batch_first for better inference performance)\n",
      "  warnings.warn(\n"
     ]
    },
    {
     "name": "stdout",
     "output_type": "stream",
     "text": [
      "Epoch 01: Train Loss=1.9721, Acc=0.2300, F1=0.2290 | Val Loss=1.6849, Acc=0.2200, F1=0.1157\n",
      "Epoch 02: Train Loss=1.6245, Acc=0.2233, F1=0.2135 | Val Loss=1.7991, Acc=0.1200, F1=0.0708\n",
      "Epoch 03: Train Loss=1.6030, Acc=0.2633, F1=0.2580 | Val Loss=1.7383, Acc=0.3200, F1=0.2242\n",
      "Epoch 04: Train Loss=1.6138, Acc=0.3033, F1=0.2968 | Val Loss=1.6062, Acc=0.2600, F1=0.1324\n",
      "Epoch 05: Train Loss=1.5968, Acc=0.3000, F1=0.2937 | Val Loss=1.7492, Acc=0.2800, F1=0.1669\n",
      "Epoch 06: Train Loss=1.5200, Acc=0.3000, F1=0.2830 | Val Loss=1.6607, Acc=0.2200, F1=0.1402\n",
      "Epoch 07: Train Loss=1.5758, Acc=0.2767, F1=0.2697 | Val Loss=1.5712, Acc=0.3000, F1=0.1500\n",
      "Epoch 08: Train Loss=1.5854, Acc=0.3000, F1=0.2894 | Val Loss=1.7386, Acc=0.2600, F1=0.1317\n",
      "Epoch 09: Train Loss=1.5332, Acc=0.3067, F1=0.2992 | Val Loss=1.6121, Acc=0.1800, F1=0.1028\n",
      "Epoch 10: Train Loss=1.5092, Acc=0.3333, F1=0.2917 | Val Loss=1.7427, Acc=0.2600, F1=0.1317\n",
      "Epoch 11: Train Loss=1.5397, Acc=0.2667, F1=0.2536 | Val Loss=1.6527, Acc=0.3200, F1=0.1997\n",
      "Epoch 12: Train Loss=1.5334, Acc=0.2600, F1=0.2435 | Val Loss=1.5859, Acc=0.2800, F1=0.1412\n"
     ]
    },
    {
     "name": "stderr",
     "output_type": "stream",
     "text": [
      "[I 2025-08-16 19:09:18,157] Trial 15 finished with value: 0.32 and parameters: {'nhead': 8, 'num_layers': 4, 'lr': 0.00022545502715832472, 'weight_decay': 0.0002829842260424557}. Best is trial 12 with value: 0.54.\n"
     ]
    },
    {
     "name": "stdout",
     "output_type": "stream",
     "text": [
      "Epoch 13: Train Loss=1.5063, Acc=0.3000, F1=0.2713 | Val Loss=1.8033, Acc=0.2600, F1=0.1324\n",
      "Early stopping\n",
      "\n",
      "[trial 16] build loaders...\n"
     ]
    },
    {
     "name": "stderr",
     "output_type": "stream",
     "text": [
      "C:\\ProgramData\\anaconda3\\Lib\\site-packages\\torch\\nn\\modules\\transformer.py:379: UserWarning: enable_nested_tensor is True, but self.use_nested_tensor is False because encoder_layer.self_attn.batch_first was not True(use batch_first for better inference performance)\n",
      "  warnings.warn(\n"
     ]
    },
    {
     "name": "stdout",
     "output_type": "stream",
     "text": [
      "Epoch 01: Train Loss=2.1053, Acc=0.2533, F1=0.2553 | Val Loss=1.6822, Acc=0.2600, F1=0.0825\n",
      "Epoch 02: Train Loss=1.6430, Acc=0.2633, F1=0.2406 | Val Loss=1.7006, Acc=0.2000, F1=0.1070\n",
      "Epoch 03: Train Loss=1.5703, Acc=0.3100, F1=0.3066 | Val Loss=1.7781, Acc=0.3800, F1=0.3213\n",
      "Epoch 04: Train Loss=1.6119, Acc=0.3000, F1=0.2889 | Val Loss=1.5772, Acc=0.3000, F1=0.1500\n",
      "Epoch 05: Train Loss=1.5467, Acc=0.2867, F1=0.2805 | Val Loss=1.6275, Acc=0.2600, F1=0.2048\n",
      "Epoch 06: Train Loss=1.5615, Acc=0.3100, F1=0.2969 | Val Loss=1.5281, Acc=0.3400, F1=0.1842\n",
      "Epoch 07: Train Loss=1.5663, Acc=0.3100, F1=0.2977 | Val Loss=1.6873, Acc=0.2000, F1=0.1340\n",
      "Epoch 08: Train Loss=1.5363, Acc=0.3333, F1=0.2997 | Val Loss=1.5824, Acc=0.2600, F1=0.1398\n",
      "Epoch 09: Train Loss=1.4849, Acc=0.2767, F1=0.2738 | Val Loss=1.5556, Acc=0.3600, F1=0.2706\n",
      "Epoch 10: Train Loss=1.5583, Acc=0.3533, F1=0.3198 | Val Loss=1.7698, Acc=0.3000, F1=0.2060\n",
      "Epoch 11: Train Loss=1.5526, Acc=0.2867, F1=0.2757 | Val Loss=1.5694, Acc=0.2000, F1=0.1429\n",
      "Epoch 12: Train Loss=1.5062, Acc=0.3433, F1=0.2997 | Val Loss=1.5104, Acc=0.3200, F1=0.2105\n"
     ]
    },
    {
     "name": "stderr",
     "output_type": "stream",
     "text": [
      "[I 2025-08-16 19:11:08,026] Trial 16 finished with value: 0.38 and parameters: {'nhead': 8, 'num_layers': 4, 'lr': 0.000163933989301113, 'weight_decay': 4.565594045445848e-05}. Best is trial 12 with value: 0.54.\n"
     ]
    },
    {
     "name": "stdout",
     "output_type": "stream",
     "text": [
      "Epoch 13: Train Loss=1.4841, Acc=0.3200, F1=0.3149 | Val Loss=1.5499, Acc=0.2600, F1=0.2074\n",
      "Early stopping\n",
      "\n",
      "[trial 17] build loaders...\n"
     ]
    },
    {
     "name": "stderr",
     "output_type": "stream",
     "text": [
      "C:\\ProgramData\\anaconda3\\Lib\\site-packages\\torch\\nn\\modules\\transformer.py:379: UserWarning: enable_nested_tensor is True, but self.use_nested_tensor is False because encoder_layer.self_attn.batch_first was not True(use batch_first for better inference performance)\n",
      "  warnings.warn(\n"
     ]
    },
    {
     "name": "stdout",
     "output_type": "stream",
     "text": [
      "Epoch 01: Train Loss=2.2229, Acc=0.2333, F1=0.2122 | Val Loss=1.7028, Acc=0.2200, F1=0.1146\n",
      "Epoch 02: Train Loss=1.6427, Acc=0.3133, F1=0.2974 | Val Loss=1.8363, Acc=0.2000, F1=0.1217\n",
      "Epoch 03: Train Loss=1.6772, Acc=0.3067, F1=0.3047 | Val Loss=1.8283, Acc=0.1800, F1=0.0957\n",
      "Epoch 04: Train Loss=1.6020, Acc=0.2833, F1=0.2789 | Val Loss=2.0782, Acc=0.3000, F1=0.2191\n",
      "Epoch 05: Train Loss=1.6103, Acc=0.2667, F1=0.2642 | Val Loss=1.5268, Acc=0.4400, F1=0.3346\n",
      "Epoch 06: Train Loss=1.5714, Acc=0.3467, F1=0.3172 | Val Loss=1.4600, Acc=0.3800, F1=0.3300\n",
      "Epoch 07: Train Loss=1.5456, Acc=0.3100, F1=0.3039 | Val Loss=1.7023, Acc=0.2800, F1=0.1431\n",
      "Epoch 08: Train Loss=1.5956, Acc=0.2600, F1=0.2464 | Val Loss=1.6412, Acc=0.3200, F1=0.2751\n",
      "Epoch 09: Train Loss=1.5224, Acc=0.2933, F1=0.2782 | Val Loss=1.5802, Acc=0.2400, F1=0.1427\n",
      "Epoch 10: Train Loss=1.4650, Acc=0.3167, F1=0.3045 | Val Loss=1.5985, Acc=0.2400, F1=0.1998\n",
      "Epoch 11: Train Loss=1.4430, Acc=0.3533, F1=0.3312 | Val Loss=1.4873, Acc=0.3800, F1=0.3207\n",
      "Epoch 12: Train Loss=1.3895, Acc=0.3633, F1=0.3485 | Val Loss=1.5691, Acc=0.2400, F1=0.2349\n",
      "Epoch 13: Train Loss=1.4168, Acc=0.3900, F1=0.3737 | Val Loss=1.6167, Acc=0.4000, F1=0.3431\n",
      "Epoch 14: Train Loss=1.3564, Acc=0.4400, F1=0.4329 | Val Loss=1.9654, Acc=0.3200, F1=0.2368\n"
     ]
    },
    {
     "name": "stderr",
     "output_type": "stream",
     "text": [
      "[I 2025-08-16 19:12:18,672] Trial 17 finished with value: 0.44 and parameters: {'nhead': 8, 'num_layers': 2, 'lr': 0.0004424521231538716, 'weight_decay': 5.833343330594983e-05}. Best is trial 12 with value: 0.54.\n"
     ]
    },
    {
     "name": "stdout",
     "output_type": "stream",
     "text": [
      "Epoch 15: Train Loss=1.3479, Acc=0.4533, F1=0.4462 | Val Loss=1.6860, Acc=0.3000, F1=0.2094\n",
      "Early stopping\n",
      "\n",
      "[trial 18] build loaders...\n"
     ]
    },
    {
     "name": "stderr",
     "output_type": "stream",
     "text": [
      "C:\\ProgramData\\anaconda3\\Lib\\site-packages\\torch\\nn\\modules\\transformer.py:379: UserWarning: enable_nested_tensor is True, but self.use_nested_tensor is False because encoder_layer.self_attn.batch_first was not True(use batch_first for better inference performance)\n",
      "  warnings.warn(\n"
     ]
    },
    {
     "name": "stdout",
     "output_type": "stream",
     "text": [
      "Epoch 01: Train Loss=2.6368, Acc=0.2167, F1=0.2186 | Val Loss=2.0416, Acc=0.2600, F1=0.0825\n",
      "Epoch 02: Train Loss=1.9753, Acc=0.1567, F1=0.1437 | Val Loss=1.6767, Acc=0.2200, F1=0.0721\n",
      "Epoch 03: Train Loss=1.8095, Acc=0.1933, F1=0.1853 | Val Loss=1.7330, Acc=0.2600, F1=0.0825\n",
      "Epoch 04: Train Loss=1.6931, Acc=0.1767, F1=0.1623 | Val Loss=1.6111, Acc=0.2600, F1=0.0825\n",
      "Epoch 05: Train Loss=1.7792, Acc=0.1900, F1=0.1762 | Val Loss=1.5610, Acc=0.2600, F1=0.0825\n",
      "Epoch 06: Train Loss=1.6538, Acc=0.1900, F1=0.1647 | Val Loss=1.6478, Acc=0.1000, F1=0.0364\n",
      "Epoch 07: Train Loss=1.6260, Acc=0.1300, F1=0.1202 | Val Loss=1.6122, Acc=0.1600, F1=0.0552\n",
      "Epoch 08: Train Loss=1.6211, Acc=0.2100, F1=0.1984 | Val Loss=1.6198, Acc=0.1600, F1=0.0552\n",
      "Epoch 09: Train Loss=1.6193, Acc=0.1733, F1=0.1619 | Val Loss=1.6006, Acc=0.2600, F1=0.0825\n",
      "Epoch 10: Train Loss=1.6141, Acc=0.2033, F1=0.1272 | Val Loss=1.6595, Acc=0.1000, F1=0.0364\n"
     ]
    },
    {
     "name": "stderr",
     "output_type": "stream",
     "text": [
      "[I 2025-08-16 19:13:31,478] Trial 18 finished with value: 0.26 and parameters: {'nhead': 8, 'num_layers': 3, 'lr': 0.0037816515063329717, 'weight_decay': 0.000980148758283862}. Best is trial 12 with value: 0.54.\n"
     ]
    },
    {
     "name": "stdout",
     "output_type": "stream",
     "text": [
      "Epoch 11: Train Loss=1.6212, Acc=0.1767, F1=0.1268 | Val Loss=1.6121, Acc=0.1600, F1=0.0552\n",
      "Early stopping\n",
      "\n",
      "[trial 19] build loaders...\n"
     ]
    },
    {
     "name": "stderr",
     "output_type": "stream",
     "text": [
      "C:\\ProgramData\\anaconda3\\Lib\\site-packages\\torch\\nn\\modules\\transformer.py:379: UserWarning: enable_nested_tensor is True, but self.use_nested_tensor is False because encoder_layer.self_attn.batch_first was not True(use batch_first for better inference performance)\n",
      "  warnings.warn(\n"
     ]
    },
    {
     "name": "stdout",
     "output_type": "stream",
     "text": [
      "Epoch 01: Train Loss=2.1331, Acc=0.2067, F1=0.1900 | Val Loss=1.8230, Acc=0.1000, F1=0.0364\n",
      "Epoch 02: Train Loss=1.8129, Acc=0.1600, F1=0.1596 | Val Loss=1.6356, Acc=0.2600, F1=0.0825\n",
      "Epoch 03: Train Loss=1.6935, Acc=0.2000, F1=0.1965 | Val Loss=1.6702, Acc=0.2600, F1=0.0825\n",
      "Epoch 04: Train Loss=1.7344, Acc=0.2200, F1=0.2068 | Val Loss=1.9772, Acc=0.1600, F1=0.0552\n",
      "Epoch 05: Train Loss=1.7051, Acc=0.1933, F1=0.1795 | Val Loss=1.7355, Acc=0.2600, F1=0.0825\n",
      "Epoch 06: Train Loss=1.7201, Acc=0.2033, F1=0.1903 | Val Loss=2.2702, Acc=0.2400, F1=0.1952\n",
      "Epoch 07: Train Loss=1.7109, Acc=0.2167, F1=0.1820 | Val Loss=1.8304, Acc=0.1600, F1=0.0552\n",
      "Epoch 08: Train Loss=1.7056, Acc=0.1467, F1=0.1460 | Val Loss=1.6737, Acc=0.1000, F1=0.0364\n",
      "Epoch 09: Train Loss=1.6909, Acc=0.1400, F1=0.1300 | Val Loss=1.7089, Acc=0.2200, F1=0.0721\n",
      "Epoch 10: Train Loss=1.7162, Acc=0.2167, F1=0.1971 | Val Loss=1.6075, Acc=0.2200, F1=0.0721\n",
      "Epoch 11: Train Loss=1.6795, Acc=0.2133, F1=0.1817 | Val Loss=1.5836, Acc=0.2600, F1=0.0825\n"
     ]
    },
    {
     "name": "stderr",
     "output_type": "stream",
     "text": [
      "[I 2025-08-16 19:15:13,100] Trial 19 finished with value: 0.26 and parameters: {'nhead': 8, 'num_layers': 4, 'lr': 0.00041359362575230096, 'weight_decay': 6.916807717235078e-05}. Best is trial 12 with value: 0.54.\n"
     ]
    },
    {
     "name": "stdout",
     "output_type": "stream",
     "text": [
      "Epoch 12: Train Loss=1.6561, Acc=0.1700, F1=0.1599 | Val Loss=1.8174, Acc=0.1000, F1=0.0364\n",
      "Early stopping\n",
      "\n",
      "[trial 20] build loaders...\n"
     ]
    },
    {
     "name": "stderr",
     "output_type": "stream",
     "text": [
      "C:\\ProgramData\\anaconda3\\Lib\\site-packages\\torch\\nn\\modules\\transformer.py:379: UserWarning: enable_nested_tensor is True, but self.use_nested_tensor is False because encoder_layer.self_attn.batch_first was not True(use batch_first for better inference performance)\n",
      "  warnings.warn(\n"
     ]
    },
    {
     "name": "stdout",
     "output_type": "stream",
     "text": [
      "Epoch 01: Train Loss=2.1366, Acc=0.2000, F1=0.1983 | Val Loss=1.6484, Acc=0.3000, F1=0.1496\n",
      "Epoch 02: Train Loss=1.5986, Acc=0.2867, F1=0.2807 | Val Loss=1.5430, Acc=0.2200, F1=0.1333\n",
      "Epoch 03: Train Loss=1.6057, Acc=0.2933, F1=0.2838 | Val Loss=1.6775, Acc=0.3800, F1=0.2713\n",
      "Epoch 04: Train Loss=1.5857, Acc=0.3233, F1=0.2873 | Val Loss=1.5211, Acc=0.4200, F1=0.4012\n",
      "Epoch 05: Train Loss=1.5536, Acc=0.2933, F1=0.2844 | Val Loss=1.5888, Acc=0.2600, F1=0.1697\n",
      "Epoch 06: Train Loss=1.5235, Acc=0.3467, F1=0.3312 | Val Loss=1.5446, Acc=0.3600, F1=0.2766\n",
      "Epoch 07: Train Loss=1.5473, Acc=0.3100, F1=0.2949 | Val Loss=1.6808, Acc=0.3200, F1=0.2360\n",
      "Epoch 08: Train Loss=1.5402, Acc=0.3400, F1=0.3251 | Val Loss=1.7451, Acc=0.2600, F1=0.1317\n",
      "Epoch 09: Train Loss=1.4865, Acc=0.3367, F1=0.3250 | Val Loss=1.6968, Acc=0.2600, F1=0.1586\n",
      "Epoch 10: Train Loss=1.4869, Acc=0.3633, F1=0.3357 | Val Loss=1.4942, Acc=0.3800, F1=0.3144\n",
      "Epoch 11: Train Loss=1.4787, Acc=0.3600, F1=0.3515 | Val Loss=1.5590, Acc=0.3200, F1=0.2663\n",
      "Epoch 12: Train Loss=1.4398, Acc=0.3333, F1=0.3218 | Val Loss=1.5423, Acc=0.3200, F1=0.2385\n",
      "Epoch 13: Train Loss=1.4216, Acc=0.3967, F1=0.3828 | Val Loss=1.6060, Acc=0.1800, F1=0.1229\n",
      "Epoch 14: Train Loss=1.4572, Acc=0.3733, F1=0.3694 | Val Loss=1.4523, Acc=0.4600, F1=0.3476\n",
      "Epoch 15: Train Loss=1.4521, Acc=0.3800, F1=0.3756 | Val Loss=1.4116, Acc=0.4200, F1=0.3467\n",
      "Epoch 16: Train Loss=1.3965, Acc=0.4133, F1=0.4051 | Val Loss=1.4775, Acc=0.4000, F1=0.3254\n",
      "Epoch 17: Train Loss=1.3526, Acc=0.4100, F1=0.3915 | Val Loss=1.5082, Acc=0.4200, F1=0.3910\n",
      "Epoch 18: Train Loss=1.3668, Acc=0.4333, F1=0.4118 | Val Loss=1.4746, Acc=0.3800, F1=0.3315\n",
      "Epoch 19: Train Loss=1.3158, Acc=0.4133, F1=0.4119 | Val Loss=1.4713, Acc=0.4000, F1=0.3488\n",
      "Epoch 20: Train Loss=1.3046, Acc=0.4300, F1=0.4261 | Val Loss=1.6195, Acc=0.4200, F1=0.3719\n",
      "Epoch 21: Train Loss=1.2746, Acc=0.4367, F1=0.4259 | Val Loss=1.4956, Acc=0.4600, F1=0.4013\n",
      "Epoch 22: Train Loss=1.2689, Acc=0.4833, F1=0.4791 | Val Loss=1.4389, Acc=0.4200, F1=0.3503\n",
      "Epoch 23: Train Loss=1.2416, Acc=0.4933, F1=0.4869 | Val Loss=1.6275, Acc=0.3400, F1=0.3241\n"
     ]
    },
    {
     "name": "stderr",
     "output_type": "stream",
     "text": [
      "[I 2025-08-16 19:17:51,572] Trial 20 finished with value: 0.46 and parameters: {'nhead': 8, 'num_layers': 3, 'lr': 0.00013953416755976746, 'weight_decay': 0.00032249274539476985}. Best is trial 12 with value: 0.54.\n"
     ]
    },
    {
     "name": "stdout",
     "output_type": "stream",
     "text": [
      "Epoch 24: Train Loss=1.1852, Acc=0.4833, F1=0.4746 | Val Loss=1.6402, Acc=0.3600, F1=0.3411\n",
      "Early stopping\n",
      "\n",
      "[trial 21] build loaders...\n"
     ]
    },
    {
     "name": "stderr",
     "output_type": "stream",
     "text": [
      "C:\\ProgramData\\anaconda3\\Lib\\site-packages\\torch\\nn\\modules\\transformer.py:379: UserWarning: enable_nested_tensor is True, but self.use_nested_tensor is False because encoder_layer.self_attn.batch_first was not True(use batch_first for better inference performance)\n",
      "  warnings.warn(\n"
     ]
    },
    {
     "name": "stdout",
     "output_type": "stream",
     "text": [
      "Epoch 01: Train Loss=1.9698, Acc=0.2533, F1=0.2559 | Val Loss=1.5465, Acc=0.2400, F1=0.2030\n",
      "Epoch 02: Train Loss=1.6292, Acc=0.3033, F1=0.2979 | Val Loss=1.6419, Acc=0.2600, F1=0.0825\n",
      "Epoch 03: Train Loss=1.6032, Acc=0.2767, F1=0.2608 | Val Loss=1.5997, Acc=0.3000, F1=0.1850\n",
      "Epoch 04: Train Loss=1.5642, Acc=0.2900, F1=0.2697 | Val Loss=1.7581, Acc=0.1800, F1=0.1017\n",
      "Epoch 05: Train Loss=1.5898, Acc=0.3400, F1=0.3358 | Val Loss=1.5558, Acc=0.2000, F1=0.1238\n",
      "Epoch 06: Train Loss=1.5386, Acc=0.2967, F1=0.2720 | Val Loss=1.5212, Acc=0.2600, F1=0.1815\n",
      "Epoch 07: Train Loss=1.5097, Acc=0.3300, F1=0.3234 | Val Loss=1.5245, Acc=0.4000, F1=0.3742\n",
      "Epoch 08: Train Loss=1.4843, Acc=0.3367, F1=0.3299 | Val Loss=1.5798, Acc=0.3400, F1=0.1842\n",
      "Epoch 09: Train Loss=1.5134, Acc=0.3333, F1=0.3140 | Val Loss=1.6022, Acc=0.3000, F1=0.1972\n",
      "Epoch 10: Train Loss=1.4658, Acc=0.4000, F1=0.3936 | Val Loss=1.5218, Acc=0.3400, F1=0.3118\n",
      "Epoch 11: Train Loss=1.4131, Acc=0.3333, F1=0.3281 | Val Loss=1.4594, Acc=0.4600, F1=0.3691\n",
      "Epoch 12: Train Loss=1.3859, Acc=0.4233, F1=0.4032 | Val Loss=1.5179, Acc=0.4800, F1=0.4311\n",
      "Epoch 13: Train Loss=1.3819, Acc=0.4367, F1=0.4072 | Val Loss=1.4852, Acc=0.4600, F1=0.3175\n",
      "Epoch 14: Train Loss=1.3315, Acc=0.3933, F1=0.3802 | Val Loss=1.6736, Acc=0.5000, F1=0.3677\n",
      "Epoch 15: Train Loss=1.4102, Acc=0.4367, F1=0.4218 | Val Loss=1.6594, Acc=0.3400, F1=0.2532\n",
      "Epoch 16: Train Loss=1.3331, Acc=0.4167, F1=0.3967 | Val Loss=1.4407, Acc=0.3200, F1=0.2810\n",
      "Epoch 17: Train Loss=1.3013, Acc=0.4633, F1=0.4527 | Val Loss=1.5446, Acc=0.3400, F1=0.2808\n",
      "Epoch 18: Train Loss=1.2902, Acc=0.4667, F1=0.4355 | Val Loss=1.5180, Acc=0.3800, F1=0.2716\n",
      "Epoch 19: Train Loss=1.2159, Acc=0.5033, F1=0.4928 | Val Loss=1.6978, Acc=0.4200, F1=0.3612\n",
      "Epoch 20: Train Loss=1.1426, Acc=0.5367, F1=0.5347 | Val Loss=1.8817, Acc=0.4000, F1=0.3124\n",
      "Epoch 21: Train Loss=1.0874, Acc=0.5667, F1=0.5636 | Val Loss=1.8087, Acc=0.4200, F1=0.3421\n",
      "Epoch 22: Train Loss=0.9857, Acc=0.6200, F1=0.6173 | Val Loss=1.7354, Acc=0.4000, F1=0.3259\n",
      "Epoch 23: Train Loss=0.9085, Acc=0.6667, F1=0.6661 | Val Loss=1.9495, Acc=0.3600, F1=0.3620\n"
     ]
    },
    {
     "name": "stderr",
     "output_type": "stream",
     "text": [
      "[I 2025-08-16 19:21:14,740] Trial 21 finished with value: 0.5 and parameters: {'nhead': 8, 'num_layers': 4, 'lr': 0.00010435233450894518, 'weight_decay': 0.00010682922545241557}. Best is trial 12 with value: 0.54.\n"
     ]
    },
    {
     "name": "stdout",
     "output_type": "stream",
     "text": [
      "Epoch 24: Train Loss=0.8143, Acc=0.6767, F1=0.6736 | Val Loss=2.3005, Acc=0.3600, F1=0.2833\n",
      "Early stopping\n",
      "\n",
      "[trial 22] build loaders...\n"
     ]
    },
    {
     "name": "stderr",
     "output_type": "stream",
     "text": [
      "C:\\ProgramData\\anaconda3\\Lib\\site-packages\\torch\\nn\\modules\\transformer.py:379: UserWarning: enable_nested_tensor is True, but self.use_nested_tensor is False because encoder_layer.self_attn.batch_first was not True(use batch_first for better inference performance)\n",
      "  warnings.warn(\n"
     ]
    },
    {
     "name": "stdout",
     "output_type": "stream",
     "text": [
      "Epoch 01: Train Loss=2.0660, Acc=0.2567, F1=0.2515 | Val Loss=1.7771, Acc=0.2000, F1=0.1082\n",
      "Epoch 02: Train Loss=1.6643, Acc=0.2800, F1=0.2754 | Val Loss=1.7753, Acc=0.1600, F1=0.0604\n",
      "Epoch 03: Train Loss=1.6635, Acc=0.2600, F1=0.2548 | Val Loss=1.6257, Acc=0.2800, F1=0.1401\n",
      "Epoch 04: Train Loss=1.5945, Acc=0.2767, F1=0.2562 | Val Loss=1.5552, Acc=0.3200, F1=0.2237\n",
      "Epoch 05: Train Loss=1.5582, Acc=0.2867, F1=0.2799 | Val Loss=1.5830, Acc=0.2200, F1=0.1333\n",
      "Epoch 06: Train Loss=1.5335, Acc=0.3033, F1=0.2811 | Val Loss=1.7086, Acc=0.3400, F1=0.1904\n",
      "Epoch 07: Train Loss=1.5098, Acc=0.3567, F1=0.3512 | Val Loss=1.8941, Acc=0.2400, F1=0.1251\n",
      "Epoch 08: Train Loss=1.5344, Acc=0.3333, F1=0.3165 | Val Loss=1.6417, Acc=0.3400, F1=0.2357\n",
      "Epoch 09: Train Loss=1.5509, Acc=0.3300, F1=0.3104 | Val Loss=1.5390, Acc=0.2000, F1=0.1463\n",
      "Epoch 10: Train Loss=1.5194, Acc=0.2967, F1=0.2783 | Val Loss=1.5234, Acc=0.3000, F1=0.1514\n",
      "Epoch 11: Train Loss=1.4627, Acc=0.3367, F1=0.3306 | Val Loss=1.7709, Acc=0.1600, F1=0.1102\n",
      "Epoch 12: Train Loss=1.4616, Acc=0.3867, F1=0.3581 | Val Loss=1.5913, Acc=0.1800, F1=0.0847\n",
      "Epoch 13: Train Loss=1.4869, Acc=0.3200, F1=0.3128 | Val Loss=1.5004, Acc=0.3400, F1=0.2465\n",
      "Epoch 14: Train Loss=1.5221, Acc=0.2967, F1=0.2985 | Val Loss=1.5085, Acc=0.3000, F1=0.2259\n",
      "Epoch 15: Train Loss=1.4663, Acc=0.3600, F1=0.3484 | Val Loss=1.7774, Acc=0.3000, F1=0.2346\n",
      "Epoch 16: Train Loss=1.4212, Acc=0.3333, F1=0.3277 | Val Loss=1.5146, Acc=0.4400, F1=0.3863\n",
      "Epoch 17: Train Loss=1.4142, Acc=0.4300, F1=0.4199 | Val Loss=1.5207, Acc=0.4400, F1=0.3925\n",
      "Epoch 18: Train Loss=1.5399, Acc=0.3400, F1=0.3050 | Val Loss=1.9094, Acc=0.1400, F1=0.1112\n",
      "Epoch 19: Train Loss=1.4589, Acc=0.3567, F1=0.3387 | Val Loss=1.7084, Acc=0.3000, F1=0.2198\n",
      "Epoch 20: Train Loss=1.4247, Acc=0.3400, F1=0.3326 | Val Loss=1.5168, Acc=0.3800, F1=0.2900\n",
      "Epoch 21: Train Loss=1.4006, Acc=0.3767, F1=0.3602 | Val Loss=1.5735, Acc=0.4400, F1=0.3391\n",
      "Epoch 22: Train Loss=1.3714, Acc=0.4200, F1=0.3813 | Val Loss=1.6167, Acc=0.3400, F1=0.2200\n",
      "Epoch 23: Train Loss=1.3724, Acc=0.4367, F1=0.4275 | Val Loss=1.5500, Acc=0.3400, F1=0.2247\n",
      "Epoch 24: Train Loss=1.3271, Acc=0.4433, F1=0.4242 | Val Loss=1.5813, Acc=0.3800, F1=0.3032\n",
      "Epoch 25: Train Loss=1.2953, Acc=0.4533, F1=0.4464 | Val Loss=1.7153, Acc=0.4000, F1=0.2821\n"
     ]
    },
    {
     "name": "stderr",
     "output_type": "stream",
     "text": [
      "[I 2025-08-16 19:24:54,446] Trial 22 finished with value: 0.44 and parameters: {'nhead': 8, 'num_layers': 4, 'lr': 0.00017320214282304762, 'weight_decay': 9.828969736656175e-05}. Best is trial 12 with value: 0.54.\n"
     ]
    },
    {
     "name": "stdout",
     "output_type": "stream",
     "text": [
      "Epoch 26: Train Loss=1.2716, Acc=0.4867, F1=0.4333 | Val Loss=1.6485, Acc=0.2400, F1=0.2300\n",
      "Early stopping\n",
      "\n",
      "[trial 23] build loaders...\n"
     ]
    },
    {
     "name": "stderr",
     "output_type": "stream",
     "text": [
      "C:\\ProgramData\\anaconda3\\Lib\\site-packages\\torch\\nn\\modules\\transformer.py:379: UserWarning: enable_nested_tensor is True, but self.use_nested_tensor is False because encoder_layer.self_attn.batch_first was not True(use batch_first for better inference performance)\n",
      "  warnings.warn(\n"
     ]
    },
    {
     "name": "stdout",
     "output_type": "stream",
     "text": [
      "Epoch 01: Train Loss=1.8539, Acc=0.2667, F1=0.2646 | Val Loss=1.7865, Acc=0.1600, F1=0.0552\n",
      "Epoch 02: Train Loss=1.6696, Acc=0.2667, F1=0.2586 | Val Loss=1.7139, Acc=0.2000, F1=0.1670\n",
      "Epoch 03: Train Loss=1.5914, Acc=0.2867, F1=0.2844 | Val Loss=1.5095, Acc=0.3200, F1=0.2370\n",
      "Epoch 04: Train Loss=1.5796, Acc=0.3233, F1=0.3170 | Val Loss=1.6787, Acc=0.2600, F1=0.1319\n",
      "Epoch 05: Train Loss=1.5693, Acc=0.2733, F1=0.2585 | Val Loss=1.5371, Acc=0.3600, F1=0.2667\n",
      "Epoch 06: Train Loss=1.5430, Acc=0.3433, F1=0.3282 | Val Loss=1.6534, Acc=0.2000, F1=0.1669\n",
      "Epoch 07: Train Loss=1.5008, Acc=0.3733, F1=0.3658 | Val Loss=1.5487, Acc=0.3200, F1=0.2481\n",
      "Epoch 08: Train Loss=1.4962, Acc=0.3400, F1=0.3256 | Val Loss=1.5275, Acc=0.4000, F1=0.2799\n",
      "Epoch 09: Train Loss=1.4715, Acc=0.3233, F1=0.3177 | Val Loss=1.5124, Acc=0.3200, F1=0.1997\n",
      "Epoch 10: Train Loss=1.4917, Acc=0.3233, F1=0.3162 | Val Loss=1.5662, Acc=0.3000, F1=0.2310\n",
      "Epoch 11: Train Loss=1.4720, Acc=0.3767, F1=0.3605 | Val Loss=1.6060, Acc=0.3000, F1=0.1781\n",
      "Epoch 12: Train Loss=1.4748, Acc=0.3500, F1=0.3271 | Val Loss=1.5888, Acc=0.3800, F1=0.2530\n",
      "Epoch 13: Train Loss=1.4624, Acc=0.3600, F1=0.3394 | Val Loss=1.5518, Acc=0.3400, F1=0.2506\n",
      "Epoch 14: Train Loss=1.4141, Acc=0.3633, F1=0.3316 | Val Loss=1.5671, Acc=0.3000, F1=0.2293\n",
      "Epoch 15: Train Loss=1.4233, Acc=0.4000, F1=0.3871 | Val Loss=1.6191, Acc=0.3000, F1=0.1940\n",
      "Epoch 16: Train Loss=1.3788, Acc=0.4167, F1=0.3894 | Val Loss=1.7170, Acc=0.1800, F1=0.1096\n",
      "Epoch 17: Train Loss=1.3992, Acc=0.4000, F1=0.3815 | Val Loss=1.6103, Acc=0.3400, F1=0.2772\n"
     ]
    },
    {
     "name": "stderr",
     "output_type": "stream",
     "text": [
      "[I 2025-08-16 19:27:26,883] Trial 23 finished with value: 0.4 and parameters: {'nhead': 8, 'num_layers': 4, 'lr': 0.00010052411549148645, 'weight_decay': 0.0002144612266342391}. Best is trial 12 with value: 0.54.\n"
     ]
    },
    {
     "name": "stdout",
     "output_type": "stream",
     "text": [
      "Epoch 18: Train Loss=1.3595, Acc=0.4300, F1=0.4232 | Val Loss=1.7003, Acc=0.3800, F1=0.3025\n",
      "Early stopping\n",
      "\n",
      "[trial 24] build loaders...\n"
     ]
    },
    {
     "name": "stderr",
     "output_type": "stream",
     "text": [
      "C:\\ProgramData\\anaconda3\\Lib\\site-packages\\torch\\nn\\modules\\transformer.py:379: UserWarning: enable_nested_tensor is True, but self.use_nested_tensor is False because encoder_layer.self_attn.batch_first was not True(use batch_first for better inference performance)\n",
      "  warnings.warn(\n"
     ]
    },
    {
     "name": "stdout",
     "output_type": "stream",
     "text": [
      "Epoch 01: Train Loss=2.0502, Acc=0.2633, F1=0.2566 | Val Loss=1.8525, Acc=0.2200, F1=0.0721\n",
      "Epoch 02: Train Loss=1.7591, Acc=0.1767, F1=0.1617 | Val Loss=1.8231, Acc=0.1600, F1=0.0552\n",
      "Epoch 03: Train Loss=1.7889, Acc=0.1900, F1=0.1594 | Val Loss=1.7822, Acc=0.1600, F1=0.0552\n",
      "Epoch 04: Train Loss=1.9802, Acc=0.2300, F1=0.2249 | Val Loss=1.7855, Acc=0.1600, F1=0.0552\n",
      "Epoch 05: Train Loss=1.7279, Acc=0.1700, F1=0.1665 | Val Loss=1.7949, Acc=0.1600, F1=0.0552\n",
      "Epoch 06: Train Loss=1.6997, Acc=0.2133, F1=0.1806 | Val Loss=1.6077, Acc=0.2200, F1=0.0721\n",
      "Epoch 07: Train Loss=1.6882, Acc=0.1867, F1=0.1788 | Val Loss=1.5995, Acc=0.2200, F1=0.0721\n",
      "Epoch 08: Train Loss=1.6725, Acc=0.2067, F1=0.1929 | Val Loss=1.7153, Acc=0.2600, F1=0.0825\n",
      "Epoch 09: Train Loss=1.6670, Acc=0.1900, F1=0.1695 | Val Loss=1.7249, Acc=0.1000, F1=0.0364\n",
      "Epoch 10: Train Loss=1.6932, Acc=0.2300, F1=0.1847 | Val Loss=1.6067, Acc=0.2600, F1=0.0825\n",
      "Epoch 11: Train Loss=1.7196, Acc=0.1867, F1=0.1767 | Val Loss=1.5967, Acc=0.2600, F1=0.0825\n",
      "Epoch 12: Train Loss=1.6603, Acc=0.1767, F1=0.1588 | Val Loss=1.6631, Acc=0.2600, F1=0.0825\n",
      "Epoch 13: Train Loss=1.6600, Acc=0.1700, F1=0.1483 | Val Loss=1.6041, Acc=0.2200, F1=0.0721\n",
      "Epoch 14: Train Loss=1.6492, Acc=0.2133, F1=0.1814 | Val Loss=1.6820, Acc=0.1600, F1=0.0552\n",
      "Epoch 15: Train Loss=1.6601, Acc=0.1633, F1=0.1571 | Val Loss=1.6480, Acc=0.2600, F1=0.0825\n",
      "Epoch 16: Train Loss=1.6632, Acc=0.2000, F1=0.1945 | Val Loss=1.6896, Acc=0.1600, F1=0.0552\n",
      "Epoch 17: Train Loss=1.6852, Acc=0.2033, F1=0.1750 | Val Loss=1.7506, Acc=0.2200, F1=0.0721\n"
     ]
    },
    {
     "name": "stderr",
     "output_type": "stream",
     "text": [
      "[I 2025-08-16 19:29:59,341] Trial 24 finished with value: 0.26 and parameters: {'nhead': 8, 'num_layers': 4, 'lr': 0.00032367871286896876, 'weight_decay': 3.389551727280967e-05}. Best is trial 12 with value: 0.54.\n"
     ]
    },
    {
     "name": "stdout",
     "output_type": "stream",
     "text": [
      "Epoch 18: Train Loss=1.7013, Acc=0.1967, F1=0.1724 | Val Loss=1.5564, Acc=0.2600, F1=0.0825\n",
      "Early stopping\n",
      "\n",
      "[trial 25] build loaders...\n"
     ]
    },
    {
     "name": "stderr",
     "output_type": "stream",
     "text": [
      "C:\\ProgramData\\anaconda3\\Lib\\site-packages\\torch\\nn\\modules\\transformer.py:379: UserWarning: enable_nested_tensor is True, but self.use_nested_tensor is False because encoder_layer.self_attn.batch_first was not True(use batch_first for better inference performance)\n",
      "  warnings.warn(\n"
     ]
    },
    {
     "name": "stdout",
     "output_type": "stream",
     "text": [
      "Epoch 01: Train Loss=2.0186, Acc=0.2433, F1=0.2418 | Val Loss=1.5813, Acc=0.3000, F1=0.1500\n",
      "Epoch 02: Train Loss=1.7343, Acc=0.2767, F1=0.2674 | Val Loss=1.5851, Acc=0.2800, F1=0.1524\n",
      "Epoch 03: Train Loss=1.5934, Acc=0.3367, F1=0.3208 | Val Loss=1.5867, Acc=0.2800, F1=0.1855\n",
      "Epoch 04: Train Loss=1.5721, Acc=0.2833, F1=0.2769 | Val Loss=1.7419, Acc=0.3000, F1=0.1949\n",
      "Epoch 05: Train Loss=1.6196, Acc=0.3167, F1=0.2955 | Val Loss=1.9813, Acc=0.1600, F1=0.0909\n",
      "Epoch 06: Train Loss=1.4827, Acc=0.3800, F1=0.3525 | Val Loss=1.5084, Acc=0.4000, F1=0.2718\n",
      "Epoch 07: Train Loss=1.4959, Acc=0.3033, F1=0.2917 | Val Loss=1.5841, Acc=0.2200, F1=0.1515\n",
      "Epoch 08: Train Loss=1.4754, Acc=0.3467, F1=0.3424 | Val Loss=1.7111, Acc=0.3000, F1=0.2300\n",
      "Epoch 09: Train Loss=1.4813, Acc=0.3833, F1=0.3655 | Val Loss=1.6727, Acc=0.2600, F1=0.1683\n",
      "Epoch 10: Train Loss=1.4090, Acc=0.4000, F1=0.3790 | Val Loss=1.5487, Acc=0.3400, F1=0.2522\n",
      "Epoch 11: Train Loss=1.4024, Acc=0.4100, F1=0.4059 | Val Loss=1.3810, Acc=0.3800, F1=0.3512\n",
      "Epoch 12: Train Loss=1.3188, Acc=0.4400, F1=0.4366 | Val Loss=1.5824, Acc=0.4200, F1=0.2845\n",
      "Epoch 13: Train Loss=1.3001, Acc=0.4400, F1=0.4293 | Val Loss=1.6626, Acc=0.4600, F1=0.3456\n",
      "Epoch 14: Train Loss=1.1564, Acc=0.5233, F1=0.5089 | Val Loss=2.0621, Acc=0.3400, F1=0.2586\n",
      "Epoch 15: Train Loss=1.2399, Acc=0.5467, F1=0.5428 | Val Loss=1.3911, Acc=0.3600, F1=0.2898\n",
      "Epoch 16: Train Loss=1.1097, Acc=0.5767, F1=0.5621 | Val Loss=1.8173, Acc=0.3000, F1=0.2213\n",
      "Epoch 17: Train Loss=0.9945, Acc=0.6167, F1=0.6153 | Val Loss=2.1021, Acc=0.3000, F1=0.2244\n",
      "Epoch 18: Train Loss=0.8674, Acc=0.7000, F1=0.7005 | Val Loss=1.9817, Acc=0.3600, F1=0.3144\n",
      "Epoch 19: Train Loss=0.7334, Acc=0.7400, F1=0.7377 | Val Loss=2.4535, Acc=0.3400, F1=0.3076\n",
      "Epoch 20: Train Loss=0.7629, Acc=0.7233, F1=0.7243 | Val Loss=2.3454, Acc=0.4200, F1=0.3611\n",
      "Epoch 21: Train Loss=0.7491, Acc=0.7967, F1=0.7965 | Val Loss=2.4391, Acc=0.3400, F1=0.3059\n",
      "Epoch 22: Train Loss=0.5633, Acc=0.8300, F1=0.8321 | Val Loss=4.2612, Acc=0.3000, F1=0.2879\n"
     ]
    },
    {
     "name": "stderr",
     "output_type": "stream",
     "text": [
      "[I 2025-08-16 19:32:31,438] Trial 25 finished with value: 0.46 and parameters: {'nhead': 8, 'num_layers': 3, 'lr': 0.00020301680804382034, 'weight_decay': 1.3919323771901774e-05}. Best is trial 12 with value: 0.54.\n"
     ]
    },
    {
     "name": "stdout",
     "output_type": "stream",
     "text": [
      "Epoch 23: Train Loss=0.4960, Acc=0.8500, F1=0.8493 | Val Loss=3.4879, Acc=0.3600, F1=0.3319\n",
      "Early stopping\n",
      "\n",
      "[trial 26] build loaders...\n"
     ]
    },
    {
     "name": "stderr",
     "output_type": "stream",
     "text": [
      "C:\\ProgramData\\anaconda3\\Lib\\site-packages\\torch\\nn\\modules\\transformer.py:379: UserWarning: enable_nested_tensor is True, but self.use_nested_tensor is False because encoder_layer.self_attn.batch_first was not True(use batch_first for better inference performance)\n",
      "  warnings.warn(\n"
     ]
    },
    {
     "name": "stdout",
     "output_type": "stream",
     "text": [
      "Epoch 01: Train Loss=1.9445, Acc=0.2433, F1=0.2376 | Val Loss=2.1825, Acc=0.2200, F1=0.1227\n",
      "Epoch 02: Train Loss=1.7524, Acc=0.2833, F1=0.2744 | Val Loss=1.7764, Acc=0.2600, F1=0.0825\n",
      "Epoch 03: Train Loss=1.6883, Acc=0.2600, F1=0.2483 | Val Loss=1.8591, Acc=0.2600, F1=0.1317\n",
      "Epoch 04: Train Loss=1.5893, Acc=0.2333, F1=0.2235 | Val Loss=1.8032, Acc=0.1400, F1=0.0774\n",
      "Epoch 05: Train Loss=1.5878, Acc=0.2267, F1=0.2204 | Val Loss=1.9825, Acc=0.1600, F1=0.0922\n",
      "Epoch 06: Train Loss=1.5968, Acc=0.3233, F1=0.3063 | Val Loss=1.5973, Acc=0.2400, F1=0.1340\n",
      "Epoch 07: Train Loss=1.5453, Acc=0.3000, F1=0.2896 | Val Loss=1.5888, Acc=0.3600, F1=0.2473\n",
      "Epoch 08: Train Loss=1.5636, Acc=0.3000, F1=0.2868 | Val Loss=1.5855, Acc=0.3000, F1=0.2016\n",
      "Epoch 09: Train Loss=1.5243, Acc=0.3233, F1=0.3118 | Val Loss=1.6384, Acc=0.4200, F1=0.2882\n",
      "Epoch 10: Train Loss=1.5106, Acc=0.3633, F1=0.3501 | Val Loss=1.6008, Acc=0.2200, F1=0.1767\n",
      "Epoch 11: Train Loss=1.5199, Acc=0.3333, F1=0.3178 | Val Loss=1.6474, Acc=0.3200, F1=0.2327\n",
      "Epoch 12: Train Loss=1.5027, Acc=0.3367, F1=0.3085 | Val Loss=1.5332, Acc=0.3400, F1=0.2106\n",
      "Epoch 13: Train Loss=1.5158, Acc=0.3267, F1=0.3030 | Val Loss=1.6446, Acc=0.3200, F1=0.2343\n",
      "Epoch 14: Train Loss=1.5007, Acc=0.3400, F1=0.3234 | Val Loss=1.6032, Acc=0.2800, F1=0.1890\n",
      "Epoch 15: Train Loss=1.4962, Acc=0.3533, F1=0.3354 | Val Loss=1.5551, Acc=0.2600, F1=0.1363\n",
      "Epoch 16: Train Loss=1.4910, Acc=0.3433, F1=0.3288 | Val Loss=1.6372, Acc=0.2600, F1=0.1672\n",
      "Epoch 17: Train Loss=1.4720, Acc=0.3867, F1=0.3680 | Val Loss=1.5962, Acc=0.2800, F1=0.1765\n",
      "Epoch 18: Train Loss=1.4770, Acc=0.3633, F1=0.3429 | Val Loss=1.6278, Acc=0.2800, F1=0.1762\n",
      "Epoch 19: Train Loss=1.4636, Acc=0.3533, F1=0.3339 | Val Loss=1.5420, Acc=0.4600, F1=0.4098\n",
      "Epoch 20: Train Loss=1.4364, Acc=0.3733, F1=0.3431 | Val Loss=1.5017, Acc=0.3400, F1=0.2752\n",
      "Epoch 21: Train Loss=1.4648, Acc=0.3867, F1=0.3830 | Val Loss=1.5496, Acc=0.3400, F1=0.2444\n",
      "Epoch 22: Train Loss=1.4421, Acc=0.3367, F1=0.3112 | Val Loss=1.6273, Acc=0.4000, F1=0.2767\n",
      "Epoch 23: Train Loss=1.4558, Acc=0.3633, F1=0.3459 | Val Loss=1.4682, Acc=0.3800, F1=0.3320\n",
      "Epoch 24: Train Loss=1.4247, Acc=0.3733, F1=0.3508 | Val Loss=1.6213, Acc=0.3200, F1=0.2416\n",
      "Epoch 25: Train Loss=1.4283, Acc=0.3867, F1=0.3710 | Val Loss=1.6220, Acc=0.3400, F1=0.2713\n",
      "Epoch 26: Train Loss=1.4118, Acc=0.4000, F1=0.3835 | Val Loss=1.5562, Acc=0.4400, F1=0.3527\n",
      "Epoch 27: Train Loss=1.4030, Acc=0.3967, F1=0.3848 | Val Loss=1.7019, Acc=0.2800, F1=0.2382\n",
      "Epoch 28: Train Loss=1.4442, Acc=0.3667, F1=0.3388 | Val Loss=1.5290, Acc=0.3600, F1=0.2787\n",
      "Epoch 29: Train Loss=1.3428, Acc=0.4233, F1=0.3896 | Val Loss=1.5885, Acc=0.4800, F1=0.3838\n",
      "Epoch 30: Train Loss=1.3630, Acc=0.4267, F1=0.4173 | Val Loss=1.5181, Acc=0.3400, F1=0.2559\n",
      "Epoch 31: Train Loss=1.3587, Acc=0.3900, F1=0.3709 | Val Loss=1.5503, Acc=0.4000, F1=0.2971\n",
      "Epoch 32: Train Loss=1.3703, Acc=0.4000, F1=0.3621 | Val Loss=1.5367, Acc=0.4000, F1=0.2976\n",
      "Epoch 33: Train Loss=1.3398, Acc=0.4267, F1=0.3837 | Val Loss=1.4999, Acc=0.5000, F1=0.4393\n",
      "Epoch 34: Train Loss=1.3345, Acc=0.4100, F1=0.3926 | Val Loss=1.6137, Acc=0.3400, F1=0.2607\n",
      "Epoch 35: Train Loss=1.3722, Acc=0.4233, F1=0.4101 | Val Loss=1.6381, Acc=0.2200, F1=0.1867\n",
      "Epoch 36: Train Loss=1.3089, Acc=0.4667, F1=0.4440 | Val Loss=1.6135, Acc=0.3200, F1=0.2747\n",
      "Epoch 37: Train Loss=1.2625, Acc=0.4333, F1=0.3991 | Val Loss=1.5646, Acc=0.4800, F1=0.3614\n",
      "Epoch 38: Train Loss=1.2975, Acc=0.4367, F1=0.4008 | Val Loss=1.7487, Acc=0.4000, F1=0.3252\n",
      "Epoch 39: Train Loss=1.3392, Acc=0.3967, F1=0.3857 | Val Loss=1.5263, Acc=0.4000, F1=0.3383\n"
     ]
    },
    {
     "name": "stderr",
     "output_type": "stream",
     "text": [
      "[I 2025-08-16 19:38:10,290] Trial 26 finished with value: 0.5 and parameters: {'nhead': 8, 'num_layers': 4, 'lr': 0.00015463037622545837, 'weight_decay': 0.00043429459438439495}. Best is trial 12 with value: 0.54.\n"
     ]
    },
    {
     "name": "stdout",
     "output_type": "stream",
     "text": [
      "Epoch 40: Train Loss=1.3038, Acc=0.4100, F1=0.3836 | Val Loss=1.7823, Acc=0.3000, F1=0.2133\n",
      "\n",
      "[trial 27] build loaders...\n"
     ]
    },
    {
     "name": "stderr",
     "output_type": "stream",
     "text": [
      "C:\\ProgramData\\anaconda3\\Lib\\site-packages\\torch\\nn\\modules\\transformer.py:379: UserWarning: enable_nested_tensor is True, but self.use_nested_tensor is False because encoder_layer.self_attn.batch_first was not True(use batch_first for better inference performance)\n",
      "  warnings.warn(\n"
     ]
    },
    {
     "name": "stdout",
     "output_type": "stream",
     "text": [
      "Epoch 01: Train Loss=2.4296, Acc=0.1700, F1=0.1629 | Val Loss=2.0176, Acc=0.2600, F1=0.0825\n",
      "Epoch 02: Train Loss=1.7384, Acc=0.2100, F1=0.1994 | Val Loss=1.7092, Acc=0.2600, F1=0.0825\n",
      "Epoch 03: Train Loss=1.7082, Acc=0.2067, F1=0.2048 | Val Loss=1.7246, Acc=0.2200, F1=0.0721\n",
      "Epoch 04: Train Loss=1.7444, Acc=0.2300, F1=0.2042 | Val Loss=1.6228, Acc=0.2600, F1=0.0825\n",
      "Epoch 05: Train Loss=1.6776, Acc=0.1900, F1=0.1745 | Val Loss=1.7731, Acc=0.2200, F1=0.0721\n",
      "Epoch 06: Train Loss=1.6861, Acc=0.1733, F1=0.1619 | Val Loss=1.5925, Acc=0.3000, F1=0.1512\n",
      "Epoch 07: Train Loss=1.6674, Acc=0.2167, F1=0.2160 | Val Loss=1.6091, Acc=0.2000, F1=0.1116\n",
      "Epoch 08: Train Loss=1.6762, Acc=0.2533, F1=0.2318 | Val Loss=1.7456, Acc=0.2400, F1=0.0857\n",
      "Epoch 09: Train Loss=1.6287, Acc=0.2167, F1=0.2136 | Val Loss=1.6385, Acc=0.3200, F1=0.2300\n",
      "Epoch 10: Train Loss=1.6753, Acc=0.2800, F1=0.2702 | Val Loss=1.5501, Acc=0.2800, F1=0.1504\n",
      "Epoch 11: Train Loss=1.5553, Acc=0.2800, F1=0.2608 | Val Loss=1.6331, Acc=0.2800, F1=0.1676\n",
      "Epoch 12: Train Loss=1.5059, Acc=0.3433, F1=0.3051 | Val Loss=1.5245, Acc=0.2600, F1=0.1396\n",
      "Epoch 13: Train Loss=1.5059, Acc=0.3133, F1=0.2726 | Val Loss=1.6259, Acc=0.2400, F1=0.1384\n",
      "Epoch 14: Train Loss=1.5015, Acc=0.2833, F1=0.2580 | Val Loss=1.5541, Acc=0.2600, F1=0.1644\n",
      "Epoch 15: Train Loss=1.4791, Acc=0.3133, F1=0.2881 | Val Loss=1.6572, Acc=0.2400, F1=0.1296\n",
      "Epoch 16: Train Loss=1.5110, Acc=0.3033, F1=0.2497 | Val Loss=1.5404, Acc=0.3000, F1=0.2118\n",
      "Epoch 17: Train Loss=1.4804, Acc=0.3267, F1=0.3006 | Val Loss=1.5634, Acc=0.3000, F1=0.2355\n",
      "Epoch 18: Train Loss=1.4750, Acc=0.3000, F1=0.2639 | Val Loss=1.7001, Acc=0.1600, F1=0.1229\n"
     ]
    },
    {
     "name": "stderr",
     "output_type": "stream",
     "text": [
      "[I 2025-08-16 19:40:15,790] Trial 27 finished with value: 0.32 and parameters: {'nhead': 8, 'num_layers': 3, 'lr': 0.0007158831801916574, 'weight_decay': 0.00042031838077478696}. Best is trial 12 with value: 0.54.\n"
     ]
    },
    {
     "name": "stdout",
     "output_type": "stream",
     "text": [
      "Epoch 19: Train Loss=1.4768, Acc=0.3100, F1=0.2504 | Val Loss=1.5592, Acc=0.1800, F1=0.1117\n",
      "Early stopping\n",
      "\n",
      "[trial 28] build loaders...\n"
     ]
    },
    {
     "name": "stderr",
     "output_type": "stream",
     "text": [
      "C:\\ProgramData\\anaconda3\\Lib\\site-packages\\torch\\nn\\modules\\transformer.py:379: UserWarning: enable_nested_tensor is True, but self.use_nested_tensor is False because encoder_layer.self_attn.batch_first was not True(use batch_first for better inference performance)\n",
      "  warnings.warn(\n"
     ]
    },
    {
     "name": "stdout",
     "output_type": "stream",
     "text": [
      "Epoch 01: Train Loss=2.0912, Acc=0.2567, F1=0.2498 | Val Loss=1.6954, Acc=0.3000, F1=0.2065\n",
      "Epoch 02: Train Loss=1.6101, Acc=0.3000, F1=0.2939 | Val Loss=1.7520, Acc=0.1400, F1=0.0820\n",
      "Epoch 03: Train Loss=1.6287, Acc=0.2867, F1=0.2742 | Val Loss=1.6715, Acc=0.3000, F1=0.1612\n",
      "Epoch 04: Train Loss=1.6064, Acc=0.3033, F1=0.2938 | Val Loss=1.5689, Acc=0.2600, F1=0.1317\n",
      "Epoch 05: Train Loss=1.5456, Acc=0.3300, F1=0.3227 | Val Loss=1.7115, Acc=0.2600, F1=0.1317\n",
      "Epoch 06: Train Loss=1.5657, Acc=0.3267, F1=0.3065 | Val Loss=1.7152, Acc=0.2800, F1=0.1404\n",
      "Epoch 07: Train Loss=1.5657, Acc=0.3200, F1=0.3140 | Val Loss=1.5722, Acc=0.2800, F1=0.1785\n",
      "Epoch 08: Train Loss=1.5354, Acc=0.3400, F1=0.3172 | Val Loss=1.7209, Acc=0.2600, F1=0.1369\n",
      "Epoch 09: Train Loss=1.5246, Acc=0.3033, F1=0.2693 | Val Loss=1.6175, Acc=0.2200, F1=0.1333\n",
      "Epoch 10: Train Loss=1.5209, Acc=0.3133, F1=0.3007 | Val Loss=1.7212, Acc=0.3200, F1=0.2294\n",
      "Epoch 11: Train Loss=1.5226, Acc=0.2900, F1=0.2769 | Val Loss=1.6601, Acc=0.2400, F1=0.1314\n",
      "Epoch 12: Train Loss=1.5167, Acc=0.3033, F1=0.2820 | Val Loss=1.4759, Acc=0.5200, F1=0.4623\n",
      "Epoch 13: Train Loss=1.5024, Acc=0.3700, F1=0.3636 | Val Loss=1.6693, Acc=0.1800, F1=0.1219\n",
      "Epoch 14: Train Loss=1.5119, Acc=0.3533, F1=0.3173 | Val Loss=1.6257, Acc=0.4000, F1=0.2763\n",
      "Epoch 15: Train Loss=1.4874, Acc=0.3600, F1=0.3222 | Val Loss=1.6170, Acc=0.3000, F1=0.1891\n",
      "Epoch 16: Train Loss=1.5130, Acc=0.3200, F1=0.3053 | Val Loss=1.6471, Acc=0.2600, F1=0.2015\n",
      "Epoch 17: Train Loss=1.4751, Acc=0.3033, F1=0.3018 | Val Loss=1.5552, Acc=0.3000, F1=0.2062\n",
      "Epoch 18: Train Loss=1.4695, Acc=0.3667, F1=0.3321 | Val Loss=1.5460, Acc=0.3400, F1=0.2257\n",
      "Epoch 19: Train Loss=1.4874, Acc=0.3267, F1=0.3176 | Val Loss=1.5182, Acc=0.4200, F1=0.3505\n",
      "Epoch 20: Train Loss=1.4532, Acc=0.3400, F1=0.3283 | Val Loss=1.5057, Acc=0.4000, F1=0.3158\n",
      "Epoch 21: Train Loss=1.4427, Acc=0.3500, F1=0.3209 | Val Loss=1.5656, Acc=0.4600, F1=0.4091\n"
     ]
    },
    {
     "name": "stderr",
     "output_type": "stream",
     "text": [
      "[I 2025-08-16 19:43:22,144] Trial 28 finished with value: 0.52 and parameters: {'nhead': 8, 'num_layers': 4, 'lr': 0.00015747250912443657, 'weight_decay': 0.0005219298077403784}. Best is trial 12 with value: 0.54.\n"
     ]
    },
    {
     "name": "stdout",
     "output_type": "stream",
     "text": [
      "Epoch 22: Train Loss=1.5154, Acc=0.3433, F1=0.3073 | Val Loss=1.5602, Acc=0.3600, F1=0.2574\n",
      "Early stopping\n",
      "\n",
      "[trial 29] build loaders...\n"
     ]
    },
    {
     "name": "stderr",
     "output_type": "stream",
     "text": [
      "C:\\ProgramData\\anaconda3\\Lib\\site-packages\\torch\\nn\\modules\\transformer.py:379: UserWarning: enable_nested_tensor is True, but self.use_nested_tensor is False because encoder_layer.self_attn.batch_first was not True(use batch_first for better inference performance)\n",
      "  warnings.warn(\n"
     ]
    },
    {
     "name": "stdout",
     "output_type": "stream",
     "text": [
      "Epoch 01: Train Loss=2.0246, Acc=0.2300, F1=0.2258 | Val Loss=1.7407, Acc=0.2600, F1=0.0825\n",
      "Epoch 02: Train Loss=1.7715, Acc=0.2467, F1=0.2434 | Val Loss=1.5585, Acc=0.3200, F1=0.1722\n",
      "Epoch 03: Train Loss=1.5959, Acc=0.2567, F1=0.2506 | Val Loss=1.9088, Acc=0.1600, F1=0.0914\n",
      "Epoch 04: Train Loss=1.6169, Acc=0.2633, F1=0.2486 | Val Loss=1.5526, Acc=0.2600, F1=0.0839\n",
      "Epoch 05: Train Loss=1.6684, Acc=0.2833, F1=0.2641 | Val Loss=1.5179, Acc=0.3000, F1=0.1484\n",
      "Epoch 06: Train Loss=1.5801, Acc=0.2833, F1=0.2813 | Val Loss=1.5604, Acc=0.3600, F1=0.2321\n",
      "Epoch 07: Train Loss=1.5905, Acc=0.3067, F1=0.2963 | Val Loss=1.4920, Acc=0.3800, F1=0.2559\n",
      "Epoch 08: Train Loss=1.5802, Acc=0.2900, F1=0.2849 | Val Loss=1.6105, Acc=0.3200, F1=0.2021\n",
      "Epoch 09: Train Loss=1.5285, Acc=0.3100, F1=0.2932 | Val Loss=1.9406, Acc=0.2600, F1=0.1317\n",
      "Epoch 10: Train Loss=1.5454, Acc=0.3133, F1=0.2849 | Val Loss=1.6063, Acc=0.3000, F1=0.1612\n",
      "Epoch 11: Train Loss=1.5239, Acc=0.3300, F1=0.3180 | Val Loss=1.5518, Acc=0.2400, F1=0.1766\n",
      "Epoch 12: Train Loss=1.5147, Acc=0.3367, F1=0.3280 | Val Loss=1.6381, Acc=0.1800, F1=0.1028\n",
      "Epoch 13: Train Loss=1.5689, Acc=0.3267, F1=0.3208 | Val Loss=1.6058, Acc=0.3600, F1=0.2519\n",
      "Epoch 14: Train Loss=1.4792, Acc=0.3467, F1=0.3327 | Val Loss=1.4876, Acc=0.2800, F1=0.2049\n",
      "Epoch 15: Train Loss=1.4740, Acc=0.3367, F1=0.3204 | Val Loss=1.5813, Acc=0.4200, F1=0.3545\n",
      "Epoch 16: Train Loss=1.4810, Acc=0.3333, F1=0.3101 | Val Loss=1.4441, Acc=0.3800, F1=0.2815\n",
      "Epoch 17: Train Loss=1.4815, Acc=0.3200, F1=0.3181 | Val Loss=1.5314, Acc=0.2600, F1=0.1317\n",
      "Epoch 18: Train Loss=1.4727, Acc=0.3267, F1=0.3173 | Val Loss=1.5128, Acc=0.3200, F1=0.2119\n",
      "Epoch 19: Train Loss=1.4484, Acc=0.3500, F1=0.3346 | Val Loss=1.5616, Acc=0.3600, F1=0.2960\n",
      "Epoch 20: Train Loss=1.4662, Acc=0.3433, F1=0.3160 | Val Loss=1.5583, Acc=0.4200, F1=0.3916\n",
      "Epoch 21: Train Loss=1.4644, Acc=0.3367, F1=0.3332 | Val Loss=1.4975, Acc=0.3600, F1=0.3000\n",
      "Epoch 22: Train Loss=1.4429, Acc=0.3933, F1=0.3674 | Val Loss=1.5073, Acc=0.3600, F1=0.3205\n",
      "Epoch 23: Train Loss=1.4670, Acc=0.3333, F1=0.3227 | Val Loss=1.4772, Acc=0.3600, F1=0.3207\n",
      "Epoch 24: Train Loss=1.4498, Acc=0.3567, F1=0.3307 | Val Loss=1.5324, Acc=0.4000, F1=0.3751\n"
     ]
    },
    {
     "name": "stderr",
     "output_type": "stream",
     "text": [
      "[I 2025-08-16 19:46:09,373] Trial 29 finished with value: 0.42 and parameters: {'nhead': 8, 'num_layers': 3, 'lr': 0.00033983273946461924, 'weight_decay': 0.0006449676822578032}. Best is trial 12 with value: 0.54.\n"
     ]
    },
    {
     "name": "stdout",
     "output_type": "stream",
     "text": [
      "Epoch 25: Train Loss=1.4538, Acc=0.3733, F1=0.3428 | Val Loss=1.4689, Acc=0.3000, F1=0.2348\n",
      "Early stopping\n",
      "Best hyper-parameters: {'nhead': 8, 'num_layers': 4, 'lr': 0.00010752174995221688, 'weight_decay': 0.00017350533812756405}\n",
      "Best Val ACC (Optuna): 0.54 | Val F1: 0.43806411453470273\n"
     ]
    },
    {
     "name": "stderr",
     "output_type": "stream",
     "text": [
      "C:\\ProgramData\\anaconda3\\Lib\\site-packages\\torch\\nn\\modules\\transformer.py:379: UserWarning: enable_nested_tensor is True, but self.use_nested_tensor is False because encoder_layer.self_attn.batch_first was not True(use batch_first for better inference performance)\n",
      "  warnings.warn(\n"
     ]
    },
    {
     "name": "stdout",
     "output_type": "stream",
     "text": [
      "Reloaded eval — Train Acc=0.5500, F1=0.5218 | Val Acc=0.5400, F1=0.4381 | ΔACC=0.000000\n",
      "Saved VAL preds → results_final\\video_cls_val_ind.csv\n"
     ]
    },
    {
     "data": {
      "image/png": "[encoded data removed]",
      "text/plain": [
       "<Figure size 650x550 with 2 Axes>"
      ]
     },
     "metadata": {},
     "output_type": "display_data"
    },
    {
     "name": "stdout",
     "output_type": "stream",
     "text": [
      "\n",
      "Classification Report (VAL):\n",
      "               precision    recall  f1-score   support\n",
      "\n",
      "           0     0.5556    0.4545    0.5000        11\n",
      "           1     0.6667    0.7692    0.7143        13\n",
      "           2     0.7143    0.7692    0.7407        13\n",
      "           3     0.0000    0.0000    0.0000         8\n",
      "           4     0.1667    0.4000    0.2353         5\n",
      "\n",
      "    accuracy                         0.5400        50\n",
      "   macro avg     0.4206    0.4786    0.4381        50\n",
      "weighted avg     0.4979    0.5400    0.5118        50\n",
      "\n"
     ]
    },
    {
     "data": {
      "image/png": "[encoded data removed]",
      "text/plain": [
       "<Figure size 750x600 with 1 Axes>"
      ]
     },
     "metadata": {},
     "output_type": "display_data"
    },
    {
     "name": "stdout",
     "output_type": "stream",
     "text": [
      "\n",
      "AUC-ROC (VAL): micro 0.7162 | macro 0.6983\n"
     ]
    }
   ],
   "source": [
    "def read_ids_from_dir(dir_path: str):\n",
    "    return set(os.path.splitext(fn)[0] for fn in os.listdir(dir_path))\n",
    "\n",
    "# Load + encode once\n",
    "df = pd.read_csv(CSV_PATH)\n",
    "\n",
    "# --- Split 1: Person-Independent\n",
    "train_ids_A = read_ids_from_dir(\"Person-Independent_Split/train\")\n",
    "val_ids_A   = read_ids_from_dir(\"Person-Independent_Split/val\")\n",
    "\n",
    "res_A = run_split(\"ind\", train_ids_A, val_ids_A)"
   ]
  },
  {
   "cell_type": "code",
   "execution_count": null,
   "id": "072a80ff-96d3-4db5-a242-5110107b7d93",
   "metadata": {},
   "outputs": [],
   "source": []
  },
  {
   "cell_type": "markdown",
   "id": "d9f8a0dd-f46f-41d0-9483-b1608d158c4a",
   "metadata": {},
   "source": [
    "# Person - Dependent Split"
   ]
  },
  {
   "cell_type": "code",
   "execution_count": 13,
   "id": "f8372d73-0c43-44c2-ba89-ab9e98ae53f7",
   "metadata": {
    "scrolled": true
   },
   "outputs": [
    {
     "name": "stderr",
     "output_type": "stream",
     "text": [
      "[I 2025-08-16 21:38:24,075] A new study created in memory with name: no-name-5d134f02-2b18-49be-b715-12577e53b39b\n"
     ]
    },
    {
     "name": "stdout",
     "output_type": "stream",
     "text": [
      "\n",
      "=== Running CLASSIFICATION split: dep (target: view_range_enc_dep) ===\n",
      "\n",
      "[trial 0] build loaders...\n"
     ]
    },
    {
     "name": "stderr",
     "output_type": "stream",
     "text": [
      "C:\\ProgramData\\anaconda3\\Lib\\site-packages\\torch\\nn\\modules\\transformer.py:379: UserWarning: enable_nested_tensor is True, but self.use_nested_tensor is False because encoder_layer.self_attn.batch_first was not True(use batch_first for better inference performance)\n",
      "  warnings.warn(\n"
     ]
    },
    {
     "name": "stdout",
     "output_type": "stream",
     "text": [
      "Epoch 01: Train Loss=2.4271, Acc=0.1806, F1=0.1804 | Val Loss=1.8844, Acc=0.1961, F1=0.0656\n",
      "Epoch 02: Train Loss=1.8747, Acc=0.2174, F1=0.1845 | Val Loss=1.8339, Acc=0.1961, F1=0.0656\n",
      "Epoch 03: Train Loss=1.8362, Acc=0.1706, F1=0.1631 | Val Loss=1.6408, Acc=0.1961, F1=0.0656\n",
      "Epoch 04: Train Loss=1.7461, Acc=0.1806, F1=0.1748 | Val Loss=1.7657, Acc=0.1961, F1=0.0656\n",
      "Epoch 05: Train Loss=1.6912, Acc=0.1873, F1=0.1827 | Val Loss=1.6825, Acc=0.1961, F1=0.0656\n",
      "Epoch 06: Train Loss=1.6549, Acc=0.1906, F1=0.1826 | Val Loss=1.6556, Acc=0.1961, F1=0.0656\n",
      "Epoch 07: Train Loss=1.6970, Acc=0.1639, F1=0.1618 | Val Loss=1.6524, Acc=0.1961, F1=0.0656\n",
      "Epoch 08: Train Loss=1.6803, Acc=0.1739, F1=0.1480 | Val Loss=1.6271, Acc=0.1961, F1=0.0656\n",
      "Epoch 09: Train Loss=1.6636, Acc=0.1672, F1=0.1544 | Val Loss=1.6211, Acc=0.1961, F1=0.0656\n",
      "Epoch 10: Train Loss=1.6547, Acc=0.1940, F1=0.1606 | Val Loss=1.6612, Acc=0.2157, F1=0.0710\n",
      "Epoch 11: Train Loss=1.6456, Acc=0.2074, F1=0.1932 | Val Loss=1.6364, Acc=0.1961, F1=0.0656\n",
      "Epoch 12: Train Loss=1.6383, Acc=0.1940, F1=0.1799 | Val Loss=1.6269, Acc=0.1961, F1=0.0656\n",
      "Epoch 13: Train Loss=1.6387, Acc=0.1672, F1=0.1439 | Val Loss=1.6232, Acc=0.1961, F1=0.0656\n",
      "Epoch 14: Train Loss=1.6352, Acc=0.1773, F1=0.1627 | Val Loss=1.6213, Acc=0.1961, F1=0.0656\n",
      "Epoch 15: Train Loss=1.6483, Acc=0.2007, F1=0.1977 | Val Loss=1.6202, Acc=0.1961, F1=0.0656\n",
      "Epoch 16: Train Loss=1.6292, Acc=0.2040, F1=0.1843 | Val Loss=1.6140, Acc=0.1961, F1=0.0656\n",
      "Epoch 17: Train Loss=1.6180, Acc=0.1806, F1=0.1497 | Val Loss=1.6333, Acc=0.1961, F1=0.0656\n",
      "Epoch 18: Train Loss=1.6371, Acc=0.1873, F1=0.1778 | Val Loss=1.6845, Acc=0.1961, F1=0.0656\n",
      "Epoch 19: Train Loss=1.6442, Acc=0.2107, F1=0.1868 | Val Loss=1.6131, Acc=0.1961, F1=0.0656\n"
     ]
    },
    {
     "name": "stderr",
     "output_type": "stream",
     "text": [
      "[I 2025-08-16 21:41:10,428] Trial 0 finished with value: 0.21568627450980393 and parameters: {'nhead': 8, 'num_layers': 3, 'lr': 0.0015751320499779737, 'weight_decay': 2.9380279387035354e-06}. Best is trial 0 with value: 0.21568627450980393.\n"
     ]
    },
    {
     "name": "stdout",
     "output_type": "stream",
     "text": [
      "Epoch 20: Train Loss=1.6328, Acc=0.2007, F1=0.1767 | Val Loss=1.6648, Acc=0.1961, F1=0.0656\n",
      "Early stopping\n",
      "\n",
      "[trial 1] build loaders...\n"
     ]
    },
    {
     "name": "stderr",
     "output_type": "stream",
     "text": [
      "C:\\ProgramData\\anaconda3\\Lib\\site-packages\\torch\\nn\\modules\\transformer.py:379: UserWarning: enable_nested_tensor is True, but self.use_nested_tensor is False because encoder_layer.self_attn.batch_first was not True(use batch_first for better inference performance)\n",
      "  warnings.warn(\n"
     ]
    },
    {
     "name": "stdout",
     "output_type": "stream",
     "text": [
      "Epoch 01: Train Loss=2.3415, Acc=0.2441, F1=0.2410 | Val Loss=1.9023, Acc=0.1961, F1=0.0656\n",
      "Epoch 02: Train Loss=1.8181, Acc=0.2174, F1=0.2066 | Val Loss=2.0777, Acc=0.1961, F1=0.0656\n",
      "Epoch 03: Train Loss=1.7609, Acc=0.2107, F1=0.1993 | Val Loss=1.6289, Acc=0.1961, F1=0.0656\n",
      "Epoch 04: Train Loss=1.7185, Acc=0.2040, F1=0.2039 | Val Loss=1.7843, Acc=0.1961, F1=0.0656\n",
      "Epoch 05: Train Loss=1.7011, Acc=0.1773, F1=0.1684 | Val Loss=1.6701, Acc=0.1961, F1=0.0656\n",
      "Epoch 06: Train Loss=1.6657, Acc=0.2107, F1=0.2084 | Val Loss=1.9073, Acc=0.1961, F1=0.0656\n",
      "Epoch 07: Train Loss=1.7334, Acc=0.1237, F1=0.1211 | Val Loss=1.6346, Acc=0.1961, F1=0.0656\n",
      "Epoch 08: Train Loss=1.6626, Acc=0.1906, F1=0.1770 | Val Loss=1.6351, Acc=0.1961, F1=0.0656\n",
      "Epoch 09: Train Loss=1.6464, Acc=0.2375, F1=0.2350 | Val Loss=1.7436, Acc=0.1961, F1=0.0656\n",
      "Epoch 10: Train Loss=1.7059, Acc=0.1906, F1=0.1842 | Val Loss=1.6107, Acc=0.1961, F1=0.0656\n"
     ]
    },
    {
     "name": "stderr",
     "output_type": "stream",
     "text": [
      "[I 2025-08-16 21:43:07,544] Trial 1 finished with value: 0.19607843137254902 and parameters: {'nhead': 4, 'num_layers': 4, 'lr': 0.0015930522616241021, 'weight_decay': 0.000133112160807369}. Best is trial 0 with value: 0.21568627450980393.\n"
     ]
    },
    {
     "name": "stdout",
     "output_type": "stream",
     "text": [
      "Epoch 11: Train Loss=1.6379, Acc=0.1773, F1=0.1654 | Val Loss=1.6204, Acc=0.1961, F1=0.0656\n",
      "Early stopping\n",
      "\n",
      "[trial 2] build loaders...\n"
     ]
    },
    {
     "name": "stderr",
     "output_type": "stream",
     "text": [
      "C:\\ProgramData\\anaconda3\\Lib\\site-packages\\torch\\nn\\modules\\transformer.py:379: UserWarning: enable_nested_tensor is True, but self.use_nested_tensor is False because encoder_layer.self_attn.batch_first was not True(use batch_first for better inference performance)\n",
      "  warnings.warn(\n"
     ]
    },
    {
     "name": "stdout",
     "output_type": "stream",
     "text": [
      "Epoch 01: Train Loss=2.0099, Acc=0.2207, F1=0.2173 | Val Loss=1.6026, Acc=0.2745, F1=0.1595\n",
      "Epoch 02: Train Loss=1.6308, Acc=0.2508, F1=0.2421 | Val Loss=1.6246, Acc=0.1961, F1=0.0656\n",
      "Epoch 03: Train Loss=1.7323, Acc=0.2274, F1=0.2237 | Val Loss=1.5924, Acc=0.2549, F1=0.1474\n",
      "Epoch 04: Train Loss=1.6798, Acc=0.2642, F1=0.2629 | Val Loss=1.7753, Acc=0.2549, F1=0.1521\n",
      "Epoch 05: Train Loss=1.5858, Acc=0.2709, F1=0.2500 | Val Loss=1.6437, Acc=0.2549, F1=0.1387\n",
      "Epoch 06: Train Loss=1.5429, Acc=0.2943, F1=0.2857 | Val Loss=1.5321, Acc=0.2549, F1=0.1689\n",
      "Epoch 07: Train Loss=1.5359, Acc=0.3010, F1=0.2663 | Val Loss=1.5748, Acc=0.3137, F1=0.1843\n",
      "Epoch 08: Train Loss=1.5624, Acc=0.2475, F1=0.2391 | Val Loss=1.6544, Acc=0.1961, F1=0.0656\n",
      "Epoch 09: Train Loss=1.6683, Acc=0.2140, F1=0.1690 | Val Loss=1.6320, Acc=0.2157, F1=0.0710\n",
      "Epoch 10: Train Loss=1.7442, Acc=0.1706, F1=0.1464 | Val Loss=1.6879, Acc=0.1961, F1=0.0656\n",
      "Epoch 11: Train Loss=1.6548, Acc=0.1940, F1=0.1633 | Val Loss=1.6289, Acc=0.1961, F1=0.0656\n",
      "Epoch 12: Train Loss=1.6467, Acc=0.2007, F1=0.1728 | Val Loss=1.6604, Acc=0.1961, F1=0.0656\n",
      "Epoch 13: Train Loss=1.6497, Acc=0.2040, F1=0.1779 | Val Loss=1.6137, Acc=0.1961, F1=0.0656\n",
      "Epoch 14: Train Loss=1.6383, Acc=0.1806, F1=0.1419 | Val Loss=1.6287, Acc=0.1961, F1=0.0656\n",
      "Epoch 15: Train Loss=1.6609, Acc=0.1371, F1=0.1235 | Val Loss=1.6378, Acc=0.2157, F1=0.0710\n",
      "Epoch 16: Train Loss=1.6375, Acc=0.1739, F1=0.1514 | Val Loss=1.6617, Acc=0.1961, F1=0.0656\n"
     ]
    },
    {
     "name": "stderr",
     "output_type": "stream",
     "text": [
      "[I 2025-08-16 21:46:08,396] Trial 2 finished with value: 0.3137254901960784 and parameters: {'nhead': 8, 'num_layers': 4, 'lr': 0.00026587543983272726, 'weight_decay': 3.5113563139704077e-06}. Best is trial 2 with value: 0.3137254901960784.\n"
     ]
    },
    {
     "name": "stdout",
     "output_type": "stream",
     "text": [
      "Epoch 17: Train Loss=1.6444, Acc=0.2107, F1=0.1576 | Val Loss=1.6215, Acc=0.1961, F1=0.0656\n",
      "Early stopping\n",
      "\n",
      "[trial 3] build loaders...\n"
     ]
    },
    {
     "name": "stderr",
     "output_type": "stream",
     "text": [
      "C:\\ProgramData\\anaconda3\\Lib\\site-packages\\torch\\nn\\modules\\transformer.py:379: UserWarning: enable_nested_tensor is True, but self.use_nested_tensor is False because encoder_layer.self_attn.batch_first was not True(use batch_first for better inference performance)\n",
      "  warnings.warn(\n"
     ]
    },
    {
     "name": "stdout",
     "output_type": "stream",
     "text": [
      "Epoch 01: Train Loss=2.1971, Acc=0.2040, F1=0.1915 | Val Loss=1.6750, Acc=0.1961, F1=0.0656\n",
      "Epoch 02: Train Loss=1.8081, Acc=0.1839, F1=0.1652 | Val Loss=1.6350, Acc=0.1961, F1=0.0656\n",
      "Epoch 03: Train Loss=1.6856, Acc=0.2140, F1=0.1996 | Val Loss=1.8026, Acc=0.1961, F1=0.0656\n",
      "Epoch 04: Train Loss=1.7214, Acc=0.2207, F1=0.2136 | Val Loss=1.7008, Acc=0.1961, F1=0.0656\n",
      "Epoch 05: Train Loss=1.7098, Acc=0.2207, F1=0.2104 | Val Loss=1.7102, Acc=0.1961, F1=0.0656\n",
      "Epoch 06: Train Loss=1.6825, Acc=0.2207, F1=0.1945 | Val Loss=1.8316, Acc=0.1961, F1=0.0656\n",
      "Epoch 07: Train Loss=1.6823, Acc=0.1873, F1=0.1817 | Val Loss=1.6275, Acc=0.1961, F1=0.0656\n",
      "Epoch 08: Train Loss=1.6793, Acc=0.1906, F1=0.1819 | Val Loss=1.6479, Acc=0.1961, F1=0.0656\n",
      "Epoch 09: Train Loss=1.6452, Acc=0.2040, F1=0.1848 | Val Loss=1.6608, Acc=0.1961, F1=0.0656\n",
      "Epoch 10: Train Loss=1.6642, Acc=0.2174, F1=0.2098 | Val Loss=1.6350, Acc=0.1961, F1=0.0656\n"
     ]
    },
    {
     "name": "stderr",
     "output_type": "stream",
     "text": [
      "[I 2025-08-16 21:47:41,465] Trial 3 finished with value: 0.19607843137254902 and parameters: {'nhead': 8, 'num_layers': 3, 'lr': 0.0007309539835912913, 'weight_decay': 7.4763120622522945e-06}. Best is trial 2 with value: 0.3137254901960784.\n"
     ]
    },
    {
     "name": "stdout",
     "output_type": "stream",
     "text": [
      "Epoch 11: Train Loss=1.6578, Acc=0.1706, F1=0.1554 | Val Loss=1.6730, Acc=0.1961, F1=0.0656\n",
      "Early stopping\n",
      "\n",
      "[trial 4] build loaders...\n"
     ]
    },
    {
     "name": "stderr",
     "output_type": "stream",
     "text": [
      "C:\\ProgramData\\anaconda3\\Lib\\site-packages\\torch\\nn\\modules\\transformer.py:379: UserWarning: enable_nested_tensor is True, but self.use_nested_tensor is False because encoder_layer.self_attn.batch_first was not True(use batch_first for better inference performance)\n",
      "  warnings.warn(\n"
     ]
    },
    {
     "name": "stdout",
     "output_type": "stream",
     "text": [
      "Epoch 01: Train Loss=2.1925, Acc=0.2308, F1=0.2284 | Val Loss=1.9674, Acc=0.2941, F1=0.1651\n",
      "Epoch 02: Train Loss=1.6603, Acc=0.3077, F1=0.3062 | Val Loss=1.5903, Acc=0.3137, F1=0.1787\n",
      "Epoch 03: Train Loss=1.6517, Acc=0.2508, F1=0.2266 | Val Loss=1.6577, Acc=0.2157, F1=0.1011\n",
      "Epoch 04: Train Loss=1.6951, Acc=0.2742, F1=0.2703 | Val Loss=1.6957, Acc=0.2157, F1=0.0994\n",
      "Epoch 05: Train Loss=1.6069, Acc=0.2609, F1=0.2630 | Val Loss=1.5963, Acc=0.3137, F1=0.1851\n",
      "Epoch 06: Train Loss=1.5498, Acc=0.2977, F1=0.2779 | Val Loss=1.6967, Acc=0.2549, F1=0.1812\n",
      "Epoch 07: Train Loss=1.5773, Acc=0.2977, F1=0.2908 | Val Loss=1.5566, Acc=0.2745, F1=0.1665\n",
      "Epoch 08: Train Loss=1.4926, Acc=0.3244, F1=0.3223 | Val Loss=1.4973, Acc=0.3333, F1=0.2349\n",
      "Epoch 09: Train Loss=1.4419, Acc=0.2876, F1=0.2714 | Val Loss=1.5474, Acc=0.3137, F1=0.1818\n",
      "Epoch 10: Train Loss=1.5051, Acc=0.2776, F1=0.2676 | Val Loss=1.5450, Acc=0.2941, F1=0.1826\n",
      "Epoch 11: Train Loss=1.4406, Acc=0.3512, F1=0.3301 | Val Loss=1.6305, Acc=0.3137, F1=0.2267\n",
      "Epoch 12: Train Loss=1.4964, Acc=0.3110, F1=0.3138 | Val Loss=1.5051, Acc=0.2941, F1=0.2375\n",
      "Epoch 13: Train Loss=1.5394, Acc=0.3077, F1=0.2968 | Val Loss=1.5953, Acc=0.1961, F1=0.1432\n",
      "Epoch 14: Train Loss=1.4859, Acc=0.3043, F1=0.2665 | Val Loss=1.4846, Acc=0.2941, F1=0.1703\n",
      "Epoch 15: Train Loss=1.5047, Acc=0.2742, F1=0.2683 | Val Loss=1.5095, Acc=0.3137, F1=0.2543\n",
      "Epoch 16: Train Loss=1.4624, Acc=0.2876, F1=0.2537 | Val Loss=1.4481, Acc=0.3137, F1=0.2316\n",
      "Epoch 17: Train Loss=1.4615, Acc=0.3177, F1=0.3103 | Val Loss=1.4869, Acc=0.2941, F1=0.1665\n"
     ]
    },
    {
     "name": "stderr",
     "output_type": "stream",
     "text": [
      "[I 2025-08-16 21:49:24,109] Trial 4 finished with value: 0.3333333333333333 and parameters: {'nhead': 4, 'num_layers': 2, 'lr': 0.0005404103854647331, 'weight_decay': 2.334586407601622e-05}. Best is trial 4 with value: 0.3333333333333333.\n"
     ]
    },
    {
     "name": "stdout",
     "output_type": "stream",
     "text": [
      "Epoch 18: Train Loss=1.5159, Acc=0.3077, F1=0.3043 | Val Loss=1.4966, Acc=0.2941, F1=0.2047\n",
      "Early stopping\n",
      "\n",
      "[trial 5] build loaders...\n"
     ]
    },
    {
     "name": "stderr",
     "output_type": "stream",
     "text": [
      "C:\\ProgramData\\anaconda3\\Lib\\site-packages\\torch\\nn\\modules\\transformer.py:379: UserWarning: enable_nested_tensor is True, but self.use_nested_tensor is False because encoder_layer.self_attn.batch_first was not True(use batch_first for better inference performance)\n",
      "  warnings.warn(\n"
     ]
    },
    {
     "name": "stdout",
     "output_type": "stream",
     "text": [
      "Epoch 01: Train Loss=2.5144, Acc=0.1773, F1=0.1648 | Val Loss=1.7401, Acc=0.2157, F1=0.0710\n",
      "Epoch 02: Train Loss=1.7592, Acc=0.1873, F1=0.1736 | Val Loss=1.7326, Acc=0.2157, F1=0.0710\n",
      "Epoch 03: Train Loss=1.7494, Acc=0.2140, F1=0.2079 | Val Loss=1.7608, Acc=0.1961, F1=0.0656\n",
      "Epoch 04: Train Loss=1.7576, Acc=0.1706, F1=0.1641 | Val Loss=1.8437, Acc=0.1961, F1=0.0656\n",
      "Epoch 05: Train Loss=1.7170, Acc=0.2140, F1=0.2089 | Val Loss=1.6452, Acc=0.1961, F1=0.0656\n",
      "Epoch 06: Train Loss=1.6686, Acc=0.1706, F1=0.1496 | Val Loss=1.6399, Acc=0.1961, F1=0.0656\n",
      "Epoch 07: Train Loss=1.6717, Acc=0.1873, F1=0.1801 | Val Loss=1.6733, Acc=0.1961, F1=0.0656\n",
      "Epoch 08: Train Loss=1.6750, Acc=0.1773, F1=0.1418 | Val Loss=1.6327, Acc=0.1961, F1=0.0656\n",
      "Epoch 09: Train Loss=1.6529, Acc=0.1672, F1=0.1420 | Val Loss=1.7025, Acc=0.2157, F1=0.0710\n",
      "Epoch 10: Train Loss=1.6732, Acc=0.1405, F1=0.1355 | Val Loss=1.6263, Acc=0.1961, F1=0.0656\n"
     ]
    },
    {
     "name": "stderr",
     "output_type": "stream",
     "text": [
      "[I 2025-08-16 21:50:33,382] Trial 5 finished with value: 0.21568627450980393 and parameters: {'nhead': 4, 'num_layers': 3, 'lr': 0.0015304852121831463, 'weight_decay': 1.3783237455007196e-06}. Best is trial 4 with value: 0.3333333333333333.\n"
     ]
    },
    {
     "name": "stdout",
     "output_type": "stream",
     "text": [
      "Epoch 11: Train Loss=1.6687, Acc=0.1839, F1=0.1644 | Val Loss=1.6420, Acc=0.1961, F1=0.0656\n",
      "Early stopping\n",
      "\n",
      "[trial 6] build loaders...\n"
     ]
    },
    {
     "name": "stderr",
     "output_type": "stream",
     "text": [
      "C:\\ProgramData\\anaconda3\\Lib\\site-packages\\torch\\nn\\modules\\transformer.py:379: UserWarning: enable_nested_tensor is True, but self.use_nested_tensor is False because encoder_layer.self_attn.batch_first was not True(use batch_first for better inference performance)\n",
      "  warnings.warn(\n"
     ]
    },
    {
     "name": "stdout",
     "output_type": "stream",
     "text": [
      "Epoch 01: Train Loss=3.5388, Acc=0.1572, F1=0.1576 | Val Loss=1.8741, Acc=0.1961, F1=0.0656\n",
      "Epoch 02: Train Loss=1.8679, Acc=0.2007, F1=0.1978 | Val Loss=1.6471, Acc=0.1961, F1=0.0656\n",
      "Epoch 03: Train Loss=1.6613, Acc=0.2007, F1=0.1897 | Val Loss=1.6339, Acc=0.1961, F1=0.0656\n",
      "Epoch 04: Train Loss=1.6916, Acc=0.2241, F1=0.2255 | Val Loss=1.7563, Acc=0.2157, F1=0.0710\n",
      "Epoch 05: Train Loss=1.6060, Acc=0.2575, F1=0.2444 | Val Loss=1.6121, Acc=0.2941, F1=0.1750\n",
      "Epoch 06: Train Loss=1.5658, Acc=0.2676, F1=0.2433 | Val Loss=1.4996, Acc=0.2941, F1=0.1706\n",
      "Epoch 07: Train Loss=1.5922, Acc=0.2408, F1=0.2381 | Val Loss=1.6388, Acc=0.1961, F1=0.0656\n",
      "Epoch 08: Train Loss=1.7116, Acc=0.1973, F1=0.1862 | Val Loss=1.7282, Acc=0.1765, F1=0.0935\n",
      "Epoch 09: Train Loss=1.6502, Acc=0.2475, F1=0.2409 | Val Loss=2.0057, Acc=0.2353, F1=0.1181\n",
      "Epoch 10: Train Loss=1.6668, Acc=0.2441, F1=0.2373 | Val Loss=1.6308, Acc=0.1765, F1=0.0832\n",
      "Epoch 11: Train Loss=1.6279, Acc=0.2709, F1=0.2476 | Val Loss=1.6551, Acc=0.1961, F1=0.0656\n",
      "Epoch 12: Train Loss=1.6686, Acc=0.2007, F1=0.1992 | Val Loss=1.5650, Acc=0.2353, F1=0.1363\n",
      "Epoch 13: Train Loss=1.5920, Acc=0.2375, F1=0.2112 | Val Loss=1.5941, Acc=0.2353, F1=0.1481\n",
      "Epoch 14: Train Loss=1.5692, Acc=0.2542, F1=0.2065 | Val Loss=1.5871, Acc=0.2941, F1=0.2249\n"
     ]
    },
    {
     "name": "stderr",
     "output_type": "stream",
     "text": [
      "[I 2025-08-16 21:51:10,594] Trial 6 finished with value: 0.29411764705882354 and parameters: {'nhead': 4, 'num_layers': 1, 'lr': 0.007902619549708232, 'weight_decay': 0.0007886714129990489}. Best is trial 4 with value: 0.3333333333333333.\n"
     ]
    },
    {
     "name": "stdout",
     "output_type": "stream",
     "text": [
      "Epoch 15: Train Loss=1.5998, Acc=0.2542, F1=0.2404 | Val Loss=1.6214, Acc=0.2157, F1=0.1035\n",
      "Early stopping\n",
      "\n",
      "[trial 7] build loaders...\n"
     ]
    },
    {
     "name": "stderr",
     "output_type": "stream",
     "text": [
      "C:\\ProgramData\\anaconda3\\Lib\\site-packages\\torch\\nn\\modules\\transformer.py:379: UserWarning: enable_nested_tensor is True, but self.use_nested_tensor is False because encoder_layer.self_attn.batch_first was not True(use batch_first for better inference performance)\n",
      "  warnings.warn(\n"
     ]
    },
    {
     "name": "stdout",
     "output_type": "stream",
     "text": [
      "Epoch 01: Train Loss=2.5197, Acc=0.2508, F1=0.2491 | Val Loss=2.1059, Acc=0.3137, F1=0.2227\n",
      "Epoch 02: Train Loss=1.7330, Acc=0.2776, F1=0.2734 | Val Loss=1.5618, Acc=0.2745, F1=0.1548\n",
      "Epoch 03: Train Loss=1.6322, Acc=0.2843, F1=0.2803 | Val Loss=1.5329, Acc=0.2941, F1=0.1689\n",
      "Epoch 04: Train Loss=1.6407, Acc=0.2977, F1=0.2961 | Val Loss=1.7938, Acc=0.3137, F1=0.1812\n",
      "Epoch 05: Train Loss=1.6377, Acc=0.2742, F1=0.2522 | Val Loss=1.7235, Acc=0.2549, F1=0.1910\n",
      "Epoch 06: Train Loss=1.6088, Acc=0.2642, F1=0.2633 | Val Loss=1.6038, Acc=0.2353, F1=0.1211\n",
      "Epoch 07: Train Loss=1.5832, Acc=0.2977, F1=0.2793 | Val Loss=1.5389, Acc=0.2745, F1=0.1551\n",
      "Epoch 08: Train Loss=1.5489, Acc=0.2776, F1=0.2595 | Val Loss=1.5409, Acc=0.2745, F1=0.1629\n",
      "Epoch 09: Train Loss=1.5080, Acc=0.2843, F1=0.2769 | Val Loss=1.5884, Acc=0.2941, F1=0.1757\n",
      "Epoch 10: Train Loss=1.4593, Acc=0.3177, F1=0.2916 | Val Loss=1.5645, Acc=0.2353, F1=0.1704\n"
     ]
    },
    {
     "name": "stderr",
     "output_type": "stream",
     "text": [
      "[I 2025-08-16 21:51:37,818] Trial 7 finished with value: 0.3137254901960784 and parameters: {'nhead': 4, 'num_layers': 1, 'lr': 0.0023359635026261607, 'weight_decay': 2.091498132903561e-05}. Best is trial 4 with value: 0.3333333333333333.\n"
     ]
    },
    {
     "name": "stdout",
     "output_type": "stream",
     "text": [
      "Epoch 11: Train Loss=1.4237, Acc=0.3378, F1=0.2978 | Val Loss=1.5376, Acc=0.2941, F1=0.2282\n",
      "Early stopping\n",
      "\n",
      "[trial 8] build loaders...\n"
     ]
    },
    {
     "name": "stderr",
     "output_type": "stream",
     "text": [
      "C:\\ProgramData\\anaconda3\\Lib\\site-packages\\torch\\nn\\modules\\transformer.py:379: UserWarning: enable_nested_tensor is True, but self.use_nested_tensor is False because encoder_layer.self_attn.batch_first was not True(use batch_first for better inference performance)\n",
      "  warnings.warn(\n"
     ]
    },
    {
     "name": "stdout",
     "output_type": "stream",
     "text": [
      "Epoch 01: Train Loss=2.6662, Acc=0.1906, F1=0.1882 | Val Loss=2.0698, Acc=0.1961, F1=0.0656\n",
      "Epoch 02: Train Loss=2.0916, Acc=0.1839, F1=0.1852 | Val Loss=1.8124, Acc=0.1961, F1=0.0656\n",
      "Epoch 03: Train Loss=1.7136, Acc=0.2040, F1=0.2001 | Val Loss=1.6900, Acc=0.2941, F1=0.2186\n",
      "Epoch 04: Train Loss=1.5651, Acc=0.2876, F1=0.2815 | Val Loss=1.5198, Acc=0.3137, F1=0.2415\n",
      "Epoch 05: Train Loss=1.5816, Acc=0.3010, F1=0.2999 | Val Loss=1.5264, Acc=0.3333, F1=0.2529\n",
      "Epoch 06: Train Loss=1.5229, Acc=0.3077, F1=0.2946 | Val Loss=1.7012, Acc=0.2157, F1=0.1238\n",
      "Epoch 07: Train Loss=1.4804, Acc=0.3110, F1=0.3057 | Val Loss=1.6970, Acc=0.2549, F1=0.1898\n",
      "Epoch 08: Train Loss=1.4921, Acc=0.2843, F1=0.2828 | Val Loss=1.5273, Acc=0.2745, F1=0.2224\n",
      "Epoch 09: Train Loss=1.4347, Acc=0.3344, F1=0.2974 | Val Loss=1.7198, Acc=0.2353, F1=0.2052\n",
      "Epoch 10: Train Loss=1.4035, Acc=0.3244, F1=0.3047 | Val Loss=1.5962, Acc=0.2353, F1=0.1713\n",
      "Epoch 11: Train Loss=1.3684, Acc=0.3612, F1=0.3421 | Val Loss=1.9481, Acc=0.2157, F1=0.1434\n",
      "Epoch 12: Train Loss=1.4001, Acc=0.3244, F1=0.2561 | Val Loss=1.7084, Acc=0.2549, F1=0.1636\n",
      "Epoch 13: Train Loss=1.3464, Acc=0.3712, F1=0.3553 | Val Loss=1.7791, Acc=0.2745, F1=0.2050\n",
      "Epoch 14: Train Loss=1.3146, Acc=0.3177, F1=0.2925 | Val Loss=2.1422, Acc=0.2157, F1=0.1597\n"
     ]
    },
    {
     "name": "stderr",
     "output_type": "stream",
     "text": [
      "[I 2025-08-16 21:52:16,145] Trial 8 finished with value: 0.3333333333333333 and parameters: {'nhead': 8, 'num_layers': 1, 'lr': 0.006586289317583112, 'weight_decay': 5.975027999960295e-06}. Best is trial 4 with value: 0.3333333333333333.\n"
     ]
    },
    {
     "name": "stdout",
     "output_type": "stream",
     "text": [
      "Epoch 15: Train Loss=1.2843, Acc=0.3645, F1=0.3615 | Val Loss=2.1676, Acc=0.1373, F1=0.0890\n",
      "Early stopping\n",
      "\n",
      "[trial 9] build loaders...\n"
     ]
    },
    {
     "name": "stderr",
     "output_type": "stream",
     "text": [
      "C:\\ProgramData\\anaconda3\\Lib\\site-packages\\torch\\nn\\modules\\transformer.py:379: UserWarning: enable_nested_tensor is True, but self.use_nested_tensor is False because encoder_layer.self_attn.batch_first was not True(use batch_first for better inference performance)\n",
      "  warnings.warn(\n"
     ]
    },
    {
     "name": "stdout",
     "output_type": "stream",
     "text": [
      "Epoch 01: Train Loss=2.4651, Acc=0.1873, F1=0.1838 | Val Loss=1.8937, Acc=0.2157, F1=0.0710\n",
      "Epoch 02: Train Loss=1.7356, Acc=0.2140, F1=0.2072 | Val Loss=1.6394, Acc=0.1961, F1=0.0656\n",
      "Epoch 03: Train Loss=1.7081, Acc=0.1906, F1=0.1854 | Val Loss=1.7558, Acc=0.1961, F1=0.0656\n",
      "Epoch 04: Train Loss=1.7241, Acc=0.1572, F1=0.1491 | Val Loss=1.7099, Acc=0.1961, F1=0.0656\n",
      "Epoch 05: Train Loss=1.7062, Acc=0.1505, F1=0.1500 | Val Loss=1.7009, Acc=0.2157, F1=0.0710\n",
      "Epoch 06: Train Loss=1.7008, Acc=0.1639, F1=0.1533 | Val Loss=1.6405, Acc=0.1961, F1=0.0656\n",
      "Epoch 07: Train Loss=1.6901, Acc=0.1739, F1=0.1564 | Val Loss=1.6261, Acc=0.1961, F1=0.0656\n",
      "Epoch 08: Train Loss=1.6729, Acc=0.1873, F1=0.1738 | Val Loss=1.6310, Acc=0.1961, F1=0.0656\n",
      "Epoch 09: Train Loss=1.6624, Acc=0.2140, F1=0.2106 | Val Loss=1.6382, Acc=0.1961, F1=0.0656\n",
      "Epoch 10: Train Loss=1.6809, Acc=0.1739, F1=0.1412 | Val Loss=1.6294, Acc=0.1961, F1=0.0656\n"
     ]
    },
    {
     "name": "stderr",
     "output_type": "stream",
     "text": [
      "[I 2025-08-16 21:53:22,284] Trial 9 finished with value: 0.21568627450980393 and parameters: {'nhead': 4, 'num_layers': 3, 'lr': 0.0012399967836846098, 'weight_decay': 3.5856126103453987e-06}. Best is trial 4 with value: 0.3333333333333333.\n"
     ]
    },
    {
     "name": "stdout",
     "output_type": "stream",
     "text": [
      "Epoch 11: Train Loss=1.6486, Acc=0.2174, F1=0.1760 | Val Loss=1.6308, Acc=0.1961, F1=0.0656\n",
      "Early stopping\n",
      "\n",
      "[trial 10] build loaders...\n"
     ]
    },
    {
     "name": "stderr",
     "output_type": "stream",
     "text": [
      "C:\\ProgramData\\anaconda3\\Lib\\site-packages\\torch\\nn\\modules\\transformer.py:379: UserWarning: enable_nested_tensor is True, but self.use_nested_tensor is False because encoder_layer.self_attn.batch_first was not True(use batch_first for better inference performance)\n",
      "  warnings.warn(\n"
     ]
    },
    {
     "name": "stdout",
     "output_type": "stream",
     "text": [
      "Epoch 01: Train Loss=1.7603, Acc=0.2542, F1=0.2527 | Val Loss=1.7236, Acc=0.2745, F1=0.1629\n",
      "Epoch 02: Train Loss=1.5559, Acc=0.3311, F1=0.3308 | Val Loss=1.5547, Acc=0.2549, F1=0.1984\n",
      "Epoch 03: Train Loss=1.5620, Acc=0.3344, F1=0.3304 | Val Loss=1.4909, Acc=0.3333, F1=0.3001\n",
      "Epoch 04: Train Loss=1.4985, Acc=0.3378, F1=0.3336 | Val Loss=1.4423, Acc=0.3725, F1=0.3758\n",
      "Epoch 05: Train Loss=1.4244, Acc=0.3612, F1=0.3608 | Val Loss=1.8217, Acc=0.3725, F1=0.2770\n",
      "Epoch 06: Train Loss=1.4733, Acc=0.4348, F1=0.4340 | Val Loss=1.4802, Acc=0.3725, F1=0.3311\n",
      "Epoch 07: Train Loss=1.3749, Acc=0.4080, F1=0.4087 | Val Loss=1.4811, Acc=0.3333, F1=0.2908\n",
      "Epoch 08: Train Loss=1.3149, Acc=0.4582, F1=0.4516 | Val Loss=1.4956, Acc=0.2549, F1=0.2161\n",
      "Epoch 09: Train Loss=1.2803, Acc=0.4716, F1=0.4640 | Val Loss=1.3704, Acc=0.4314, F1=0.4231\n",
      "Epoch 10: Train Loss=1.2330, Acc=0.5385, F1=0.5338 | Val Loss=1.4760, Acc=0.2941, F1=0.2883\n",
      "Epoch 11: Train Loss=1.1160, Acc=0.5652, F1=0.5646 | Val Loss=1.6726, Acc=0.3529, F1=0.3587\n",
      "Epoch 12: Train Loss=1.0510, Acc=0.5518, F1=0.5484 | Val Loss=1.4121, Acc=0.4706, F1=0.4482\n",
      "Epoch 13: Train Loss=0.9058, Acc=0.6555, F1=0.6516 | Val Loss=1.7503, Acc=0.3922, F1=0.3976\n",
      "Epoch 14: Train Loss=0.7948, Acc=0.7258, F1=0.7255 | Val Loss=1.7841, Acc=0.4902, F1=0.4480\n",
      "Epoch 15: Train Loss=0.7419, Acc=0.7124, F1=0.7126 | Val Loss=1.9333, Acc=0.4510, F1=0.4567\n",
      "Epoch 16: Train Loss=0.5964, Acc=0.8161, F1=0.8150 | Val Loss=2.0962, Acc=0.4314, F1=0.3986\n",
      "Epoch 17: Train Loss=0.4500, Acc=0.8261, F1=0.8263 | Val Loss=2.2857, Acc=0.5098, F1=0.5091\n",
      "Epoch 18: Train Loss=0.4223, Acc=0.8428, F1=0.8429 | Val Loss=2.6612, Acc=0.4510, F1=0.4452\n",
      "Epoch 19: Train Loss=0.4299, Acc=0.8495, F1=0.8498 | Val Loss=2.3837, Acc=0.4902, F1=0.4894\n",
      "Epoch 20: Train Loss=0.2105, Acc=0.9064, F1=0.9067 | Val Loss=3.4134, Acc=0.4314, F1=0.4246\n",
      "Epoch 21: Train Loss=0.1524, Acc=0.9498, F1=0.9497 | Val Loss=3.8098, Acc=0.5294, F1=0.5335\n",
      "Epoch 22: Train Loss=0.2293, Acc=0.9231, F1=0.9230 | Val Loss=3.5542, Acc=0.4902, F1=0.4912\n",
      "Epoch 23: Train Loss=0.0806, Acc=0.9799, F1=0.9799 | Val Loss=3.6411, Acc=0.5294, F1=0.5067\n",
      "Epoch 24: Train Loss=0.0517, Acc=0.9866, F1=0.9867 | Val Loss=4.5904, Acc=0.5098, F1=0.5086\n",
      "Epoch 25: Train Loss=0.1152, Acc=0.9666, F1=0.9663 | Val Loss=4.7686, Acc=0.4510, F1=0.4365\n",
      "Epoch 26: Train Loss=0.0697, Acc=0.9799, F1=0.9800 | Val Loss=4.8109, Acc=0.4706, F1=0.4859\n",
      "Epoch 27: Train Loss=0.1096, Acc=0.9732, F1=0.9733 | Val Loss=4.6144, Acc=0.5294, F1=0.5189\n",
      "Epoch 28: Train Loss=0.0654, Acc=0.9799, F1=0.9799 | Val Loss=4.1269, Acc=0.5098, F1=0.5167\n",
      "Epoch 29: Train Loss=0.0124, Acc=0.9967, F1=0.9967 | Val Loss=4.7735, Acc=0.4510, F1=0.4647\n",
      "Epoch 30: Train Loss=0.0102, Acc=1.0000, F1=1.0000 | Val Loss=5.0777, Acc=0.4902, F1=0.4852\n"
     ]
    },
    {
     "name": "stderr",
     "output_type": "stream",
     "text": [
      "[I 2025-08-16 21:55:34,638] Trial 10 finished with value: 0.5294117647058824 and parameters: {'nhead': 4, 'num_layers': 2, 'lr': 0.00010353677627159794, 'weight_decay': 8.306050731972222e-05}. Best is trial 10 with value: 0.5294117647058824.\n"
     ]
    },
    {
     "name": "stdout",
     "output_type": "stream",
     "text": [
      "Epoch 31: Train Loss=0.0048, Acc=0.9967, F1=0.9966 | Val Loss=4.5266, Acc=0.5294, F1=0.5272\n",
      "Early stopping\n",
      "\n",
      "[trial 11] build loaders...\n"
     ]
    },
    {
     "name": "stderr",
     "output_type": "stream",
     "text": [
      "C:\\ProgramData\\anaconda3\\Lib\\site-packages\\torch\\nn\\modules\\transformer.py:379: UserWarning: enable_nested_tensor is True, but self.use_nested_tensor is False because encoder_layer.self_attn.batch_first was not True(use batch_first for better inference performance)\n",
      "  warnings.warn(\n"
     ]
    },
    {
     "name": "stdout",
     "output_type": "stream",
     "text": [
      "Epoch 01: Train Loss=1.8253, Acc=0.2441, F1=0.2409 | Val Loss=1.6374, Acc=0.2157, F1=0.1137\n",
      "Epoch 02: Train Loss=1.5937, Acc=0.3244, F1=0.3179 | Val Loss=1.6582, Acc=0.3137, F1=0.2084\n",
      "Epoch 03: Train Loss=1.5184, Acc=0.3211, F1=0.3153 | Val Loss=1.6546, Acc=0.3529, F1=0.2308\n",
      "Epoch 04: Train Loss=1.5175, Acc=0.3813, F1=0.3763 | Val Loss=1.5132, Acc=0.3333, F1=0.2709\n",
      "Epoch 05: Train Loss=1.4953, Acc=0.3645, F1=0.3653 | Val Loss=1.4465, Acc=0.2549, F1=0.2348\n",
      "Epoch 06: Train Loss=1.4035, Acc=0.3913, F1=0.3878 | Val Loss=1.4280, Acc=0.4118, F1=0.3310\n",
      "Epoch 07: Train Loss=1.3997, Acc=0.4214, F1=0.4211 | Val Loss=1.4074, Acc=0.4314, F1=0.3948\n",
      "Epoch 08: Train Loss=1.3549, Acc=0.4749, F1=0.4664 | Val Loss=1.6667, Acc=0.3333, F1=0.2765\n",
      "Epoch 09: Train Loss=1.3833, Acc=0.4214, F1=0.4204 | Val Loss=1.3795, Acc=0.3529, F1=0.3399\n",
      "Epoch 10: Train Loss=1.2457, Acc=0.4716, F1=0.4623 | Val Loss=1.5364, Acc=0.3725, F1=0.3275\n",
      "Epoch 11: Train Loss=1.1942, Acc=0.5251, F1=0.5216 | Val Loss=1.6191, Acc=0.4314, F1=0.4046\n",
      "Epoch 12: Train Loss=1.1216, Acc=0.5318, F1=0.5323 | Val Loss=1.5526, Acc=0.3725, F1=0.3392\n",
      "Epoch 13: Train Loss=0.9772, Acc=0.6054, F1=0.6023 | Val Loss=1.4844, Acc=0.4118, F1=0.4223\n",
      "Epoch 14: Train Loss=0.8766, Acc=0.6120, F1=0.6108 | Val Loss=1.6897, Acc=0.4118, F1=0.3828\n",
      "Epoch 15: Train Loss=0.7355, Acc=0.7157, F1=0.7128 | Val Loss=1.8641, Acc=0.4706, F1=0.4486\n",
      "Epoch 16: Train Loss=0.6206, Acc=0.7692, F1=0.7678 | Val Loss=1.8193, Acc=0.3725, F1=0.3870\n",
      "Epoch 17: Train Loss=0.4929, Acc=0.8227, F1=0.8232 | Val Loss=2.2728, Acc=0.4314, F1=0.4208\n",
      "Epoch 18: Train Loss=0.4306, Acc=0.8462, F1=0.8454 | Val Loss=2.4365, Acc=0.4118, F1=0.4263\n",
      "Epoch 19: Train Loss=0.3787, Acc=0.8729, F1=0.8726 | Val Loss=2.7647, Acc=0.4118, F1=0.4114\n",
      "Epoch 20: Train Loss=0.2865, Acc=0.8997, F1=0.8988 | Val Loss=2.9583, Acc=0.4314, F1=0.4072\n",
      "Epoch 21: Train Loss=0.4325, Acc=0.8629, F1=0.8622 | Val Loss=2.9112, Acc=0.4902, F1=0.4829\n",
      "Epoch 22: Train Loss=0.1996, Acc=0.9064, F1=0.9069 | Val Loss=2.9433, Acc=0.4706, F1=0.4579\n",
      "Epoch 23: Train Loss=0.1416, Acc=0.9498, F1=0.9496 | Val Loss=4.1342, Acc=0.4314, F1=0.4154\n",
      "Epoch 24: Train Loss=0.1013, Acc=0.9565, F1=0.9564 | Val Loss=4.4120, Acc=0.4118, F1=0.4017\n",
      "Epoch 25: Train Loss=0.1192, Acc=0.9666, F1=0.9665 | Val Loss=3.8300, Acc=0.4314, F1=0.4032\n",
      "Epoch 26: Train Loss=0.0425, Acc=0.9900, F1=0.9899 | Val Loss=4.1657, Acc=0.5490, F1=0.5298\n",
      "Epoch 27: Train Loss=0.0604, Acc=0.9732, F1=0.9733 | Val Loss=4.3112, Acc=0.4314, F1=0.4060\n",
      "Epoch 28: Train Loss=0.0500, Acc=0.9799, F1=0.9799 | Val Loss=4.0399, Acc=0.4510, F1=0.4425\n",
      "Epoch 29: Train Loss=0.0285, Acc=0.9900, F1=0.9900 | Val Loss=4.7793, Acc=0.4118, F1=0.4121\n",
      "Epoch 30: Train Loss=0.0227, Acc=0.9900, F1=0.9900 | Val Loss=4.5494, Acc=0.3922, F1=0.3851\n",
      "Epoch 31: Train Loss=0.0588, Acc=0.9833, F1=0.9832 | Val Loss=4.2172, Acc=0.5098, F1=0.4904\n",
      "Epoch 32: Train Loss=0.0301, Acc=0.9933, F1=0.9933 | Val Loss=4.6549, Acc=0.4902, F1=0.4836\n",
      "Epoch 33: Train Loss=0.0044, Acc=1.0000, F1=1.0000 | Val Loss=4.8228, Acc=0.4706, F1=0.4903\n",
      "Epoch 34: Train Loss=0.0017, Acc=1.0000, F1=1.0000 | Val Loss=4.5037, Acc=0.5294, F1=0.5290\n",
      "Epoch 35: Train Loss=0.0194, Acc=0.9933, F1=0.9933 | Val Loss=4.8391, Acc=0.4510, F1=0.4478\n"
     ]
    },
    {
     "name": "stderr",
     "output_type": "stream",
     "text": [
      "[I 2025-08-16 21:58:10,309] Trial 11 finished with value: 0.5490196078431373 and parameters: {'nhead': 4, 'num_layers': 2, 'lr': 0.00010744583847151158, 'weight_decay': 8.201915027201743e-05}. Best is trial 11 with value: 0.5490196078431373.\n"
     ]
    },
    {
     "name": "stdout",
     "output_type": "stream",
     "text": [
      "Epoch 36: Train Loss=0.0201, Acc=0.9967, F1=0.9967 | Val Loss=4.6521, Acc=0.5294, F1=0.5067\n",
      "Early stopping\n",
      "\n",
      "[trial 12] build loaders...\n"
     ]
    },
    {
     "name": "stderr",
     "output_type": "stream",
     "text": [
      "C:\\ProgramData\\anaconda3\\Lib\\site-packages\\torch\\nn\\modules\\transformer.py:379: UserWarning: enable_nested_tensor is True, but self.use_nested_tensor is False because encoder_layer.self_attn.batch_first was not True(use batch_first for better inference performance)\n",
      "  warnings.warn(\n"
     ]
    },
    {
     "name": "stdout",
     "output_type": "stream",
     "text": [
      "Epoch 01: Train Loss=1.7403, Acc=0.2542, F1=0.2498 | Val Loss=1.5101, Acc=0.2549, F1=0.1462\n",
      "Epoch 02: Train Loss=1.5708, Acc=0.2642, F1=0.2625 | Val Loss=1.7083, Acc=0.2745, F1=0.1996\n",
      "Epoch 03: Train Loss=1.5353, Acc=0.2910, F1=0.2902 | Val Loss=1.4636, Acc=0.3529, F1=0.2958\n",
      "Epoch 04: Train Loss=1.4868, Acc=0.3445, F1=0.3423 | Val Loss=1.5828, Acc=0.2353, F1=0.1227\n",
      "Epoch 05: Train Loss=1.4779, Acc=0.3411, F1=0.3345 | Val Loss=1.4904, Acc=0.3529, F1=0.3145\n",
      "Epoch 06: Train Loss=1.4253, Acc=0.3311, F1=0.3274 | Val Loss=1.4283, Acc=0.3137, F1=0.2704\n",
      "Epoch 07: Train Loss=1.3563, Acc=0.4013, F1=0.3965 | Val Loss=1.4935, Acc=0.3529, F1=0.3175\n",
      "Epoch 08: Train Loss=1.3409, Acc=0.4515, F1=0.4506 | Val Loss=1.5073, Acc=0.4118, F1=0.3509\n",
      "Epoch 09: Train Loss=1.3521, Acc=0.4214, F1=0.4201 | Val Loss=1.5202, Acc=0.4118, F1=0.3849\n",
      "Epoch 10: Train Loss=1.2082, Acc=0.5151, F1=0.5110 | Val Loss=1.5069, Acc=0.3529, F1=0.3280\n",
      "Epoch 11: Train Loss=1.1862, Acc=0.4916, F1=0.4889 | Val Loss=1.5163, Acc=0.3922, F1=0.3412\n",
      "Epoch 12: Train Loss=1.1294, Acc=0.5819, F1=0.5801 | Val Loss=1.5722, Acc=0.3922, F1=0.3755\n",
      "Epoch 13: Train Loss=1.0111, Acc=0.5953, F1=0.5924 | Val Loss=1.6283, Acc=0.3529, F1=0.3313\n",
      "Epoch 14: Train Loss=0.8660, Acc=0.6789, F1=0.6765 | Val Loss=1.9862, Acc=0.3137, F1=0.3002\n",
      "Epoch 15: Train Loss=0.7569, Acc=0.6957, F1=0.6931 | Val Loss=1.5999, Acc=0.4706, F1=0.4698\n",
      "Epoch 16: Train Loss=0.6398, Acc=0.7726, F1=0.7718 | Val Loss=2.0903, Acc=0.4118, F1=0.3937\n",
      "Epoch 17: Train Loss=0.5301, Acc=0.8328, F1=0.8302 | Val Loss=2.2347, Acc=0.4706, F1=0.4511\n",
      "Epoch 18: Train Loss=0.4315, Acc=0.8395, F1=0.8387 | Val Loss=2.5168, Acc=0.3725, F1=0.3754\n",
      "Epoch 19: Train Loss=0.4292, Acc=0.8562, F1=0.8550 | Val Loss=2.1908, Acc=0.3529, F1=0.3483\n",
      "Epoch 20: Train Loss=0.3759, Acc=0.8763, F1=0.8747 | Val Loss=2.8226, Acc=0.3922, F1=0.3894\n",
      "Epoch 21: Train Loss=0.2909, Acc=0.9064, F1=0.9059 | Val Loss=2.9701, Acc=0.4510, F1=0.4209\n",
      "Epoch 22: Train Loss=0.2277, Acc=0.9465, F1=0.9463 | Val Loss=3.3767, Acc=0.4706, F1=0.4622\n",
      "Epoch 23: Train Loss=0.1226, Acc=0.9632, F1=0.9633 | Val Loss=3.8684, Acc=0.4314, F1=0.4334\n",
      "Epoch 24: Train Loss=0.1167, Acc=0.9699, F1=0.9697 | Val Loss=5.1555, Acc=0.3922, F1=0.3746\n"
     ]
    },
    {
     "name": "stderr",
     "output_type": "stream",
     "text": [
      "[I 2025-08-16 21:59:59,833] Trial 12 finished with value: 0.47058823529411764 and parameters: {'nhead': 4, 'num_layers': 2, 'lr': 0.00010752119651179309, 'weight_decay': 0.0001234433488463974}. Best is trial 11 with value: 0.5490196078431373.\n"
     ]
    },
    {
     "name": "stdout",
     "output_type": "stream",
     "text": [
      "Epoch 25: Train Loss=0.1472, Acc=0.9532, F1=0.9531 | Val Loss=4.7224, Acc=0.3725, F1=0.3810\n",
      "Early stopping\n",
      "\n",
      "[trial 13] build loaders...\n"
     ]
    },
    {
     "name": "stderr",
     "output_type": "stream",
     "text": [
      "C:\\ProgramData\\anaconda3\\Lib\\site-packages\\torch\\nn\\modules\\transformer.py:379: UserWarning: enable_nested_tensor is True, but self.use_nested_tensor is False because encoder_layer.self_attn.batch_first was not True(use batch_first for better inference performance)\n",
      "  warnings.warn(\n"
     ]
    },
    {
     "name": "stdout",
     "output_type": "stream",
     "text": [
      "Epoch 01: Train Loss=1.7090, Acc=0.2676, F1=0.2665 | Val Loss=1.6211, Acc=0.3529, F1=0.2731\n",
      "Epoch 02: Train Loss=1.6040, Acc=0.2977, F1=0.2949 | Val Loss=1.4585, Acc=0.3333, F1=0.2823\n",
      "Epoch 03: Train Loss=1.4819, Acc=0.3378, F1=0.3293 | Val Loss=1.4740, Acc=0.4118, F1=0.3684\n",
      "Epoch 04: Train Loss=1.5226, Acc=0.3077, F1=0.3053 | Val Loss=1.5504, Acc=0.3137, F1=0.2298\n",
      "Epoch 05: Train Loss=1.4839, Acc=0.3579, F1=0.3485 | Val Loss=1.5649, Acc=0.2353, F1=0.1590\n",
      "Epoch 06: Train Loss=1.4589, Acc=0.3512, F1=0.3526 | Val Loss=1.4376, Acc=0.3137, F1=0.2904\n",
      "Epoch 07: Train Loss=1.4205, Acc=0.3746, F1=0.3691 | Val Loss=1.4846, Acc=0.3333, F1=0.2764\n",
      "Epoch 08: Train Loss=1.4093, Acc=0.3946, F1=0.3846 | Val Loss=1.3929, Acc=0.3333, F1=0.3166\n",
      "Epoch 09: Train Loss=1.3323, Acc=0.4381, F1=0.4357 | Val Loss=1.4663, Acc=0.2941, F1=0.2829\n",
      "Epoch 10: Train Loss=1.2268, Acc=0.5050, F1=0.4991 | Val Loss=1.4389, Acc=0.4314, F1=0.3715\n",
      "Epoch 11: Train Loss=1.1158, Acc=0.5251, F1=0.5236 | Val Loss=1.5071, Acc=0.2941, F1=0.2525\n",
      "Epoch 12: Train Loss=0.9888, Acc=0.6087, F1=0.6073 | Val Loss=1.6408, Acc=0.3529, F1=0.3211\n",
      "Epoch 13: Train Loss=0.9076, Acc=0.6455, F1=0.6449 | Val Loss=1.7596, Acc=0.3922, F1=0.3761\n",
      "Epoch 14: Train Loss=0.7474, Acc=0.7324, F1=0.7331 | Val Loss=1.6413, Acc=0.3922, F1=0.3931\n",
      "Epoch 15: Train Loss=0.6871, Acc=0.7659, F1=0.7623 | Val Loss=1.8175, Acc=0.3922, F1=0.3394\n",
      "Epoch 16: Train Loss=0.5247, Acc=0.8294, F1=0.8298 | Val Loss=1.9371, Acc=0.4118, F1=0.4070\n",
      "Epoch 17: Train Loss=0.5810, Acc=0.7860, F1=0.7846 | Val Loss=2.2467, Acc=0.4314, F1=0.4465\n",
      "Epoch 18: Train Loss=0.3284, Acc=0.8963, F1=0.8962 | Val Loss=2.1969, Acc=0.5098, F1=0.4984\n",
      "Epoch 19: Train Loss=0.2979, Acc=0.8763, F1=0.8761 | Val Loss=3.4062, Acc=0.4706, F1=0.4343\n",
      "Epoch 20: Train Loss=0.2582, Acc=0.9164, F1=0.9162 | Val Loss=2.9522, Acc=0.4706, F1=0.4732\n",
      "Epoch 21: Train Loss=0.2286, Acc=0.9331, F1=0.9330 | Val Loss=2.9931, Acc=0.5294, F1=0.4701\n",
      "Epoch 22: Train Loss=0.1345, Acc=0.9498, F1=0.9500 | Val Loss=3.2268, Acc=0.4706, F1=0.4684\n",
      "Epoch 23: Train Loss=0.0938, Acc=0.9666, F1=0.9666 | Val Loss=3.1734, Acc=0.5294, F1=0.5235\n",
      "Epoch 24: Train Loss=0.1049, Acc=0.9599, F1=0.9600 | Val Loss=4.1262, Acc=0.4314, F1=0.4216\n",
      "Epoch 25: Train Loss=0.1005, Acc=0.9732, F1=0.9732 | Val Loss=4.2607, Acc=0.4314, F1=0.4209\n",
      "Epoch 26: Train Loss=0.0302, Acc=0.9933, F1=0.9933 | Val Loss=4.2842, Acc=0.4510, F1=0.4576\n",
      "Epoch 27: Train Loss=0.0604, Acc=0.9766, F1=0.9766 | Val Loss=4.4703, Acc=0.4510, F1=0.4389\n",
      "Epoch 28: Train Loss=0.0261, Acc=0.9866, F1=0.9866 | Val Loss=4.7742, Acc=0.4314, F1=0.4216\n",
      "Epoch 29: Train Loss=0.0297, Acc=0.9933, F1=0.9933 | Val Loss=4.1977, Acc=0.4902, F1=0.4673\n",
      "Epoch 30: Train Loss=0.0286, Acc=0.9900, F1=0.9898 | Val Loss=3.9484, Acc=0.4510, F1=0.4453\n"
     ]
    },
    {
     "name": "stderr",
     "output_type": "stream",
     "text": [
      "[I 2025-08-16 22:02:15,621] Trial 13 finished with value: 0.5294117647058824 and parameters: {'nhead': 4, 'num_layers': 2, 'lr': 0.00011531894892803138, 'weight_decay': 0.00011437759657785997}. Best is trial 11 with value: 0.5490196078431373.\n"
     ]
    },
    {
     "name": "stdout",
     "output_type": "stream",
     "text": [
      "Epoch 31: Train Loss=0.0413, Acc=0.9799, F1=0.9800 | Val Loss=4.8015, Acc=0.4314, F1=0.4038\n",
      "Early stopping\n",
      "\n",
      "[trial 14] build loaders...\n"
     ]
    },
    {
     "name": "stderr",
     "output_type": "stream",
     "text": [
      "C:\\ProgramData\\anaconda3\\Lib\\site-packages\\torch\\nn\\modules\\transformer.py:379: UserWarning: enable_nested_tensor is True, but self.use_nested_tensor is False because encoder_layer.self_attn.batch_first was not True(use batch_first for better inference performance)\n",
      "  warnings.warn(\n"
     ]
    },
    {
     "name": "stdout",
     "output_type": "stream",
     "text": [
      "Epoch 01: Train Loss=1.8847, Acc=0.2609, F1=0.2536 | Val Loss=1.8439, Acc=0.2157, F1=0.0977\n",
      "Epoch 02: Train Loss=1.6334, Acc=0.2742, F1=0.2682 | Val Loss=1.9299, Acc=0.2157, F1=0.0721\n",
      "Epoch 03: Train Loss=1.5955, Acc=0.2943, F1=0.2911 | Val Loss=1.4789, Acc=0.2941, F1=0.2543\n",
      "Epoch 04: Train Loss=1.5411, Acc=0.2508, F1=0.2465 | Val Loss=1.5392, Acc=0.2353, F1=0.1920\n",
      "Epoch 05: Train Loss=1.4575, Acc=0.3579, F1=0.3570 | Val Loss=1.4533, Acc=0.3725, F1=0.3235\n",
      "Epoch 06: Train Loss=1.4594, Acc=0.3177, F1=0.3142 | Val Loss=1.4596, Acc=0.3137, F1=0.2720\n",
      "Epoch 07: Train Loss=1.4252, Acc=0.3445, F1=0.3397 | Val Loss=1.4407, Acc=0.3725, F1=0.3032\n",
      "Epoch 08: Train Loss=1.4069, Acc=0.3712, F1=0.3675 | Val Loss=1.4172, Acc=0.4118, F1=0.3706\n",
      "Epoch 09: Train Loss=1.4245, Acc=0.3645, F1=0.3588 | Val Loss=1.3883, Acc=0.3725, F1=0.3698\n",
      "Epoch 10: Train Loss=1.3617, Acc=0.3846, F1=0.3778 | Val Loss=1.5151, Acc=0.3725, F1=0.2824\n",
      "Epoch 11: Train Loss=1.3751, Acc=0.4214, F1=0.4151 | Val Loss=1.5150, Acc=0.3333, F1=0.2794\n",
      "Epoch 12: Train Loss=1.3529, Acc=0.4013, F1=0.3982 | Val Loss=1.3510, Acc=0.4118, F1=0.4072\n",
      "Epoch 13: Train Loss=1.3015, Acc=0.3946, F1=0.3862 | Val Loss=1.3932, Acc=0.3725, F1=0.3645\n",
      "Epoch 14: Train Loss=1.2196, Acc=0.5184, F1=0.5168 | Val Loss=1.4036, Acc=0.3922, F1=0.3794\n",
      "Epoch 15: Train Loss=1.2140, Acc=0.4682, F1=0.4689 | Val Loss=1.4281, Acc=0.3725, F1=0.3484\n",
      "Epoch 16: Train Loss=1.1655, Acc=0.5385, F1=0.5366 | Val Loss=1.3696, Acc=0.3725, F1=0.3707\n",
      "Epoch 17: Train Loss=1.1232, Acc=0.5619, F1=0.5565 | Val Loss=1.3980, Acc=0.3725, F1=0.3527\n"
     ]
    },
    {
     "name": "stderr",
     "output_type": "stream",
     "text": [
      "[I 2025-08-16 22:03:32,822] Trial 14 finished with value: 0.4117647058823529 and parameters: {'nhead': 4, 'num_layers': 2, 'lr': 0.0002583605014014802, 'weight_decay': 0.00037372800583511184}. Best is trial 11 with value: 0.5490196078431373.\n"
     ]
    },
    {
     "name": "stdout",
     "output_type": "stream",
     "text": [
      "Epoch 18: Train Loss=1.0474, Acc=0.5385, F1=0.5361 | Val Loss=1.4693, Acc=0.2941, F1=0.2909\n",
      "Early stopping\n",
      "\n",
      "[trial 15] build loaders...\n"
     ]
    },
    {
     "name": "stderr",
     "output_type": "stream",
     "text": [
      "C:\\ProgramData\\anaconda3\\Lib\\site-packages\\torch\\nn\\modules\\transformer.py:379: UserWarning: enable_nested_tensor is True, but self.use_nested_tensor is False because encoder_layer.self_attn.batch_first was not True(use batch_first for better inference performance)\n",
      "  warnings.warn(\n"
     ]
    },
    {
     "name": "stdout",
     "output_type": "stream",
     "text": [
      "Epoch 01: Train Loss=1.9805, Acc=0.2876, F1=0.2856 | Val Loss=1.6373, Acc=0.3529, F1=0.2296\n",
      "Epoch 02: Train Loss=1.5525, Acc=0.3043, F1=0.3054 | Val Loss=1.4985, Acc=0.2745, F1=0.1849\n",
      "Epoch 03: Train Loss=1.5295, Acc=0.3211, F1=0.3094 | Val Loss=1.4932, Acc=0.3137, F1=0.1857\n",
      "Epoch 04: Train Loss=1.5132, Acc=0.3378, F1=0.3308 | Val Loss=1.5446, Acc=0.3137, F1=0.2461\n",
      "Epoch 05: Train Loss=1.4578, Acc=0.3746, F1=0.3747 | Val Loss=1.5161, Acc=0.3333, F1=0.2619\n",
      "Epoch 06: Train Loss=1.4431, Acc=0.3579, F1=0.3581 | Val Loss=1.5764, Acc=0.3529, F1=0.3106\n",
      "Epoch 07: Train Loss=1.3665, Acc=0.3880, F1=0.3836 | Val Loss=1.5406, Acc=0.3725, F1=0.3155\n",
      "Epoch 08: Train Loss=1.2704, Acc=0.4348, F1=0.4347 | Val Loss=1.4784, Acc=0.3529, F1=0.2897\n",
      "Epoch 09: Train Loss=1.1779, Acc=0.5050, F1=0.5034 | Val Loss=1.5909, Acc=0.3333, F1=0.2792\n",
      "Epoch 10: Train Loss=1.1456, Acc=0.5385, F1=0.5378 | Val Loss=1.7688, Acc=0.3725, F1=0.3611\n",
      "Epoch 11: Train Loss=1.0895, Acc=0.5585, F1=0.5572 | Val Loss=1.6598, Acc=0.4118, F1=0.4044\n",
      "Epoch 12: Train Loss=1.0441, Acc=0.5886, F1=0.5883 | Val Loss=1.7615, Acc=0.3922, F1=0.3661\n",
      "Epoch 13: Train Loss=0.8660, Acc=0.6722, F1=0.6695 | Val Loss=1.7607, Acc=0.4314, F1=0.4155\n",
      "Epoch 14: Train Loss=0.7563, Acc=0.7157, F1=0.7152 | Val Loss=2.0633, Acc=0.3922, F1=0.3675\n",
      "Epoch 15: Train Loss=0.7442, Acc=0.7525, F1=0.7518 | Val Loss=2.3492, Acc=0.3529, F1=0.3605\n",
      "Epoch 16: Train Loss=0.6122, Acc=0.7592, F1=0.7595 | Val Loss=2.8110, Acc=0.3333, F1=0.3188\n",
      "Epoch 17: Train Loss=0.5067, Acc=0.8395, F1=0.8393 | Val Loss=2.5015, Acc=0.4314, F1=0.4238\n",
      "Epoch 18: Train Loss=0.3742, Acc=0.8829, F1=0.8835 | Val Loss=3.1170, Acc=0.4118, F1=0.4021\n",
      "Epoch 19: Train Loss=0.6927, Acc=0.8060, F1=0.8065 | Val Loss=3.3836, Acc=0.3529, F1=0.3336\n",
      "Epoch 20: Train Loss=0.3537, Acc=0.9030, F1=0.9033 | Val Loss=3.2073, Acc=0.4902, F1=0.4650\n",
      "Epoch 21: Train Loss=0.2265, Acc=0.9365, F1=0.9364 | Val Loss=3.3155, Acc=0.4510, F1=0.4295\n",
      "Epoch 22: Train Loss=0.2602, Acc=0.9298, F1=0.9298 | Val Loss=4.5652, Acc=0.3725, F1=0.3723\n",
      "Epoch 23: Train Loss=0.2513, Acc=0.9164, F1=0.9162 | Val Loss=4.3171, Acc=0.3333, F1=0.3351\n",
      "Epoch 24: Train Loss=0.1007, Acc=0.9732, F1=0.9733 | Val Loss=4.2308, Acc=0.4314, F1=0.4138\n",
      "Epoch 25: Train Loss=0.1275, Acc=0.9599, F1=0.9600 | Val Loss=4.5816, Acc=0.4118, F1=0.4034\n",
      "Epoch 26: Train Loss=0.0643, Acc=0.9866, F1=0.9865 | Val Loss=4.5306, Acc=0.4706, F1=0.4522\n",
      "Epoch 27: Train Loss=0.0562, Acc=0.9732, F1=0.9734 | Val Loss=4.5459, Acc=0.5294, F1=0.5259\n",
      "Epoch 28: Train Loss=0.0399, Acc=0.9967, F1=0.9967 | Val Loss=4.8478, Acc=0.5098, F1=0.4867\n",
      "Epoch 29: Train Loss=0.0326, Acc=0.9866, F1=0.9866 | Val Loss=5.1539, Acc=0.4314, F1=0.4182\n",
      "Epoch 30: Train Loss=0.1643, Acc=0.9599, F1=0.9599 | Val Loss=6.0070, Acc=0.4118, F1=0.3721\n",
      "Epoch 31: Train Loss=0.1456, Acc=0.9599, F1=0.9598 | Val Loss=5.7346, Acc=0.4510, F1=0.4164\n",
      "Epoch 32: Train Loss=0.1170, Acc=0.9732, F1=0.9732 | Val Loss=5.0943, Acc=0.4118, F1=0.3914\n",
      "Epoch 33: Train Loss=0.0893, Acc=0.9732, F1=0.9732 | Val Loss=5.8590, Acc=0.3725, F1=0.3537\n",
      "Epoch 34: Train Loss=0.0924, Acc=0.9866, F1=0.9866 | Val Loss=5.4143, Acc=0.4510, F1=0.4593\n",
      "Epoch 35: Train Loss=0.0680, Acc=0.9799, F1=0.9799 | Val Loss=5.0681, Acc=0.4314, F1=0.4141\n",
      "Epoch 36: Train Loss=0.1086, Acc=0.9732, F1=0.9733 | Val Loss=5.9568, Acc=0.3922, F1=0.3620\n"
     ]
    },
    {
     "name": "stderr",
     "output_type": "stream",
     "text": [
      "[I 2025-08-16 22:06:10,802] Trial 15 finished with value: 0.5294117647058824 and parameters: {'nhead': 4, 'num_layers': 2, 'lr': 0.00022545502715832472, 'weight_decay': 6.541822415477904e-05}. Best is trial 11 with value: 0.5490196078431373.\n"
     ]
    },
    {
     "name": "stdout",
     "output_type": "stream",
     "text": [
      "Epoch 37: Train Loss=0.0243, Acc=0.9900, F1=0.9899 | Val Loss=6.0436, Acc=0.3529, F1=0.3333\n",
      "Early stopping\n",
      "\n",
      "[trial 16] build loaders...\n"
     ]
    },
    {
     "name": "stderr",
     "output_type": "stream",
     "text": [
      "C:\\ProgramData\\anaconda3\\Lib\\site-packages\\torch\\nn\\modules\\transformer.py:379: UserWarning: enable_nested_tensor is True, but self.use_nested_tensor is False because encoder_layer.self_attn.batch_first was not True(use batch_first for better inference performance)\n",
      "  warnings.warn(\n"
     ]
    },
    {
     "name": "stdout",
     "output_type": "stream",
     "text": [
      "Epoch 01: Train Loss=1.7539, Acc=0.2408, F1=0.2400 | Val Loss=1.5658, Acc=0.3333, F1=0.2924\n",
      "Epoch 02: Train Loss=1.5428, Acc=0.2977, F1=0.2973 | Val Loss=1.5143, Acc=0.3725, F1=0.2864\n",
      "Epoch 03: Train Loss=1.4965, Acc=0.3411, F1=0.3315 | Val Loss=1.5441, Acc=0.2941, F1=0.1785\n",
      "Epoch 04: Train Loss=1.4466, Acc=0.3679, F1=0.3646 | Val Loss=1.5545, Acc=0.2745, F1=0.1599\n",
      "Epoch 05: Train Loss=1.4096, Acc=0.3813, F1=0.3785 | Val Loss=1.4481, Acc=0.3529, F1=0.2992\n",
      "Epoch 06: Train Loss=1.3416, Acc=0.4013, F1=0.4021 | Val Loss=1.4215, Acc=0.3725, F1=0.3309\n",
      "Epoch 07: Train Loss=1.2656, Acc=0.4716, F1=0.4673 | Val Loss=1.4632, Acc=0.3922, F1=0.3520\n",
      "Epoch 08: Train Loss=1.2387, Acc=0.4515, F1=0.4478 | Val Loss=1.4394, Acc=0.3725, F1=0.3392\n",
      "Epoch 09: Train Loss=1.1820, Acc=0.5184, F1=0.5190 | Val Loss=1.4239, Acc=0.4314, F1=0.4125\n",
      "Epoch 10: Train Loss=1.0780, Acc=0.5753, F1=0.5706 | Val Loss=1.5871, Acc=0.3922, F1=0.3624\n",
      "Epoch 11: Train Loss=1.0027, Acc=0.6087, F1=0.6059 | Val Loss=1.4256, Acc=0.4314, F1=0.4175\n",
      "Epoch 12: Train Loss=0.8389, Acc=0.6722, F1=0.6714 | Val Loss=1.5735, Acc=0.4118, F1=0.3887\n",
      "Epoch 13: Train Loss=0.7870, Acc=0.6957, F1=0.6918 | Val Loss=1.6767, Acc=0.4706, F1=0.4466\n",
      "Epoch 14: Train Loss=0.7220, Acc=0.7492, F1=0.7493 | Val Loss=1.8084, Acc=0.3725, F1=0.3691\n",
      "Epoch 15: Train Loss=0.6424, Acc=0.7625, F1=0.7622 | Val Loss=1.7423, Acc=0.4902, F1=0.4641\n",
      "Epoch 16: Train Loss=0.5075, Acc=0.8161, F1=0.8153 | Val Loss=2.0083, Acc=0.4706, F1=0.4562\n",
      "Epoch 17: Train Loss=0.4289, Acc=0.8361, F1=0.8363 | Val Loss=2.0825, Acc=0.4706, F1=0.4772\n",
      "Epoch 18: Train Loss=0.3685, Acc=0.8863, F1=0.8864 | Val Loss=2.7232, Acc=0.4118, F1=0.3877\n",
      "Epoch 19: Train Loss=0.3028, Acc=0.8930, F1=0.8930 | Val Loss=3.1197, Acc=0.4510, F1=0.4446\n",
      "Epoch 20: Train Loss=0.2591, Acc=0.9298, F1=0.9299 | Val Loss=3.2668, Acc=0.5098, F1=0.5067\n",
      "Epoch 21: Train Loss=0.1739, Acc=0.9398, F1=0.9399 | Val Loss=4.2094, Acc=0.4510, F1=0.4475\n",
      "Epoch 22: Train Loss=0.1220, Acc=0.9565, F1=0.9567 | Val Loss=3.6981, Acc=0.4706, F1=0.4638\n",
      "Epoch 23: Train Loss=0.0842, Acc=0.9666, F1=0.9665 | Val Loss=4.4190, Acc=0.4902, F1=0.4906\n",
      "Epoch 24: Train Loss=0.0964, Acc=0.9599, F1=0.9598 | Val Loss=4.3192, Acc=0.4706, F1=0.4506\n",
      "Epoch 25: Train Loss=0.0549, Acc=0.9799, F1=0.9799 | Val Loss=4.8118, Acc=0.4706, F1=0.4497\n",
      "Epoch 26: Train Loss=0.0357, Acc=0.9866, F1=0.9867 | Val Loss=4.5325, Acc=0.5098, F1=0.5133\n",
      "Epoch 27: Train Loss=0.0470, Acc=0.9900, F1=0.9900 | Val Loss=4.4669, Acc=0.4706, F1=0.4570\n",
      "Epoch 28: Train Loss=0.0173, Acc=0.9933, F1=0.9933 | Val Loss=4.7995, Acc=0.4902, F1=0.4907\n",
      "Epoch 29: Train Loss=0.0155, Acc=0.9967, F1=0.9966 | Val Loss=4.8388, Acc=0.4314, F1=0.4256\n"
     ]
    },
    {
     "name": "stderr",
     "output_type": "stream",
     "text": [
      "[I 2025-08-16 22:07:26,115] Trial 16 finished with value: 0.5098039215686274 and parameters: {'nhead': 4, 'num_layers': 1, 'lr': 0.000163933989301113, 'weight_decay': 4.565594045445848e-05}. Best is trial 11 with value: 0.5490196078431373.\n"
     ]
    },
    {
     "name": "stdout",
     "output_type": "stream",
     "text": [
      "Epoch 30: Train Loss=0.0100, Acc=0.9933, F1=0.9934 | Val Loss=4.6522, Acc=0.4706, F1=0.4603\n",
      "Early stopping\n",
      "\n",
      "[trial 17] build loaders...\n"
     ]
    },
    {
     "name": "stderr",
     "output_type": "stream",
     "text": [
      "C:\\ProgramData\\anaconda3\\Lib\\site-packages\\torch\\nn\\modules\\transformer.py:379: UserWarning: enable_nested_tensor is True, but self.use_nested_tensor is False because encoder_layer.self_attn.batch_first was not True(use batch_first for better inference performance)\n",
      "  warnings.warn(\n"
     ]
    },
    {
     "name": "stdout",
     "output_type": "stream",
     "text": [
      "Epoch 01: Train Loss=2.0479, Acc=0.2977, F1=0.2983 | Val Loss=1.5824, Acc=0.3529, F1=0.2022\n",
      "Epoch 02: Train Loss=1.6811, Acc=0.2876, F1=0.2854 | Val Loss=1.5993, Acc=0.3137, F1=0.1877\n",
      "Epoch 03: Train Loss=1.5858, Acc=0.2676, F1=0.2664 | Val Loss=1.6329, Acc=0.2941, F1=0.2533\n",
      "Epoch 04: Train Loss=1.5503, Acc=0.2843, F1=0.2783 | Val Loss=1.4825, Acc=0.3137, F1=0.2409\n",
      "Epoch 05: Train Loss=1.5785, Acc=0.3077, F1=0.2984 | Val Loss=1.5009, Acc=0.2941, F1=0.2330\n",
      "Epoch 06: Train Loss=1.5053, Acc=0.3344, F1=0.3285 | Val Loss=1.5992, Acc=0.1961, F1=0.1704\n",
      "Epoch 07: Train Loss=1.4957, Acc=0.3110, F1=0.3001 | Val Loss=1.4087, Acc=0.3725, F1=0.3731\n",
      "Epoch 08: Train Loss=1.4440, Acc=0.3445, F1=0.3441 | Val Loss=1.5142, Acc=0.2941, F1=0.1789\n",
      "Epoch 09: Train Loss=1.4367, Acc=0.3344, F1=0.3302 | Val Loss=1.4108, Acc=0.3725, F1=0.3108\n",
      "Epoch 10: Train Loss=1.4056, Acc=0.3846, F1=0.3621 | Val Loss=1.4996, Acc=0.3137, F1=0.2374\n",
      "Epoch 11: Train Loss=1.4146, Acc=0.3712, F1=0.3592 | Val Loss=1.4452, Acc=0.3922, F1=0.3303\n",
      "Epoch 12: Train Loss=1.3320, Acc=0.4013, F1=0.3917 | Val Loss=1.3839, Acc=0.3529, F1=0.3179\n",
      "Epoch 13: Train Loss=1.3317, Acc=0.4181, F1=0.4136 | Val Loss=1.4468, Acc=0.2549, F1=0.2353\n",
      "Epoch 14: Train Loss=1.3134, Acc=0.4181, F1=0.4153 | Val Loss=1.4530, Acc=0.3922, F1=0.3823\n",
      "Epoch 15: Train Loss=1.2935, Acc=0.4381, F1=0.4274 | Val Loss=1.3821, Acc=0.3137, F1=0.3061\n",
      "Epoch 16: Train Loss=1.2882, Acc=0.4314, F1=0.4274 | Val Loss=1.5128, Acc=0.2941, F1=0.2477\n",
      "Epoch 17: Train Loss=1.2671, Acc=0.4314, F1=0.4278 | Val Loss=1.4713, Acc=0.3922, F1=0.2801\n",
      "Epoch 18: Train Loss=1.1999, Acc=0.5017, F1=0.5017 | Val Loss=1.5848, Acc=0.3922, F1=0.3263\n",
      "Epoch 19: Train Loss=1.1877, Acc=0.4816, F1=0.4762 | Val Loss=1.4128, Acc=0.4510, F1=0.3908\n",
      "Epoch 20: Train Loss=1.1643, Acc=0.4883, F1=0.4807 | Val Loss=1.4375, Acc=0.4510, F1=0.4030\n",
      "Epoch 21: Train Loss=1.1339, Acc=0.5084, F1=0.5006 | Val Loss=1.4772, Acc=0.4706, F1=0.4238\n",
      "Epoch 22: Train Loss=1.0940, Acc=0.5953, F1=0.5934 | Val Loss=1.3224, Acc=0.4902, F1=0.4553\n",
      "Epoch 23: Train Loss=1.0548, Acc=0.5619, F1=0.5593 | Val Loss=1.2573, Acc=0.5098, F1=0.4676\n",
      "Epoch 24: Train Loss=0.9210, Acc=0.6154, F1=0.6134 | Val Loss=1.7009, Acc=0.2941, F1=0.2368\n",
      "Epoch 25: Train Loss=0.9224, Acc=0.6421, F1=0.6412 | Val Loss=1.9579, Acc=0.2941, F1=0.3053\n",
      "Epoch 26: Train Loss=0.8736, Acc=0.6589, F1=0.6588 | Val Loss=1.6092, Acc=0.4706, F1=0.4207\n",
      "Epoch 27: Train Loss=0.8837, Acc=0.6522, F1=0.6505 | Val Loss=1.6783, Acc=0.4510, F1=0.4226\n",
      "Epoch 28: Train Loss=0.7353, Acc=0.7057, F1=0.7034 | Val Loss=1.7173, Acc=0.3922, F1=0.3463\n",
      "Epoch 29: Train Loss=0.6974, Acc=0.7157, F1=0.7167 | Val Loss=1.9260, Acc=0.3529, F1=0.3624\n",
      "Epoch 30: Train Loss=0.7716, Acc=0.7157, F1=0.7155 | Val Loss=1.9888, Acc=0.2941, F1=0.2748\n",
      "Epoch 31: Train Loss=0.7466, Acc=0.7592, F1=0.7584 | Val Loss=1.7709, Acc=0.3922, F1=0.3771\n",
      "Epoch 32: Train Loss=0.5342, Acc=0.7759, F1=0.7757 | Val Loss=2.2918, Acc=0.4118, F1=0.4310\n"
     ]
    },
    {
     "name": "stderr",
     "output_type": "stream",
     "text": [
      "[I 2025-08-16 22:09:45,830] Trial 17 finished with value: 0.5098039215686274 and parameters: {'nhead': 4, 'num_layers': 2, 'lr': 0.0004424521231538716, 'weight_decay': 0.0002556416830707334}. Best is trial 11 with value: 0.5490196078431373.\n"
     ]
    },
    {
     "name": "stdout",
     "output_type": "stream",
     "text": [
      "Epoch 33: Train Loss=0.5023, Acc=0.8194, F1=0.8195 | Val Loss=2.9215, Acc=0.3725, F1=0.3010\n",
      "Early stopping\n",
      "\n",
      "[trial 18] build loaders...\n"
     ]
    },
    {
     "name": "stderr",
     "output_type": "stream",
     "text": [
      "C:\\ProgramData\\anaconda3\\Lib\\site-packages\\torch\\nn\\modules\\transformer.py:379: UserWarning: enable_nested_tensor is True, but self.use_nested_tensor is False because encoder_layer.self_attn.batch_first was not True(use batch_first for better inference performance)\n",
      "  warnings.warn(\n"
     ]
    },
    {
     "name": "stdout",
     "output_type": "stream",
     "text": [
      "Epoch 01: Train Loss=2.4791, Acc=0.1873, F1=0.1860 | Val Loss=2.3252, Acc=0.2157, F1=0.0710\n",
      "Epoch 02: Train Loss=1.8586, Acc=0.2007, F1=0.1938 | Val Loss=1.7607, Acc=0.1961, F1=0.0656\n",
      "Epoch 03: Train Loss=1.8595, Acc=0.1739, F1=0.1660 | Val Loss=1.6485, Acc=0.2157, F1=0.0710\n",
      "Epoch 04: Train Loss=1.7219, Acc=0.1906, F1=0.1895 | Val Loss=1.6365, Acc=0.1961, F1=0.0656\n",
      "Epoch 05: Train Loss=1.6644, Acc=0.1873, F1=0.1784 | Val Loss=1.6148, Acc=0.1961, F1=0.0656\n",
      "Epoch 06: Train Loss=1.7200, Acc=0.1906, F1=0.1861 | Val Loss=1.6986, Acc=0.1961, F1=0.0656\n",
      "Epoch 07: Train Loss=1.6485, Acc=0.1940, F1=0.1685 | Val Loss=1.6112, Acc=0.1961, F1=0.0656\n",
      "Epoch 08: Train Loss=1.6234, Acc=0.2241, F1=0.2189 | Val Loss=1.6151, Acc=0.2157, F1=0.0710\n",
      "Epoch 09: Train Loss=1.6312, Acc=0.1940, F1=0.1762 | Val Loss=1.6206, Acc=0.1961, F1=0.0656\n",
      "Epoch 10: Train Loss=1.6237, Acc=0.1973, F1=0.1855 | Val Loss=1.6347, Acc=0.1961, F1=0.0656\n"
     ]
    },
    {
     "name": "stderr",
     "output_type": "stream",
     "text": [
      "[I 2025-08-16 22:10:54,160] Trial 18 finished with value: 0.21568627450980393 and parameters: {'nhead': 8, 'num_layers': 3, 'lr': 0.0037827652380096233, 'weight_decay': 1.24711681871665e-05}. Best is trial 11 with value: 0.5490196078431373.\n"
     ]
    },
    {
     "name": "stdout",
     "output_type": "stream",
     "text": [
      "Epoch 11: Train Loss=1.6231, Acc=0.1973, F1=0.1620 | Val Loss=1.6437, Acc=0.1961, F1=0.0656\n",
      "Early stopping\n",
      "\n",
      "[trial 19] build loaders...\n"
     ]
    },
    {
     "name": "stderr",
     "output_type": "stream",
     "text": [
      "C:\\ProgramData\\anaconda3\\Lib\\site-packages\\torch\\nn\\modules\\transformer.py:379: UserWarning: enable_nested_tensor is True, but self.use_nested_tensor is False because encoder_layer.self_attn.batch_first was not True(use batch_first for better inference performance)\n",
      "  warnings.warn(\n"
     ]
    },
    {
     "name": "stdout",
     "output_type": "stream",
     "text": [
      "Epoch 01: Train Loss=1.9018, Acc=0.2475, F1=0.2451 | Val Loss=1.5127, Acc=0.3922, F1=0.3231\n",
      "Epoch 02: Train Loss=1.5362, Acc=0.3478, F1=0.3439 | Val Loss=1.5826, Acc=0.2745, F1=0.2512\n",
      "Epoch 03: Train Loss=1.4975, Acc=0.3244, F1=0.3195 | Val Loss=1.4618, Acc=0.4118, F1=0.3523\n",
      "Epoch 04: Train Loss=1.4812, Acc=0.3278, F1=0.3259 | Val Loss=1.4647, Acc=0.3922, F1=0.2937\n",
      "Epoch 05: Train Loss=1.4493, Acc=0.3411, F1=0.3271 | Val Loss=1.5996, Acc=0.2549, F1=0.1514\n",
      "Epoch 06: Train Loss=1.4414, Acc=0.3579, F1=0.3592 | Val Loss=1.4733, Acc=0.3333, F1=0.2493\n",
      "Epoch 07: Train Loss=1.4111, Acc=0.3880, F1=0.3733 | Val Loss=1.4386, Acc=0.3529, F1=0.3283\n",
      "Epoch 08: Train Loss=1.3829, Acc=0.4013, F1=0.3989 | Val Loss=1.4720, Acc=0.2941, F1=0.2008\n",
      "Epoch 09: Train Loss=1.3724, Acc=0.3679, F1=0.3634 | Val Loss=1.4566, Acc=0.3529, F1=0.3033\n",
      "Epoch 10: Train Loss=1.4044, Acc=0.3712, F1=0.3714 | Val Loss=1.3923, Acc=0.3333, F1=0.3254\n",
      "Epoch 11: Train Loss=1.3612, Acc=0.4147, F1=0.4093 | Val Loss=1.4319, Acc=0.4118, F1=0.3744\n",
      "Epoch 12: Train Loss=1.3710, Acc=0.3579, F1=0.3528 | Val Loss=1.4442, Acc=0.2745, F1=0.2583\n"
     ]
    },
    {
     "name": "stderr",
     "output_type": "stream",
     "text": [
      "[I 2025-08-16 22:11:26,258] Trial 19 finished with value: 0.4117647058823529 and parameters: {'nhead': 4, 'num_layers': 1, 'lr': 0.00041359362575230096, 'weight_decay': 0.0009728613904848122}. Best is trial 11 with value: 0.5490196078431373.\n"
     ]
    },
    {
     "name": "stdout",
     "output_type": "stream",
     "text": [
      "Epoch 13: Train Loss=1.3547, Acc=0.4047, F1=0.4013 | Val Loss=1.4051, Acc=0.3137, F1=0.2991\n",
      "Early stopping\n",
      "\n",
      "[trial 20] build loaders...\n"
     ]
    },
    {
     "name": "stderr",
     "output_type": "stream",
     "text": [
      "C:\\ProgramData\\anaconda3\\Lib\\site-packages\\torch\\nn\\modules\\transformer.py:379: UserWarning: enable_nested_tensor is True, but self.use_nested_tensor is False because encoder_layer.self_attn.batch_first was not True(use batch_first for better inference performance)\n",
      "  warnings.warn(\n"
     ]
    },
    {
     "name": "stdout",
     "output_type": "stream",
     "text": [
      "Epoch 01: Train Loss=1.7680, Acc=0.2943, F1=0.2914 | Val Loss=1.6818, Acc=0.2941, F1=0.1937\n",
      "Epoch 02: Train Loss=1.5716, Acc=0.3144, F1=0.3126 | Val Loss=1.5485, Acc=0.3922, F1=0.3128\n",
      "Epoch 03: Train Loss=1.4902, Acc=0.3579, F1=0.3532 | Val Loss=1.5599, Acc=0.3333, F1=0.2450\n",
      "Epoch 04: Train Loss=1.5289, Acc=0.3043, F1=0.3011 | Val Loss=1.5844, Acc=0.2549, F1=0.1973\n",
      "Epoch 05: Train Loss=1.5090, Acc=0.3110, F1=0.3087 | Val Loss=1.4727, Acc=0.3137, F1=0.3208\n",
      "Epoch 06: Train Loss=1.4525, Acc=0.3846, F1=0.3737 | Val Loss=1.5189, Acc=0.3333, F1=0.2361\n",
      "Epoch 07: Train Loss=1.4293, Acc=0.4013, F1=0.3978 | Val Loss=1.4860, Acc=0.3922, F1=0.3327\n",
      "Epoch 08: Train Loss=1.4114, Acc=0.3746, F1=0.3651 | Val Loss=1.4375, Acc=0.3725, F1=0.3421\n",
      "Epoch 09: Train Loss=1.4460, Acc=0.3445, F1=0.3444 | Val Loss=1.4544, Acc=0.3333, F1=0.3042\n",
      "Epoch 10: Train Loss=1.3622, Acc=0.3980, F1=0.3975 | Val Loss=1.5035, Acc=0.3529, F1=0.2606\n",
      "Epoch 11: Train Loss=1.3186, Acc=0.4114, F1=0.4046 | Val Loss=1.4300, Acc=0.3137, F1=0.2786\n",
      "Epoch 12: Train Loss=1.2517, Acc=0.4515, F1=0.4433 | Val Loss=1.5210, Acc=0.4118, F1=0.3868\n",
      "Epoch 13: Train Loss=1.1963, Acc=0.5117, F1=0.5098 | Val Loss=1.4820, Acc=0.3725, F1=0.3353\n",
      "Epoch 14: Train Loss=1.1156, Acc=0.5084, F1=0.5071 | Val Loss=1.5644, Acc=0.4314, F1=0.3931\n",
      "Epoch 15: Train Loss=1.1353, Acc=0.5518, F1=0.5500 | Val Loss=1.6555, Acc=0.3333, F1=0.2700\n",
      "Epoch 16: Train Loss=0.9812, Acc=0.6154, F1=0.6117 | Val Loss=1.4821, Acc=0.4706, F1=0.4474\n",
      "Epoch 17: Train Loss=0.9978, Acc=0.6288, F1=0.6233 | Val Loss=1.6858, Acc=0.3137, F1=0.2694\n",
      "Epoch 18: Train Loss=0.8003, Acc=0.7224, F1=0.7205 | Val Loss=1.7504, Acc=0.4314, F1=0.3921\n",
      "Epoch 19: Train Loss=0.7385, Acc=0.7124, F1=0.7127 | Val Loss=1.4525, Acc=0.4902, F1=0.4610\n",
      "Epoch 20: Train Loss=0.5720, Acc=0.7692, F1=0.7682 | Val Loss=1.7768, Acc=0.4902, F1=0.4885\n",
      "Epoch 21: Train Loss=0.5469, Acc=0.7993, F1=0.7982 | Val Loss=1.9924, Acc=0.4118, F1=0.4055\n",
      "Epoch 22: Train Loss=0.5579, Acc=0.7793, F1=0.7783 | Val Loss=2.0857, Acc=0.4706, F1=0.4407\n",
      "Epoch 23: Train Loss=0.3819, Acc=0.8629, F1=0.8620 | Val Loss=2.3126, Acc=0.4510, F1=0.4259\n",
      "Epoch 24: Train Loss=0.3079, Acc=0.8696, F1=0.8684 | Val Loss=3.6317, Acc=0.4314, F1=0.3692\n",
      "Epoch 25: Train Loss=0.3566, Acc=0.8696, F1=0.8701 | Val Loss=2.7927, Acc=0.4706, F1=0.4235\n",
      "Epoch 26: Train Loss=0.3258, Acc=0.8829, F1=0.8826 | Val Loss=2.7135, Acc=0.4510, F1=0.4107\n",
      "Epoch 27: Train Loss=0.2153, Acc=0.9264, F1=0.9260 | Val Loss=3.1594, Acc=0.4118, F1=0.3863\n",
      "Epoch 28: Train Loss=0.2326, Acc=0.9197, F1=0.9188 | Val Loss=3.7837, Acc=0.3725, F1=0.3632\n"
     ]
    },
    {
     "name": "stderr",
     "output_type": "stream",
     "text": [
      "[I 2025-08-16 22:13:30,530] Trial 20 finished with value: 0.49019607843137253 and parameters: {'nhead': 4, 'num_layers': 2, 'lr': 0.00013953416755976746, 'weight_decay': 0.0002836689484186475}. Best is trial 11 with value: 0.5490196078431373.\n"
     ]
    },
    {
     "name": "stdout",
     "output_type": "stream",
     "text": [
      "Epoch 29: Train Loss=0.1873, Acc=0.9398, F1=0.9399 | Val Loss=3.3258, Acc=0.4118, F1=0.3917\n",
      "Early stopping\n",
      "\n",
      "[trial 21] build loaders...\n"
     ]
    },
    {
     "name": "stderr",
     "output_type": "stream",
     "text": [
      "C:\\ProgramData\\anaconda3\\Lib\\site-packages\\torch\\nn\\modules\\transformer.py:379: UserWarning: enable_nested_tensor is True, but self.use_nested_tensor is False because encoder_layer.self_attn.batch_first was not True(use batch_first for better inference performance)\n",
      "  warnings.warn(\n"
     ]
    },
    {
     "name": "stdout",
     "output_type": "stream",
     "text": [
      "Epoch 01: Train Loss=1.7177, Acc=0.3278, F1=0.3248 | Val Loss=1.6008, Acc=0.3137, F1=0.2090\n",
      "Epoch 02: Train Loss=1.5589, Acc=0.3043, F1=0.3020 | Val Loss=1.6057, Acc=0.2745, F1=0.1580\n",
      "Epoch 03: Train Loss=1.5259, Acc=0.3278, F1=0.3201 | Val Loss=1.5798, Acc=0.2941, F1=0.1685\n",
      "Epoch 04: Train Loss=1.4752, Acc=0.3344, F1=0.3281 | Val Loss=1.4663, Acc=0.3529, F1=0.3189\n",
      "Epoch 05: Train Loss=1.4956, Acc=0.3545, F1=0.3515 | Val Loss=1.4525, Acc=0.3333, F1=0.2792\n",
      "Epoch 06: Train Loss=1.4394, Acc=0.3579, F1=0.3563 | Val Loss=1.4531, Acc=0.3137, F1=0.2335\n",
      "Epoch 07: Train Loss=1.4007, Acc=0.3913, F1=0.3915 | Val Loss=1.6243, Acc=0.3725, F1=0.2885\n",
      "Epoch 08: Train Loss=1.4311, Acc=0.3746, F1=0.3699 | Val Loss=1.4493, Acc=0.3922, F1=0.3752\n",
      "Epoch 09: Train Loss=1.2605, Acc=0.4482, F1=0.4393 | Val Loss=1.4493, Acc=0.4706, F1=0.3981\n",
      "Epoch 10: Train Loss=1.2099, Acc=0.5151, F1=0.5146 | Val Loss=1.3501, Acc=0.3922, F1=0.3666\n",
      "Epoch 11: Train Loss=1.1335, Acc=0.5585, F1=0.5500 | Val Loss=1.5329, Acc=0.3333, F1=0.3229\n",
      "Epoch 12: Train Loss=1.0905, Acc=0.5552, F1=0.5550 | Val Loss=1.2716, Acc=0.5294, F1=0.5225\n",
      "Epoch 13: Train Loss=0.9671, Acc=0.6154, F1=0.6156 | Val Loss=1.2886, Acc=0.5490, F1=0.5591\n",
      "Epoch 14: Train Loss=0.8501, Acc=0.6421, F1=0.6414 | Val Loss=1.7400, Acc=0.3529, F1=0.3165\n",
      "Epoch 15: Train Loss=0.8056, Acc=0.6856, F1=0.6837 | Val Loss=1.4608, Acc=0.5294, F1=0.5125\n",
      "Epoch 16: Train Loss=0.6038, Acc=0.7425, F1=0.7423 | Val Loss=1.6188, Acc=0.4706, F1=0.4762\n",
      "Epoch 17: Train Loss=0.4621, Acc=0.8361, F1=0.8354 | Val Loss=2.1421, Acc=0.4118, F1=0.4239\n",
      "Epoch 18: Train Loss=0.3963, Acc=0.8495, F1=0.8495 | Val Loss=2.0052, Acc=0.5294, F1=0.5267\n",
      "Epoch 19: Train Loss=0.4056, Acc=0.8395, F1=0.8389 | Val Loss=2.0779, Acc=0.4706, F1=0.4586\n",
      "Epoch 20: Train Loss=0.2774, Acc=0.9030, F1=0.9023 | Val Loss=2.6761, Acc=0.3922, F1=0.3952\n",
      "Epoch 21: Train Loss=0.2610, Acc=0.8930, F1=0.8929 | Val Loss=2.4957, Acc=0.5294, F1=0.5086\n",
      "Epoch 22: Train Loss=0.1681, Acc=0.9565, F1=0.9564 | Val Loss=3.4227, Acc=0.4510, F1=0.4757\n",
      "Epoch 23: Train Loss=0.1531, Acc=0.9565, F1=0.9564 | Val Loss=2.7257, Acc=0.5686, F1=0.5550\n",
      "Epoch 24: Train Loss=0.0467, Acc=0.9900, F1=0.9899 | Val Loss=3.6093, Acc=0.4510, F1=0.4442\n",
      "Epoch 25: Train Loss=0.0256, Acc=0.9967, F1=0.9967 | Val Loss=3.8215, Acc=0.4706, F1=0.4607\n",
      "Epoch 26: Train Loss=0.0277, Acc=0.9933, F1=0.9933 | Val Loss=3.9432, Acc=0.4902, F1=0.4620\n",
      "Epoch 27: Train Loss=0.0333, Acc=0.9833, F1=0.9833 | Val Loss=3.7307, Acc=0.4902, F1=0.4785\n",
      "Epoch 28: Train Loss=0.0304, Acc=0.9900, F1=0.9899 | Val Loss=4.2318, Acc=0.4118, F1=0.4222\n",
      "Epoch 29: Train Loss=0.0232, Acc=0.9900, F1=0.9900 | Val Loss=4.3341, Acc=0.5098, F1=0.5201\n",
      "Epoch 30: Train Loss=0.0375, Acc=0.9900, F1=0.9900 | Val Loss=5.0274, Acc=0.4118, F1=0.4027\n",
      "Epoch 31: Train Loss=0.1198, Acc=0.9632, F1=0.9631 | Val Loss=3.9431, Acc=0.4706, F1=0.4611\n",
      "Epoch 32: Train Loss=0.0405, Acc=0.9866, F1=0.9866 | Val Loss=4.7637, Acc=0.4706, F1=0.4522\n"
     ]
    },
    {
     "name": "stderr",
     "output_type": "stream",
     "text": [
      "[I 2025-08-16 22:15:53,723] Trial 21 finished with value: 0.5686274509803921 and parameters: {'nhead': 4, 'num_layers': 2, 'lr': 0.00010434959787802714, 'weight_decay': 9.753615006446377e-05}. Best is trial 21 with value: 0.5686274509803921.\n"
     ]
    },
    {
     "name": "stdout",
     "output_type": "stream",
     "text": [
      "Epoch 33: Train Loss=0.0510, Acc=0.9866, F1=0.9866 | Val Loss=3.7077, Acc=0.4706, F1=0.4696\n",
      "Early stopping\n",
      "\n",
      "[trial 22] build loaders...\n"
     ]
    },
    {
     "name": "stderr",
     "output_type": "stream",
     "text": [
      "C:\\ProgramData\\anaconda3\\Lib\\site-packages\\torch\\nn\\modules\\transformer.py:379: UserWarning: enable_nested_tensor is True, but self.use_nested_tensor is False because encoder_layer.self_attn.batch_first was not True(use batch_first for better inference performance)\n",
      "  warnings.warn(\n"
     ]
    },
    {
     "name": "stdout",
     "output_type": "stream",
     "text": [
      "Epoch 01: Train Loss=1.8595, Acc=0.2809, F1=0.2811 | Val Loss=1.7523, Acc=0.2549, F1=0.1867\n",
      "Epoch 02: Train Loss=1.6416, Acc=0.3311, F1=0.3287 | Val Loss=1.7572, Acc=0.3333, F1=0.1924\n",
      "Epoch 03: Train Loss=1.5339, Acc=0.3579, F1=0.3582 | Val Loss=1.5650, Acc=0.3333, F1=0.2543\n",
      "Epoch 04: Train Loss=1.5617, Acc=0.3043, F1=0.3027 | Val Loss=1.5530, Acc=0.2549, F1=0.1463\n",
      "Epoch 05: Train Loss=1.4303, Acc=0.3712, F1=0.3543 | Val Loss=1.5365, Acc=0.3529, F1=0.3000\n",
      "Epoch 06: Train Loss=1.4411, Acc=0.3980, F1=0.3977 | Val Loss=1.5153, Acc=0.3529, F1=0.2493\n",
      "Epoch 07: Train Loss=1.3623, Acc=0.4114, F1=0.4066 | Val Loss=1.4677, Acc=0.3529, F1=0.3304\n",
      "Epoch 08: Train Loss=1.3418, Acc=0.4214, F1=0.4178 | Val Loss=1.4352, Acc=0.4118, F1=0.3893\n",
      "Epoch 09: Train Loss=1.2424, Acc=0.4916, F1=0.4889 | Val Loss=1.4692, Acc=0.3529, F1=0.3304\n",
      "Epoch 10: Train Loss=1.1203, Acc=0.5585, F1=0.5581 | Val Loss=1.4054, Acc=0.4314, F1=0.4078\n",
      "Epoch 11: Train Loss=1.0156, Acc=0.5786, F1=0.5782 | Val Loss=1.5197, Acc=0.4510, F1=0.4355\n",
      "Epoch 12: Train Loss=0.9038, Acc=0.6656, F1=0.6645 | Val Loss=1.6176, Acc=0.4118, F1=0.4158\n",
      "Epoch 13: Train Loss=0.7974, Acc=0.6622, F1=0.6601 | Val Loss=1.6030, Acc=0.4118, F1=0.3995\n",
      "Epoch 14: Train Loss=0.7087, Acc=0.7659, F1=0.7655 | Val Loss=2.3261, Acc=0.4902, F1=0.4412\n",
      "Epoch 15: Train Loss=0.6444, Acc=0.7492, F1=0.7494 | Val Loss=1.7648, Acc=0.4314, F1=0.3972\n",
      "Epoch 16: Train Loss=0.3151, Acc=0.8729, F1=0.8727 | Val Loss=3.0611, Acc=0.3922, F1=0.3505\n",
      "Epoch 17: Train Loss=0.3655, Acc=0.8629, F1=0.8629 | Val Loss=2.9465, Acc=0.4118, F1=0.3911\n",
      "Epoch 18: Train Loss=0.2906, Acc=0.9097, F1=0.9092 | Val Loss=3.3880, Acc=0.4706, F1=0.4516\n",
      "Epoch 19: Train Loss=0.2391, Acc=0.9164, F1=0.9162 | Val Loss=3.7329, Acc=0.3333, F1=0.3005\n",
      "Epoch 20: Train Loss=0.2427, Acc=0.9331, F1=0.9330 | Val Loss=4.0555, Acc=0.4118, F1=0.4097\n",
      "Epoch 21: Train Loss=0.0816, Acc=0.9799, F1=0.9799 | Val Loss=3.9256, Acc=0.4314, F1=0.4243\n",
      "Epoch 22: Train Loss=0.0711, Acc=0.9699, F1=0.9699 | Val Loss=4.0371, Acc=0.4706, F1=0.4665\n",
      "Epoch 23: Train Loss=0.1647, Acc=0.9532, F1=0.9530 | Val Loss=4.1375, Acc=0.3725, F1=0.3684\n"
     ]
    },
    {
     "name": "stderr",
     "output_type": "stream",
     "text": [
      "[I 2025-08-16 22:17:37,644] Trial 22 finished with value: 0.49019607843137253 and parameters: {'nhead': 4, 'num_layers': 2, 'lr': 0.00017320214282304762, 'weight_decay': 6.144906551352695e-05}. Best is trial 21 with value: 0.5686274509803921.\n"
     ]
    },
    {
     "name": "stdout",
     "output_type": "stream",
     "text": [
      "Epoch 24: Train Loss=0.0293, Acc=0.9900, F1=0.9899 | Val Loss=4.5415, Acc=0.4118, F1=0.3983\n",
      "Early stopping\n",
      "\n",
      "[trial 23] build loaders...\n"
     ]
    },
    {
     "name": "stderr",
     "output_type": "stream",
     "text": [
      "C:\\ProgramData\\anaconda3\\Lib\\site-packages\\torch\\nn\\modules\\transformer.py:379: UserWarning: enable_nested_tensor is True, but self.use_nested_tensor is False because encoder_layer.self_attn.batch_first was not True(use batch_first for better inference performance)\n",
      "  warnings.warn(\n"
     ]
    },
    {
     "name": "stdout",
     "output_type": "stream",
     "text": [
      "Epoch 01: Train Loss=1.7971, Acc=0.2776, F1=0.2768 | Val Loss=1.6315, Acc=0.2549, F1=0.1706\n",
      "Epoch 02: Train Loss=1.5805, Acc=0.2843, F1=0.2814 | Val Loss=1.5069, Acc=0.3725, F1=0.3103\n",
      "Epoch 03: Train Loss=1.5109, Acc=0.3177, F1=0.3124 | Val Loss=1.4777, Acc=0.3333, F1=0.2215\n",
      "Epoch 04: Train Loss=1.4992, Acc=0.3445, F1=0.3423 | Val Loss=1.7239, Acc=0.2941, F1=0.2075\n",
      "Epoch 05: Train Loss=1.4824, Acc=0.3545, F1=0.3499 | Val Loss=1.5217, Acc=0.2353, F1=0.2086\n",
      "Epoch 06: Train Loss=1.4222, Acc=0.3411, F1=0.3395 | Val Loss=1.3997, Acc=0.3922, F1=0.3804\n",
      "Epoch 07: Train Loss=1.3814, Acc=0.3779, F1=0.3788 | Val Loss=1.4913, Acc=0.3137, F1=0.2316\n",
      "Epoch 08: Train Loss=1.3302, Acc=0.4615, F1=0.4615 | Val Loss=1.4450, Acc=0.3333, F1=0.2632\n",
      "Epoch 09: Train Loss=1.3002, Acc=0.4515, F1=0.4487 | Val Loss=1.4017, Acc=0.3725, F1=0.3735\n",
      "Epoch 10: Train Loss=1.1759, Acc=0.5452, F1=0.5425 | Val Loss=1.4728, Acc=0.3529, F1=0.2953\n",
      "Epoch 11: Train Loss=1.0513, Acc=0.5786, F1=0.5746 | Val Loss=1.4600, Acc=0.3922, F1=0.3891\n",
      "Epoch 12: Train Loss=0.9459, Acc=0.6321, F1=0.6314 | Val Loss=1.7295, Acc=0.3922, F1=0.3763\n",
      "Epoch 13: Train Loss=0.8550, Acc=0.6622, F1=0.6622 | Val Loss=1.6717, Acc=0.3922, F1=0.3840\n",
      "Epoch 14: Train Loss=0.7062, Acc=0.7191, F1=0.7159 | Val Loss=1.9760, Acc=0.3922, F1=0.3746\n",
      "Epoch 15: Train Loss=0.5516, Acc=0.7993, F1=0.8003 | Val Loss=2.7269, Acc=0.3725, F1=0.3459\n",
      "Epoch 16: Train Loss=0.4111, Acc=0.8395, F1=0.8377 | Val Loss=2.5136, Acc=0.4314, F1=0.3959\n",
      "Epoch 17: Train Loss=0.3989, Acc=0.8629, F1=0.8599 | Val Loss=3.0536, Acc=0.3137, F1=0.2782\n",
      "Epoch 18: Train Loss=0.3222, Acc=0.8662, F1=0.8656 | Val Loss=3.1512, Acc=0.4118, F1=0.3961\n",
      "Epoch 19: Train Loss=0.2060, Acc=0.9365, F1=0.9363 | Val Loss=3.3844, Acc=0.4118, F1=0.4070\n",
      "Epoch 20: Train Loss=0.1979, Acc=0.9298, F1=0.9294 | Val Loss=3.9512, Acc=0.4314, F1=0.4084\n",
      "Epoch 21: Train Loss=0.2320, Acc=0.9231, F1=0.9232 | Val Loss=4.4011, Acc=0.3725, F1=0.3384\n",
      "Epoch 22: Train Loss=0.1394, Acc=0.9565, F1=0.9565 | Val Loss=4.2807, Acc=0.3922, F1=0.3635\n",
      "Epoch 23: Train Loss=0.1073, Acc=0.9498, F1=0.9499 | Val Loss=4.1411, Acc=0.4314, F1=0.4237\n",
      "Epoch 24: Train Loss=0.0843, Acc=0.9766, F1=0.9767 | Val Loss=4.0192, Acc=0.4314, F1=0.4121\n",
      "Epoch 25: Train Loss=0.0087, Acc=0.9967, F1=0.9967 | Val Loss=4.3511, Acc=0.3922, F1=0.3905\n"
     ]
    },
    {
     "name": "stderr",
     "output_type": "stream",
     "text": [
      "[I 2025-08-16 22:19:31,023] Trial 23 finished with value: 0.43137254901960786 and parameters: {'nhead': 4, 'num_layers': 2, 'lr': 0.00010052410334227605, 'weight_decay': 3.6334054481525195e-05}. Best is trial 21 with value: 0.5686274509803921.\n"
     ]
    },
    {
     "name": "stdout",
     "output_type": "stream",
     "text": [
      "Epoch 26: Train Loss=0.0243, Acc=0.9933, F1=0.9933 | Val Loss=4.9410, Acc=0.3922, F1=0.3703\n",
      "Early stopping\n",
      "\n",
      "[trial 24] build loaders...\n"
     ]
    },
    {
     "name": "stderr",
     "output_type": "stream",
     "text": [
      "C:\\ProgramData\\anaconda3\\Lib\\site-packages\\torch\\nn\\modules\\transformer.py:379: UserWarning: enable_nested_tensor is True, but self.use_nested_tensor is False because encoder_layer.self_attn.batch_first was not True(use batch_first for better inference performance)\n",
      "  warnings.warn(\n"
     ]
    },
    {
     "name": "stdout",
     "output_type": "stream",
     "text": [
      "Epoch 01: Train Loss=2.0857, Acc=0.2375, F1=0.2389 | Val Loss=1.8363, Acc=0.1961, F1=0.0656\n",
      "Epoch 02: Train Loss=1.6349, Acc=0.2742, F1=0.2615 | Val Loss=1.6699, Acc=0.2353, F1=0.1248\n",
      "Epoch 03: Train Loss=1.6174, Acc=0.2241, F1=0.2068 | Val Loss=1.5229, Acc=0.3529, F1=0.2300\n",
      "Epoch 04: Train Loss=1.6137, Acc=0.2876, F1=0.2877 | Val Loss=1.5718, Acc=0.1961, F1=0.0656\n",
      "Epoch 05: Train Loss=1.5742, Acc=0.2542, F1=0.2510 | Val Loss=1.6213, Acc=0.1961, F1=0.0656\n",
      "Epoch 06: Train Loss=1.5495, Acc=0.3077, F1=0.3088 | Val Loss=1.5308, Acc=0.3137, F1=0.2331\n",
      "Epoch 07: Train Loss=1.6159, Acc=0.2140, F1=0.2097 | Val Loss=1.5263, Acc=0.2353, F1=0.1712\n",
      "Epoch 08: Train Loss=1.5197, Acc=0.3445, F1=0.3363 | Val Loss=1.5583, Acc=0.3137, F1=0.1812\n",
      "Epoch 09: Train Loss=1.5020, Acc=0.3077, F1=0.2816 | Val Loss=1.4686, Acc=0.3137, F1=0.2087\n",
      "Epoch 10: Train Loss=1.4975, Acc=0.3344, F1=0.2617 | Val Loss=1.4684, Acc=0.2941, F1=0.1823\n",
      "Epoch 11: Train Loss=1.5030, Acc=0.2843, F1=0.2812 | Val Loss=1.4917, Acc=0.2745, F1=0.1632\n",
      "Epoch 12: Train Loss=1.5460, Acc=0.2977, F1=0.2733 | Val Loss=1.5524, Acc=0.2941, F1=0.1846\n"
     ]
    },
    {
     "name": "stderr",
     "output_type": "stream",
     "text": [
      "[I 2025-08-16 22:20:52,363] Trial 24 finished with value: 0.35294117647058826 and parameters: {'nhead': 4, 'num_layers': 3, 'lr': 0.00032367871286896876, 'weight_decay': 7.751334024424333e-05}. Best is trial 21 with value: 0.5686274509803921.\n"
     ]
    },
    {
     "name": "stdout",
     "output_type": "stream",
     "text": [
      "Epoch 13: Train Loss=1.5012, Acc=0.2575, F1=0.2476 | Val Loss=1.4755, Acc=0.3333, F1=0.1932\n",
      "Early stopping\n",
      "\n",
      "[trial 25] build loaders...\n"
     ]
    },
    {
     "name": "stderr",
     "output_type": "stream",
     "text": [
      "C:\\ProgramData\\anaconda3\\Lib\\site-packages\\torch\\nn\\modules\\transformer.py:379: UserWarning: enable_nested_tensor is True, but self.use_nested_tensor is False because encoder_layer.self_attn.batch_first was not True(use batch_first for better inference performance)\n",
      "  warnings.warn(\n"
     ]
    },
    {
     "name": "stdout",
     "output_type": "stream",
     "text": [
      "Epoch 01: Train Loss=1.8458, Acc=0.2676, F1=0.2699 | Val Loss=1.7006, Acc=0.2353, F1=0.1227\n",
      "Epoch 02: Train Loss=1.5971, Acc=0.2776, F1=0.2773 | Val Loss=1.6256, Acc=0.2353, F1=0.1696\n",
      "Epoch 03: Train Loss=1.5554, Acc=0.3043, F1=0.2985 | Val Loss=1.4877, Acc=0.2941, F1=0.2612\n",
      "Epoch 04: Train Loss=1.4827, Acc=0.3211, F1=0.3186 | Val Loss=1.6266, Acc=0.3137, F1=0.1877\n",
      "Epoch 05: Train Loss=1.4682, Acc=0.3344, F1=0.3258 | Val Loss=1.5277, Acc=0.2941, F1=0.2104\n",
      "Epoch 06: Train Loss=1.4299, Acc=0.3679, F1=0.3616 | Val Loss=1.4201, Acc=0.3725, F1=0.3420\n",
      "Epoch 07: Train Loss=1.3951, Acc=0.3645, F1=0.3516 | Val Loss=1.4840, Acc=0.3725, F1=0.3257\n",
      "Epoch 08: Train Loss=1.3297, Acc=0.4147, F1=0.4105 | Val Loss=1.5292, Acc=0.3333, F1=0.3104\n",
      "Epoch 09: Train Loss=1.3101, Acc=0.4348, F1=0.4304 | Val Loss=1.3739, Acc=0.3725, F1=0.3585\n",
      "Epoch 10: Train Loss=1.2322, Acc=0.4849, F1=0.4823 | Val Loss=1.5441, Acc=0.3529, F1=0.3175\n",
      "Epoch 11: Train Loss=1.1691, Acc=0.5050, F1=0.5031 | Val Loss=1.4267, Acc=0.4118, F1=0.3972\n",
      "Epoch 12: Train Loss=1.0819, Acc=0.5585, F1=0.5516 | Val Loss=1.7278, Acc=0.3529, F1=0.2809\n",
      "Epoch 13: Train Loss=1.0363, Acc=0.5786, F1=0.5775 | Val Loss=1.5690, Acc=0.3922, F1=0.3461\n",
      "Epoch 14: Train Loss=0.8928, Acc=0.6789, F1=0.6792 | Val Loss=1.7196, Acc=0.4510, F1=0.3706\n",
      "Epoch 15: Train Loss=0.8057, Acc=0.6923, F1=0.6916 | Val Loss=1.6848, Acc=0.4118, F1=0.3565\n",
      "Epoch 16: Train Loss=0.6157, Acc=0.7926, F1=0.7918 | Val Loss=1.6707, Acc=0.5294, F1=0.5388\n",
      "Epoch 17: Train Loss=0.5608, Acc=0.7759, F1=0.7764 | Val Loss=2.1354, Acc=0.4706, F1=0.4543\n",
      "Epoch 18: Train Loss=0.4702, Acc=0.8060, F1=0.8056 | Val Loss=2.8092, Acc=0.2549, F1=0.2370\n",
      "Epoch 19: Train Loss=0.3338, Acc=0.8763, F1=0.8761 | Val Loss=2.3850, Acc=0.4510, F1=0.4473\n",
      "Epoch 20: Train Loss=0.4736, Acc=0.8763, F1=0.8754 | Val Loss=2.4808, Acc=0.5098, F1=0.4975\n",
      "Epoch 21: Train Loss=0.3530, Acc=0.8796, F1=0.8788 | Val Loss=2.5163, Acc=0.5098, F1=0.4875\n",
      "Epoch 22: Train Loss=0.1376, Acc=0.9398, F1=0.9396 | Val Loss=3.0527, Acc=0.4510, F1=0.4541\n",
      "Epoch 23: Train Loss=0.2322, Acc=0.9331, F1=0.9330 | Val Loss=3.3080, Acc=0.4510, F1=0.4442\n",
      "Epoch 24: Train Loss=0.1509, Acc=0.9766, F1=0.9764 | Val Loss=2.6487, Acc=0.5490, F1=0.5486\n",
      "Epoch 25: Train Loss=0.2285, Acc=0.9666, F1=0.9666 | Val Loss=3.6281, Acc=0.4706, F1=0.4544\n",
      "Epoch 26: Train Loss=0.0844, Acc=0.9666, F1=0.9666 | Val Loss=3.5229, Acc=0.5098, F1=0.5132\n",
      "Epoch 27: Train Loss=0.1042, Acc=0.9565, F1=0.9562 | Val Loss=3.6049, Acc=0.4706, F1=0.4509\n",
      "Epoch 28: Train Loss=0.1157, Acc=0.9732, F1=0.9732 | Val Loss=4.1929, Acc=0.4314, F1=0.4403\n",
      "Epoch 29: Train Loss=0.1279, Acc=0.9732, F1=0.9731 | Val Loss=3.6063, Acc=0.4706, F1=0.4629\n",
      "Epoch 30: Train Loss=0.0330, Acc=0.9866, F1=0.9866 | Val Loss=3.9692, Acc=0.5294, F1=0.4891\n",
      "Epoch 31: Train Loss=0.0494, Acc=0.9866, F1=0.9866 | Val Loss=4.6959, Acc=0.4510, F1=0.4166\n",
      "Epoch 32: Train Loss=0.0498, Acc=0.9866, F1=0.9866 | Val Loss=4.3100, Acc=0.4706, F1=0.4766\n",
      "Epoch 33: Train Loss=0.0497, Acc=0.9866, F1=0.9866 | Val Loss=4.7924, Acc=0.4510, F1=0.4337\n"
     ]
    },
    {
     "name": "stderr",
     "output_type": "stream",
     "text": [
      "[I 2025-08-16 22:23:20,983] Trial 25 finished with value: 0.5490196078431373 and parameters: {'nhead': 4, 'num_layers': 2, 'lr': 0.00020301680804382034, 'weight_decay': 0.00016307267195726492}. Best is trial 21 with value: 0.5686274509803921.\n"
     ]
    },
    {
     "name": "stdout",
     "output_type": "stream",
     "text": [
      "Epoch 34: Train Loss=0.0467, Acc=0.9866, F1=0.9867 | Val Loss=4.6528, Acc=0.3922, F1=0.3899\n",
      "Early stopping\n",
      "\n",
      "[trial 26] build loaders...\n"
     ]
    },
    {
     "name": "stderr",
     "output_type": "stream",
     "text": [
      "C:\\ProgramData\\anaconda3\\Lib\\site-packages\\torch\\nn\\modules\\transformer.py:379: UserWarning: enable_nested_tensor is True, but self.use_nested_tensor is False because encoder_layer.self_attn.batch_first was not True(use batch_first for better inference performance)\n",
      "  warnings.warn(\n"
     ]
    },
    {
     "name": "stdout",
     "output_type": "stream",
     "text": [
      "Epoch 01: Train Loss=1.8187, Acc=0.2776, F1=0.2756 | Val Loss=1.5476, Acc=0.3333, F1=0.2801\n",
      "Epoch 02: Train Loss=1.5289, Acc=0.3545, F1=0.3483 | Val Loss=1.4333, Acc=0.3137, F1=0.2851\n",
      "Epoch 03: Train Loss=1.5000, Acc=0.3779, F1=0.3754 | Val Loss=1.6202, Acc=0.3137, F1=0.2093\n",
      "Epoch 04: Train Loss=1.4311, Acc=0.3645, F1=0.3649 | Val Loss=1.4925, Acc=0.3529, F1=0.2721\n",
      "Epoch 05: Train Loss=1.3705, Acc=0.3946, F1=0.3932 | Val Loss=1.4650, Acc=0.3333, F1=0.2884\n",
      "Epoch 06: Train Loss=1.3628, Acc=0.3813, F1=0.3819 | Val Loss=1.4969, Acc=0.3137, F1=0.2773\n",
      "Epoch 07: Train Loss=1.3160, Acc=0.4247, F1=0.4217 | Val Loss=1.5812, Acc=0.2941, F1=0.2373\n",
      "Epoch 08: Train Loss=1.2658, Acc=0.4749, F1=0.4738 | Val Loss=1.4271, Acc=0.3333, F1=0.3088\n",
      "Epoch 09: Train Loss=1.2197, Acc=0.4849, F1=0.4846 | Val Loss=1.4452, Acc=0.3725, F1=0.3546\n",
      "Epoch 10: Train Loss=1.1520, Acc=0.5485, F1=0.5472 | Val Loss=1.4607, Acc=0.4706, F1=0.4456\n",
      "Epoch 11: Train Loss=1.0791, Acc=0.5819, F1=0.5811 | Val Loss=1.6136, Acc=0.4314, F1=0.3407\n",
      "Epoch 12: Train Loss=1.0192, Acc=0.5151, F1=0.5154 | Val Loss=1.4417, Acc=0.4706, F1=0.4509\n",
      "Epoch 13: Train Loss=0.9521, Acc=0.6187, F1=0.6172 | Val Loss=1.4437, Acc=0.4314, F1=0.4277\n",
      "Epoch 14: Train Loss=0.9228, Acc=0.6187, F1=0.6170 | Val Loss=1.5436, Acc=0.4118, F1=0.3834\n",
      "Epoch 15: Train Loss=0.8169, Acc=0.7057, F1=0.7053 | Val Loss=1.5117, Acc=0.4706, F1=0.4502\n",
      "Epoch 16: Train Loss=0.8218, Acc=0.6890, F1=0.6892 | Val Loss=1.6682, Acc=0.4706, F1=0.4338\n",
      "Epoch 17: Train Loss=0.7421, Acc=0.7090, F1=0.7095 | Val Loss=1.4543, Acc=0.5294, F1=0.4877\n",
      "Epoch 18: Train Loss=0.6355, Acc=0.7692, F1=0.7693 | Val Loss=1.6182, Acc=0.5294, F1=0.4697\n",
      "Epoch 19: Train Loss=0.6404, Acc=0.7324, F1=0.7308 | Val Loss=2.1309, Acc=0.4510, F1=0.4235\n",
      "Epoch 20: Train Loss=0.5564, Acc=0.7860, F1=0.7858 | Val Loss=1.8478, Acc=0.5490, F1=0.5238\n",
      "Epoch 21: Train Loss=0.4168, Acc=0.8562, F1=0.8560 | Val Loss=2.4133, Acc=0.4902, F1=0.4602\n",
      "Epoch 22: Train Loss=0.4453, Acc=0.8395, F1=0.8398 | Val Loss=2.3542, Acc=0.5294, F1=0.4953\n",
      "Epoch 23: Train Loss=0.3444, Acc=0.8662, F1=0.8664 | Val Loss=2.7597, Acc=0.5294, F1=0.4959\n",
      "Epoch 24: Train Loss=0.2980, Acc=0.9030, F1=0.9033 | Val Loss=3.2276, Acc=0.4314, F1=0.4053\n",
      "Epoch 25: Train Loss=0.3654, Acc=0.8896, F1=0.8895 | Val Loss=4.4527, Acc=0.3333, F1=0.2919\n",
      "Epoch 26: Train Loss=0.2130, Acc=0.9365, F1=0.9367 | Val Loss=3.6762, Acc=0.4902, F1=0.4588\n",
      "Epoch 27: Train Loss=0.1124, Acc=0.9498, F1=0.9497 | Val Loss=3.3804, Acc=0.4706, F1=0.4636\n",
      "Epoch 28: Train Loss=0.1101, Acc=0.9565, F1=0.9564 | Val Loss=3.9393, Acc=0.4118, F1=0.4095\n",
      "Epoch 29: Train Loss=0.0866, Acc=0.9766, F1=0.9765 | Val Loss=4.1187, Acc=0.4510, F1=0.4468\n"
     ]
    },
    {
     "name": "stderr",
     "output_type": "stream",
     "text": [
      "[I 2025-08-16 22:24:39,364] Trial 26 finished with value: 0.5490196078431373 and parameters: {'nhead': 8, 'num_layers': 1, 'lr': 0.00019072713147606145, 'weight_decay': 0.00015739304768163162}. Best is trial 21 with value: 0.5686274509803921.\n"
     ]
    },
    {
     "name": "stdout",
     "output_type": "stream",
     "text": [
      "Epoch 30: Train Loss=0.0618, Acc=0.9799, F1=0.9799 | Val Loss=4.4398, Acc=0.4510, F1=0.4413\n",
      "Early stopping\n",
      "\n",
      "[trial 27] build loaders...\n"
     ]
    },
    {
     "name": "stderr",
     "output_type": "stream",
     "text": [
      "C:\\ProgramData\\anaconda3\\Lib\\site-packages\\torch\\nn\\modules\\transformer.py:379: UserWarning: enable_nested_tensor is True, but self.use_nested_tensor is False because encoder_layer.self_attn.batch_first was not True(use batch_first for better inference performance)\n",
      "  warnings.warn(\n"
     ]
    },
    {
     "name": "stdout",
     "output_type": "stream",
     "text": [
      "Epoch 01: Train Loss=2.3299, Acc=0.2174, F1=0.2143 | Val Loss=1.7884, Acc=0.2745, F1=0.1562\n",
      "Epoch 02: Train Loss=1.7240, Acc=0.2174, F1=0.2104 | Val Loss=1.6196, Acc=0.2941, F1=0.1667\n",
      "Epoch 03: Train Loss=1.6501, Acc=0.2375, F1=0.2284 | Val Loss=1.5516, Acc=0.2941, F1=0.2446\n",
      "Epoch 04: Train Loss=1.6250, Acc=0.2642, F1=0.2613 | Val Loss=1.4438, Acc=0.3922, F1=0.2858\n",
      "Epoch 05: Train Loss=1.6040, Acc=0.2441, F1=0.2351 | Val Loss=1.6234, Acc=0.2353, F1=0.1085\n",
      "Epoch 06: Train Loss=1.6032, Acc=0.2776, F1=0.2766 | Val Loss=1.4856, Acc=0.2941, F1=0.1652\n",
      "Epoch 07: Train Loss=1.5422, Acc=0.3545, F1=0.3536 | Val Loss=1.6149, Acc=0.2941, F1=0.1694\n",
      "Epoch 08: Train Loss=1.5751, Acc=0.2876, F1=0.2807 | Val Loss=1.4925, Acc=0.2745, F1=0.1852\n",
      "Epoch 09: Train Loss=1.5229, Acc=0.2575, F1=0.2311 | Val Loss=1.5600, Acc=0.2745, F1=0.1584\n",
      "Epoch 10: Train Loss=1.5068, Acc=0.2843, F1=0.2573 | Val Loss=1.4872, Acc=0.3725, F1=0.3503\n",
      "Epoch 11: Train Loss=1.5044, Acc=0.2977, F1=0.2928 | Val Loss=1.4594, Acc=0.3529, F1=0.2446\n",
      "Epoch 12: Train Loss=1.4808, Acc=0.3177, F1=0.3000 | Val Loss=1.4702, Acc=0.2745, F1=0.2346\n",
      "Epoch 13: Train Loss=1.4628, Acc=0.3144, F1=0.3139 | Val Loss=1.4934, Acc=0.2745, F1=0.1878\n"
     ]
    },
    {
     "name": "stderr",
     "output_type": "stream",
     "text": [
      "[I 2025-08-16 22:25:39,414] Trial 27 finished with value: 0.39215686274509803 and parameters: {'nhead': 4, 'num_layers': 2, 'lr': 0.0006644311640426634, 'weight_decay': 0.0005887057869447707}. Best is trial 21 with value: 0.5686274509803921.\n"
     ]
    },
    {
     "name": "stdout",
     "output_type": "stream",
     "text": [
      "Epoch 14: Train Loss=1.4993, Acc=0.3110, F1=0.2521 | Val Loss=1.5310, Acc=0.3922, F1=0.3464\n",
      "Early stopping\n",
      "\n",
      "[trial 28] build loaders...\n"
     ]
    },
    {
     "name": "stderr",
     "output_type": "stream",
     "text": [
      "C:\\ProgramData\\anaconda3\\Lib\\site-packages\\torch\\nn\\modules\\transformer.py:379: UserWarning: enable_nested_tensor is True, but self.use_nested_tensor is False because encoder_layer.self_attn.batch_first was not True(use batch_first for better inference performance)\n",
      "  warnings.warn(\n"
     ]
    },
    {
     "name": "stdout",
     "output_type": "stream",
     "text": [
      "Epoch 01: Train Loss=1.9844, Acc=0.2575, F1=0.2569 | Val Loss=1.6324, Acc=0.2353, F1=0.1880\n",
      "Epoch 02: Train Loss=1.6019, Acc=0.2843, F1=0.2831 | Val Loss=1.5879, Acc=0.2549, F1=0.1492\n",
      "Epoch 03: Train Loss=1.5442, Acc=0.3177, F1=0.3177 | Val Loss=1.4603, Acc=0.3922, F1=0.2751\n",
      "Epoch 04: Train Loss=1.5227, Acc=0.2943, F1=0.2826 | Val Loss=1.5675, Acc=0.2549, F1=0.1867\n",
      "Epoch 05: Train Loss=1.5892, Acc=0.2943, F1=0.2928 | Val Loss=1.4814, Acc=0.3137, F1=0.2241\n",
      "Epoch 06: Train Loss=1.5024, Acc=0.3344, F1=0.3322 | Val Loss=1.4629, Acc=0.3137, F1=0.2559\n",
      "Epoch 07: Train Loss=1.4651, Acc=0.3645, F1=0.3602 | Val Loss=1.6840, Acc=0.2941, F1=0.1645\n",
      "Epoch 08: Train Loss=1.5240, Acc=0.3110, F1=0.3038 | Val Loss=1.5117, Acc=0.3333, F1=0.2361\n",
      "Epoch 09: Train Loss=1.4602, Acc=0.3512, F1=0.3371 | Val Loss=1.4120, Acc=0.2941, F1=0.2749\n",
      "Epoch 10: Train Loss=1.4415, Acc=0.3645, F1=0.3506 | Val Loss=1.5878, Acc=0.3333, F1=0.3343\n",
      "Epoch 11: Train Loss=1.4248, Acc=0.3579, F1=0.3467 | Val Loss=1.4879, Acc=0.2549, F1=0.2441\n",
      "Epoch 12: Train Loss=1.4203, Acc=0.3913, F1=0.3882 | Val Loss=1.4019, Acc=0.4314, F1=0.3769\n",
      "Epoch 13: Train Loss=1.3410, Acc=0.4080, F1=0.3992 | Val Loss=1.5240, Acc=0.3137, F1=0.2340\n",
      "Epoch 14: Train Loss=1.3035, Acc=0.4247, F1=0.4188 | Val Loss=1.4836, Acc=0.2941, F1=0.2842\n",
      "Epoch 15: Train Loss=1.2859, Acc=0.4448, F1=0.4414 | Val Loss=1.4895, Acc=0.2941, F1=0.2767\n",
      "Epoch 16: Train Loss=1.2384, Acc=0.4381, F1=0.4386 | Val Loss=1.4469, Acc=0.3137, F1=0.3128\n",
      "Epoch 17: Train Loss=1.2393, Acc=0.4682, F1=0.4656 | Val Loss=1.4637, Acc=0.3529, F1=0.2985\n",
      "Epoch 18: Train Loss=1.1343, Acc=0.5217, F1=0.5175 | Val Loss=1.7855, Acc=0.3529, F1=0.2990\n",
      "Epoch 19: Train Loss=1.0724, Acc=0.5652, F1=0.5645 | Val Loss=1.8361, Acc=0.3529, F1=0.2877\n",
      "Epoch 20: Train Loss=1.0538, Acc=0.5786, F1=0.5779 | Val Loss=1.4757, Acc=0.4118, F1=0.3707\n",
      "Epoch 21: Train Loss=0.9454, Acc=0.5987, F1=0.5984 | Val Loss=1.7197, Acc=0.4510, F1=0.3665\n",
      "Epoch 22: Train Loss=0.8774, Acc=0.6488, F1=0.6472 | Val Loss=1.6770, Acc=0.2941, F1=0.2561\n",
      "Epoch 23: Train Loss=0.8937, Acc=0.6288, F1=0.6250 | Val Loss=1.5288, Acc=0.4510, F1=0.4428\n",
      "Epoch 24: Train Loss=0.7114, Acc=0.7324, F1=0.7323 | Val Loss=1.8327, Acc=0.5098, F1=0.4828\n",
      "Epoch 25: Train Loss=0.7235, Acc=0.6823, F1=0.6823 | Val Loss=1.8183, Acc=0.4314, F1=0.4108\n",
      "Epoch 26: Train Loss=0.6260, Acc=0.7759, F1=0.7744 | Val Loss=1.9008, Acc=0.4706, F1=0.4665\n",
      "Epoch 27: Train Loss=0.6733, Acc=0.7692, F1=0.7697 | Val Loss=1.9112, Acc=0.3922, F1=0.3939\n",
      "Epoch 28: Train Loss=0.6739, Acc=0.7659, F1=0.7647 | Val Loss=2.1269, Acc=0.3922, F1=0.3799\n",
      "Epoch 29: Train Loss=0.6035, Acc=0.7826, F1=0.7806 | Val Loss=2.4084, Acc=0.4510, F1=0.4447\n",
      "Epoch 30: Train Loss=0.4417, Acc=0.8528, F1=0.8528 | Val Loss=2.5468, Acc=0.4510, F1=0.4400\n",
      "Epoch 31: Train Loss=0.4203, Acc=0.8796, F1=0.8795 | Val Loss=2.8774, Acc=0.4510, F1=0.4185\n",
      "Epoch 32: Train Loss=0.4547, Acc=0.8528, F1=0.8527 | Val Loss=2.7670, Acc=0.4510, F1=0.4362\n",
      "Epoch 33: Train Loss=0.3317, Acc=0.8829, F1=0.8823 | Val Loss=3.0680, Acc=0.4118, F1=0.3705\n"
     ]
    },
    {
     "name": "stderr",
     "output_type": "stream",
     "text": [
      "[I 2025-08-16 22:29:10,247] Trial 28 finished with value: 0.5098039215686274 and parameters: {'nhead': 4, 'num_layers': 3, 'lr': 0.00015743845385984696, 'weight_decay': 0.00022243029399284466}. Best is trial 21 with value: 0.5686274509803921.\n"
     ]
    },
    {
     "name": "stdout",
     "output_type": "stream",
     "text": [
      "Epoch 34: Train Loss=0.3090, Acc=0.9164, F1=0.9164 | Val Loss=3.9735, Acc=0.4118, F1=0.4028\n",
      "Early stopping\n",
      "\n",
      "[trial 29] build loaders...\n"
     ]
    },
    {
     "name": "stderr",
     "output_type": "stream",
     "text": [
      "C:\\ProgramData\\anaconda3\\Lib\\site-packages\\torch\\nn\\modules\\transformer.py:379: UserWarning: enable_nested_tensor is True, but self.use_nested_tensor is False because encoder_layer.self_attn.batch_first was not True(use batch_first for better inference performance)\n",
      "  warnings.warn(\n"
     ]
    },
    {
     "name": "stdout",
     "output_type": "stream",
     "text": [
      "Epoch 01: Train Loss=2.0036, Acc=0.2207, F1=0.2143 | Val Loss=1.5430, Acc=0.2941, F1=0.1650\n",
      "Epoch 02: Train Loss=1.6910, Acc=0.2943, F1=0.2936 | Val Loss=1.6140, Acc=0.2549, F1=0.1525\n",
      "Epoch 03: Train Loss=1.7600, Acc=0.2776, F1=0.2663 | Val Loss=1.5309, Acc=0.2157, F1=0.1489\n",
      "Epoch 04: Train Loss=1.6479, Acc=0.2876, F1=0.2816 | Val Loss=1.5444, Acc=0.3529, F1=0.2566\n",
      "Epoch 05: Train Loss=1.5630, Acc=0.3177, F1=0.3006 | Val Loss=1.5191, Acc=0.2549, F1=0.1525\n",
      "Epoch 06: Train Loss=1.5577, Acc=0.2776, F1=0.2700 | Val Loss=1.5019, Acc=0.3333, F1=0.1945\n",
      "Epoch 07: Train Loss=1.5638, Acc=0.2676, F1=0.2584 | Val Loss=1.5698, Acc=0.3137, F1=0.2160\n",
      "Epoch 08: Train Loss=1.5255, Acc=0.3244, F1=0.2957 | Val Loss=1.4834, Acc=0.2941, F1=0.1673\n",
      "Epoch 09: Train Loss=1.5421, Acc=0.3144, F1=0.3095 | Val Loss=1.4993, Acc=0.2941, F1=0.1706\n",
      "Epoch 10: Train Loss=1.5205, Acc=0.2910, F1=0.2857 | Val Loss=1.4891, Acc=0.2353, F1=0.2016\n",
      "Epoch 11: Train Loss=1.5040, Acc=0.3411, F1=0.2969 | Val Loss=1.5423, Acc=0.2941, F1=0.1650\n",
      "Epoch 12: Train Loss=1.5225, Acc=0.2742, F1=0.2532 | Val Loss=1.5166, Acc=0.2941, F1=0.1991\n",
      "Epoch 13: Train Loss=1.5334, Acc=0.3211, F1=0.3261 | Val Loss=1.4947, Acc=0.3137, F1=0.1812\n"
     ]
    },
    {
     "name": "stderr",
     "output_type": "stream",
     "text": [
      "[I 2025-08-16 22:31:05,150] Trial 29 finished with value: 0.35294117647058826 and parameters: {'nhead': 8, 'num_layers': 4, 'lr': 0.00033969671747088913, 'weight_decay': 0.00048115499617301763}. Best is trial 21 with value: 0.5686274509803921.\n"
     ]
    },
    {
     "name": "stdout",
     "output_type": "stream",
     "text": [
      "Epoch 14: Train Loss=1.5190, Acc=0.3445, F1=0.3433 | Val Loss=1.5917, Acc=0.2157, F1=0.1254\n",
      "Early stopping\n",
      "Best hyper-parameters: {'nhead': 4, 'num_layers': 2, 'lr': 0.00010434959787802714, 'weight_decay': 9.753615006446377e-05}\n",
      "Best Val ACC (Optuna): 0.5686274509803921 | Val F1: 0.5549999999999999\n"
     ]
    },
    {
     "name": "stderr",
     "output_type": "stream",
     "text": [
      "C:\\ProgramData\\anaconda3\\Lib\\site-packages\\torch\\nn\\modules\\transformer.py:379: UserWarning: enable_nested_tensor is True, but self.use_nested_tensor is False because encoder_layer.self_attn.batch_first was not True(use batch_first for better inference performance)\n",
      "  warnings.warn(\n"
     ]
    },
    {
     "name": "stdout",
     "output_type": "stream",
     "text": [
      "Reloaded eval — Train Acc=0.9900, F1=0.9900 | Val Acc=0.5686, F1=0.5550 | ΔACC=0.000000\n",
      "Saved VAL preds → results_final\\video_cls_val_dep.csv\n"
     ]
    },
    {
     "data": {
      "image/png": "[encoded data removed]",
      "text/plain": [
       "<Figure size 650x550 with 2 Axes>"
      ]
     },
     "metadata": {},
     "output_type": "display_data"
    },
    {
     "name": "stdout",
     "output_type": "stream",
     "text": [
      "\n",
      "Classification Report (VAL):\n",
      "               precision    recall  f1-score   support\n",
      "\n",
      "           0     0.4444    0.3636    0.4000        11\n",
      "           1     0.5833    0.7000    0.6364        10\n",
      "           2     0.6667    0.8000    0.7273        10\n",
      "           3     0.5000    0.3000    0.3750        10\n",
      "           4     0.5833    0.7000    0.6364        10\n",
      "\n",
      "    accuracy                         0.5686        51\n",
      "   macro avg     0.5556    0.5727    0.5550        51\n",
      "weighted avg     0.5534    0.5686    0.5520        51\n",
      "\n"
     ]
    },
    {
     "data": {
      "image/png": "[encoded data removed]",
      "text/plain": [
       "<Figure size 750x600 with 1 Axes>"
      ]
     },
     "metadata": {},
     "output_type": "display_data"
    },
    {
     "name": "stdout",
     "output_type": "stream",
     "text": [
      "\n",
      "AUC-ROC (VAL): micro 0.8223 | macro 0.8335\n"
     ]
    }
   ],
   "source": [
    "# --- Split 2: Person-Dependent (adjust paths to your second split)\n",
    "train_ids_B = read_ids_from_dir(\"Person-Dependent_Split/train\")\n",
    "val_ids_B   = read_ids_from_dir(\"Person-Dependent_Split/val\")\n",
    "train_df_B  = df[df[\"video_id\"].isin(train_ids_B)].reset_index(drop=True)\n",
    "val_df_B    = df[df[\"video_id\"].isin(val_ids_B)].reset_index(drop=True)\n",
    "\n",
    "res_B = run_split(\"dep\", train_ids_B, val_ids_B)"
   ]
  },
  {
   "cell_type": "code",
   "execution_count": null,
   "id": "f1b83bb4-b8b6-4d36-a5a7-2b7231e774d2",
   "metadata": {},
   "outputs": [],
   "source": []
  },
  {
   "cell_type": "code",
   "execution_count": null,
   "id": "7992c298-d29b-4790-a8db-3e1fe62b5bd9",
   "metadata": {},
   "outputs": [],
   "source": []
  },
  {
   "cell_type": "code",
   "execution_count": null,
   "id": "bf3dc5d7-7e8a-4fb2-8478-72bac6e96109",
   "metadata": {},
   "outputs": [],
   "source": []
  },
  {
   "cell_type": "markdown",
   "id": "4b785977-928c-4e75-8891-322d4818aec6",
   "metadata": {},
   "source": [
    "# Test Predictions"
   ]
  },
  {
   "cell_type": "code",
   "execution_count": 29,
   "id": "c2176daf-6755-4cbd-9e78-267d815cb013",
   "metadata": {},
   "outputs": [
    {
     "name": "stdout",
     "output_type": "stream",
     "text": [
      "\n",
      "===== [ind] CLS: Train+Val -> Test (labels from CSV) =====\n",
      "train+val: 350 | test: 150 | label_col=view_range_enc_ind\n"
     ]
    },
    {
     "name": "stderr",
     "output_type": "stream",
     "text": [
      "C:\\Users\\Mansi Jadhav\\AppData\\Local\\Temp\\ipykernel_25176\\658662478.py:125: FutureWarning: You are using `torch.load` with `weights_only=False` (the current default value), which uses the default pickle module implicitly. It is possible to construct malicious pickle data which will execute arbitrary code during unpickling (See https://github.com/pytorch/pytorch/blob/main/SECURITY.md#untrusted-models for more details). In a future release, the default value for `weights_only` will be flipped to `True`. This limits the functions that could be executed during unpickling. Arbitrary objects will no longer be allowed to be loaded via this mode unless they are explicitly allowlisted by the user via `torch.serialization.add_safe_globals`. We recommend you start setting `weights_only=True` for any use case where you don't have full control of the loaded file. Please open an issue on GitHub for any issues related to this experimental feature.\n",
      "  state_obj = torch.load(pt_path, map_location=DEVICE)\n"
     ]
    },
    {
     "name": "stdout",
     "output_type": "stream",
     "text": [
      "internal train: 295 | internal val: 55\n"
     ]
    },
    {
     "name": "stderr",
     "output_type": "stream",
     "text": [
      "C:\\ProgramData\\anaconda3\\Lib\\site-packages\\torch\\nn\\modules\\transformer.py:379: UserWarning: enable_nested_tensor is True, but self.use_nested_tensor is False because encoder_layer.self_attn.batch_first was not True(use batch_first for better inference performance)\n",
      "  warnings.warn(\n"
     ]
    },
    {
     "name": "stdout",
     "output_type": "stream",
     "text": [
      "Epoch 01 | Train: loss 1.8722 acc 0.2814 f1 0.2860 || Val: loss 1.3620 acc 0.4000 f1 0.3093\n",
      "Epoch 02 | Train: loss 1.4726 acc 0.3831 f1 0.3836 || Val: loss 1.4384 acc 0.4545 f1 0.3170\n",
      "Epoch 03 | Train: loss 1.3759 acc 0.3864 f1 0.3812 || Val: loss 1.3012 acc 0.6000 f1 0.5402\n",
      "Epoch 04 | Train: loss 1.3552 acc 0.4271 f1 0.4283 || Val: loss 1.7878 acc 0.2909 f1 0.2562\n",
      "Epoch 05 | Train: loss 1.4008 acc 0.3898 f1 0.3892 || Val: loss 1.4636 acc 0.4000 f1 0.2982\n",
      "Epoch 06 | Train: loss 1.2501 acc 0.4475 f1 0.4512 || Val: loss 1.3003 acc 0.4909 f1 0.4897\n",
      "Epoch 07 | Train: loss 1.2385 acc 0.4915 f1 0.4887 || Val: loss 1.5382 acc 0.4545 f1 0.4322\n",
      "Epoch 08 | Train: loss 1.2766 acc 0.4610 f1 0.4601 || Val: loss 1.5471 acc 0.3636 f1 0.2755\n",
      "Epoch 09 | Train: loss 1.2303 acc 0.4983 f1 0.4841 || Val: loss 1.2786 acc 0.4545 f1 0.3854\n",
      "Epoch 10 | Train: loss 1.0870 acc 0.5458 f1 0.5430 || Val: loss 1.6316 acc 0.2545 f1 0.2334\n",
      "Epoch 11 | Train: loss 1.2971 acc 0.4814 f1 0.4773 || Val: loss 1.4452 acc 0.4182 f1 0.3362\n",
      "Early stopping.\n",
      "[ind] Best epoch: 3 | Best Val Acc=0.6000\n",
      "[ind] TEST — Acc=0.3533 | Macro-F1=0.3058 | ROC-AUC micro=0.6824222222222223 macro=0.6761911475234944\n",
      "\n",
      "Confusion Matrix:\n",
      " [[ 7 23  5  0  5]\n",
      " [ 4 15  3  0  2]\n",
      " [ 3 12  3  0  5]\n",
      " [ 2 10  3  3 11]\n",
      " [ 0  7  1  1 25]]\n",
      "\n",
      "Classification Report:\n",
      "               precision    recall  f1-score   support\n",
      "\n",
      "           0     0.4375    0.1750    0.2500        40\n",
      "           1     0.2239    0.6250    0.3297        24\n",
      "           2     0.2000    0.1304    0.1579        23\n",
      "           3     0.7500    0.1034    0.1818        29\n",
      "           4     0.5208    0.7353    0.6098        34\n",
      "\n",
      "    accuracy                         0.3533       150\n",
      "   macro avg     0.4264    0.3538    0.3058       150\n",
      "weighted avg     0.4462    0.3533    0.3170       150\n",
      "\n",
      "[ind] Saved test predictions to: results_final\\video_cls_test_ind.csv\n",
      "[ind] Saved final model bundle to: models_final\\video_reg_final_ind.pt\n",
      "\n",
      "===== [dep] CLS: Train+Val -> Test (labels from CSV) =====\n",
      "train+val: 350 | test: 150 | label_col=view_range_enc_dep\n",
      "internal train: 300 | internal val: 50\n"
     ]
    },
    {
     "name": "stderr",
     "output_type": "stream",
     "text": [
      "C:\\Users\\Mansi Jadhav\\AppData\\Local\\Temp\\ipykernel_25176\\658662478.py:125: FutureWarning: You are using `torch.load` with `weights_only=False` (the current default value), which uses the default pickle module implicitly. It is possible to construct malicious pickle data which will execute arbitrary code during unpickling (See https://github.com/pytorch/pytorch/blob/main/SECURITY.md#untrusted-models for more details). In a future release, the default value for `weights_only` will be flipped to `True`. This limits the functions that could be executed during unpickling. Arbitrary objects will no longer be allowed to be loaded via this mode unless they are explicitly allowlisted by the user via `torch.serialization.add_safe_globals`. We recommend you start setting `weights_only=True` for any use case where you don't have full control of the loaded file. Please open an issue on GitHub for any issues related to this experimental feature.\n",
      "  state_obj = torch.load(pt_path, map_location=DEVICE)\n",
      "C:\\ProgramData\\anaconda3\\Lib\\site-packages\\torch\\nn\\modules\\transformer.py:379: UserWarning: enable_nested_tensor is True, but self.use_nested_tensor is False because encoder_layer.self_attn.batch_first was not True(use batch_first for better inference performance)\n",
      "  warnings.warn(\n"
     ]
    },
    {
     "name": "stdout",
     "output_type": "stream",
     "text": [
      "Epoch 01 | Train: loss 3.0376 acc 0.2933 f1 0.2924 || Val: loss 1.7017 acc 0.3800 f1 0.2844\n",
      "Epoch 02 | Train: loss 1.5654 acc 0.4100 f1 0.3841 || Val: loss 1.5102 acc 0.3200 f1 0.2381\n",
      "Epoch 03 | Train: loss 1.4508 acc 0.3467 f1 0.3363 || Val: loss 1.9688 acc 0.2800 f1 0.1595\n",
      "Epoch 04 | Train: loss 1.4198 acc 0.3733 f1 0.3613 || Val: loss 1.5721 acc 0.2800 f1 0.2476\n",
      "Epoch 05 | Train: loss 1.3637 acc 0.4033 f1 0.3632 || Val: loss 1.6315 acc 0.3400 f1 0.2620\n",
      "Epoch 06 | Train: loss 1.3840 acc 0.3967 f1 0.3912 || Val: loss 1.8669 acc 0.2400 f1 0.1878\n",
      "Epoch 07 | Train: loss 1.3612 acc 0.4233 f1 0.4173 || Val: loss 1.6808 acc 0.3600 f1 0.3096\n",
      "Epoch 08 | Train: loss 1.3266 acc 0.4167 f1 0.3994 || Val: loss 1.8099 acc 0.3000 f1 0.2333\n",
      "Epoch 09 | Train: loss 1.3350 acc 0.4300 f1 0.4288 || Val: loss 1.6315 acc 0.3000 f1 0.2595\n",
      "Early stopping.\n",
      "[dep] Best epoch: 1 | Best Val Acc=0.3800\n",
      "[dep] TEST — Acc=0.2933 | Macro-F1=0.2115 | ROC-AUC micro=0.6275444444444445 macro=0.6072877857860488\n",
      "\n",
      "Confusion Matrix:\n",
      " [[ 5 14  0  0  7]\n",
      " [11 20  0  0  4]\n",
      " [ 3 13  0  0 11]\n",
      " [ 8 13  0  0 18]\n",
      " [ 2  2  0  0 19]]\n",
      "\n",
      "Classification Report:\n",
      "               precision    recall  f1-score   support\n",
      "\n",
      "           0     0.1724    0.1923    0.1818        26\n",
      "           1     0.3226    0.5714    0.4124        35\n",
      "           2     0.0000    0.0000    0.0000        27\n",
      "           3     0.0000    0.0000    0.0000        39\n",
      "           4     0.3220    0.8261    0.4634        23\n",
      "\n",
      "    accuracy                         0.2933       150\n",
      "   macro avg     0.1634    0.3180    0.2115       150\n",
      "weighted avg     0.1545    0.2933    0.1988       150\n",
      "\n",
      "[dep] Saved test predictions to: results_final\\video_cls_test_dep.csv\n",
      "[dep] Saved final model bundle to: models_final\\video_reg_final_dep.pt\n"
     ]
    }
   ],
   "source": [
    "import os\n",
    "import json\n",
    "import math\n",
    "import copy\n",
    "import numpy as np\n",
    "import pandas as pd\n",
    "from pathlib import Path\n",
    "\n",
    "import torch\n",
    "import torch.nn as nn\n",
    "import torch.optim as optim\n",
    "from torch.utils.data import Dataset, DataLoader\n",
    "\n",
    "from sklearn.metrics import (\n",
    "    accuracy_score, f1_score, classification_report, confusion_matrix,\n",
    "    roc_auc_score\n",
    ")\n",
    "from sklearn.preprocessing import label_binarize\n",
    "from sklearn.model_selection import StratifiedGroupKFold, StratifiedKFold\n",
    "import pickle\n",
    "\n",
    "FEATURE_DIR = \"videomae_features_new\"\n",
    "CSV_PATH    = \"FinalDataset.csv\"\n",
    "\n",
    "BATCH_SIZE_DEFAULT = 8        \n",
    "N_EPOCHS    = 40\n",
    "PATIENCE    = 8\n",
    "SEED        = 42\n",
    "INPUT_DIM   = 768             # feature dimension\n",
    "NUM_WORKERS = 0\n",
    "DEVICE      = torch.device(\"cuda\" if torch.cuda.is_available() else \"cpu\")\n",
    "PIN         = torch.cuda.is_available()\n",
    "\n",
    "LABEL_COL_MAP = {\n",
    "    \"ind\": \"view_range_enc_ind\",\n",
    "    \"dep\": \"view_range_enc_dep\",\n",
    "}\n",
    "\n",
    "# Set seeds for reproducibility\n",
    "def set_seed(seed=SEED):\n",
    "    np.random.seed(seed)\n",
    "    torch.manual_seed(seed)\n",
    "    if torch.cuda.is_available():\n",
    "        torch.cuda.manual_seed_all(seed)\n",
    "    torch.backends.cudnn.deterministic = True\n",
    "    torch.backends.cudnn.benchmark     = False\n",
    "\n",
    "def worker_init_fn(worker_id):\n",
    "    s = SEED + worker_id\n",
    "    np.random.seed(s)\n",
    "    torch.manual_seed(s)\n",
    "\n",
    "set_seed()\n",
    "\n",
    "def read_ids_from_dir(dir_path: str):\n",
    "    assert os.path.isdir(dir_path), f\"Missing directory: {dir_path}\"\n",
    "    return set(os.path.splitext(fn)[0] for fn in os.listdir(dir_path))\n",
    "\n",
    "def get_dfs_for_split(split_tag: str):\n",
    "    df = pd.read_csv(CSV_PATH)\n",
    "    base = f\"Person-{'Independent' if split_tag=='ind' else 'Dependent'}_Split\"\n",
    "    train_ids = read_ids_from_dir(os.path.join(base, \"train\"))\n",
    "    val_ids   = read_ids_from_dir(os.path.join(base, \"val\"))\n",
    "    test_ids  = read_ids_from_dir(os.path.join(base, \"test\"))\n",
    "\n",
    "    trainval_ids = train_ids | val_ids\n",
    "    trainval_df  = df[df.video_id.isin(trainval_ids)].reset_index(drop=True) # Combine train and validation dataframe\n",
    "    test_df      = df[df.video_id.isin(test_ids)].reset_index(drop=True) # Get the test dataset\n",
    "\n",
    "    need = {\"video_id\",\"channel_id\",\"log_view_count\",\"view_count\",\n",
    "            \"view_range_enc_ind\",\"view_range_enc_dep\"}\n",
    "    assert need.issubset(trainval_df.columns), f\"Missing in trainval: {need - set(trainval_df.columns)}\"\n",
    "    assert need.issubset(test_df.columns), f\"Missing in test: {need - set(test_df.columns)}\"\n",
    "    return trainval_df, test_df\n",
    "\n",
    "def build_internal_val_from_labels(trainval_df: pd.DataFrame, split_tag: str,\n",
    "                                   val_rel=0.15, seed=SEED):\n",
    "    label_col = LABEL_COL_MAP[split_tag]\n",
    "    assert label_col in trainval_df.columns, f\"Missing {label_col}.\"\n",
    "    assert \"channel_id\" in trainval_df.columns, \"Missing channel_id.\"\n",
    "\n",
    "    # Ensure integer-encoded labels 0..K-1\n",
    "    y = pd.Series(trainval_df[label_col]).astype(str)\n",
    "    if not y.str.fullmatch(r\"\\d+\").all():\n",
    "        y_int = pd.Series(pd.Categorical(y).codes).astype(int)\n",
    "    else:\n",
    "        y_int = y.astype(int)\n",
    "\n",
    "    n_splits = max(2, int(round(1.0 / val_rel)))  # e.g., 0.15 -> ~7\n",
    "    idx = np.arange(len(trainval_df))\n",
    "\n",
    "    if split_tag == \"ind\":\n",
    "        groups = trainval_df[\"channel_id\"].values\n",
    "        cv = StratifiedGroupKFold(n_splits=n_splits, shuffle=True, random_state=seed)  # no channel overlap for ind\n",
    "        tr_idx, va_idx = next(cv.split(idx, y_int, groups=groups))\n",
    "    else:\n",
    "        cv = StratifiedKFold(n_splits=n_splits, shuffle=True, random_state=seed)   # channel overlap for dep\n",
    "        tr_idx, va_idx = next(cv.split(idx.reshape(-1,1), y_int))\n",
    "\n",
    "    return tr_idx, va_idx, y_int\n",
    "\n",
    "# Load best params/state \n",
    "def load_best_cls_bundle(split_tag: str):\n",
    "    pt_path  = MODEL_DIR / f\"video_cls_{split_tag}.pt\"   # Load the best saved model\n",
    "    pkl_path = MODEL_DIR / f\"video_cls_bundle_{split_tag}.pkl\"\n",
    "    assert pt_path.exists(), f\"Missing: {pt_path}\"\n",
    "    state_obj = torch.load(pt_path, map_location=DEVICE)\n",
    "    if isinstance(state_obj, dict) and \"state_dict\" in state_obj:\n",
    "        state_dict = state_obj[\"state_dict\"]\n",
    "    else:\n",
    "        state_dict = state_obj  # saved raw state_dict\n",
    "\n",
    "    best_params = None\n",
    "    class_names = None\n",
    "    num_classes = None\n",
    "    if pkl_path.exists():\n",
    "        with open(pkl_path, \"rb\") as f:\n",
    "            bundle = pickle.load(f)\n",
    "        best_params = bundle.get(\"best_params\") or bundle.get(\"params\")\n",
    "        class_names = bundle.get(\"class_names\")\n",
    "        num_classes = bundle.get(\"num_classes\")\n",
    "        if num_classes is None and class_names is not None:\n",
    "            num_classes = len(class_names)\n",
    "\n",
    "    return state_dict, best_params, class_names, num_classes\n",
    "\n",
    "# Train / Eval loops\n",
    "def run_epoch(model, loader, criterion, optimizer=None):\n",
    "    is_train = optimizer is not None\n",
    "    model.train() if is_train else model.eval()\n",
    "\n",
    "    all_logits, all_targets = [], []\n",
    "    running_loss, n_batches = 0.0, 0\n",
    "\n",
    "    with torch.set_grad_enabled(is_train):\n",
    "        for xb, yb in loader:\n",
    "            xb = xb.to(DEVICE, non_blocking=True)\n",
    "            yb = yb.to(DEVICE, non_blocking=True)\n",
    "\n",
    "            logits = model(xb)      # forward pass\n",
    "            loss = criterion(logits, yb)    # \n",
    "\n",
    "            if is_train:\n",
    "                optimizer.zero_grad(set_to_none=True)\n",
    "                loss.backward()\n",
    "                optimizer.step()\n",
    "\n",
    "            all_logits.append(logits.detach().cpu())\n",
    "            all_targets.append(yb.detach().cpu())\n",
    "\n",
    "            running_loss += loss.item()\n",
    "            n_batches += 1\n",
    "\n",
    "    logits_np = torch.cat(all_logits, dim=0).numpy()\n",
    "    targets_np = torch.cat(all_targets, dim=0).numpy()\n",
    "    preds = logits_np.argmax(axis=1)\n",
    "    acc = accuracy_score(targets_np, preds)\n",
    "    f1  = f1_score(targets_np, preds, average=\"macro\")\n",
    "\n",
    "    return running_loss / max(n_batches, 1), acc, f1, logits_np, targets_np\n",
    "\n",
    "# ======================= Runner (train+val -> test) ===========\n",
    "def train_on_trainval_then_test_cls(split_tag: str):\n",
    "    \"\"\"\n",
    "    Classification pipeline:\n",
    "    - Load best params/state (if best_params missing, fall back to defaults)\n",
    "    - Create one internal val from train+val via precomputed labels (no new bins)\n",
    "    - Train CE, early stop on Val Accuracy\n",
    "    - Evaluate on TEST: Acc, Macro-F1, per-class report, confusion, ROC-AUC (micro+macro)\n",
    "    - Save predictions CSV + summary JSON\n",
    "    \"\"\"\n",
    "    set_seed(SEED)\n",
    "    print(f\"\\n===== [{split_tag}] CLS: Train+Val -> Test (labels from CSV) =====\")\n",
    "\n",
    "    # Dataframes\n",
    "    trainval_df, test_df = get_dfs_for_split(split_tag)\n",
    "    label_col = LABEL_COL_MAP[split_tag]\n",
    "    print(f\"train+val: {len(trainval_df)} | test: {len(test_df)} | label_col={label_col}\")\n",
    "\n",
    "    _, _, y_int = build_internal_val_from_labels(trainval_df, split_tag=split_tag, val_rel=0.15, seed=SEED)\n",
    "\n",
    "    # Load best bundle (state dict + hyperparams)\n",
    "    state_dict, best_params, class_names, num_classes = load_best_cls_bundle(split_tag)\n",
    "\n",
    "    if best_params is None:\n",
    "        # sensible defaults if bundle missing hyperparams\n",
    "        best_params = {\n",
    "            \"batch_size\": BATCH_SIZE_DEFAULT,\n",
    "            \"lr\": 1e-3,\n",
    "            \"weight_decay\": 1e-5,\n",
    "            \"nhead\": 8,\n",
    "            \"num_layers\": 2,\n",
    "            \"dim_ff\": 1024,\n",
    "            \"dropout\": 0.1\n",
    "        }\n",
    "    batch_size = int(best_params.get(\"batch_size\", BATCH_SIZE_DEFAULT))\n",
    "\n",
    "    # Build internal split\n",
    "    tr_idx, va_idx, _ = build_internal_val_from_labels(trainval_df, split_tag=split_tag, val_rel=0.15, seed=SEED)\n",
    "    tr_in = trainval_df.iloc[tr_idx].reset_index(drop=True)\n",
    "    va_in = trainval_df.iloc[va_idx].reset_index(drop=True)\n",
    "    print(f\"internal train: {len(tr_in)} | internal val: {len(va_in)}\")\n",
    "\n",
    "    # Model\n",
    "    model = TransformerClassifier(\n",
    "        d_model=INPUT_DIM,\n",
    "        nhead=int(best_params[\"nhead\"]),\n",
    "        num_layers=int(best_params[\"num_layers\"]),\n",
    "        num_classes=5\n",
    "    ).to(DEVICE)\n",
    "    # load pretrained/best weights as initialization\n",
    "    model.load_state_dict(state_dict, strict=False)\n",
    "\n",
    "    # Loaders\n",
    "    g = torch.Generator().manual_seed(SEED)    # Reproducibility\n",
    "    tr_loader = DataLoader(\n",
    "        TemporalFeatureDataset(tr_in, feature_dir=FEATURE_DIR, target_column=label_col),\n",
    "        batch_size=batch_size, shuffle=True, generator=g,\n",
    "        num_workers=NUM_WORKERS, pin_memory=PIN,\n",
    "        worker_init_fn=worker_init_fn if NUM_WORKERS>0 else None\n",
    "    )\n",
    "    va_loader = DataLoader(\n",
    "        TemporalFeatureDataset(va_in, feature_dir=FEATURE_DIR, target_column=label_col),\n",
    "        batch_size=batch_size, shuffle=False,                               # no shuffle\n",
    "        num_workers=NUM_WORKERS, pin_memory=PIN,\n",
    "        worker_init_fn=worker_init_fn if NUM_WORKERS>0 else None\n",
    "    )\n",
    "    te_loader = DataLoader(\n",
    "        TemporalFeatureDataset(test_df, feature_dir=FEATURE_DIR, target_column=label_col),\n",
    "        batch_size=batch_size, shuffle=False,                              # no shuffle\n",
    "        num_workers=NUM_WORKERS, pin_memory=PIN,\n",
    "        worker_init_fn=worker_init_fn if NUM_WORKERS>0 else None\n",
    "    )\n",
    "\n",
    "    # Train\n",
    "    criterion = nn.CrossEntropyLoss()\n",
    "    optimizer = optim.Adam(model.parameters(), lr=float(best_params[\"lr\"]), weight_decay=float(best_params[\"weight_decay\"]))  # Get the best params\n",
    "\n",
    "    best_acc, best_state, best_epoch, bad = -1.0, None, None, 0\n",
    "    for ep in range(1, N_EPOCHS + 1):\n",
    "        tr_loss, tr_acc, tr_f1, _, _ = run_epoch(model, tr_loader, criterion, optimizer)  # Train on train set\n",
    "        va_loss, va_acc, va_f1, _, _ = run_epoch(model, va_loader, criterion, optimizer=None)  # Evaluate on the new val set\n",
    "        print(f\"Epoch {ep:02d} | Train: loss {tr_loss:.4f} acc {tr_acc:.4f} f1 {tr_f1:.4f} || \"\n",
    "              f\"Val: loss {va_loss:.4f} acc {va_acc:.4f} f1 {va_f1:.4f}\")\n",
    "        if va_acc > best_acc:\n",
    "            best_acc = float(va_acc)\n",
    "            best_f1 = float(va_f1)\n",
    "            best_state = copy.deepcopy(model.state_dict())\n",
    "            best_epoch = ep\n",
    "            bad = 0\n",
    "        else:\n",
    "            bad += 1\n",
    "            if bad >= PATIENCE:\n",
    "                print(\"Early stopping.\")\n",
    "                break\n",
    "\n",
    "    if best_state is not None:\n",
    "        model.load_state_dict(best_state)     # Load the best model\n",
    "    print(f\"[{split_tag}] Best epoch: {best_epoch} | Best Val Acc={best_acc:.4f}\")\n",
    "\n",
    "    # Test evaluation\n",
    "    te_loss, te_acc, te_f1, te_logits, te_targets = run_epoch(model, te_loader, criterion, optimizer=None)\n",
    "    te_preds = te_logits.argmax(axis=1)\n",
    "\n",
    "    # ROC-AUC (micro/macro) – needs one-vs-rest probabilities\n",
    "    try:\n",
    "        te_probs = torch.softmax(torch.tensor(te_logits), dim=1).numpy()\n",
    "        classes = np.unique(np.concatenate([te_targets, te_preds]))\n",
    "        y_true_bin = label_binarize(te_targets, classes=classes)\n",
    "        auc_micro = roc_auc_score(y_true_bin, te_probs[:, classes], average=\"micro\", multi_class=\"ovr\")\n",
    "        auc_macro = roc_auc_score(y_true_bin, te_probs[:, classes], average=\"macro\", multi_class=\"ovr\")\n",
    "    except Exception as e:\n",
    "        auc_micro = None\n",
    "        auc_macro = None\n",
    "        print(f\"[{split_tag}] ROC-AUC not available ({e}).\")\n",
    "\n",
    "    cm = confusion_matrix(te_targets, te_preds)\n",
    "    report = classification_report(te_targets, te_preds, digits=4, zero_division=0)\n",
    "\n",
    "    print(f\"[{split_tag}] TEST — Acc={te_acc:.4f} | Macro-F1={te_f1:.4f} | \"\n",
    "          f\"ROC-AUC micro={auc_micro if auc_micro is not None else 'n/a'} \"\n",
    "          f\"macro={auc_macro if auc_macro is not None else 'n/a'}\")\n",
    "    print(\"\\nConfusion Matrix:\\n\", cm)\n",
    "    print(\"\\nClassification Report:\\n\", report)\n",
    "\n",
    "    # Save predictions CSV\n",
    "    out = test_df[[\"video_id\",\"channel_id\", label_col]].copy()\n",
    "    out = out.rename(columns={label_col: \"y_true\"})\n",
    "    out[\"pred\"] = te_preds\n",
    "    # also save probabilities per class if available\n",
    "    if 'te_probs' in locals():\n",
    "        for c in range(te_probs.shape[1]):\n",
    "            out[f\"prob_{c}\"] = te_probs[:, c]\n",
    "            \n",
    "    save_csv = RESULTS_DIR / f\"video_cls_test_{split_tag}.csv\"\n",
    "    out.to_csv(save_csv, index=False)\n",
    "    print(f\"[{split_tag}] Saved test predictions to: {save_csv}\")\n",
    "\n",
    "    # --- SAVE THE FINAL (refit) MODEL BUNDLE\n",
    "    final_bundle = {\n",
    "        \"state_dict\": model.state_dict(),\n",
    "        \"best_params\": best_params,\n",
    "        \"internal_val_acc\": best_acc,\n",
    "        \"internal_val_f1\": best_f1,\n",
    "        \"seed\": SEED,\n",
    "    }\n",
    "    final_path = MODEL_DIR / f\"video_reg_final_{split_tag}.pt\"\n",
    "    torch.save(final_bundle, final_path)\n",
    "    print(f\"[{split_tag}] Saved final model bundle to: {final_path}\")\n",
    "\n",
    "    return {\n",
    "        \"model\": model,\n",
    "        \"test_acc\": te_acc,\n",
    "        \"test_macro_f1\": te_f1,\n",
    "        \"roc_auc_micro\": auc_micro,\n",
    "        \"roc_auc_macro\": auc_macro,\n",
    "        \"preds_path\": save_csv,\n",
    "        \"best_epoch\": best_epoch\n",
    "    }\n",
    "\n",
    "res_ind_cls = train_on_trainval_then_test_cls(\"ind\")\n",
    "res_dep_cls = train_on_trainval_then_test_cls(\"dep\")"
   ]
  },
  {
   "cell_type": "code",
   "execution_count": null,
   "id": "bfccd507-7abc-4541-a876-8de633ad0c98",
   "metadata": {},
   "outputs": [],
   "source": []
  },
  {
   "cell_type": "code",
   "execution_count": null,
   "id": "178fb583-7e6c-47b2-bffd-82ee31180682",
   "metadata": {},
   "outputs": [],
   "source": []
  },
  {
   "cell_type": "code",
   "execution_count": null,
   "id": "a95c492f-7c68-4de6-bb1f-9e801dcc3588",
   "metadata": {},
   "outputs": [],
   "source": []
  },
  {
   "cell_type": "code",
   "execution_count": null,
   "id": "f0025523-662f-41ab-9c5c-8dd40525b9ac",
   "metadata": {},
   "outputs": [],
   "source": []
  }
 ],
 "metadata": {
  "kernelspec": {
   "display_name": "Python 3 (ipykernel)",
   "language": "python",
   "name": "python3"
  },
  "language_info": {
   "codemirror_mode": {
    "name": "ipython",
    "version": 3
   },
   "file_extension": ".py",
   "mimetype": "text/x-python",
   "name": "python",
   "nbconvert_exporter": "python",
   "pygments_lexer": "ipython3",
   "version": "3.12.7"
  }
 },
 "nbformat": 4,
 "nbformat_minor": 5
}
