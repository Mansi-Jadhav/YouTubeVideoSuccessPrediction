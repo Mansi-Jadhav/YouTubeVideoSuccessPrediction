{
 "cells": [
  {
   "cell_type": "markdown",
   "id": "cc1c748b-7301-425d-8d8a-f1daf18c806e",
   "metadata": {},
   "source": [
    "# Feature Extraction"
   ]
  },
  {
   "cell_type": "markdown",
   "id": "a980b1c6-b7e7-4554-911e-ae3dc125b6d8",
   "metadata": {},
   "source": [
    "We have extracted features from the frames using pre-trained VideoMAE model. We have saved these as .npy files which can be used for all the tasks."
   ]
  },
  {
   "cell_type": "code",
   "execution_count": 2,
   "id": "2500fb7a-70e6-4da1-bb68-a71429ad9618",
   "metadata": {},
   "outputs": [],
   "source": [
    "import os, random, warnings\n",
    "import numpy as np\n",
    "import torch\n",
    "from torch.utils.data import Dataset\n",
    "from transformers import VideoMAEFeatureExtractor, VideoMAEModel\n",
    "from tqdm import tqdm\n",
    "from PIL import Image\n",
    "import pandas as pd\n",
    "\n",
    "class Config:\n",
    "    FRAMES_ROOT  = \"frames\"\n",
    "    METADATA_CSV = \"FinalDataset.csv\"\n",
    "    MODEL_NAME   = \"MCG-NJU/videomae-base\"\n",
    "    NUM_FRAMES   = 700\n",
    "    CHUNK_SIZE   = 16\n",
    "    OVERLAP      = 2\n",
    "    FEATURES_DIR = \"videomae_features_new\"\n",
    "    DEVICE       = torch.device(\"cuda\" if torch.cuda.is_available() else \"cpu\")\n",
    "    CLIP_BATCH   = 4\n",
    "\n",
    "random.seed(42); np.random.seed(42); torch.manual_seed(42)\n",
    "\n",
    "class VideoDataset(Dataset):\n",
    "    def __init__(self, df, fe, skip_existing=True):\n",
    "        self.vids = df[\"video_id\"].tolist()  # List of videos\n",
    "        self.fe   = fe                       # Feature Extractor\n",
    "        self.skip = skip_existing            # Skip existing videos\n",
    "        os.makedirs(Config.FEATURES_DIR, exist_ok=True)\n",
    "\n",
    "    def __len__(self): \n",
    "        return len(self.vids)\n",
    "\n",
    "    def __getitem__(self, idx):\n",
    "        vid = self.vids[idx]   # VideoID\n",
    "        out_path = os.path.join(Config.FEATURES_DIR, f\"{vid}_temporal.npy\")  # Output path\n",
    "        if self.skip and os.path.exists(out_path):   # Skip if the path already exists\n",
    "            return None\n",
    "\n",
    "        fdir   = os.path.join(Config.FRAMES_ROOT, vid)  # Video directory - Each video directory has 700 frames.\n",
    "        fpaths = sorted([os.path.join(fdir, f)\n",
    "                         for f in os.listdir(fdir)\n",
    "                         if f.lower().endswith((\".jpg\"))])[:Config.NUM_FRAMES]  # Frame paths of the particular video\n",
    "\n",
    "        frames = []\n",
    "        for fp in fpaths:\n",
    "            try:\n",
    "                frames.append(Image.open(fp).convert(\"RGB\"))# Open the image and convert it to RGB format - Convert method - Returns a converted copy of this image\n",
    "            except Exception as e:\n",
    "                warnings.warn(f\"Skipped corrupt frame {fp}: {e}\")  # Skips if it's not able to open or convert the image with a warning\n",
    "\n",
    "        # Sliding window logic\n",
    "        stride  = Config.CHUNK_SIZE - Config.OVERLAP  # Stride = 14\n",
    "        clips   = []\n",
    "        for i in range(0, len(frames), stride):  # Moves with a stride of 12, so the last two frames of the first one are added to the next clip\n",
    "            clip = frames[i:i + Config.CHUNK_SIZE] # Get a overlapping clip of 16 frames\n",
    "            if len(clip) < Config.CHUNK_SIZE:\n",
    "                clip += [frames[-1]] * (Config.CHUNK_SIZE - len(clip))  # If the clip (mostly last) is less than 16 frames, pad it with a few frames from the previous chunk\n",
    "            clips.append(clip) # Make a list of clips\n",
    "\n",
    "        # Feature Extractor: Expects as input images/arrays\n",
    "        # Output: [batch_size, num_frames, number_of_channels, height, width]\n",
    "        tensors = []\n",
    "        for clip in clips:\n",
    "            pv = self.fe(clip, return_tensors=\"pt\").pixel_values  # The feature extractor returns tensors of shape (1,16,3,224,224)\n",
    "            tensors.append(pv)                      # Save tensors in a list\n",
    "        pixel_values = torch.cat(tensors, dim=0)               # Concatenate all tensors along the batch dimension: (num_clips,16,3,224,224)\n",
    "        return {\"video_id\": vid, \"pixel_values\": pixel_values, \"n_frames\": len(frames)}\n",
    "\n",
    "# Take a sequence of token embeddings and convert them into frame-level embeddings\n",
    "def tokens_to_frames(tok: torch.Tensor, n_frames=16):\n",
    "    tok = tok[1:]                        # VideoMAE adds a [CLS] token at the beginning: drop CLS\n",
    "    tokens_per_frame = tok.size(0) // n_frames  # Get the number of tokens per frame\n",
    "    tok = tok[:tokens_per_frame * n_frames]  # Ensures the token count is exactly divisible by n_frames\n",
    "    frames = tok.reshape(n_frames, tokens_per_frame, -1).mean(1) # Reshape and take mean across tokens for each frame\n",
    "    return frames                        # (16,768) - 16 frame-level embeddings, each of size 768\n",
    "\n",
    "def extract_temporal(skip_existing=True):\n",
    "    df  = pd.read_csv(Config.METADATA_CSV)\n",
    "    fe  = VideoMAEFeatureExtractor.from_pretrained(Config.MODEL_NAME) # Define the feature extractor\n",
    "    model = VideoMAEModel.from_pretrained(Config.MODEL_NAME).to(Config.DEVICE).eval() # Pretrained videomae model\n",
    "\n",
    "    ds = VideoDataset(df, fe, skip_existing)\n",
    "    for sample in tqdm(ds, desc=\"videos\"):\n",
    "        if sample is None:\n",
    "            continue\n",
    "\n",
    "        vid    = sample[\"video_id\"]\n",
    "        inp    = sample[\"pixel_values\"].to(Config.DEVICE)    # Input: (N,16,3,224,224)\n",
    "        nfrm   = sample[\"n_frames\"]\n",
    "        stride = Config.CHUNK_SIZE - Config.OVERLAP\n",
    "        feat_dim = 768\n",
    "\n",
    "        clip_feats = []\n",
    "        for i in range(0, inp.size(0), Config.CLIP_BATCH): # Process all clips (inp.size(0) is the number of clips per video)\n",
    "            batch = inp[i:i+Config.CLIP_BATCH]               # keep (B,16,3,H,W)\n",
    "            with torch.no_grad():                            # We're freezing the model weights\n",
    "                out = model(batch).last_hidden_state         # Run batch through VideoMAE model: (B, seq+1, 768)\n",
    "            for j in range(out.size(0)):\n",
    "                clip_feats.append(tokens_to_frames(out[j], Config.CHUNK_SIZE).cpu()) # Convert tokens to frame-level features and save them in a list\n",
    "        clip_feats = torch.stack(clip_feats)             # Combine features to form one tensor per video - (num_clips,16,768)\n",
    "\n",
    "        blended = np.zeros((nfrm, feat_dim), dtype=np.float32) # Will store the final per-frame feature vectors.\n",
    "        counts  = np.zeros(nfrm,      dtype=np.float32)   # Tracks how many times each frame is \"touched\" (due to overlap).\n",
    "\n",
    "        w = np.ones(Config.CHUNK_SIZE, dtype=np.float32) # Will track weights used to blend clip features into final frame-wise features\n",
    "        # If there is overlap, we need a smooth transition, so we give lower weights to the frames at the edges\n",
    "        if Config.OVERLAP:\n",
    "            w[:Config.OVERLAP]  = np.linspace(0, 1, Config.OVERLAP, endpoint=False) # First overlap - weights between 0 to 1\n",
    "            w[-Config.OVERLAP:] = np.linspace(1, 0, Config.OVERLAP, endpoint=False) # Last overlap - weights between 1 to 0\n",
    "\n",
    "        for k, clip in enumerate(clip_feats):  # (num_clips, 16, 768)\n",
    "            start = k * stride   # first frame index\n",
    "            end   = min(start + Config.CHUNK_SIZE, nfrm)  # last frame index\n",
    "            w_use = w[:end - start]   # Extract relevant portion of the weight array\n",
    "            blended[start:end] += clip[:end - start].numpy() * w_use[:, None] # Multiply the clips frame features with corresponding weights\n",
    "            counts[start:end]  += w_use # Track the sum of weights for each frame so that we can normalize later\n",
    "\n",
    "        blended[counts > 0] /= counts[counts > 0, None] # Weighted average\n",
    "\n",
    "        np.save(os.path.join(Config.FEATURES_DIR, f\"{vid}_temporal.npy\"), blended) # Save the features\n",
    "\n",
    "extract_temporal(skip_existing=True)\n",
    "print(\"✓  Temporal features saved\")"
   ]
  },
  {
   "cell_type": "code",
   "execution_count": null,
   "id": "a7f8bbec-05ba-4ccc-bcc3-2d7f2af0319a",
   "metadata": {},
   "outputs": [],
   "source": []
  },
  {
   "cell_type": "code",
   "execution_count": null,
   "id": "8b06737d-1c7e-4954-a028-ad4b41e0eb12",
   "metadata": {},
   "outputs": [],
   "source": []
  },
  {
   "cell_type": "markdown",
   "id": "ba4bb9ed-b83d-4fb7-bddc-7368d29a0768",
   "metadata": {},
   "source": [
    "# Import libraries and set the seed"
   ]
  },
  {
   "cell_type": "code",
   "execution_count": 3,
   "id": "6e0c18f2-3129-42df-91e3-1342c0d2647f",
   "metadata": {},
   "outputs": [],
   "source": [
    "# ----------------------------- imports & config -----------------------------\n",
    "import os\n",
    "from pathlib import Path\n",
    "import copy\n",
    "import math\n",
    "import numpy as np\n",
    "import pandas as pd\n",
    "import torch\n",
    "import torch.nn as nn\n",
    "import torch.optim as optim\n",
    "from torch.utils.data import Dataset, DataLoader\n",
    "import optuna\n",
    "import pickle\n",
    "import matplotlib.pyplot as plt\n",
    "import seaborn as sns\n",
    "\n",
    "SEED = 42\n",
    "DEVICE = torch.device(\"cuda\" if torch.cuda.is_available() else \"cpu\")\n",
    "BATCH_SIZE = 5\n",
    "N_EPOCHS = 40\n",
    "PATIENCE = 10\n",
    "N_TRIALS = 30\n",
    "FEATURE_DIR = \"videomae_features_new\"\n",
    "MODEL_DIR = Path(\"models_final\") \n",
    "MODEL_DIR.mkdir(exist_ok=True)\n",
    "RESULTS_DIR = Path(\"results_final\") \n",
    "RESULTS_DIR.mkdir(exist_ok=True)\n",
    "PIN = torch.cuda.is_available()\n",
    "NUM_WORKERS = 0\n",
    "\n",
    "def set_seed(seed: int = SEED):\n",
    "    np.random.seed(seed)\n",
    "    torch.manual_seed(seed)\n",
    "    if torch.cuda.is_available():\n",
    "        torch.cuda.manual_seed_all(seed)\n",
    "\n",
    "set_seed()"
   ]
  },
  {
   "cell_type": "markdown",
   "id": "b6c4ace5-6371-45ee-b8ab-321888efff0f",
   "metadata": {},
   "source": [
    "# Dataset Class"
   ]
  },
  {
   "cell_type": "code",
   "execution_count": 4,
   "id": "c2b9fdcf-a904-4f29-b0b4-ffa7656fcc3f",
   "metadata": {},
   "outputs": [],
   "source": [
    "class TemporalFeatureDataset(Dataset):\n",
    "    def __init__(self, dataframe: pd.DataFrame, feature_dir: str, target_col: str = \"log_view_count\"):\n",
    "        self.df = dataframe.reset_index(drop=True)\n",
    "        self.feature_dir = Path(feature_dir)  # Base directory containing .npy feature files\n",
    "        self.target_col = target_col\n",
    "\n",
    "    def __len__(self): return len(self.df)\n",
    "\n",
    "    def __getitem__(self, idx):\n",
    "        row = self.df.iloc[idx]      # select the idx-th row\n",
    "        vid = row[\"video_id\"]        # fetch the video ID\n",
    "        x = np.load(self.feature_dir / f\"{vid}_temporal.npy\")   # load features: expected shape [T, D]\n",
    "        y = row[self.target_col]     # fetch the target for this sample\n",
    "        return torch.tensor(x, dtype=torch.float32), torch.tensor(y, dtype=torch.float32) # Convert to Pytorch tensors\n",
    "\n",
    "def safe_pearsonr(preds: np.ndarray, targets: np.ndarray, eps: float = 1e-8) -> float:\n",
    "    preds, targets = preds.squeeze(), targets.squeeze()   # Squeeze removes all dimensions of size 1\n",
    "    cov = ((preds - preds.mean()) * (targets - targets.mean())).mean()  # Calculate the covariance\n",
    "    return float(cov / ((preds.std() + eps) * (targets.std() + eps)))  # Calculate and return the pearson r - a small epsilon is added to avoid division by zero\n",
    "\n",
    "def log_to_views(arr: np.ndarray) -> np.ndarray:\n",
    "    return np.expm1(arr)        # Log view count is converted back to view -> Inverse of log1p"
   ]
  },
  {
   "cell_type": "markdown",
   "id": "6e3dec81-eb39-4bc9-a0f8-9c5d12094e01",
   "metadata": {},
   "source": [
    "# Prediction Model - Transformer"
   ]
  },
  {
   "cell_type": "code",
   "execution_count": 5,
   "id": "ac9741f6-6e0f-4b6d-88d9-4258d8a1ffbb",
   "metadata": {},
   "outputs": [],
   "source": [
    "class TransformerRegressor(nn.Module):\n",
    "    def __init__(self, d_model, nhead, num_layers):\n",
    "        super().__init__()\n",
    "        # One encoder block (self-attention + FFN + residual + norm)\n",
    "        encoder_layer = nn.TransformerEncoderLayer(d_model, nhead) # By default, batch_first=False (expects [T, B, D]).\n",
    "        self.transformer = nn.TransformerEncoder(encoder_layer, num_layers) # Stack 'num_layers' encoder blocks\n",
    "        self.regressor = nn.Linear(d_model, 1)  # Linear regression head mapping pooled [B, D] -> scalar\n",
    "\n",
    "    def forward(self, x):  # x: (B, T, D) -> (5, 700, 758)\n",
    "        x = x.permute(1, 0, 2)  # Permute as by default the transformer expects [T, B, D]\n",
    "        x = self.transformer(x)  # (T, B, D)\n",
    "        x = x.mean(dim=0)  # global average pooling over time\n",
    "        return self.regressor(x).squeeze(-1) # Regress to a single scalar"
   ]
  },
  {
   "cell_type": "markdown",
   "id": "a60f2a86-a3ee-40c2-a47f-bc8cc66fbe38",
   "metadata": {},
   "source": [
    "# Training Loop"
   ]
  },
  {
   "cell_type": "code",
   "execution_count": 6,
   "id": "f7741461-f795-41ed-a0b4-93c6b06816a9",
   "metadata": {},
   "outputs": [],
   "source": [
    "def train_one_epoch(model, loader, criterion, optimizer, clip_norm: float = 1.0):\n",
    "    model.train()         # Put the model in training mode\n",
    "    total_huber, preds, tgts = 0.0, [], []\n",
    "    for x, y in loader:\n",
    "        x, y = x.to(DEVICE), y.to(DEVICE)  # Move the inputs and targets to the device (GPU)\n",
    "        y_hat = model(x)     # Forward pass - Get the predictions\n",
    "        loss = criterion(y_hat, y)    # Compute training loss (Huber)\n",
    "        optimizer.zero_grad()       # Reset gradients \n",
    "        loss.backward()             # backpropagate to compute grads\n",
    "        if clip_norm is not None:     # optionally clip gradient norm to stabilize training\n",
    "            nn.utils.clip_grad_norm_(model.parameters(), clip_norm)\n",
    "        optimizer.step()             # update parameters\n",
    "        total_huber += loss.item() * x.size(0)   # accumulate sum of loss over samples in this batch\n",
    "        preds.append(y_hat.detach().cpu().numpy())   # Collect predictions on cpu for epoch metrics\n",
    "        tgts.append(y.cpu().numpy())   # Collect targets on CPU\n",
    "    preds = np.concatenate(preds)  # Concatenate per batch arrays into [N] arrays for whole epoch metrics\n",
    "    tgts = np.concatenate(tgts)  \n",
    "    mse = float(np.mean((preds - tgts) ** 2)) # Epoch MSE\n",
    "    pc  = safe_pearsonr(preds, tgts)    # Epoch PC\n",
    "    hub = total_huber / len(loader.dataset)   # Average huber over all samples in the epoch\n",
    "    return hub, mse, pc\n",
    "\n",
    "@torch.no_grad()     # Disable autograd for evaluation\n",
    "def evaluate(model, loader):\n",
    "    model.eval()    # Set the model in eval mode\n",
    "    preds, tgts = [], []\n",
    "    for x, y in loader:\n",
    "        x, y = x.to(DEVICE), y.to(DEVICE)   # Move to device\n",
    "        preds.append(model(x).cpu().numpy())  # Forward pass -> Collect predictions\n",
    "        tgts.append(y.cpu().numpy())      # Collect targets\n",
    "    preds = np.concatenate(preds)     # [N] predictions\n",
    "    tgts = np.concatenate(tgts)       # [N] targets\n",
    "    mse = float(np.mean((preds - tgts) ** 2))   # MSE over full split\n",
    "    pc  = safe_pearsonr(preds, tgts)      # PC over full split\n",
    "    return mse, pc, preds, tgts\n",
    "\n",
    "def train_and_evaluate(model, train_loader, val_loader, lr, weight_decay,\n",
    "                       n_epochs=N_EPOCHS, patience=PATIENCE, verbose=True):\n",
    "    crit = nn.HuberLoss(delta=1.0)         # Training criteria - Robust to outliers  \n",
    "    opt  = optim.Adam(model.parameters(), lr=lr, weight_decay=weight_decay)   # Adam optimizer\n",
    "\n",
    "    best_val = float(\"inf\") \n",
    "    best_pc = None\n",
    "    best_state = None; bad = 0\n",
    "\n",
    "    # Epoch Loop\n",
    "    for ep in range(1, n_epochs + 1):\n",
    "        tr_hub, tr_mse, tr_pc = train_one_epoch(model, train_loader, crit, opt)  # one training epoch\n",
    "        val_mse, val_pc, _, _ = evaluate(model, val_loader)    # evaluation on validation split\n",
    "        if verbose:\n",
    "            print(f\"Epoch {ep:02d}: Train Huber={tr_hub:.4f}, Train MSE={tr_mse:.4f}, PC={tr_pc:.4f} | \"\n",
    "                  f\"Val MSE={val_mse:.4f}, PC={val_pc:.4f}\")\n",
    "        if val_mse < best_val:   # If there is improvement in the validation MSE, save that as the best MSE and PC\n",
    "            best_val, best_pc = float(val_mse), float(val_pc)  \n",
    "            best_state = copy.deepcopy(model.state_dict())\n",
    "            bad = 0\n",
    "        else:\n",
    "            bad += 1\n",
    "            if bad >= patience:\n",
    "                if verbose: print(\"Early stopping\"); break\n",
    "\n",
    "    model.load_state_dict(best_state)   # restore best checkpoint before returning\n",
    "    return model, best_val, best_pc"
   ]
  },
  {
   "cell_type": "markdown",
   "id": "251705ec-842f-4e15-9e87-859504eb83cc",
   "metadata": {},
   "source": [
    "# Optuna for Hyperparameter Tuning"
   ]
  },
  {
   "cell_type": "code",
   "execution_count": 7,
   "id": "0a4e3c5a-12a6-4879-b952-163db434efb4",
   "metadata": {},
   "outputs": [],
   "source": [
    "# ------------------------------ optuna objective ----------------------------\n",
    "def objective_builder(train_df, val_df, input_dim):\n",
    "    def objective(trial):\n",
    "        # loaders (trial-specific RNG for shuffling)\n",
    "        print(f\"\\n[trial {trial.number}] build loaders...\", flush=True)\n",
    "        g = torch.Generator().manual_seed(SEED + trial.number)  # per-trial determenistic shuffle\n",
    "        train_loader = DataLoader(\n",
    "            TemporalFeatureDataset(train_df, FEATURE_DIR), # dataset for training\n",
    "            batch_size=BATCH_SIZE, shuffle=True, generator=g, \n",
    "            num_workers=NUM_WORKERS, pin_memory=PIN       # pin mem if on CUDA for faster host->device copies\n",
    "        )\n",
    "        val_loader = DataLoader(\n",
    "            TemporalFeatureDataset(val_df, FEATURE_DIR),\n",
    "            batch_size=BATCH_SIZE, shuffle=False,    # No shuffle in case of validation\n",
    "            num_workers=NUM_WORKERS, pin_memory=PIN\n",
    "        )\n",
    "\n",
    "        # hyperparams\n",
    "        nhead   = trial.suggest_categorical(\"nhead\", [4, 8])  # Suggests either 4 or 8\n",
    "        num_layers      = trial.suggest_int(\"num_layers\", 1, 4)   # Suggests any integer between 1 and 4\n",
    "        lr              = trial.suggest_float(\"lr\", 1e-4, 1e-2, log=True)   # Suggests any positive float between the range sampled log uniformly\n",
    "        weight_decay    = trial.suggest_float(\"weight_decay\", 1e-6, 1e-3, log=True) # Any positive float - also log uniform\n",
    "\n",
    "        model = TransformerRegressor(d_model=768, nhead=nhead, num_layers=num_layers).to(DEVICE) # Create an instance of the model\n",
    "        model, val_mse, val_pc = train_and_evaluate(model, train_loader, val_loader, lr, weight_decay, verbose=True) # Train and evaluate\n",
    "        \n",
    "        trial.set_user_attr(\"val_pc\", float(val_pc)) # store Pearson on val\n",
    "        trial.set_user_attr(\"state_dict\", copy.deepcopy(model.state_dict())) # Stores a full copy of weights on every trial\n",
    "        return float(val_mse) # Optuna will minimize this objective \n",
    "    return objective"
   ]
  },
  {
   "cell_type": "code",
   "execution_count": 8,
   "id": "cb61d019-e9b2-441d-baee-b307fb3ee9c0",
   "metadata": {},
   "outputs": [],
   "source": [
    "# One function to run the full experiment\n",
    "def run_split(name: str, train_ids: list, val_ids: list, input_dim: int = 768):\n",
    "    print(f\"\\n=== Running split: {name} ===\")\n",
    "    df = pd.read_csv(\"FinalDataset.csv\") # load target dataframe with log_view_count and video_id\n",
    "    \n",
    "    train_df = df[df.video_id.isin(train_ids)].reset_index(drop=True)  # Prepare the train DF\n",
    "    val_df   = df[df.video_id.isin(val_ids)].reset_index(drop=True)    # Prepare the validation DF\n",
    "\n",
    "    # run Optuna\n",
    "    study = optuna.create_study(direction=\"minimize\", sampler=optuna.samplers.TPESampler(seed=SEED))  # TPESampler with a fixed seed for reproducible sampling order\n",
    "    study.optimize(objective_builder(train_df, val_df, input_dim), n_trials=N_TRIALS)\n",
    "    best = study.best_params    # Extract the trial's params and score\n",
    "    print(\"Best hyper-parameters:\", best)\n",
    "    print(\"Best Val MSE (Optuna):\", study.best_trial.value)\n",
    "\n",
    "    # rebuild best model and load the exact best-epoch weights saved in the trial\n",
    "    model = TransformerRegressor(d_model=768, nhead=best[\"nhead\"], num_layers=best[\"num_layers\"]).to(DEVICE)\n",
    "    model.load_state_dict(study.best_trial.user_attrs[\"state_dict\"])  # Restore the best state dict\n",
    "\n",
    "    # eval loaders (no shuffle)\n",
    "    train_loader = DataLoader(TemporalFeatureDataset(train_df, FEATURE_DIR),\n",
    "                              batch_size=BATCH_SIZE, shuffle=False, num_workers=NUM_WORKERS, pin_memory=PIN)\n",
    "    val_loader   = DataLoader(TemporalFeatureDataset(val_df, FEATURE_DIR),\n",
    "                              batch_size=BATCH_SIZE, shuffle=False, num_workers=NUM_WORKERS, pin_memory=PIN)\n",
    "\n",
    "    tr_mse, tr_pc, _, _ = evaluate(model, train_loader)\n",
    "    vl_mse, vl_pc, vl_preds, vl_tgts = evaluate(model, val_loader)\n",
    "    print(f\"Reloaded eval — Train MSE={tr_mse:.4f}, PC={tr_pc:.4f} | Val MSE={vl_mse:.4f}, PC={vl_pc:.4f} \"\n",
    "          f\"| ΔMSE={abs(vl_mse - study.best_trial.value):.6f}\")   # Check that reloaded model gives the same MSE\n",
    "\n",
    "    # save bundle + study\n",
    "    bundle_path = MODEL_DIR / f\"video_reg_{name}.pt\"\n",
    "    torch.save({\n",
    "        \"state_dict\": study.best_trial.user_attrs[\"state_dict\"],   # Exact best weights\n",
    "        \"best_params\": best,                     # Optuna best parameters\n",
    "        \"val_mse\": study.best_trial.value,   # Best val MSE\n",
    "        \"val_pc\": study.best_trial.user_attrs[\"val_pc\"],  # Best val PC\n",
    "    }, bundle_path)\n",
    "\n",
    "    with open(MODEL_DIR / f\"video_reg_{name}.pkl\", \"wb\") as f:\n",
    "        pickle.dump(study, f)      # Save the entire study\n",
    "\n",
    "    # Save the validation predictions for late-fusion\n",
    "    out = pd.DataFrame({\n",
    "        \"video_id\": val_df[\"video_id\"],\n",
    "        \"y_true\" : vl_tgts.astype(float),\n",
    "        \"y_pred\"  : vl_preds.astype(float),\n",
    "    })\n",
    "    fname = RESULTS_DIR / f\"video_reg_val_{name}.csv\"\n",
    "    out.to_csv(fname, index=False)\n",
    "    print(f\"Saved VAL preds → {fname}\")\n",
    "\n",
    "    return {\n",
    "        \"model\": model, \"train_df\": train_df, \"val_df\": val_df,\n",
    "        \"vl_preds\": vl_preds, \"vl_tgts\": vl_tgts, \"vl_mse\": vl_mse, \"vl_pc\": vl_pc,\n",
    "        \"bundle_path\": bundle_path\n",
    "    }"
   ]
  },
  {
   "cell_type": "markdown",
   "id": "10eb9168-5e0a-499d-be2b-e5994e5d9134",
   "metadata": {},
   "source": [
    "# Experiments"
   ]
  },
  {
   "cell_type": "markdown",
   "id": "85709c05-6e01-4756-a0cb-a6a1b960e0a2",
   "metadata": {},
   "source": [
    "## Person-Independent Split"
   ]
  },
  {
   "cell_type": "code",
   "execution_count": 7,
   "id": "8e29bbac-96d5-4c5c-9e2e-e66e4e1ed386",
   "metadata": {
    "scrolled": true
   },
   "outputs": [
    {
     "name": "stderr",
     "output_type": "stream",
     "text": [
      "[I 2025-08-17 13:22:54,914] A new study created in memory with name: no-name-8e426c5e-188e-4f76-ab28-8e0b8ceef538\n"
     ]
    },
    {
     "name": "stdout",
     "output_type": "stream",
     "text": [
      "\n",
      "=== Running split: ind ===\n",
      "\n",
      "[trial 0] build loaders...\n"
     ]
    },
    {
     "name": "stderr",
     "output_type": "stream",
     "text": [
      "C:\\ProgramData\\anaconda3\\Lib\\site-packages\\torch\\nn\\modules\\transformer.py:379: UserWarning: enable_nested_tensor is True, but self.use_nested_tensor is False because encoder_layer.self_attn.batch_first was not True(use batch_first for better inference performance)\n",
      "  warnings.warn(\n"
     ]
    },
    {
     "name": "stdout",
     "output_type": "stream",
     "text": [
      "Epoch 01: Train Huber=3.0442, Train MSE=19.4923, PC=0.1382 | Val MSE=16.1234, PC=-0.0613\n",
      "Epoch 02: Train Huber=2.5197, Train MSE=13.9490, PC=0.3691 | Val MSE=24.5051, PC=0.0154\n",
      "Epoch 03: Train Huber=2.4539, Train MSE=15.2144, PC=0.3670 | Val MSE=17.1605, PC=0.0925\n",
      "Epoch 04: Train Huber=2.3317, Train MSE=14.0142, PC=0.4078 | Val MSE=19.6433, PC=0.1440\n",
      "Epoch 05: Train Huber=2.3208, Train MSE=13.8958, PC=0.4347 | Val MSE=23.6013, PC=-0.0262\n",
      "Epoch 06: Train Huber=2.3411, Train MSE=14.2941, PC=0.4217 | Val MSE=18.8402, PC=0.0941\n",
      "Epoch 07: Train Huber=2.2435, Train MSE=13.4543, PC=0.4481 | Val MSE=15.1642, PC=0.1950\n",
      "Epoch 08: Train Huber=2.2803, Train MSE=13.2981, PC=0.4486 | Val MSE=20.0946, PC=0.0837\n",
      "Epoch 09: Train Huber=2.2356, Train MSE=13.0736, PC=0.4523 | Val MSE=17.9258, PC=0.1207\n",
      "Epoch 10: Train Huber=2.1923, Train MSE=12.8365, PC=0.4626 | Val MSE=21.5928, PC=0.0228\n",
      "Epoch 11: Train Huber=2.2290, Train MSE=13.0291, PC=0.4563 | Val MSE=19.8727, PC=0.0958\n",
      "Epoch 12: Train Huber=2.2213, Train MSE=13.4674, PC=0.4656 | Val MSE=20.6967, PC=0.0617\n",
      "Epoch 13: Train Huber=2.2734, Train MSE=13.2226, PC=0.4541 | Val MSE=18.6082, PC=0.0578\n",
      "Epoch 14: Train Huber=2.1567, Train MSE=12.9361, PC=0.4840 | Val MSE=21.4342, PC=0.0260\n",
      "Epoch 15: Train Huber=2.1954, Train MSE=12.5372, PC=0.4813 | Val MSE=20.3421, PC=0.0367\n",
      "Epoch 16: Train Huber=2.1651, Train MSE=12.7858, PC=0.4899 | Val MSE=23.3209, PC=0.1313\n"
     ]
    },
    {
     "name": "stderr",
     "output_type": "stream",
     "text": [
      "[I 2025-08-17 13:24:40,272] Trial 0 finished with value: 15.164175033569336 and parameters: {'hidden_dim': 232, 'nhead': 4, 'num_layers': 3, 'lr': 0.0002051338263087451, 'weight_decay': 2.9375384576328313e-06}. Best is trial 0 with value: 15.164175033569336.\n"
     ]
    },
    {
     "name": "stdout",
     "output_type": "stream",
     "text": [
      "Epoch 17: Train Huber=2.0956, Train MSE=12.0955, PC=0.5047 | Val MSE=22.2655, PC=0.0084\n",
      "Early stopping\n",
      "\n",
      "[trial 1] build loaders...\n"
     ]
    },
    {
     "name": "stderr",
     "output_type": "stream",
     "text": [
      "C:\\ProgramData\\anaconda3\\Lib\\site-packages\\torch\\nn\\modules\\transformer.py:379: UserWarning: enable_nested_tensor is True, but self.use_nested_tensor is False because encoder_layer.self_attn.batch_first was not True(use batch_first for better inference performance)\n",
      "  warnings.warn(\n"
     ]
    },
    {
     "name": "stdout",
     "output_type": "stream",
     "text": [
      "Epoch 01: Train Huber=3.0669, Train MSE=19.2967, PC=0.1630 | Val MSE=30.2277, PC=-0.0345\n",
      "Epoch 02: Train Huber=2.5683, Train MSE=15.3208, PC=0.3233 | Val MSE=22.3615, PC=-0.0946\n",
      "Epoch 03: Train Huber=2.4101, Train MSE=14.1539, PC=0.4053 | Val MSE=25.6819, PC=-0.0332\n",
      "Epoch 04: Train Huber=2.3112, Train MSE=13.7409, PC=0.4340 | Val MSE=16.0933, PC=0.1309\n",
      "Epoch 05: Train Huber=2.3096, Train MSE=13.6079, PC=0.4303 | Val MSE=16.4088, PC=0.1126\n",
      "Epoch 06: Train Huber=2.2902, Train MSE=13.1402, PC=0.4443 | Val MSE=24.2518, PC=0.0241\n",
      "Epoch 07: Train Huber=2.3149, Train MSE=14.0750, PC=0.4324 | Val MSE=21.8683, PC=0.0094\n",
      "Epoch 08: Train Huber=2.2534, Train MSE=12.9104, PC=0.4641 | Val MSE=20.4334, PC=0.0582\n",
      "Epoch 09: Train Huber=2.1952, Train MSE=13.0907, PC=0.4665 | Val MSE=19.2623, PC=0.0932\n",
      "Epoch 10: Train Huber=2.1599, Train MSE=12.8418, PC=0.4800 | Val MSE=23.4825, PC=-0.0041\n",
      "Epoch 11: Train Huber=2.2382, Train MSE=13.5311, PC=0.4403 | Val MSE=18.9698, PC=0.0983\n",
      "Epoch 12: Train Huber=2.2079, Train MSE=13.3295, PC=0.4692 | Val MSE=18.7009, PC=0.1071\n",
      "Epoch 13: Train Huber=2.2428, Train MSE=13.2965, PC=0.4595 | Val MSE=17.9371, PC=0.1025\n",
      "Epoch 14: Train Huber=2.1515, Train MSE=12.6324, PC=0.4796 | Val MSE=15.3754, PC=0.1691\n",
      "Epoch 15: Train Huber=2.1742, Train MSE=12.5840, PC=0.4868 | Val MSE=18.0457, PC=0.1442\n",
      "Epoch 16: Train Huber=2.1693, Train MSE=12.8228, PC=0.4804 | Val MSE=17.1537, PC=0.1469\n",
      "Epoch 17: Train Huber=2.1528, Train MSE=12.6695, PC=0.4841 | Val MSE=20.4790, PC=0.0856\n",
      "Epoch 18: Train Huber=2.1264, Train MSE=12.5898, PC=0.4928 | Val MSE=23.1467, PC=0.0109\n",
      "Epoch 19: Train Huber=2.1445, Train MSE=12.8294, PC=0.4924 | Val MSE=18.0271, PC=0.1684\n",
      "Epoch 20: Train Huber=2.1302, Train MSE=12.8102, PC=0.4879 | Val MSE=19.7438, PC=0.1083\n",
      "Epoch 21: Train Huber=2.1105, Train MSE=12.8448, PC=0.5043 | Val MSE=20.0483, PC=0.0985\n",
      "Epoch 22: Train Huber=2.1067, Train MSE=12.1792, PC=0.4988 | Val MSE=16.7740, PC=0.1545\n",
      "Epoch 23: Train Huber=2.1014, Train MSE=12.1374, PC=0.5091 | Val MSE=18.4354, PC=0.1199\n"
     ]
    },
    {
     "name": "stderr",
     "output_type": "stream",
     "text": [
      "[I 2025-08-17 13:27:07,614] Trial 1 finished with value: 15.375410079956055 and parameters: {'hidden_dim': 90, 'nhead': 4, 'num_layers': 3, 'lr': 0.00010994335574766199, 'weight_decay': 0.0008123245085588687}. Best is trial 0 with value: 15.164175033569336.\n"
     ]
    },
    {
     "name": "stdout",
     "output_type": "stream",
     "text": [
      "Epoch 24: Train Huber=2.2171, Train MSE=12.8059, PC=0.4818 | Val MSE=21.9207, PC=0.0545\n",
      "Early stopping\n",
      "\n",
      "[trial 2] build loaders...\n",
      "Epoch 01: Train Huber=3.2111, Train MSE=21.6119, PC=0.0369 | Val MSE=16.5383, PC=0.0832\n",
      "Epoch 02: Train Huber=2.6944, Train MSE=16.4813, PC=0.2726 | Val MSE=29.7748, PC=-0.0046\n",
      "Epoch 03: Train Huber=2.3199, Train MSE=13.9648, PC=0.4327 | Val MSE=23.4330, PC=0.0600\n",
      "Epoch 04: Train Huber=2.2544, Train MSE=13.3800, PC=0.4569 | Val MSE=20.6921, PC=0.0753\n",
      "Epoch 05: Train Huber=2.2644, Train MSE=13.4510, PC=0.4589 | Val MSE=17.4829, PC=0.1216\n",
      "Epoch 06: Train Huber=2.2579, Train MSE=13.3007, PC=0.4583 | Val MSE=15.4804, PC=0.1155\n",
      "Epoch 07: Train Huber=2.2057, Train MSE=12.9881, PC=0.4693 | Val MSE=21.8720, PC=0.0509\n",
      "Epoch 08: Train Huber=2.1266, Train MSE=12.7280, PC=0.4972 | Val MSE=22.9650, PC=0.1011\n",
      "Epoch 09: Train Huber=2.1409, Train MSE=12.7215, PC=0.4867 | Val MSE=25.3808, PC=0.0292\n",
      "Epoch 10: Train Huber=1.9876, Train MSE=11.8494, PC=0.5508 | Val MSE=20.0217, PC=0.1717\n",
      "Epoch 11: Train Huber=1.9420, Train MSE=11.2161, PC=0.5603 | Val MSE=26.0465, PC=0.0532\n",
      "Epoch 12: Train Huber=1.9628, Train MSE=11.4057, PC=0.5594 | Val MSE=21.4907, PC=0.1501\n",
      "Epoch 13: Train Huber=1.8424, Train MSE=11.0793, PC=0.5825 | Val MSE=19.2313, PC=0.1580\n",
      "Epoch 14: Train Huber=1.8855, Train MSE=10.8906, PC=0.5850 | Val MSE=18.9170, PC=0.1378\n",
      "Epoch 15: Train Huber=1.7681, Train MSE=10.2305, PC=0.6129 | Val MSE=23.0767, PC=0.0748\n"
     ]
    },
    {
     "name": "stderr",
     "output_type": "stream",
     "text": [
      "[I 2025-08-17 13:27:48,292] Trial 2 finished with value: 15.480372428894043 and parameters: {'hidden_dim': 437, 'nhead': 4, 'num_layers': 1, 'lr': 0.0004059611610484307, 'weight_decay': 3.752055855124284e-05}. Best is trial 0 with value: 15.164175033569336.\n"
     ]
    },
    {
     "name": "stdout",
     "output_type": "stream",
     "text": [
      "Epoch 16: Train Huber=1.6157, Train MSE=9.2176, PC=0.6633 | Val MSE=20.8301, PC=0.1861\n",
      "Early stopping\n",
      "\n",
      "[trial 3] build loaders...\n",
      "Epoch 01: Train Huber=3.0155, Train MSE=18.7328, PC=0.1304 | Val MSE=19.6372, PC=0.0429\n",
      "Epoch 02: Train Huber=2.5382, Train MSE=14.5121, PC=0.3518 | Val MSE=23.1805, PC=0.0420\n",
      "Epoch 03: Train Huber=2.6296, Train MSE=15.8888, PC=0.3515 | Val MSE=18.3852, PC=0.0776\n",
      "Epoch 04: Train Huber=2.4286, Train MSE=14.4113, PC=0.3909 | Val MSE=20.7766, PC=0.0696\n",
      "Epoch 05: Train Huber=2.2439, Train MSE=13.3259, PC=0.4556 | Val MSE=20.4818, PC=0.1003\n",
      "Epoch 06: Train Huber=2.2380, Train MSE=13.2374, PC=0.4614 | Val MSE=24.6716, PC=0.0929\n",
      "Epoch 07: Train Huber=2.2011, Train MSE=13.3763, PC=0.4622 | Val MSE=23.4465, PC=0.0920\n",
      "Epoch 08: Train Huber=2.1175, Train MSE=12.3370, PC=0.5050 | Val MSE=19.4172, PC=0.1037\n",
      "Epoch 09: Train Huber=2.0917, Train MSE=12.5536, PC=0.5109 | Val MSE=20.6075, PC=0.0560\n",
      "Epoch 10: Train Huber=1.9021, Train MSE=11.4916, PC=0.5634 | Val MSE=22.9255, PC=0.0659\n",
      "Epoch 11: Train Huber=1.9220, Train MSE=11.4321, PC=0.5688 | Val MSE=20.2519, PC=0.0696\n",
      "Epoch 12: Train Huber=1.6944, Train MSE=9.7129, PC=0.6372 | Val MSE=21.2445, PC=0.1033\n"
     ]
    },
    {
     "name": "stderr",
     "output_type": "stream",
     "text": [
      "[I 2025-08-17 13:28:22,129] Trial 3 finished with value: 18.385221481323242 and parameters: {'hidden_dim': 257, 'nhead': 8, 'num_layers': 1, 'lr': 0.0003839629299804173, 'weight_decay': 1.2562773503807034e-05}. Best is trial 0 with value: 15.164175033569336.\n"
     ]
    },
    {
     "name": "stdout",
     "output_type": "stream",
     "text": [
      "Epoch 13: Train Huber=1.6056, Train MSE=9.5415, PC=0.6539 | Val MSE=24.2842, PC=0.0798\n",
      "Early stopping\n",
      "\n",
      "[trial 4] build loaders...\n",
      "Epoch 01: Train Huber=3.1498, Train MSE=19.3276, PC=0.0327 | Val MSE=18.6776, PC=0.0182\n",
      "Epoch 02: Train Huber=3.0807, Train MSE=17.4048, PC=-0.0262 | Val MSE=13.8355, PC=0.1530\n",
      "Epoch 03: Train Huber=3.1124, Train MSE=18.1523, PC=-0.0726 | Val MSE=17.1056, PC=0.2164\n",
      "Epoch 04: Train Huber=3.1029, Train MSE=18.1885, PC=-0.0591 | Val MSE=43.2808, PC=-0.0079\n",
      "Epoch 05: Train Huber=3.0762, Train MSE=19.2126, PC=0.0214 | Val MSE=20.9907, PC=-0.0620\n",
      "Epoch 06: Train Huber=3.0513, Train MSE=16.7584, PC=-0.0189 | Val MSE=15.8820, PC=-0.0330\n",
      "Epoch 07: Train Huber=3.0359, Train MSE=17.2521, PC=0.0724 | Val MSE=23.1535, PC=0.0570\n",
      "Epoch 08: Train Huber=3.0904, Train MSE=17.3188, PC=-0.0921 | Val MSE=13.6287, PC=0.1784\n",
      "Epoch 09: Train Huber=3.0474, Train MSE=17.1013, PC=0.0260 | Val MSE=13.8121, PC=0.0197\n",
      "Epoch 10: Train Huber=3.0736, Train MSE=17.3623, PC=-0.0329 | Val MSE=24.8209, PC=0.1970\n",
      "Epoch 11: Train Huber=2.9633, Train MSE=16.8558, PC=0.0643 | Val MSE=13.6392, PC=0.1528\n",
      "Epoch 12: Train Huber=3.0105, Train MSE=16.8039, PC=0.0161 | Val MSE=18.9536, PC=0.0095\n",
      "Epoch 13: Train Huber=3.0570, Train MSE=17.3521, PC=-0.0279 | Val MSE=14.9290, PC=-0.0125\n",
      "Epoch 14: Train Huber=3.0957, Train MSE=17.3725, PC=-0.0010 | Val MSE=20.7763, PC=0.0945\n",
      "Epoch 15: Train Huber=3.1309, Train MSE=17.3722, PC=-0.0030 | Val MSE=25.1551, PC=-0.2168\n",
      "Epoch 16: Train Huber=3.1144, Train MSE=17.8549, PC=-0.0677 | Val MSE=23.7650, PC=0.0665\n",
      "Epoch 17: Train Huber=3.0539, Train MSE=17.4788, PC=-0.0611 | Val MSE=14.6587, PC=-0.1360\n"
     ]
    },
    {
     "name": "stderr",
     "output_type": "stream",
     "text": [
      "[I 2025-08-17 13:30:13,315] Trial 4 finished with value: 13.628695487976074 and parameters: {'hidden_dim': 268, 'nhead': 4, 'num_layers': 3, 'lr': 0.0015304852121831463, 'weight_decay': 1.3783237455007196e-06}. Best is trial 4 with value: 13.628695487976074.\n"
     ]
    },
    {
     "name": "stdout",
     "output_type": "stream",
     "text": [
      "Epoch 18: Train Huber=3.0333, Train MSE=16.8243, PC=-0.0918 | Val MSE=22.1780, PC=0.1772\n",
      "Early stopping\n",
      "\n",
      "[trial 5] build loaders...\n",
      "Epoch 01: Train Huber=3.7315, Train MSE=27.1772, PC=-0.0262 | Val MSE=67.5396, PC=0.0000\n",
      "Epoch 02: Train Huber=3.4745, Train MSE=23.3755, PC=0.0085 | Val MSE=17.3546, PC=-0.1723\n",
      "Epoch 03: Train Huber=3.0994, Train MSE=18.3225, PC=-0.0029 | Val MSE=13.6868, PC=-0.0201\n",
      "Epoch 04: Train Huber=3.2694, Train MSE=19.1343, PC=-0.0646 | Val MSE=13.8302, PC=0.1595\n",
      "Epoch 05: Train Huber=3.1669, Train MSE=18.3230, PC=-0.0518 | Val MSE=17.6626, PC=-0.0480\n",
      "Epoch 06: Train Huber=3.1581, Train MSE=18.4496, PC=0.0712 | Val MSE=17.3357, PC=-0.0000\n",
      "Epoch 07: Train Huber=3.2608, Train MSE=19.7532, PC=-0.0351 | Val MSE=16.9982, PC=0.0000\n",
      "Epoch 08: Train Huber=3.1640, Train MSE=19.8153, PC=-0.0123 | Val MSE=24.6789, PC=0.0000\n",
      "Epoch 09: Train Huber=3.4046, Train MSE=22.4796, PC=0.0169 | Val MSE=56.5736, PC=-0.0000\n",
      "Epoch 10: Train Huber=3.5630, Train MSE=24.3774, PC=0.0124 | Val MSE=28.1281, PC=0.0000\n",
      "Epoch 11: Train Huber=3.2036, Train MSE=20.5588, PC=0.0842 | Val MSE=17.1254, PC=0.0000\n",
      "Epoch 12: Train Huber=2.9824, Train MSE=16.6604, PC=0.0585 | Val MSE=43.1524, PC=0.0000\n"
     ]
    },
    {
     "name": "stderr",
     "output_type": "stream",
     "text": [
      "[I 2025-08-17 13:31:54,712] Trial 5 finished with value: 13.686786651611328 and parameters: {'hidden_dim': 336, 'nhead': 4, 'num_layers': 4, 'lr': 0.00853618986286683, 'weight_decay': 0.0002661901888489054}. Best is trial 4 with value: 13.628695487976074.\n"
     ]
    },
    {
     "name": "stdout",
     "output_type": "stream",
     "text": [
      "Epoch 13: Train Huber=3.2581, Train MSE=19.2748, PC=-0.0235 | Val MSE=15.7330, PC=0.0000\n",
      "Early stopping\n",
      "\n",
      "[trial 6] build loaders...\n",
      "Epoch 01: Train Huber=2.8463, Train MSE=17.3737, PC=0.2425 | Val MSE=19.7158, PC=0.0546\n",
      "Epoch 02: Train Huber=2.7031, Train MSE=16.3315, PC=0.2869 | Val MSE=19.5499, PC=0.0864\n",
      "Epoch 03: Train Huber=2.5512, Train MSE=15.1042, PC=0.3483 | Val MSE=22.9696, PC=0.0140\n",
      "Epoch 04: Train Huber=2.3100, Train MSE=13.5097, PC=0.4333 | Val MSE=20.3778, PC=0.0853\n",
      "Epoch 05: Train Huber=2.2492, Train MSE=13.2943, PC=0.4665 | Val MSE=21.9847, PC=0.0159\n",
      "Epoch 06: Train Huber=2.2119, Train MSE=13.3127, PC=0.4587 | Val MSE=20.0398, PC=0.1023\n",
      "Epoch 07: Train Huber=2.1757, Train MSE=12.7649, PC=0.4795 | Val MSE=20.8744, PC=0.0641\n",
      "Epoch 08: Train Huber=2.2554, Train MSE=13.3734, PC=0.4418 | Val MSE=21.5150, PC=0.1279\n",
      "Epoch 09: Train Huber=2.1805, Train MSE=13.0352, PC=0.4780 | Val MSE=19.9992, PC=0.1188\n",
      "Epoch 10: Train Huber=2.0595, Train MSE=12.2643, PC=0.5114 | Val MSE=22.2953, PC=0.0744\n",
      "Epoch 11: Train Huber=2.0880, Train MSE=12.4017, PC=0.5067 | Val MSE=19.9473, PC=0.1315\n"
     ]
    },
    {
     "name": "stderr",
     "output_type": "stream",
     "text": [
      "[I 2025-08-17 13:32:48,517] Trial 6 finished with value: 19.549907684326172 and parameters: {'hidden_dim': 200, 'nhead': 8, 'num_layers': 2, 'lr': 0.00017541893487450815, 'weight_decay': 3.058656666978529e-05}. Best is trial 4 with value: 13.628695487976074.\n"
     ]
    },
    {
     "name": "stdout",
     "output_type": "stream",
     "text": [
      "Epoch 12: Train Huber=2.0875, Train MSE=12.3067, PC=0.5108 | Val MSE=21.3264, PC=0.1678\n",
      "Early stopping\n",
      "\n",
      "[trial 7] build loaders...\n",
      "Epoch 01: Train Huber=3.4564, Train MSE=23.0399, PC=-0.0094 | Val MSE=21.5938, PC=0.0445\n",
      "Epoch 02: Train Huber=2.9862, Train MSE=16.3942, PC=0.0355 | Val MSE=14.0103, PC=0.0691\n",
      "Epoch 03: Train Huber=3.0560, Train MSE=17.2718, PC=0.0045 | Val MSE=19.8886, PC=-0.0176\n",
      "Epoch 04: Train Huber=3.0042, Train MSE=18.3172, PC=0.0520 | Val MSE=21.8308, PC=-0.0602\n",
      "Epoch 05: Train Huber=2.9076, Train MSE=17.2200, PC=0.0876 | Val MSE=23.5255, PC=-0.0706\n",
      "Epoch 06: Train Huber=2.7636, Train MSE=16.3074, PC=0.1958 | Val MSE=25.8353, PC=0.0061\n",
      "Epoch 07: Train Huber=2.8814, Train MSE=16.2233, PC=0.1573 | Val MSE=17.4625, PC=-0.0318\n",
      "Epoch 08: Train Huber=2.5506, Train MSE=14.0877, PC=0.3730 | Val MSE=23.8501, PC=0.1188\n",
      "Epoch 09: Train Huber=2.7526, Train MSE=15.7520, PC=0.2154 | Val MSE=16.9447, PC=0.0996\n",
      "Epoch 10: Train Huber=3.0580, Train MSE=18.4978, PC=-0.0077 | Val MSE=15.8559, PC=0.1366\n",
      "Epoch 11: Train Huber=3.0307, Train MSE=16.8077, PC=-0.0299 | Val MSE=15.7462, PC=-0.1348\n"
     ]
    },
    {
     "name": "stderr",
     "output_type": "stream",
     "text": [
      "[I 2025-08-17 13:34:01,283] Trial 7 finished with value: 14.010329246520996 and parameters: {'hidden_dim': 79, 'nhead': 4, 'num_layers': 3, 'lr': 0.0004201672054372534, 'weight_decay': 3.632486956676606e-05}. Best is trial 4 with value: 13.628695487976074.\n"
     ]
    },
    {
     "name": "stdout",
     "output_type": "stream",
     "text": [
      "Epoch 12: Train Huber=2.9914, Train MSE=16.0923, PC=-0.0541 | Val MSE=18.4854, PC=-0.1334\n",
      "Early stopping\n",
      "\n",
      "[trial 8] build loaders...\n",
      "Epoch 01: Train Huber=3.6378, Train MSE=25.5704, PC=-0.0237 | Val MSE=16.9148, PC=0.0259\n",
      "Epoch 02: Train Huber=3.5115, Train MSE=26.4435, PC=-0.0143 | Val MSE=13.6887, PC=0.0205\n",
      "Epoch 03: Train Huber=3.0397, Train MSE=17.2740, PC=0.0666 | Val MSE=19.5614, PC=-0.0025\n",
      "Epoch 04: Train Huber=3.4544, Train MSE=22.2550, PC=0.0207 | Val MSE=23.0876, PC=-0.0159\n",
      "Epoch 05: Train Huber=3.0238, Train MSE=17.5266, PC=0.0806 | Val MSE=26.3983, PC=-0.0612\n",
      "Epoch 06: Train Huber=3.2062, Train MSE=20.3763, PC=0.1240 | Val MSE=23.7588, PC=0.0564\n",
      "Epoch 07: Train Huber=3.2482, Train MSE=20.0275, PC=-0.1244 | Val MSE=25.2083, PC=-0.0867\n",
      "Epoch 08: Train Huber=3.3688, Train MSE=22.5855, PC=0.0186 | Val MSE=23.8503, PC=-0.0000\n",
      "Epoch 09: Train Huber=3.1186, Train MSE=17.7757, PC=0.0031 | Val MSE=13.6578, PC=-0.0347\n",
      "Epoch 10: Train Huber=3.2772, Train MSE=19.7725, PC=-0.0917 | Val MSE=19.3366, PC=-0.0637\n",
      "Epoch 11: Train Huber=3.1173, Train MSE=18.5015, PC=0.0445 | Val MSE=13.6757, PC=0.1138\n",
      "Epoch 12: Train Huber=3.2300, Train MSE=19.4706, PC=-0.0834 | Val MSE=21.1253, PC=0.0512\n",
      "Epoch 13: Train Huber=3.1949, Train MSE=19.5820, PC=-0.0808 | Val MSE=14.0009, PC=-0.0546\n",
      "Epoch 14: Train Huber=3.0896, Train MSE=17.7735, PC=0.0125 | Val MSE=13.7487, PC=-0.0529\n",
      "Epoch 15: Train Huber=3.1298, Train MSE=17.8840, PC=-0.0468 | Val MSE=15.2957, PC=0.0885\n",
      "Epoch 16: Train Huber=3.1058, Train MSE=19.6099, PC=0.0271 | Val MSE=20.6243, PC=-0.0530\n",
      "Epoch 17: Train Huber=3.1355, Train MSE=18.1955, PC=-0.0189 | Val MSE=18.2028, PC=0.0522\n",
      "Epoch 18: Train Huber=3.0755, Train MSE=17.7106, PC=0.0509 | Val MSE=18.0527, PC=0.0470\n"
     ]
    },
    {
     "name": "stderr",
     "output_type": "stream",
     "text": [
      "[I 2025-08-17 13:36:33,634] Trial 8 finished with value: 13.657798767089844 and parameters: {'hidden_dim': 309, 'nhead': 8, 'num_layers': 4, 'lr': 0.007568292060167619, 'weight_decay': 0.00048359527764659497}. Best is trial 4 with value: 13.628695487976074.\n"
     ]
    },
    {
     "name": "stdout",
     "output_type": "stream",
     "text": [
      "Epoch 19: Train Huber=3.0975, Train MSE=17.3688, PC=-0.1044 | Val MSE=18.2528, PC=-0.0474\n",
      "Early stopping\n",
      "\n",
      "[trial 9] build loaders...\n",
      "Epoch 01: Train Huber=3.1506, Train MSE=20.9318, PC=0.1196 | Val MSE=20.1378, PC=0.0606\n",
      "Epoch 02: Train Huber=2.4159, Train MSE=13.9478, PC=0.3948 | Val MSE=21.9562, PC=0.0364\n",
      "Epoch 03: Train Huber=2.3616, Train MSE=14.1237, PC=0.4065 | Val MSE=17.9060, PC=0.0839\n",
      "Epoch 04: Train Huber=2.2801, Train MSE=13.1135, PC=0.4472 | Val MSE=20.2666, PC=0.0790\n",
      "Epoch 05: Train Huber=2.2736, Train MSE=13.2240, PC=0.4427 | Val MSE=18.6829, PC=0.1125\n",
      "Epoch 06: Train Huber=2.1616, Train MSE=12.6558, PC=0.4860 | Val MSE=20.8534, PC=0.0421\n",
      "Epoch 07: Train Huber=2.1667, Train MSE=12.9949, PC=0.4807 | Val MSE=21.4492, PC=0.0524\n",
      "Epoch 08: Train Huber=2.0686, Train MSE=12.7379, PC=0.4922 | Val MSE=24.0536, PC=0.0854\n",
      "Epoch 09: Train Huber=2.1304, Train MSE=12.7512, PC=0.5058 | Val MSE=19.6216, PC=0.1280\n",
      "Epoch 10: Train Huber=2.0561, Train MSE=12.2060, PC=0.5139 | Val MSE=18.2941, PC=0.1585\n",
      "Epoch 11: Train Huber=2.0022, Train MSE=11.9520, PC=0.5252 | Val MSE=17.8305, PC=0.1729\n",
      "Epoch 12: Train Huber=2.0057, Train MSE=12.0389, PC=0.5311 | Val MSE=17.7451, PC=0.1492\n",
      "Epoch 13: Train Huber=1.9559, Train MSE=11.3179, PC=0.5547 | Val MSE=19.8799, PC=0.1404\n",
      "Epoch 14: Train Huber=1.8975, Train MSE=11.4464, PC=0.5602 | Val MSE=24.1513, PC=0.0487\n",
      "Epoch 15: Train Huber=1.8641, Train MSE=11.0283, PC=0.5724 | Val MSE=17.4997, PC=0.1558\n",
      "Epoch 16: Train Huber=1.7496, Train MSE=10.1929, PC=0.6073 | Val MSE=19.6841, PC=0.1157\n",
      "Epoch 17: Train Huber=1.6581, Train MSE=9.5714, PC=0.6350 | Val MSE=20.9841, PC=0.1598\n",
      "Epoch 18: Train Huber=1.5873, Train MSE=9.3176, PC=0.6615 | Val MSE=23.4521, PC=0.1251\n",
      "Epoch 19: Train Huber=1.5110, Train MSE=8.7197, PC=0.6811 | Val MSE=17.8765, PC=0.1597\n",
      "Epoch 20: Train Huber=1.4846, Train MSE=8.2234, PC=0.7019 | Val MSE=16.4607, PC=0.2473\n",
      "Epoch 21: Train Huber=1.4265, Train MSE=8.1029, PC=0.7081 | Val MSE=17.9880, PC=0.1732\n",
      "Epoch 22: Train Huber=1.2455, Train MSE=7.1941, PC=0.7431 | Val MSE=20.3759, PC=0.1409\n",
      "Epoch 23: Train Huber=1.2638, Train MSE=6.9838, PC=0.7521 | Val MSE=19.4685, PC=0.1560\n",
      "Epoch 24: Train Huber=1.1319, Train MSE=6.2750, PC=0.7803 | Val MSE=21.0087, PC=0.1743\n",
      "Epoch 25: Train Huber=1.1929, Train MSE=6.3209, PC=0.7800 | Val MSE=18.9899, PC=0.2473\n",
      "Epoch 26: Train Huber=1.0599, Train MSE=5.5500, PC=0.8080 | Val MSE=16.3394, PC=0.2694\n",
      "Epoch 27: Train Huber=0.9813, Train MSE=5.2277, PC=0.8200 | Val MSE=21.2444, PC=0.1829\n",
      "Epoch 28: Train Huber=1.0479, Train MSE=5.1566, PC=0.8221 | Val MSE=16.1003, PC=0.3021\n",
      "Epoch 29: Train Huber=0.9651, Train MSE=4.9160, PC=0.8315 | Val MSE=20.7127, PC=0.1595\n",
      "Epoch 30: Train Huber=0.8747, Train MSE=4.5333, PC=0.8458 | Val MSE=18.5463, PC=0.2180\n",
      "Epoch 31: Train Huber=0.7503, Train MSE=3.9570, PC=0.8664 | Val MSE=19.6410, PC=0.1972\n",
      "Epoch 32: Train Huber=0.7687, Train MSE=3.9249, PC=0.8686 | Val MSE=18.8861, PC=0.2548\n",
      "Epoch 33: Train Huber=0.6917, Train MSE=3.7813, PC=0.8732 | Val MSE=18.5503, PC=0.2347\n",
      "Epoch 34: Train Huber=0.6406, Train MSE=3.4414, PC=0.8866 | Val MSE=18.2648, PC=0.1669\n",
      "Epoch 35: Train Huber=0.7011, Train MSE=3.6157, PC=0.8797 | Val MSE=14.8383, PC=0.3003\n",
      "Epoch 36: Train Huber=0.6465, Train MSE=3.3306, PC=0.8890 | Val MSE=20.7965, PC=0.1651\n",
      "Epoch 37: Train Huber=0.5671, Train MSE=3.0327, PC=0.8997 | Val MSE=20.0910, PC=0.2033\n",
      "Epoch 38: Train Huber=0.5695, Train MSE=2.8608, PC=0.9056 | Val MSE=20.4600, PC=0.2221\n",
      "Epoch 39: Train Huber=0.6127, Train MSE=3.2682, PC=0.8915 | Val MSE=17.8185, PC=0.2012\n"
     ]
    },
    {
     "name": "stderr",
     "output_type": "stream",
     "text": [
      "[I 2025-08-17 13:38:14,392] Trial 9 finished with value: 14.838336944580078 and parameters: {'hidden_dim': 332, 'nhead': 4, 'num_layers': 1, 'lr': 0.00012315571723666037, 'weight_decay': 9.462175356461487e-06}. Best is trial 4 with value: 13.628695487976074.\n"
     ]
    },
    {
     "name": "stdout",
     "output_type": "stream",
     "text": [
      "Epoch 40: Train Huber=0.4239, Train MSE=2.0841, PC=0.9319 | Val MSE=18.7012, PC=0.2510\n",
      "\n",
      "[trial 10] build loaders...\n",
      "Epoch 01: Train Huber=3.4252, Train MSE=22.9648, PC=-0.0475 | Val MSE=13.6286, PC=0.0995\n",
      "Epoch 02: Train Huber=3.0846, Train MSE=19.1446, PC=0.0395 | Val MSE=20.8692, PC=0.0973\n",
      "Epoch 03: Train Huber=2.9612, Train MSE=16.8771, PC=0.0818 | Val MSE=14.8056, PC=-0.0141\n",
      "Epoch 04: Train Huber=3.0159, Train MSE=16.8456, PC=0.0175 | Val MSE=38.0397, PC=-0.0900\n",
      "Epoch 05: Train Huber=3.1163, Train MSE=17.8780, PC=-0.0828 | Val MSE=14.6271, PC=-0.0521\n",
      "Epoch 06: Train Huber=3.2065, Train MSE=19.7012, PC=-0.0003 | Val MSE=20.2421, PC=-0.0428\n",
      "Epoch 07: Train Huber=3.0094, Train MSE=16.6325, PC=0.0355 | Val MSE=14.2514, PC=0.0232\n",
      "Epoch 08: Train Huber=3.1607, Train MSE=19.2402, PC=0.0421 | Val MSE=13.6365, PC=0.1466\n",
      "Epoch 09: Train Huber=3.0447, Train MSE=16.7029, PC=-0.0318 | Val MSE=16.6432, PC=-0.0656\n",
      "Epoch 10: Train Huber=3.0593, Train MSE=17.1222, PC=-0.0559 | Val MSE=13.9230, PC=0.0168\n"
     ]
    },
    {
     "name": "stderr",
     "output_type": "stream",
     "text": [
      "[I 2025-08-17 13:39:03,135] Trial 10 finished with value: 13.628628730773926 and parameters: {'hidden_dim': 488, 'nhead': 8, 'num_layers': 2, 'lr': 0.0022005828785027445, 'weight_decay': 1.1054533004009806e-06}. Best is trial 10 with value: 13.628628730773926.\n"
     ]
    },
    {
     "name": "stdout",
     "output_type": "stream",
     "text": [
      "Epoch 11: Train Huber=3.0450, Train MSE=16.9713, PC=0.0571 | Val MSE=14.0251, PC=-0.0406\n",
      "Early stopping\n",
      "\n",
      "[trial 11] build loaders...\n",
      "Epoch 01: Train Huber=3.2719, Train MSE=20.0911, PC=-0.0204 | Val MSE=14.4940, PC=-0.2928\n",
      "Epoch 02: Train Huber=3.4111, Train MSE=21.2010, PC=-0.0304 | Val MSE=13.6591, PC=0.2552\n",
      "Epoch 03: Train Huber=2.9756, Train MSE=16.0857, PC=0.0461 | Val MSE=17.4942, PC=-0.1281\n",
      "Epoch 04: Train Huber=3.0048, Train MSE=16.5555, PC=0.0822 | Val MSE=19.8039, PC=-0.1431\n",
      "Epoch 05: Train Huber=2.9760, Train MSE=16.0295, PC=0.0802 | Val MSE=22.3845, PC=-0.1082\n",
      "Epoch 06: Train Huber=3.1942, Train MSE=19.8437, PC=0.0378 | Val MSE=16.2713, PC=-0.2513\n",
      "Epoch 07: Train Huber=3.0333, Train MSE=17.2161, PC=0.0120 | Val MSE=13.7844, PC=-0.1190\n",
      "Epoch 08: Train Huber=3.0288, Train MSE=17.1085, PC=-0.0339 | Val MSE=21.4479, PC=0.0398\n",
      "Epoch 09: Train Huber=3.0067, Train MSE=16.5892, PC=0.0113 | Val MSE=15.4747, PC=0.1393\n",
      "Epoch 10: Train Huber=3.0246, Train MSE=16.7941, PC=-0.0063 | Val MSE=23.5181, PC=0.1156\n",
      "Epoch 11: Train Huber=3.0752, Train MSE=18.3029, PC=-0.0162 | Val MSE=23.2617, PC=0.1700\n"
     ]
    },
    {
     "name": "stderr",
     "output_type": "stream",
     "text": [
      "[I 2025-08-17 13:39:57,269] Trial 11 finished with value: 13.6591157913208 and parameters: {'hidden_dim': 471, 'nhead': 8, 'num_layers': 2, 'lr': 0.0017937722033317504, 'weight_decay': 1.026076807471788e-06}. Best is trial 10 with value: 13.628628730773926.\n"
     ]
    },
    {
     "name": "stdout",
     "output_type": "stream",
     "text": [
      "Epoch 12: Train Huber=3.0939, Train MSE=17.9029, PC=-0.0631 | Val MSE=17.6320, PC=0.1841\n",
      "Early stopping\n",
      "\n",
      "[trial 12] build loaders...\n",
      "Epoch 01: Train Huber=3.1729, Train MSE=19.1507, PC=0.0689 | Val MSE=15.1836, PC=0.0869\n",
      "Epoch 02: Train Huber=3.0950, Train MSE=17.6680, PC=-0.0060 | Val MSE=19.1699, PC=-0.1279\n",
      "Epoch 03: Train Huber=3.3153, Train MSE=20.9422, PC=-0.0178 | Val MSE=29.2143, PC=0.0347\n",
      "Epoch 04: Train Huber=3.0517, Train MSE=18.0563, PC=-0.0116 | Val MSE=13.7593, PC=-0.0160\n",
      "Epoch 05: Train Huber=3.1302, Train MSE=18.0481, PC=-0.0539 | Val MSE=26.5548, PC=0.0416\n",
      "Epoch 06: Train Huber=3.2013, Train MSE=19.7334, PC=-0.0584 | Val MSE=20.7690, PC=-0.0519\n",
      "Epoch 07: Train Huber=3.0202, Train MSE=17.5977, PC=0.0575 | Val MSE=34.3575, PC=-0.1805\n",
      "Epoch 08: Train Huber=3.0407, Train MSE=17.0531, PC=-0.0273 | Val MSE=15.0238, PC=0.1059\n",
      "Epoch 09: Train Huber=3.1703, Train MSE=18.3348, PC=0.0023 | Val MSE=15.3230, PC=0.0391\n",
      "Epoch 10: Train Huber=3.2019, Train MSE=18.7255, PC=-0.0844 | Val MSE=14.0992, PC=0.0437\n",
      "Epoch 11: Train Huber=3.0209, Train MSE=16.9041, PC=0.0553 | Val MSE=35.1827, PC=-0.1447\n",
      "Epoch 12: Train Huber=3.0822, Train MSE=17.5496, PC=-0.1150 | Val MSE=16.9898, PC=0.1594\n",
      "Epoch 13: Train Huber=3.1570, Train MSE=18.2917, PC=-0.1443 | Val MSE=28.0050, PC=0.0217\n"
     ]
    },
    {
     "name": "stderr",
     "output_type": "stream",
     "text": [
      "[I 2025-08-17 13:40:59,783] Trial 12 finished with value: 13.759349822998047 and parameters: {'hidden_dim': 402, 'nhead': 8, 'num_layers': 2, 'lr': 0.002148112566613969, 'weight_decay': 1.124576902080239e-06}. Best is trial 10 with value: 13.628628730773926.\n"
     ]
    },
    {
     "name": "stdout",
     "output_type": "stream",
     "text": [
      "Epoch 14: Train Huber=3.1102, Train MSE=17.4690, PC=-0.1025 | Val MSE=22.0629, PC=-0.1083\n",
      "Early stopping\n",
      "\n",
      "[trial 13] build loaders...\n",
      "Epoch 01: Train Huber=3.2216, Train MSE=20.0198, PC=0.0325 | Val MSE=13.6528, PC=0.0108\n",
      "Epoch 02: Train Huber=3.0538, Train MSE=18.8062, PC=0.0768 | Val MSE=17.9924, PC=-0.0016\n",
      "Epoch 03: Train Huber=3.0455, Train MSE=16.6492, PC=0.0238 | Val MSE=33.1781, PC=-0.0498\n",
      "Epoch 04: Train Huber=2.9344, Train MSE=16.8635, PC=0.1073 | Val MSE=15.1231, PC=0.0315\n",
      "Epoch 05: Train Huber=3.5288, Train MSE=22.9259, PC=-0.1704 | Val MSE=15.8613, PC=-0.0211\n",
      "Epoch 06: Train Huber=3.0657, Train MSE=17.2135, PC=-0.0877 | Val MSE=37.8780, PC=0.1104\n",
      "Epoch 07: Train Huber=3.0571, Train MSE=17.2068, PC=-0.0201 | Val MSE=26.6252, PC=-0.0000\n",
      "Epoch 08: Train Huber=3.0726, Train MSE=17.8652, PC=0.0525 | Val MSE=30.6251, PC=0.0557\n",
      "Epoch 09: Train Huber=3.0212, Train MSE=16.9940, PC=-0.0208 | Val MSE=24.1833, PC=0.0483\n",
      "Epoch 10: Train Huber=3.1135, Train MSE=18.0585, PC=-0.0659 | Val MSE=19.1773, PC=0.0527\n"
     ]
    },
    {
     "name": "stderr",
     "output_type": "stream",
     "text": [
      "[I 2025-08-17 13:42:09,268] Trial 13 finished with value: 13.652800559997559 and parameters: {'hidden_dim': 171, 'nhead': 8, 'num_layers': 3, 'lr': 0.0030018887188126616, 'weight_decay': 3.112170374008624e-06}. Best is trial 10 with value: 13.628628730773926.\n"
     ]
    },
    {
     "name": "stdout",
     "output_type": "stream",
     "text": [
      "Epoch 11: Train Huber=3.0872, Train MSE=17.4574, PC=-0.0532 | Val MSE=37.3331, PC=-0.0186\n",
      "Early stopping\n",
      "\n",
      "[trial 14] build loaders...\n",
      "Epoch 01: Train Huber=3.1354, Train MSE=19.7005, PC=0.1018 | Val MSE=13.7557, PC=0.1865\n",
      "Epoch 02: Train Huber=2.8392, Train MSE=16.4132, PC=0.2314 | Val MSE=38.5722, PC=-0.0287\n",
      "Epoch 03: Train Huber=2.9202, Train MSE=17.3500, PC=0.1223 | Val MSE=13.3547, PC=0.1905\n",
      "Epoch 04: Train Huber=2.8405, Train MSE=16.4373, PC=0.2270 | Val MSE=18.7979, PC=-0.0982\n",
      "Epoch 05: Train Huber=2.5330, Train MSE=15.1392, PC=0.3335 | Val MSE=21.5254, PC=-0.1456\n",
      "Epoch 06: Train Huber=2.7767, Train MSE=16.3829, PC=0.2136 | Val MSE=24.9632, PC=0.0778\n",
      "Epoch 07: Train Huber=2.6837, Train MSE=16.1012, PC=0.2906 | Val MSE=17.5832, PC=0.1261\n",
      "Epoch 08: Train Huber=2.5211, Train MSE=14.5855, PC=0.3381 | Val MSE=16.9820, PC=0.0783\n",
      "Epoch 09: Train Huber=2.4991, Train MSE=14.7815, PC=0.3610 | Val MSE=22.7718, PC=0.0345\n",
      "Epoch 10: Train Huber=2.4132, Train MSE=13.7377, PC=0.4005 | Val MSE=21.6981, PC=0.0201\n",
      "Epoch 11: Train Huber=2.5351, Train MSE=14.1961, PC=0.3738 | Val MSE=18.4949, PC=0.0843\n",
      "Epoch 12: Train Huber=2.5479, Train MSE=14.8190, PC=0.3162 | Val MSE=18.4728, PC=0.1297\n"
     ]
    },
    {
     "name": "stderr",
     "output_type": "stream",
     "text": [
      "[I 2025-08-17 13:43:06,120] Trial 14 finished with value: 13.354726791381836 and parameters: {'hidden_dim': 380, 'nhead': 4, 'num_layers': 2, 'lr': 0.0009819347379144987, 'weight_decay': 3.491097047653223e-06}. Best is trial 14 with value: 13.354726791381836.\n"
     ]
    },
    {
     "name": "stdout",
     "output_type": "stream",
     "text": [
      "Epoch 13: Train Huber=2.9310, Train MSE=17.1307, PC=0.1321 | Val MSE=20.7732, PC=0.1669\n",
      "Early stopping\n",
      "\n",
      "[trial 15] build loaders...\n",
      "Epoch 01: Train Huber=3.0500, Train MSE=18.7131, PC=0.1825 | Val MSE=19.6628, PC=0.0937\n",
      "Epoch 02: Train Huber=2.7687, Train MSE=16.5669, PC=0.2674 | Val MSE=18.4396, PC=0.1139\n",
      "Epoch 03: Train Huber=2.4293, Train MSE=14.1193, PC=0.3922 | Val MSE=28.9399, PC=-0.0059\n",
      "Epoch 04: Train Huber=2.4317, Train MSE=14.1691, PC=0.3974 | Val MSE=19.3167, PC=0.0922\n",
      "Epoch 05: Train Huber=2.3592, Train MSE=13.7957, PC=0.4124 | Val MSE=21.9319, PC=0.0234\n",
      "Epoch 06: Train Huber=2.2997, Train MSE=13.2682, PC=0.4490 | Val MSE=19.4931, PC=0.0813\n",
      "Epoch 07: Train Huber=2.4869, Train MSE=15.0435, PC=0.3645 | Val MSE=24.5988, PC=-0.0371\n",
      "Epoch 08: Train Huber=2.4981, Train MSE=14.8367, PC=0.3396 | Val MSE=25.8900, PC=-0.0360\n",
      "Epoch 09: Train Huber=2.4000, Train MSE=14.4582, PC=0.3985 | Val MSE=21.2271, PC=-0.0527\n",
      "Epoch 10: Train Huber=2.5089, Train MSE=14.3882, PC=0.3660 | Val MSE=26.6431, PC=0.1204\n",
      "Epoch 11: Train Huber=2.5034, Train MSE=14.8111, PC=0.3581 | Val MSE=22.0263, PC=0.1081\n"
     ]
    },
    {
     "name": "stderr",
     "output_type": "stream",
     "text": [
      "[I 2025-08-17 13:43:59,405] Trial 15 finished with value: 18.439605712890625 and parameters: {'hidden_dim': 505, 'nhead': 8, 'num_layers': 2, 'lr': 0.0008463435801653472, 'weight_decay': 3.6811934126159423e-06}. Best is trial 14 with value: 13.354726791381836.\n"
     ]
    },
    {
     "name": "stdout",
     "output_type": "stream",
     "text": [
      "Epoch 12: Train Huber=2.4446, Train MSE=14.2920, PC=0.3929 | Val MSE=24.8777, PC=-0.1277\n",
      "Early stopping\n",
      "\n",
      "[trial 16] build loaders...\n",
      "Epoch 01: Train Huber=3.5380, Train MSE=24.5026, PC=-0.0760 | Val MSE=14.1119, PC=-0.0660\n",
      "Epoch 02: Train Huber=3.1993, Train MSE=19.3044, PC=0.0097 | Val MSE=31.9984, PC=-0.0463\n",
      "Epoch 03: Train Huber=3.0621, Train MSE=17.5713, PC=-0.0063 | Val MSE=27.0084, PC=-0.0194\n",
      "Epoch 04: Train Huber=3.1172, Train MSE=18.3441, PC=0.0227 | Val MSE=14.4312, PC=0.0056\n",
      "Epoch 05: Train Huber=3.1697, Train MSE=19.0381, PC=-0.0755 | Val MSE=29.7525, PC=0.0187\n",
      "Epoch 06: Train Huber=3.1463, Train MSE=18.7847, PC=-0.0482 | Val MSE=24.1611, PC=0.0019\n",
      "Epoch 07: Train Huber=3.0914, Train MSE=17.0827, PC=-0.0826 | Val MSE=13.7939, PC=0.0402\n",
      "Epoch 08: Train Huber=3.0454, Train MSE=17.8094, PC=-0.0605 | Val MSE=18.2451, PC=0.0564\n",
      "Epoch 09: Train Huber=3.2554, Train MSE=19.9013, PC=0.0073 | Val MSE=34.3469, PC=0.2299\n",
      "Epoch 10: Train Huber=3.2508, Train MSE=19.7652, PC=-0.0099 | Val MSE=33.5736, PC=0.2112\n",
      "Epoch 11: Train Huber=3.3281, Train MSE=21.4802, PC=0.0157 | Val MSE=14.2626, PC=0.1750\n",
      "Epoch 12: Train Huber=3.2510, Train MSE=19.5499, PC=-0.0580 | Val MSE=13.9684, PC=0.1237\n",
      "Epoch 13: Train Huber=3.0527, Train MSE=17.7388, PC=-0.0106 | Val MSE=16.2674, PC=0.0527\n",
      "Epoch 14: Train Huber=2.9963, Train MSE=16.7722, PC=0.0638 | Val MSE=22.8522, PC=0.0121\n",
      "Epoch 15: Train Huber=3.1212, Train MSE=18.8841, PC=0.0362 | Val MSE=19.4463, PC=0.0011\n",
      "Epoch 16: Train Huber=3.0476, Train MSE=17.1854, PC=0.0050 | Val MSE=16.5157, PC=0.0102\n"
     ]
    },
    {
     "name": "stderr",
     "output_type": "stream",
     "text": [
      "[I 2025-08-17 13:45:15,427] Trial 16 finished with value: 13.793856620788574 and parameters: {'hidden_dim': 392, 'nhead': 8, 'num_layers': 2, 'lr': 0.0038413104579816506, 'weight_decay': 8.64380195313648e-06}. Best is trial 14 with value: 13.354726791381836.\n"
     ]
    },
    {
     "name": "stdout",
     "output_type": "stream",
     "text": [
      "Epoch 17: Train Huber=3.0544, Train MSE=17.0872, PC=-0.1221 | Val MSE=16.0809, PC=-0.0531\n",
      "Early stopping\n",
      "\n",
      "[trial 17] build loaders...\n",
      "Epoch 01: Train Huber=2.9573, Train MSE=19.0043, PC=0.1863 | Val MSE=22.6499, PC=-0.0138\n",
      "Epoch 02: Train Huber=2.4203, Train MSE=14.0865, PC=0.4036 | Val MSE=24.9247, PC=-0.0104\n",
      "Epoch 03: Train Huber=2.3473, Train MSE=13.9061, PC=0.4314 | Val MSE=17.3909, PC=0.1130\n",
      "Epoch 04: Train Huber=2.3168, Train MSE=14.2119, PC=0.4098 | Val MSE=26.2729, PC=-0.0006\n",
      "Epoch 05: Train Huber=2.3961, Train MSE=14.3666, PC=0.4240 | Val MSE=16.1472, PC=0.0930\n",
      "Epoch 06: Train Huber=2.3667, Train MSE=14.4460, PC=0.4048 | Val MSE=20.6786, PC=0.1084\n",
      "Epoch 07: Train Huber=2.2406, Train MSE=13.2088, PC=0.4601 | Val MSE=21.0802, PC=0.0014\n",
      "Epoch 08: Train Huber=2.4858, Train MSE=14.3318, PC=0.3805 | Val MSE=21.7670, PC=0.0113\n",
      "Epoch 09: Train Huber=2.2524, Train MSE=13.4932, PC=0.4619 | Val MSE=19.4125, PC=0.0062\n",
      "Epoch 10: Train Huber=2.2978, Train MSE=13.7103, PC=0.4315 | Val MSE=19.5130, PC=0.0960\n",
      "Epoch 11: Train Huber=2.2303, Train MSE=13.4301, PC=0.4556 | Val MSE=18.2719, PC=0.1033\n",
      "Epoch 12: Train Huber=2.1394, Train MSE=12.9026, PC=0.4871 | Val MSE=20.3910, PC=0.1101\n",
      "Epoch 13: Train Huber=2.1354, Train MSE=12.8843, PC=0.5004 | Val MSE=27.5038, PC=-0.0576\n",
      "Epoch 14: Train Huber=2.0597, Train MSE=11.7506, PC=0.5278 | Val MSE=26.6884, PC=0.0051\n"
     ]
    },
    {
     "name": "stderr",
     "output_type": "stream",
     "text": [
      "[I 2025-08-17 13:45:53,188] Trial 17 finished with value: 16.147197723388672 and parameters: {'hidden_dim': 511, 'nhead': 4, 'num_layers': 1, 'lr': 0.0008399037432330655, 'weight_decay': 0.00016379288268615277}. Best is trial 14 with value: 13.354726791381836.\n"
     ]
    },
    {
     "name": "stdout",
     "output_type": "stream",
     "text": [
      "Epoch 15: Train Huber=1.9548, Train MSE=11.3106, PC=0.5587 | Val MSE=19.6310, PC=0.0864\n",
      "Early stopping\n",
      "\n",
      "[trial 18] build loaders...\n",
      "Epoch 01: Train Huber=3.7787, Train MSE=27.2223, PC=-0.1400 | Val MSE=17.6274, PC=0.1330\n",
      "Epoch 02: Train Huber=3.2670, Train MSE=19.1102, PC=-0.1290 | Val MSE=24.1338, PC=-0.1167\n",
      "Epoch 03: Train Huber=3.1560, Train MSE=18.8448, PC=0.0437 | Val MSE=21.4756, PC=0.0825\n",
      "Epoch 04: Train Huber=3.1945, Train MSE=18.7773, PC=-0.0628 | Val MSE=13.6316, PC=0.0950\n",
      "Epoch 05: Train Huber=3.3673, Train MSE=21.0154, PC=-0.0616 | Val MSE=17.6867, PC=0.0970\n",
      "Epoch 06: Train Huber=3.0114, Train MSE=16.7611, PC=0.0265 | Val MSE=25.3509, PC=0.0306\n",
      "Epoch 07: Train Huber=3.1265, Train MSE=18.2578, PC=-0.0665 | Val MSE=16.2042, PC=0.0225\n",
      "Epoch 08: Train Huber=2.9664, Train MSE=17.4517, PC=0.0980 | Val MSE=17.5000, PC=-0.1296\n",
      "Epoch 09: Train Huber=3.1113, Train MSE=17.9243, PC=-0.0792 | Val MSE=19.2570, PC=-0.0851\n",
      "Epoch 10: Train Huber=3.0288, Train MSE=16.6791, PC=-0.0031 | Val MSE=18.2050, PC=0.1175\n",
      "Epoch 11: Train Huber=3.0410, Train MSE=16.5873, PC=0.0304 | Val MSE=20.4279, PC=-0.1173\n",
      "Epoch 12: Train Huber=2.9742, Train MSE=16.2686, PC=0.0279 | Val MSE=29.7692, PC=-0.0551\n",
      "Epoch 13: Train Huber=3.0981, Train MSE=17.8200, PC=-0.0151 | Val MSE=32.4142, PC=0.0041\n"
     ]
    },
    {
     "name": "stderr",
     "output_type": "stream",
     "text": [
      "[I 2025-08-17 13:46:53,615] Trial 18 finished with value: 13.631623268127441 and parameters: {'hidden_dim': 385, 'nhead': 4, 'num_layers': 2, 'lr': 0.004702693051940083, 'weight_decay': 4.335386606184339e-06}. Best is trial 14 with value: 13.354726791381836.\n"
     ]
    },
    {
     "name": "stdout",
     "output_type": "stream",
     "text": [
      "Epoch 14: Train Huber=2.9433, Train MSE=16.9110, PC=0.1040 | Val MSE=14.9069, PC=-0.0282\n",
      "Early stopping\n",
      "\n",
      "[trial 19] build loaders...\n",
      "Epoch 01: Train Huber=2.9475, Train MSE=17.6437, PC=0.2025 | Val MSE=15.5590, PC=0.1481\n",
      "Epoch 02: Train Huber=2.7532, Train MSE=16.9437, PC=0.2623 | Val MSE=15.1385, PC=0.1817\n",
      "Epoch 03: Train Huber=2.4286, Train MSE=14.2490, PC=0.3875 | Val MSE=22.4981, PC=0.0344\n",
      "Epoch 04: Train Huber=2.3210, Train MSE=14.1381, PC=0.4286 | Val MSE=19.3570, PC=0.0424\n",
      "Epoch 05: Train Huber=2.2204, Train MSE=12.5456, PC=0.4852 | Val MSE=19.5476, PC=0.0474\n",
      "Epoch 06: Train Huber=2.4080, Train MSE=14.5590, PC=0.4029 | Val MSE=26.2228, PC=0.0085\n",
      "Epoch 07: Train Huber=2.2494, Train MSE=13.4158, PC=0.4548 | Val MSE=24.2565, PC=-0.0052\n",
      "Epoch 08: Train Huber=2.2774, Train MSE=14.1524, PC=0.4500 | Val MSE=22.2582, PC=0.0562\n",
      "Epoch 09: Train Huber=2.2144, Train MSE=13.2661, PC=0.4846 | Val MSE=29.0604, PC=0.0373\n",
      "Epoch 10: Train Huber=2.1122, Train MSE=12.5086, PC=0.5100 | Val MSE=18.3862, PC=0.1084\n",
      "Epoch 11: Train Huber=2.2027, Train MSE=13.0462, PC=0.4824 | Val MSE=25.1427, PC=0.0186\n"
     ]
    },
    {
     "name": "stderr",
     "output_type": "stream",
     "text": [
      "[I 2025-08-17 13:47:24,990] Trial 19 finished with value: 15.138510704040527 and parameters: {'hidden_dim': 448, 'nhead': 8, 'num_layers': 1, 'lr': 0.0013266044654655276, 'weight_decay': 2.0395592719493216e-06}. Best is trial 14 with value: 13.354726791381836.\n"
     ]
    },
    {
     "name": "stdout",
     "output_type": "stream",
     "text": [
      "Epoch 12: Train Huber=2.1505, Train MSE=12.7734, PC=0.5050 | Val MSE=28.5897, PC=0.1190\n",
      "Early stopping\n",
      "\n",
      "[trial 20] build loaders...\n",
      "Epoch 01: Train Huber=3.2273, Train MSE=21.1390, PC=0.0698 | Val MSE=20.0506, PC=0.1154\n",
      "Epoch 02: Train Huber=2.9030, Train MSE=18.0201, PC=0.1320 | Val MSE=27.3716, PC=0.0048\n",
      "Epoch 03: Train Huber=2.6918, Train MSE=16.2319, PC=0.2768 | Val MSE=14.4307, PC=0.0651\n",
      "Epoch 04: Train Huber=2.6834, Train MSE=14.7793, PC=0.2879 | Val MSE=18.3716, PC=0.0573\n",
      "Epoch 05: Train Huber=2.3265, Train MSE=13.4378, PC=0.4348 | Val MSE=19.5653, PC=0.0395\n",
      "Epoch 06: Train Huber=2.3046, Train MSE=14.0457, PC=0.4142 | Val MSE=18.2749, PC=0.0454\n",
      "Epoch 07: Train Huber=2.2491, Train MSE=13.0437, PC=0.4516 | Val MSE=22.9679, PC=-0.0024\n",
      "Epoch 08: Train Huber=2.3085, Train MSE=13.2232, PC=0.4457 | Val MSE=21.8565, PC=0.0685\n",
      "Epoch 09: Train Huber=2.1861, Train MSE=12.8224, PC=0.4764 | Val MSE=18.9548, PC=0.0954\n",
      "Epoch 10: Train Huber=2.2776, Train MSE=13.3562, PC=0.4489 | Val MSE=19.3894, PC=0.0528\n",
      "Epoch 11: Train Huber=2.2204, Train MSE=12.8699, PC=0.4677 | Val MSE=18.8603, PC=0.0817\n",
      "Epoch 12: Train Huber=2.2285, Train MSE=12.9218, PC=0.4575 | Val MSE=26.3886, PC=-0.0219\n"
     ]
    },
    {
     "name": "stderr",
     "output_type": "stream",
     "text": [
      "[I 2025-08-17 13:48:23,138] Trial 20 finished with value: 14.430673599243164 and parameters: {'hidden_dim': 374, 'nhead': 8, 'num_layers': 2, 'lr': 0.0005926321440719593, 'weight_decay': 7.513270429331075e-05}. Best is trial 14 with value: 13.354726791381836.\n"
     ]
    },
    {
     "name": "stdout",
     "output_type": "stream",
     "text": [
      "Epoch 13: Train Huber=2.5011, Train MSE=15.3667, PC=0.3498 | Val MSE=17.1927, PC=0.1148\n",
      "Early stopping\n",
      "\n",
      "[trial 21] build loaders...\n",
      "Epoch 01: Train Huber=3.2784, Train MSE=20.6399, PC=0.0328 | Val MSE=13.8308, PC=0.0348\n",
      "Epoch 02: Train Huber=3.1005, Train MSE=17.4281, PC=-0.0851 | Val MSE=17.9344, PC=-0.0193\n",
      "Epoch 03: Train Huber=3.0801, Train MSE=17.5218, PC=0.0088 | Val MSE=23.7764, PC=-0.0026\n",
      "Epoch 04: Train Huber=2.9844, Train MSE=16.2502, PC=-0.0598 | Val MSE=24.7854, PC=0.0623\n",
      "Epoch 05: Train Huber=3.1066, Train MSE=17.6012, PC=0.0876 | Val MSE=32.8422, PC=-0.0698\n",
      "Epoch 06: Train Huber=3.0207, Train MSE=17.5763, PC=0.0816 | Val MSE=17.0682, PC=-0.0730\n",
      "Epoch 07: Train Huber=2.9980, Train MSE=16.5813, PC=0.0613 | Val MSE=17.1570, PC=0.1236\n",
      "Epoch 08: Train Huber=3.0835, Train MSE=17.1552, PC=-0.0397 | Val MSE=16.8988, PC=-0.0785\n",
      "Epoch 09: Train Huber=3.1681, Train MSE=18.9637, PC=0.0196 | Val MSE=18.2318, PC=-0.0035\n",
      "Epoch 10: Train Huber=3.0240, Train MSE=16.6064, PC=-0.0482 | Val MSE=14.6137, PC=0.0540\n"
     ]
    },
    {
     "name": "stderr",
     "output_type": "stream",
     "text": [
      "[I 2025-08-17 13:49:30,938] Trial 21 finished with value: 13.830821990966797 and parameters: {'hidden_dim': 135, 'nhead': 4, 'num_layers': 3, 'lr': 0.0011406775530474218, 'weight_decay': 1.5773049626255062e-06}. Best is trial 14 with value: 13.354726791381836.\n"
     ]
    },
    {
     "name": "stdout",
     "output_type": "stream",
     "text": [
      "Epoch 11: Train Huber=3.0002, Train MSE=16.2622, PC=-0.0588 | Val MSE=14.5217, PC=-0.0472\n",
      "Early stopping\n",
      "\n",
      "[trial 22] build loaders...\n",
      "Epoch 01: Train Huber=3.1874, Train MSE=19.4900, PC=0.0673 | Val MSE=38.0055, PC=0.0992\n",
      "Epoch 02: Train Huber=3.0564, Train MSE=17.0615, PC=0.0698 | Val MSE=18.7337, PC=0.0402\n",
      "Epoch 03: Train Huber=3.0792, Train MSE=17.4193, PC=-0.0746 | Val MSE=28.8249, PC=-0.0558\n",
      "Epoch 04: Train Huber=3.1386, Train MSE=18.1047, PC=0.0084 | Val MSE=24.4131, PC=-0.0419\n",
      "Epoch 05: Train Huber=3.0658, Train MSE=17.4729, PC=0.0100 | Val MSE=13.6307, PC=0.0112\n",
      "Epoch 06: Train Huber=3.1669, Train MSE=18.0655, PC=-0.0838 | Val MSE=19.7399, PC=0.0567\n",
      "Epoch 07: Train Huber=3.0806, Train MSE=17.5047, PC=-0.0604 | Val MSE=19.1363, PC=0.0481\n",
      "Epoch 08: Train Huber=2.9803, Train MSE=16.1351, PC=-0.0269 | Val MSE=22.2327, PC=0.0058\n",
      "Epoch 09: Train Huber=3.0883, Train MSE=17.6854, PC=-0.0029 | Val MSE=22.2559, PC=0.0498\n",
      "Epoch 10: Train Huber=3.0979, Train MSE=18.0140, PC=-0.0784 | Val MSE=14.3737, PC=-0.0854\n",
      "Epoch 11: Train Huber=3.0441, Train MSE=16.7264, PC=-0.0242 | Val MSE=17.7842, PC=0.0375\n",
      "Epoch 12: Train Huber=3.0362, Train MSE=17.0421, PC=-0.0305 | Val MSE=26.1248, PC=0.0396\n",
      "Epoch 13: Train Huber=3.1370, Train MSE=18.4012, PC=-0.0106 | Val MSE=19.4665, PC=0.0220\n",
      "Epoch 14: Train Huber=3.0973, Train MSE=18.2665, PC=-0.0249 | Val MSE=32.3048, PC=0.0300\n"
     ]
    },
    {
     "name": "stderr",
     "output_type": "stream",
     "text": [
      "[I 2025-08-17 13:51:29,898] Trial 22 finished with value: 13.630701065063477 and parameters: {'hidden_dim': 292, 'nhead': 4, 'num_layers': 4, 'lr': 0.0021061180968532487, 'weight_decay': 5.807810520681872e-06}. Best is trial 14 with value: 13.354726791381836.\n"
     ]
    },
    {
     "name": "stdout",
     "output_type": "stream",
     "text": [
      "Epoch 15: Train Huber=2.9966, Train MSE=16.8149, PC=-0.0383 | Val MSE=23.1419, PC=0.0220\n",
      "Early stopping\n",
      "\n",
      "[trial 23] build loaders...\n",
      "Epoch 01: Train Huber=3.3100, Train MSE=20.9173, PC=-0.0641 | Val MSE=17.1429, PC=0.0000\n",
      "Epoch 02: Train Huber=3.0616, Train MSE=17.0661, PC=-0.0662 | Val MSE=16.5176, PC=-0.0976\n",
      "Epoch 03: Train Huber=3.0382, Train MSE=17.5374, PC=0.0509 | Val MSE=16.4475, PC=0.1288\n",
      "Epoch 04: Train Huber=3.0290, Train MSE=17.0645, PC=-0.0427 | Val MSE=15.6718, PC=-0.0123\n",
      "Epoch 05: Train Huber=3.0073, Train MSE=16.4654, PC=-0.1159 | Val MSE=18.3377, PC=0.0520\n",
      "Epoch 06: Train Huber=3.1372, Train MSE=17.5075, PC=0.0016 | Val MSE=14.1308, PC=-0.0388\n",
      "Epoch 07: Train Huber=3.0462, Train MSE=17.3017, PC=0.0038 | Val MSE=13.7230, PC=-0.0019\n",
      "Epoch 08: Train Huber=3.0989, Train MSE=17.6526, PC=-0.1025 | Val MSE=16.2333, PC=-0.0434\n",
      "Epoch 09: Train Huber=3.0963, Train MSE=16.9628, PC=-0.1200 | Val MSE=16.1651, PC=0.0645\n",
      "Epoch 10: Train Huber=3.0403, Train MSE=17.2578, PC=-0.0671 | Val MSE=14.2959, PC=0.0490\n",
      "Epoch 11: Train Huber=3.1168, Train MSE=17.1978, PC=-0.0583 | Val MSE=22.2546, PC=0.0700\n",
      "Epoch 12: Train Huber=3.2599, Train MSE=20.3335, PC=-0.0464 | Val MSE=32.2757, PC=0.0447\n",
      "Epoch 13: Train Huber=3.1479, Train MSE=17.8365, PC=-0.1612 | Val MSE=15.5886, PC=0.0164\n",
      "Epoch 14: Train Huber=3.1635, Train MSE=18.8683, PC=-0.0259 | Val MSE=14.8862, PC=0.0078\n",
      "Epoch 15: Train Huber=3.0056, Train MSE=16.5281, PC=-0.0152 | Val MSE=13.9741, PC=-0.0559\n",
      "Epoch 16: Train Huber=3.0114, Train MSE=16.3995, PC=-0.1059 | Val MSE=18.2620, PC=0.0321\n"
     ]
    },
    {
     "name": "stderr",
     "output_type": "stream",
     "text": [
      "[I 2025-08-17 13:53:16,674] Trial 23 finished with value: 13.722952842712402 and parameters: {'hidden_dim': 257, 'nhead': 4, 'num_layers': 3, 'lr': 0.0015481431970918748, 'weight_decay': 2.2181098757200457e-06}. Best is trial 14 with value: 13.354726791381836.\n"
     ]
    },
    {
     "name": "stdout",
     "output_type": "stream",
     "text": [
      "Epoch 17: Train Huber=3.0289, Train MSE=16.6366, PC=-0.1063 | Val MSE=16.9759, PC=0.0350\n",
      "Early stopping\n",
      "\n",
      "[trial 24] build loaders...\n",
      "Epoch 01: Train Huber=2.9379, Train MSE=18.8401, PC=0.1953 | Val MSE=21.2901, PC=-0.0089\n",
      "Epoch 02: Train Huber=2.4887, Train MSE=14.6057, PC=0.3613 | Val MSE=23.7954, PC=-0.0522\n",
      "Epoch 03: Train Huber=2.4332, Train MSE=14.0633, PC=0.4051 | Val MSE=24.1750, PC=0.0695\n",
      "Epoch 04: Train Huber=2.5224, Train MSE=15.2405, PC=0.3734 | Val MSE=26.0035, PC=0.0789\n",
      "Epoch 05: Train Huber=2.4797, Train MSE=14.2661, PC=0.3741 | Val MSE=20.6349, PC=0.0588\n",
      "Epoch 06: Train Huber=2.4811, Train MSE=14.4906, PC=0.3598 | Val MSE=24.0949, PC=-0.0276\n",
      "Epoch 07: Train Huber=2.4454, Train MSE=14.6682, PC=0.3700 | Val MSE=16.7236, PC=0.1346\n",
      "Epoch 08: Train Huber=2.5535, Train MSE=15.0592, PC=0.3394 | Val MSE=21.8757, PC=-0.0526\n",
      "Epoch 09: Train Huber=2.6646, Train MSE=15.4598, PC=0.2630 | Val MSE=20.9127, PC=-0.0521\n",
      "Epoch 10: Train Huber=2.8258, Train MSE=16.7407, PC=0.1951 | Val MSE=26.2271, PC=0.1776\n",
      "Epoch 11: Train Huber=2.7354, Train MSE=15.2392, PC=0.2555 | Val MSE=19.6172, PC=0.0499\n",
      "Epoch 12: Train Huber=2.5636, Train MSE=15.2880, PC=0.3353 | Val MSE=26.9019, PC=-0.0251\n",
      "Epoch 13: Train Huber=2.6177, Train MSE=15.3656, PC=0.2751 | Val MSE=24.9281, PC=0.1265\n",
      "Epoch 14: Train Huber=2.4871, Train MSE=14.4496, PC=0.3668 | Val MSE=21.3298, PC=0.0550\n",
      "Epoch 15: Train Huber=2.5207, Train MSE=14.4584, PC=0.3501 | Val MSE=17.9150, PC=0.1493\n",
      "Epoch 16: Train Huber=2.9119, Train MSE=17.3997, PC=0.1408 | Val MSE=36.8073, PC=0.1949\n"
     ]
    },
    {
     "name": "stderr",
     "output_type": "stream",
     "text": [
      "[I 2025-08-17 13:54:30,916] Trial 24 finished with value: 16.723600387573242 and parameters: {'hidden_dim': 440, 'nhead': 4, 'num_layers': 2, 'lr': 0.0007220274697181623, 'weight_decay': 1.468518897463753e-05}. Best is trial 14 with value: 13.354726791381836.\n"
     ]
    },
    {
     "name": "stdout",
     "output_type": "stream",
     "text": [
      "Epoch 17: Train Huber=2.8115, Train MSE=15.4010, PC=0.2264 | Val MSE=32.0297, PC=0.2821\n",
      "Early stopping\n",
      "\n",
      "[trial 25] build loaders...\n",
      "Epoch 01: Train Huber=3.3270, Train MSE=20.8689, PC=-0.0701 | Val MSE=21.7572, PC=-0.0684\n",
      "Epoch 02: Train Huber=3.1163, Train MSE=18.0386, PC=-0.0599 | Val MSE=13.9438, PC=-0.0162\n",
      "Epoch 03: Train Huber=3.0519, Train MSE=18.3148, PC=0.0297 | Val MSE=38.2155, PC=0.0555\n",
      "Epoch 04: Train Huber=3.1519, Train MSE=18.3576, PC=0.0532 | Val MSE=36.8137, PC=-0.0250\n",
      "Epoch 05: Train Huber=3.1886, Train MSE=18.0821, PC=-0.0985 | Val MSE=17.2732, PC=-0.1194\n",
      "Epoch 06: Train Huber=3.1237, Train MSE=18.3651, PC=0.0022 | Val MSE=18.2044, PC=-0.0222\n",
      "Epoch 07: Train Huber=3.0407, Train MSE=16.7036, PC=-0.0498 | Val MSE=20.4018, PC=0.0632\n",
      "Epoch 08: Train Huber=3.0303, Train MSE=16.6943, PC=0.0096 | Val MSE=14.1567, PC=-0.0549\n",
      "Epoch 09: Train Huber=3.2246, Train MSE=20.0975, PC=0.0507 | Val MSE=33.6850, PC=0.1464\n",
      "Epoch 10: Train Huber=3.1386, Train MSE=19.2297, PC=0.0183 | Val MSE=26.4598, PC=0.2046\n",
      "Epoch 11: Train Huber=3.0784, Train MSE=17.1685, PC=-0.0666 | Val MSE=17.0333, PC=0.0268\n"
     ]
    },
    {
     "name": "stderr",
     "output_type": "stream",
     "text": [
      "[I 2025-08-17 13:55:45,495] Trial 25 finished with value: 13.943769454956055 and parameters: {'hidden_dim': 343, 'nhead': 4, 'num_layers': 3, 'lr': 0.0028254389819034813, 'weight_decay': 1.4696469262281577e-06}. Best is trial 14 with value: 13.354726791381836.\n"
     ]
    },
    {
     "name": "stdout",
     "output_type": "stream",
     "text": [
      "Epoch 12: Train Huber=3.0393, Train MSE=16.5492, PC=0.0449 | Val MSE=22.5788, PC=0.0742\n",
      "Early stopping\n",
      "\n",
      "[trial 26] build loaders...\n",
      "Epoch 01: Train Huber=3.5154, Train MSE=23.3264, PC=-0.0696 | Val MSE=46.1546, PC=0.0760\n",
      "Epoch 02: Train Huber=3.7465, Train MSE=26.4754, PC=-0.0279 | Val MSE=16.8993, PC=0.1212\n",
      "Epoch 03: Train Huber=3.3830, Train MSE=21.6449, PC=0.0055 | Val MSE=45.9202, PC=-0.0379\n",
      "Epoch 04: Train Huber=3.4689, Train MSE=23.1899, PC=-0.0298 | Val MSE=50.8104, PC=0.1825\n",
      "Epoch 05: Train Huber=3.4904, Train MSE=23.6780, PC=0.0082 | Val MSE=15.7205, PC=0.1190\n",
      "Epoch 06: Train Huber=3.2102, Train MSE=19.4411, PC=0.0351 | Val MSE=14.1305, PC=-0.0856\n",
      "Epoch 07: Train Huber=3.0130, Train MSE=16.5164, PC=-0.0127 | Val MSE=15.0590, PC=-0.0431\n",
      "Epoch 08: Train Huber=3.1119, Train MSE=17.6932, PC=0.0232 | Val MSE=18.6064, PC=-0.0235\n",
      "Epoch 09: Train Huber=3.0311, Train MSE=16.5280, PC=-0.0613 | Val MSE=18.8963, PC=-0.0285\n",
      "Epoch 10: Train Huber=3.0241, Train MSE=16.7404, PC=0.0354 | Val MSE=19.9665, PC=0.0659\n",
      "Epoch 11: Train Huber=3.0637, Train MSE=16.6601, PC=-0.0966 | Val MSE=14.4396, PC=0.0796\n",
      "Epoch 12: Train Huber=3.1471, Train MSE=18.6867, PC=0.0305 | Val MSE=32.2204, PC=0.0651\n",
      "Epoch 13: Train Huber=3.0810, Train MSE=17.2914, PC=-0.0593 | Val MSE=19.1329, PC=0.0267\n",
      "Epoch 14: Train Huber=3.1254, Train MSE=18.3726, PC=0.0025 | Val MSE=32.4564, PC=-0.0446\n",
      "Epoch 15: Train Huber=3.0540, Train MSE=16.9208, PC=0.0263 | Val MSE=14.2162, PC=0.0481\n"
     ]
    },
    {
     "name": "stderr",
     "output_type": "stream",
     "text": [
      "[I 2025-08-17 13:56:54,184] Trial 26 finished with value: 14.130537986755371 and parameters: {'hidden_dim': 484, 'nhead': 4, 'num_layers': 2, 'lr': 0.005741185664628491, 'weight_decay': 4.516459445009431e-06}. Best is trial 14 with value: 13.354726791381836.\n"
     ]
    },
    {
     "name": "stdout",
     "output_type": "stream",
     "text": [
      "Epoch 16: Train Huber=2.9497, Train MSE=16.2609, PC=0.0747 | Val MSE=39.1188, PC=0.0567\n",
      "Early stopping\n",
      "\n",
      "[trial 27] build loaders...\n",
      "Epoch 01: Train Huber=3.2948, Train MSE=21.2683, PC=0.0045 | Val MSE=14.2565, PC=0.0465\n",
      "Epoch 02: Train Huber=3.0989, Train MSE=18.2424, PC=-0.0940 | Val MSE=13.7024, PC=0.0581\n",
      "Epoch 03: Train Huber=3.1293, Train MSE=18.0427, PC=0.0112 | Val MSE=13.6313, PC=0.0854\n",
      "Epoch 04: Train Huber=3.2687, Train MSE=18.9616, PC=-0.1123 | Val MSE=19.2277, PC=0.0048\n",
      "Epoch 05: Train Huber=3.0470, Train MSE=17.5720, PC=-0.0383 | Val MSE=23.5259, PC=-0.0466\n",
      "Epoch 06: Train Huber=3.0810, Train MSE=17.0363, PC=-0.0561 | Val MSE=23.3388, PC=0.0920\n",
      "Epoch 07: Train Huber=3.0138, Train MSE=16.8710, PC=-0.0390 | Val MSE=17.7911, PC=0.2539\n",
      "Epoch 08: Train Huber=3.0063, Train MSE=16.5269, PC=-0.1089 | Val MSE=17.7156, PC=-0.1211\n",
      "Epoch 09: Train Huber=3.0272, Train MSE=16.5192, PC=-0.1346 | Val MSE=21.7491, PC=0.0959\n",
      "Epoch 10: Train Huber=2.9930, Train MSE=16.1364, PC=-0.0172 | Val MSE=16.5084, PC=-0.1524\n",
      "Epoch 11: Train Huber=3.0907, Train MSE=17.6613, PC=-0.0387 | Val MSE=16.7947, PC=0.0055\n",
      "Epoch 12: Train Huber=3.0308, Train MSE=17.8458, PC=0.0293 | Val MSE=14.2886, PC=-0.0901\n"
     ]
    },
    {
     "name": "stderr",
     "output_type": "stream",
     "text": [
      "[I 2025-08-17 13:58:12,832] Trial 27 finished with value: 13.631325721740723 and parameters: {'hidden_dim': 410, 'nhead': 4, 'num_layers': 3, 'lr': 0.0011933618815879164, 'weight_decay': 2.154982034598333e-06}. Best is trial 14 with value: 13.354726791381836.\n"
     ]
    },
    {
     "name": "stdout",
     "output_type": "stream",
     "text": [
      "Epoch 13: Train Huber=3.0107, Train MSE=17.1503, PC=0.0214 | Val MSE=17.8903, PC=-0.0520\n",
      "Early stopping\n",
      "\n",
      "[trial 28] build loaders...\n",
      "Epoch 01: Train Huber=3.4026, Train MSE=22.2245, PC=-0.0211 | Val MSE=20.5531, PC=0.0107\n",
      "Epoch 02: Train Huber=3.0377, Train MSE=17.0082, PC=-0.0508 | Val MSE=28.1583, PC=0.0501\n",
      "Epoch 03: Train Huber=3.0973, Train MSE=17.8484, PC=0.0472 | Val MSE=14.5627, PC=-0.0725\n",
      "Epoch 04: Train Huber=3.0738, Train MSE=17.3741, PC=-0.0424 | Val MSE=15.8190, PC=0.0851\n",
      "Epoch 05: Train Huber=3.0548, Train MSE=17.6489, PC=-0.0005 | Val MSE=29.5040, PC=-0.0213\n",
      "Epoch 06: Train Huber=3.0797, Train MSE=18.3129, PC=0.0526 | Val MSE=17.8074, PC=-0.0428\n",
      "Epoch 07: Train Huber=3.2949, Train MSE=21.1157, PC=-0.0617 | Val MSE=15.5608, PC=-0.0492\n",
      "Epoch 08: Train Huber=2.9811, Train MSE=16.4921, PC=0.1156 | Val MSE=22.2835, PC=0.0225\n",
      "Epoch 09: Train Huber=2.9483, Train MSE=16.5455, PC=0.0818 | Val MSE=13.9498, PC=0.0086\n",
      "Epoch 10: Train Huber=2.9899, Train MSE=16.4488, PC=0.0291 | Val MSE=13.9495, PC=0.0093\n",
      "Epoch 11: Train Huber=3.0175, Train MSE=16.6850, PC=-0.0227 | Val MSE=16.4089, PC=0.0174\n",
      "Epoch 12: Train Huber=3.0020, Train MSE=16.9333, PC=0.0379 | Val MSE=16.2885, PC=0.0642\n",
      "Epoch 13: Train Huber=3.0525, Train MSE=17.1864, PC=-0.0685 | Val MSE=21.8793, PC=0.0448\n",
      "Epoch 14: Train Huber=3.1468, Train MSE=17.7001, PC=-0.0699 | Val MSE=19.9558, PC=0.0185\n",
      "Epoch 15: Train Huber=3.0054, Train MSE=16.6358, PC=-0.0199 | Val MSE=16.6551, PC=-0.1463\n",
      "Epoch 16: Train Huber=3.0144, Train MSE=16.4873, PC=-0.0959 | Val MSE=20.1870, PC=-0.1690\n",
      "Epoch 17: Train Huber=3.0268, Train MSE=16.8826, PC=-0.0493 | Val MSE=20.8094, PC=-0.0596\n",
      "Epoch 18: Train Huber=3.0483, Train MSE=17.3066, PC=-0.0703 | Val MSE=35.2560, PC=0.0054\n",
      "Epoch 19: Train Huber=3.0383, Train MSE=17.4830, PC=0.0276 | Val MSE=13.6290, PC=-0.0233\n",
      "Epoch 20: Train Huber=3.1075, Train MSE=17.6716, PC=-0.0117 | Val MSE=15.5321, PC=-0.0414\n",
      "Epoch 21: Train Huber=3.0026, Train MSE=16.3773, PC=0.0444 | Val MSE=24.8253, PC=0.0994\n",
      "Epoch 22: Train Huber=3.0373, Train MSE=16.9232, PC=-0.0457 | Val MSE=19.4712, PC=-0.0033\n",
      "Epoch 23: Train Huber=3.1155, Train MSE=17.9658, PC=-0.0163 | Val MSE=14.1205, PC=0.0180\n",
      "Epoch 24: Train Huber=3.0516, Train MSE=17.0558, PC=-0.0683 | Val MSE=17.3302, PC=-0.1298\n",
      "Epoch 25: Train Huber=3.0030, Train MSE=16.3516, PC=-0.1889 | Val MSE=17.3988, PC=-0.0305\n",
      "Epoch 26: Train Huber=2.9847, Train MSE=16.3308, PC=0.0231 | Val MSE=21.8409, PC=-0.0533\n",
      "Epoch 27: Train Huber=3.0244, Train MSE=16.5415, PC=-0.0063 | Val MSE=14.6133, PC=-0.1487\n",
      "Epoch 28: Train Huber=3.0927, Train MSE=17.2289, PC=-0.1103 | Val MSE=16.6938, PC=-0.1683\n"
     ]
    },
    {
     "name": "stderr",
     "output_type": "stream",
     "text": [
      "[I 2025-08-17 14:02:11,628] Trial 28 finished with value: 13.629014015197754 and parameters: {'hidden_dim': 263, 'nhead': 8, 'num_layers': 4, 'lr': 0.002851507546999549, 'weight_decay': 6.1768584114518685e-06}. Best is trial 14 with value: 13.354726791381836.\n"
     ]
    },
    {
     "name": "stdout",
     "output_type": "stream",
     "text": [
      "Epoch 29: Train Huber=3.0627, Train MSE=17.2630, PC=-0.1183 | Val MSE=19.3321, PC=0.0269\n",
      "Early stopping\n",
      "\n",
      "[trial 29] build loaders...\n",
      "Epoch 01: Train Huber=3.0461, Train MSE=19.5714, PC=0.1678 | Val MSE=13.9921, PC=0.1163\n",
      "Epoch 02: Train Huber=2.6120, Train MSE=15.3339, PC=0.3184 | Val MSE=18.7341, PC=0.0984\n",
      "Epoch 03: Train Huber=2.3661, Train MSE=14.0815, PC=0.3952 | Val MSE=19.7116, PC=0.1010\n",
      "Epoch 04: Train Huber=2.2605, Train MSE=13.7579, PC=0.4326 | Val MSE=21.6956, PC=0.1179\n",
      "Epoch 05: Train Huber=2.4787, Train MSE=14.9964, PC=0.3603 | Val MSE=18.9520, PC=0.1985\n",
      "Epoch 06: Train Huber=2.3573, Train MSE=14.3683, PC=0.3977 | Val MSE=25.6734, PC=-0.0344\n",
      "Epoch 07: Train Huber=2.3485, Train MSE=13.4240, PC=0.4210 | Val MSE=16.8253, PC=0.1301\n",
      "Epoch 08: Train Huber=2.2878, Train MSE=13.5647, PC=0.4217 | Val MSE=17.4668, PC=0.2113\n",
      "Epoch 09: Train Huber=2.6627, Train MSE=15.9513, PC=0.2825 | Val MSE=24.4803, PC=-0.1127\n",
      "Epoch 10: Train Huber=2.3887, Train MSE=13.8036, PC=0.3948 | Val MSE=17.3859, PC=0.2654\n"
     ]
    },
    {
     "name": "stderr",
     "output_type": "stream",
     "text": [
      "[I 2025-08-17 14:02:59,671] Trial 29 finished with value: 13.992088317871094 and parameters: {'hidden_dim': 207, 'nhead': 4, 'num_layers': 2, 'lr': 0.0005114187209362978, 'weight_decay': 1.0027558934608288e-06}. Best is trial 14 with value: 13.354726791381836.\n"
     ]
    },
    {
     "name": "stdout",
     "output_type": "stream",
     "text": [
      "Epoch 11: Train Huber=2.2938, Train MSE=12.9832, PC=0.4552 | Val MSE=15.5455, PC=0.1387\n",
      "Early stopping\n",
      "Best hyper-parameters: {'hidden_dim': 380, 'nhead': 4, 'num_layers': 2, 'lr': 0.0009819347379144987, 'weight_decay': 3.491097047653223e-06}\n",
      "Best Val MSE (Optuna): 13.354726791381836\n",
      "Reloaded eval — Train MSE=15.5618, PC=0.3269 | Val MSE=13.3547, PC=0.1905 | ΔMSE=0.000000\n",
      "Saved VAL preds → results_final\\video_reg_val_ind.csv\n"
     ]
    }
   ],
   "source": [
    "df = pd.read_csv('FinalDataset.csv')\n",
    "\n",
    "train_ids_ind = set(os.listdir('Person-Independent_Split/train'))\n",
    "val_ids_ind = set(os.listdir('Person-Independent_Split/val'))\n",
    "\n",
    "res_ind = run_split(\"ind\", train_ids_ind, val_ids_ind, input_dim=768)"
   ]
  },
  {
   "cell_type": "code",
   "execution_count": 9,
   "id": "d3f1694c-d2bb-47d0-a97e-0529eb3a7a74",
   "metadata": {},
   "outputs": [
    {
     "name": "stderr",
     "output_type": "stream",
     "text": [
      "C:\\Users\\Mansi Jadhav\\AppData\\Local\\Temp\\ipykernel_31360\\3011977617.py:3: FutureWarning: You are using `torch.load` with `weights_only=False` (the current default value), which uses the default pickle module implicitly. It is possible to construct malicious pickle data which will execute arbitrary code during unpickling (See https://github.com/pytorch/pytorch/blob/main/SECURITY.md#untrusted-models for more details). In a future release, the default value for `weights_only` will be flipped to `True`. This limits the functions that could be executed during unpickling. Arbitrary objects will no longer be allowed to be loaded via this mode unless they are explicitly allowlisted by the user via `torch.serialization.add_safe_globals`. We recommend you start setting `weights_only=True` for any use case where you don't have full control of the loaded file. Please open an issue on GitHub for any issues related to this experimental feature.\n",
      "  blob = torch.load('models_final/video_reg_ind.pt', map_location=DEVICE)\n",
      "C:\\ProgramData\\anaconda3\\Lib\\site-packages\\torch\\nn\\modules\\transformer.py:379: UserWarning: enable_nested_tensor is True, but self.use_nested_tensor is False because encoder_layer.self_attn.batch_first was not True(use batch_first for better inference performance)\n",
      "  warnings.warn(\n"
     ]
    },
    {
     "name": "stdout",
     "output_type": "stream",
     "text": [
      "Best Val (Optuna): MSE=13.3547, PC=0.1905\n",
      "Reloaded model eval: Val MSE=13.3547, PC=0.1905\n"
     ]
    }
   ],
   "source": [
    "import torch\n",
    "\n",
    "blob = torch.load('models_final/video_reg_ind.pt', map_location=DEVICE)\n",
    "best_params = blob[\"best_params\"]\n",
    "\n",
    "best_model = TransformerRegressor(\n",
    "    d_model=768,\n",
    "    nhead=best_params[\"nhead\"],\n",
    "    num_layers=best_params[\"num_layers\"]).to(DEVICE)\n",
    "\n",
    "best_model.load_state_dict(blob[\"state_dict\"])\n",
    "best_model.eval()\n",
    "\n",
    "df = pd.read_csv('FinalDataset.csv')\n",
    "\n",
    "train_ids_ind = set(os.listdir('Person-Independent_Split/train'))\n",
    "val_ids_ind = set(os.listdir('Person-Independent_Split/val'))\n",
    "train_df_ind = df[df.video_id.isin(train_ids_ind)].reset_index(drop=True)\n",
    "val_df_ind   = df[df.video_id.isin(val_ids_ind)].reset_index(drop=True)\n",
    "\n",
    "# Final evaluation metrics\n",
    "g = torch.Generator().manual_seed(SEED)\n",
    "train_loader = DataLoader(TemporalFeatureDataset(train_df_ind, 'videomae_features_new'), batch_size=BATCH_SIZE, shuffle=True, generator=g, \n",
    "                          num_workers=0, pin_memory=True)\n",
    "val_loader = DataLoader(TemporalFeatureDataset(val_df_ind, 'videomae_features_new'),batch_size=BATCH_SIZE, shuffle=False, \n",
    "                        num_workers=0, pin_memory=True)\n",
    "tr_mse, tr_pc, tr_preds, tr_tgts = evaluate(best_model, train_loader)\n",
    "vl_mse, vl_pc, vl_preds, vl_tgts = evaluate(best_model, val_loader)\n",
    "print(f\"Best Val (Optuna): MSE={blob[\"val_mse\"]:.4f}, PC={blob['val_pc']:.4f}\")\n",
    "print(f\"Reloaded model eval: Val MSE={vl_mse:.4f}, PC={vl_pc:.4f}\")"
   ]
  },
  {
   "cell_type": "code",
   "execution_count": null,
   "id": "cf174ffd-99d0-4727-aa3f-e583b0becbd3",
   "metadata": {},
   "outputs": [],
   "source": []
  },
  {
   "cell_type": "markdown",
   "id": "3ee62568-0ee7-4904-a3b8-7dfd5e157396",
   "metadata": {},
   "source": [
    "# Person-Dependent Split"
   ]
  },
  {
   "cell_type": "code",
   "execution_count": 24,
   "id": "cecb5c26-2b4f-4bc9-bce5-a8453514ee50",
   "metadata": {
    "scrolled": true
   },
   "outputs": [
    {
     "name": "stderr",
     "output_type": "stream",
     "text": [
      "[I 2025-08-17 10:37:32,354] A new study created in memory with name: no-name-b64a9f5f-9674-4bca-88fd-399f0e21a148\n"
     ]
    },
    {
     "name": "stdout",
     "output_type": "stream",
     "text": [
      "\n",
      "=== Running split: dep ===\n",
      "\n",
      "[trial 0] build loaders...\n"
     ]
    },
    {
     "name": "stderr",
     "output_type": "stream",
     "text": [
      "C:\\ProgramData\\anaconda3\\Lib\\site-packages\\torch\\nn\\modules\\transformer.py:379: UserWarning: enable_nested_tensor is True, but self.use_nested_tensor is False because encoder_layer.self_attn.batch_first was not True(use batch_first for better inference performance)\n",
      "  warnings.warn(\n"
     ]
    },
    {
     "name": "stdout",
     "output_type": "stream",
     "text": [
      "Epoch 01: Train Huber=3.0603, Train MSE=19.5646, PC=0.2249 | Val MSE=17.5592, PC=0.4534\n",
      "Epoch 02: Train Huber=2.6461, Train MSE=15.5485, PC=0.4136 | Val MSE=18.2344, PC=0.4385\n",
      "Epoch 03: Train Huber=2.4218, Train MSE=14.5399, PC=0.4530 | Val MSE=21.8907, PC=0.5580\n",
      "Epoch 04: Train Huber=2.3868, Train MSE=14.1763, PC=0.4913 | Val MSE=18.4461, PC=0.4102\n",
      "Epoch 05: Train Huber=2.4785, Train MSE=14.1192, PC=0.4708 | Val MSE=19.6633, PC=0.2445\n",
      "Epoch 06: Train Huber=2.5270, Train MSE=15.1056, PC=0.4323 | Val MSE=16.6824, PC=0.4871\n",
      "Epoch 07: Train Huber=2.3647, Train MSE=14.1475, PC=0.4836 | Val MSE=17.5346, PC=0.4226\n",
      "Epoch 08: Train Huber=2.3848, Train MSE=13.9005, PC=0.4805 | Val MSE=18.4053, PC=0.3748\n",
      "Epoch 09: Train Huber=2.4369, Train MSE=14.3565, PC=0.4601 | Val MSE=16.8220, PC=0.5139\n",
      "Epoch 10: Train Huber=2.3026, Train MSE=13.5091, PC=0.5081 | Val MSE=16.4718, PC=0.5173\n",
      "Epoch 11: Train Huber=2.2882, Train MSE=13.4011, PC=0.5208 | Val MSE=17.7211, PC=0.4849\n",
      "Epoch 12: Train Huber=2.3194, Train MSE=13.8521, PC=0.5061 | Val MSE=16.5861, PC=0.5143\n",
      "Epoch 13: Train Huber=2.3400, Train MSE=13.2276, PC=0.5054 | Val MSE=18.5711, PC=0.4359\n",
      "Epoch 14: Train Huber=2.2782, Train MSE=13.1897, PC=0.5254 | Val MSE=14.9882, PC=0.5758\n",
      "Epoch 15: Train Huber=2.2864, Train MSE=13.2060, PC=0.5248 | Val MSE=17.4183, PC=0.4584\n",
      "Epoch 16: Train Huber=2.2882, Train MSE=13.4216, PC=0.5128 | Val MSE=18.1416, PC=0.4215\n",
      "Epoch 17: Train Huber=2.5570, Train MSE=14.7825, PC=0.4418 | Val MSE=19.2073, PC=0.4134\n",
      "Epoch 18: Train Huber=2.3661, Train MSE=13.9119, PC=0.4999 | Val MSE=19.3957, PC=0.3996\n",
      "Epoch 19: Train Huber=2.3249, Train MSE=13.7143, PC=0.5000 | Val MSE=18.5423, PC=0.5386\n",
      "Epoch 20: Train Huber=2.3636, Train MSE=13.7350, PC=0.4900 | Val MSE=17.1706, PC=0.4919\n",
      "Epoch 21: Train Huber=2.2581, Train MSE=13.2279, PC=0.5265 | Val MSE=17.4719, PC=0.4766\n",
      "Epoch 22: Train Huber=2.2670, Train MSE=13.2145, PC=0.5279 | Val MSE=17.0316, PC=0.5243\n",
      "Epoch 23: Train Huber=2.2244, Train MSE=12.9337, PC=0.5363 | Val MSE=15.4628, PC=0.5533\n",
      "Epoch 24: Train Huber=2.2509, Train MSE=12.9449, PC=0.5266 | Val MSE=14.7634, PC=0.5906\n",
      "Epoch 25: Train Huber=2.2834, Train MSE=13.3905, PC=0.5239 | Val MSE=16.1198, PC=0.5766\n",
      "Epoch 26: Train Huber=2.2302, Train MSE=13.0577, PC=0.5307 | Val MSE=24.8296, PC=0.4253\n",
      "Epoch 27: Train Huber=2.6658, Train MSE=17.4121, PC=0.3516 | Val MSE=19.5812, PC=0.5073\n",
      "Epoch 28: Train Huber=2.4687, Train MSE=15.1553, PC=0.4283 | Val MSE=17.5912, PC=0.5960\n",
      "Epoch 29: Train Huber=2.3766, Train MSE=14.1310, PC=0.4868 | Val MSE=18.7121, PC=0.5409\n",
      "Epoch 30: Train Huber=2.2915, Train MSE=13.1664, PC=0.5193 | Val MSE=17.2254, PC=0.5403\n",
      "Epoch 31: Train Huber=2.2988, Train MSE=13.3702, PC=0.5174 | Val MSE=18.8835, PC=0.4375\n",
      "Epoch 32: Train Huber=2.3952, Train MSE=14.6685, PC=0.4683 | Val MSE=17.7173, PC=0.5021\n",
      "Epoch 33: Train Huber=2.5640, Train MSE=16.1385, PC=0.3923 | Val MSE=17.7136, PC=0.4922\n"
     ]
    },
    {
     "name": "stderr",
     "output_type": "stream",
     "text": [
      "[I 2025-08-17 10:41:01,620] Trial 0 finished with value: 14.763419151306152 and parameters: {'hidden_dim': 232, 'nhead': 4, 'num_layers': 3, 'lr': 0.0002051338263087451, 'weight_decay': 2.9375384576328313e-06}. Best is trial 0 with value: 14.763419151306152.\n"
     ]
    },
    {
     "name": "stdout",
     "output_type": "stream",
     "text": [
      "Epoch 34: Train Huber=2.4312, Train MSE=14.8752, PC=0.4434 | Val MSE=15.1751, PC=0.5919\n",
      "Early stopping\n",
      "\n",
      "[trial 1] build loaders...\n",
      "Epoch 01: Train Huber=3.3753, Train MSE=22.4964, PC=0.0804 | Val MSE=17.4682, PC=0.4521\n",
      "Epoch 02: Train Huber=2.7134, Train MSE=16.3182, PC=0.3937 | Val MSE=20.4041, PC=0.4901\n",
      "Epoch 03: Train Huber=2.4465, Train MSE=14.3858, PC=0.4616 | Val MSE=17.7670, PC=0.4792\n",
      "Epoch 04: Train Huber=2.4196, Train MSE=14.2995, PC=0.4614 | Val MSE=16.4940, PC=0.4605\n",
      "Epoch 05: Train Huber=2.3974, Train MSE=14.2071, PC=0.4720 | Val MSE=15.8505, PC=0.5244\n",
      "Epoch 06: Train Huber=2.3939, Train MSE=14.5130, PC=0.4671 | Val MSE=16.9554, PC=0.4731\n",
      "Epoch 07: Train Huber=2.4253, Train MSE=14.6990, PC=0.4586 | Val MSE=16.4658, PC=0.5363\n",
      "Epoch 08: Train Huber=2.3233, Train MSE=13.9707, PC=0.4915 | Val MSE=16.6698, PC=0.4390\n",
      "Epoch 09: Train Huber=2.2640, Train MSE=13.2129, PC=0.5220 | Val MSE=15.8051, PC=0.5177\n",
      "Epoch 10: Train Huber=2.2591, Train MSE=13.0928, PC=0.5257 | Val MSE=15.6982, PC=0.5287\n",
      "Epoch 11: Train Huber=2.3261, Train MSE=13.5424, PC=0.5082 | Val MSE=15.4719, PC=0.5318\n",
      "Epoch 12: Train Huber=2.3185, Train MSE=13.7711, PC=0.4956 | Val MSE=15.7215, PC=0.4795\n",
      "Epoch 13: Train Huber=2.2857, Train MSE=13.7935, PC=0.5004 | Val MSE=16.7520, PC=0.4378\n",
      "Epoch 14: Train Huber=2.2918, Train MSE=13.7646, PC=0.4924 | Val MSE=16.6187, PC=0.4735\n",
      "Epoch 15: Train Huber=2.2814, Train MSE=13.4014, PC=0.5152 | Val MSE=15.0506, PC=0.5702\n",
      "Epoch 16: Train Huber=2.3250, Train MSE=13.4671, PC=0.5081 | Val MSE=16.3172, PC=0.4962\n",
      "Epoch 17: Train Huber=2.3573, Train MSE=13.8701, PC=0.5018 | Val MSE=15.4529, PC=0.5968\n",
      "Epoch 18: Train Huber=2.2634, Train MSE=13.7218, PC=0.5255 | Val MSE=14.9340, PC=0.5833\n",
      "Epoch 19: Train Huber=2.2166, Train MSE=13.3505, PC=0.5116 | Val MSE=17.5513, PC=0.4309\n",
      "Epoch 20: Train Huber=2.2162, Train MSE=13.3039, PC=0.5229 | Val MSE=15.3132, PC=0.5253\n",
      "Epoch 21: Train Huber=2.2266, Train MSE=12.9060, PC=0.5393 | Val MSE=15.1588, PC=0.5088\n",
      "Epoch 22: Train Huber=2.2577, Train MSE=13.6748, PC=0.5186 | Val MSE=15.4510, PC=0.5487\n",
      "Epoch 23: Train Huber=2.1968, Train MSE=12.6880, PC=0.5413 | Val MSE=15.8480, PC=0.5573\n",
      "Epoch 24: Train Huber=2.0953, Train MSE=11.9685, PC=0.5810 | Val MSE=16.9526, PC=0.5555\n",
      "Epoch 25: Train Huber=2.1961, Train MSE=12.6367, PC=0.5559 | Val MSE=15.0958, PC=0.5585\n",
      "Epoch 26: Train Huber=2.1707, Train MSE=12.4182, PC=0.5559 | Val MSE=15.2464, PC=0.5157\n",
      "Epoch 27: Train Huber=2.0461, Train MSE=12.0584, PC=0.5825 | Val MSE=16.5386, PC=0.5618\n"
     ]
    },
    {
     "name": "stderr",
     "output_type": "stream",
     "text": [
      "[I 2025-08-17 10:43:53,971] Trial 1 finished with value: 14.934013366699219 and parameters: {'hidden_dim': 90, 'nhead': 4, 'num_layers': 3, 'lr': 0.00010994335574766199, 'weight_decay': 0.0008123245085588687}. Best is trial 0 with value: 14.763419151306152.\n"
     ]
    },
    {
     "name": "stdout",
     "output_type": "stream",
     "text": [
      "Epoch 28: Train Huber=2.0049, Train MSE=11.4916, PC=0.6042 | Val MSE=15.9582, PC=0.5328\n",
      "Early stopping\n",
      "\n",
      "[trial 2] build loaders...\n",
      "Epoch 01: Train Huber=3.2491, Train MSE=21.3413, PC=0.1730 | Val MSE=19.4101, PC=0.4014\n",
      "Epoch 02: Train Huber=2.4727, Train MSE=14.8235, PC=0.4528 | Val MSE=16.7112, PC=0.5106\n",
      "Epoch 03: Train Huber=2.4069, Train MSE=14.1276, PC=0.4703 | Val MSE=18.2304, PC=0.4325\n",
      "Epoch 04: Train Huber=2.4089, Train MSE=14.3314, PC=0.4669 | Val MSE=16.5298, PC=0.4876\n",
      "Epoch 05: Train Huber=2.3233, Train MSE=13.4339, PC=0.5100 | Val MSE=21.0677, PC=0.5710\n",
      "Epoch 06: Train Huber=2.2992, Train MSE=13.4489, PC=0.5153 | Val MSE=13.6934, PC=0.5857\n",
      "Epoch 07: Train Huber=2.3128, Train MSE=13.3452, PC=0.5134 | Val MSE=18.0311, PC=0.4350\n",
      "Epoch 08: Train Huber=2.2140, Train MSE=13.1362, PC=0.5329 | Val MSE=15.6396, PC=0.5823\n",
      "Epoch 09: Train Huber=2.1725, Train MSE=12.5384, PC=0.5523 | Val MSE=15.5253, PC=0.5839\n",
      "Epoch 10: Train Huber=2.0846, Train MSE=12.1725, PC=0.5738 | Val MSE=15.5297, PC=0.5113\n",
      "Epoch 11: Train Huber=2.1108, Train MSE=12.0282, PC=0.5740 | Val MSE=15.2861, PC=0.5575\n",
      "Epoch 12: Train Huber=2.1558, Train MSE=12.9482, PC=0.5512 | Val MSE=16.3288, PC=0.5913\n",
      "Epoch 13: Train Huber=2.1280, Train MSE=12.2695, PC=0.5731 | Val MSE=19.1728, PC=0.4414\n",
      "Epoch 14: Train Huber=2.0802, Train MSE=12.3558, PC=0.5764 | Val MSE=16.4415, PC=0.5031\n",
      "Epoch 15: Train Huber=1.9371, Train MSE=10.7967, PC=0.6348 | Val MSE=20.8800, PC=0.5540\n"
     ]
    },
    {
     "name": "stderr",
     "output_type": "stream",
     "text": [
      "[I 2025-08-17 10:44:34,560] Trial 2 finished with value: 13.69343376159668 and parameters: {'hidden_dim': 437, 'nhead': 4, 'num_layers': 1, 'lr': 0.0004059611610484307, 'weight_decay': 3.752055855124284e-05}. Best is trial 2 with value: 13.69343376159668.\n"
     ]
    },
    {
     "name": "stdout",
     "output_type": "stream",
     "text": [
      "Epoch 16: Train Huber=1.9406, Train MSE=11.1862, PC=0.6299 | Val MSE=13.7194, PC=0.5923\n",
      "Early stopping\n",
      "\n",
      "[trial 3] build loaders...\n",
      "Epoch 01: Train Huber=2.9589, Train MSE=18.4349, PC=0.2750 | Val MSE=15.2676, PC=0.5087\n",
      "Epoch 02: Train Huber=2.5344, Train MSE=15.1351, PC=0.4338 | Val MSE=16.3013, PC=0.5217\n",
      "Epoch 03: Train Huber=2.3246, Train MSE=13.7652, PC=0.5012 | Val MSE=20.1225, PC=0.4826\n",
      "Epoch 04: Train Huber=2.3885, Train MSE=14.0991, PC=0.4857 | Val MSE=17.3084, PC=0.4732\n",
      "Epoch 05: Train Huber=2.3062, Train MSE=13.8813, PC=0.5015 | Val MSE=18.3372, PC=0.4983\n",
      "Epoch 06: Train Huber=2.2913, Train MSE=13.3544, PC=0.5046 | Val MSE=13.9068, PC=0.5694\n",
      "Epoch 07: Train Huber=2.2719, Train MSE=13.3491, PC=0.5314 | Val MSE=14.7076, PC=0.5746\n",
      "Epoch 08: Train Huber=2.2494, Train MSE=13.0908, PC=0.5272 | Val MSE=14.8117, PC=0.5474\n",
      "Epoch 09: Train Huber=2.1792, Train MSE=12.8873, PC=0.5503 | Val MSE=16.9382, PC=0.6029\n",
      "Epoch 10: Train Huber=2.1435, Train MSE=13.0548, PC=0.5585 | Val MSE=17.8926, PC=0.5180\n",
      "Epoch 11: Train Huber=2.0319, Train MSE=11.3868, PC=0.6104 | Val MSE=16.2701, PC=0.5293\n",
      "Epoch 12: Train Huber=1.9688, Train MSE=11.1942, PC=0.6297 | Val MSE=20.0897, PC=0.3130\n",
      "Epoch 13: Train Huber=1.9214, Train MSE=10.6047, PC=0.6420 | Val MSE=17.1421, PC=0.4310\n",
      "Epoch 14: Train Huber=1.8604, Train MSE=10.0419, PC=0.6613 | Val MSE=15.7467, PC=0.5987\n",
      "Epoch 15: Train Huber=1.6437, Train MSE=8.6472, PC=0.7256 | Val MSE=14.4870, PC=0.5747\n"
     ]
    },
    {
     "name": "stderr",
     "output_type": "stream",
     "text": [
      "[I 2025-08-17 10:45:16,058] Trial 3 finished with value: 13.906835556030273 and parameters: {'hidden_dim': 257, 'nhead': 8, 'num_layers': 1, 'lr': 0.0003839629299804173, 'weight_decay': 1.2562773503807034e-05}. Best is trial 2 with value: 13.69343376159668.\n"
     ]
    },
    {
     "name": "stdout",
     "output_type": "stream",
     "text": [
      "Epoch 16: Train Huber=1.7344, Train MSE=9.0716, PC=0.7023 | Val MSE=14.5939, PC=0.5614\n",
      "Early stopping\n",
      "\n",
      "[trial 4] build loaders...\n",
      "Epoch 01: Train Huber=3.5816, Train MSE=23.6517, PC=0.0172 | Val MSE=21.8707, PC=-0.0210\n",
      "Epoch 02: Train Huber=3.3334, Train MSE=20.2707, PC=-0.0866 | Val MSE=32.2241, PC=-0.1012\n",
      "Epoch 03: Train Huber=3.3555, Train MSE=21.4541, PC=-0.0095 | Val MSE=21.4819, PC=-0.2251\n",
      "Epoch 04: Train Huber=3.1546, Train MSE=18.1556, PC=0.0262 | Val MSE=25.4871, PC=-0.0782\n",
      "Epoch 05: Train Huber=3.4088, Train MSE=20.4826, PC=-0.0599 | Val MSE=21.9032, PC=0.0000\n",
      "Epoch 06: Train Huber=3.2062, Train MSE=18.8400, PC=-0.0546 | Val MSE=20.4523, PC=0.0010\n",
      "Epoch 07: Train Huber=3.3587, Train MSE=20.7448, PC=-0.0032 | Val MSE=22.2152, PC=0.0000\n",
      "Epoch 08: Train Huber=3.1694, Train MSE=18.5488, PC=0.0254 | Val MSE=25.3560, PC=0.0000\n",
      "Epoch 09: Train Huber=3.1657, Train MSE=18.6518, PC=-0.0429 | Val MSE=23.4326, PC=-0.0000\n",
      "Epoch 10: Train Huber=3.1692, Train MSE=18.5741, PC=0.0502 | Val MSE=24.2561, PC=-0.0082\n",
      "Epoch 11: Train Huber=3.1936, Train MSE=18.5728, PC=-0.1132 | Val MSE=22.0781, PC=-0.1853\n",
      "Epoch 12: Train Huber=3.1715, Train MSE=18.5394, PC=0.0255 | Val MSE=21.0475, PC=0.0229\n",
      "Epoch 13: Train Huber=3.2407, Train MSE=19.4613, PC=-0.0342 | Val MSE=20.7586, PC=0.0581\n",
      "Epoch 14: Train Huber=3.2220, Train MSE=18.9110, PC=-0.0608 | Val MSE=22.4046, PC=-0.2029\n",
      "Epoch 15: Train Huber=3.2237, Train MSE=19.0827, PC=0.0491 | Val MSE=21.8018, PC=0.0784\n"
     ]
    },
    {
     "name": "stderr",
     "output_type": "stream",
     "text": [
      "[I 2025-08-17 10:46:54,146] Trial 4 finished with value: 20.45233917236328 and parameters: {'hidden_dim': 268, 'nhead': 4, 'num_layers': 3, 'lr': 0.0015304852121831463, 'weight_decay': 1.3783237455007196e-06}. Best is trial 2 with value: 13.69343376159668.\n"
     ]
    },
    {
     "name": "stdout",
     "output_type": "stream",
     "text": [
      "Epoch 16: Train Huber=3.1401, Train MSE=18.0814, PC=-0.0039 | Val MSE=22.7503, PC=0.0234\n",
      "Early stopping\n",
      "\n",
      "[trial 5] build loaders...\n",
      "Epoch 01: Train Huber=3.7302, Train MSE=27.5494, PC=0.0586 | Val MSE=20.8259, PC=0.3786\n",
      "Epoch 02: Train Huber=3.9299, Train MSE=27.6686, PC=0.0160 | Val MSE=25.1870, PC=-0.0632\n",
      "Epoch 03: Train Huber=3.4223, Train MSE=22.6848, PC=-0.0206 | Val MSE=45.5426, PC=-0.0274\n",
      "Epoch 04: Train Huber=3.4746, Train MSE=22.4702, PC=-0.0588 | Val MSE=22.7333, PC=-0.0288\n",
      "Epoch 05: Train Huber=3.3876, Train MSE=21.6046, PC=-0.0525 | Val MSE=20.5846, PC=-0.0301\n",
      "Epoch 06: Train Huber=3.3079, Train MSE=20.1521, PC=0.0477 | Val MSE=31.9749, PC=-0.0102\n",
      "Epoch 07: Train Huber=3.5069, Train MSE=23.6393, PC=-0.0403 | Val MSE=21.6230, PC=0.0000\n",
      "Epoch 08: Train Huber=3.4652, Train MSE=22.7969, PC=-0.0624 | Val MSE=24.3050, PC=0.0000\n",
      "Epoch 09: Train Huber=3.4640, Train MSE=22.4270, PC=-0.2289 | Val MSE=20.2760, PC=0.0000\n",
      "Epoch 10: Train Huber=3.2261, Train MSE=19.2849, PC=0.0730 | Val MSE=37.3449, PC=0.0045\n",
      "Epoch 11: Train Huber=3.4299, Train MSE=22.5090, PC=-0.0273 | Val MSE=22.8600, PC=0.0000\n",
      "Epoch 12: Train Huber=3.4520, Train MSE=21.4979, PC=-0.0309 | Val MSE=20.3315, PC=0.3035\n",
      "Epoch 13: Train Huber=3.2183, Train MSE=18.9368, PC=-0.0626 | Val MSE=20.2708, PC=0.1466\n",
      "Epoch 14: Train Huber=3.2715, Train MSE=19.5283, PC=-0.0210 | Val MSE=27.4115, PC=-0.0000\n",
      "Epoch 15: Train Huber=3.1741, Train MSE=18.2722, PC=0.0137 | Val MSE=21.8475, PC=0.0000\n",
      "Epoch 16: Train Huber=3.4203, Train MSE=20.9653, PC=-0.0742 | Val MSE=21.3285, PC=-0.0000\n",
      "Epoch 17: Train Huber=3.4648, Train MSE=22.2658, PC=-0.0047 | Val MSE=22.1687, PC=0.0108\n",
      "Epoch 18: Train Huber=3.2680, Train MSE=19.4381, PC=-0.1185 | Val MSE=27.8486, PC=0.1051\n",
      "Epoch 19: Train Huber=3.2326, Train MSE=19.0781, PC=-0.0538 | Val MSE=22.5657, PC=0.0000\n",
      "Epoch 20: Train Huber=3.2172, Train MSE=19.4790, PC=-0.0007 | Val MSE=30.7755, PC=0.0000\n",
      "Epoch 21: Train Huber=3.3678, Train MSE=20.5606, PC=-0.0827 | Val MSE=20.9563, PC=0.0000\n",
      "Epoch 22: Train Huber=3.3077, Train MSE=21.0804, PC=-0.0264 | Val MSE=20.9342, PC=-0.0092\n"
     ]
    },
    {
     "name": "stderr",
     "output_type": "stream",
     "text": [
      "[I 2025-08-17 10:49:56,549] Trial 5 finished with value: 20.270835876464844 and parameters: {'hidden_dim': 336, 'nhead': 4, 'num_layers': 4, 'lr': 0.00853618986286683, 'weight_decay': 0.0002661901888489054}. Best is trial 2 with value: 13.69343376159668.\n"
     ]
    },
    {
     "name": "stdout",
     "output_type": "stream",
     "text": [
      "Epoch 23: Train Huber=3.2540, Train MSE=19.9765, PC=0.0405 | Val MSE=20.4314, PC=0.0000\n",
      "Early stopping\n",
      "\n",
      "[trial 6] build loaders...\n",
      "Epoch 01: Train Huber=3.0366, Train MSE=19.9418, PC=0.2520 | Val MSE=17.4077, PC=0.4492\n",
      "Epoch 02: Train Huber=2.5866, Train MSE=15.4780, PC=0.4074 | Val MSE=18.2058, PC=0.5463\n",
      "Epoch 03: Train Huber=2.3563, Train MSE=14.2915, PC=0.4824 | Val MSE=15.1378, PC=0.5541\n",
      "Epoch 04: Train Huber=2.5474, Train MSE=15.9338, PC=0.4155 | Val MSE=19.2251, PC=0.5281\n",
      "Epoch 05: Train Huber=2.3145, Train MSE=13.2780, PC=0.5128 | Val MSE=17.7538, PC=0.4937\n",
      "Epoch 06: Train Huber=2.4212, Train MSE=14.2892, PC=0.4753 | Val MSE=15.5946, PC=0.5302\n",
      "Epoch 07: Train Huber=2.3084, Train MSE=14.0105, PC=0.4988 | Val MSE=16.6910, PC=0.4873\n",
      "Epoch 08: Train Huber=2.3378, Train MSE=13.3171, PC=0.5110 | Val MSE=13.7064, PC=0.5904\n",
      "Epoch 09: Train Huber=2.2732, Train MSE=13.3665, PC=0.5141 | Val MSE=15.1296, PC=0.5730\n",
      "Epoch 10: Train Huber=2.1768, Train MSE=12.7517, PC=0.5493 | Val MSE=14.8495, PC=0.5909\n",
      "Epoch 11: Train Huber=2.1405, Train MSE=12.5380, PC=0.5647 | Val MSE=16.5060, PC=0.5967\n",
      "Epoch 12: Train Huber=2.0921, Train MSE=12.2166, PC=0.5737 | Val MSE=16.3121, PC=0.4734\n",
      "Epoch 13: Train Huber=2.0848, Train MSE=11.8837, PC=0.5940 | Val MSE=15.4647, PC=0.5149\n",
      "Epoch 14: Train Huber=1.9072, Train MSE=10.8735, PC=0.6287 | Val MSE=16.3182, PC=0.5133\n",
      "Epoch 15: Train Huber=2.0196, Train MSE=12.0429, PC=0.5908 | Val MSE=15.5422, PC=0.5485\n",
      "Epoch 16: Train Huber=1.8263, Train MSE=10.1452, PC=0.6602 | Val MSE=17.6573, PC=0.5174\n",
      "Epoch 17: Train Huber=1.8338, Train MSE=9.7527, PC=0.6765 | Val MSE=13.4411, PC=0.6208\n",
      "Epoch 18: Train Huber=1.7539, Train MSE=9.6723, PC=0.6814 | Val MSE=13.8512, PC=0.6339\n",
      "Epoch 19: Train Huber=1.5663, Train MSE=8.4778, PC=0.7253 | Val MSE=13.8657, PC=0.6299\n",
      "Epoch 20: Train Huber=1.6248, Train MSE=8.6855, PC=0.7219 | Val MSE=13.4304, PC=0.5960\n",
      "Epoch 21: Train Huber=1.5095, Train MSE=7.7370, PC=0.7538 | Val MSE=15.0903, PC=0.5844\n",
      "Epoch 22: Train Huber=1.5213, Train MSE=7.7232, PC=0.7532 | Val MSE=13.2964, PC=0.6352\n",
      "Epoch 23: Train Huber=1.3592, Train MSE=7.0432, PC=0.7817 | Val MSE=14.7952, PC=0.6199\n",
      "Epoch 24: Train Huber=1.4138, Train MSE=7.1563, PC=0.7753 | Val MSE=16.7608, PC=0.5851\n",
      "Epoch 25: Train Huber=1.2779, Train MSE=6.1740, PC=0.8106 | Val MSE=17.1200, PC=0.5021\n",
      "Epoch 26: Train Huber=1.3153, Train MSE=6.5934, PC=0.7950 | Val MSE=13.6405, PC=0.6544\n",
      "Epoch 27: Train Huber=1.2017, Train MSE=5.8893, PC=0.8187 | Val MSE=14.9873, PC=0.6104\n",
      "Epoch 28: Train Huber=1.2345, Train MSE=6.0387, PC=0.8166 | Val MSE=14.6044, PC=0.5814\n",
      "Epoch 29: Train Huber=1.0809, Train MSE=4.8183, PC=0.8566 | Val MSE=14.2031, PC=0.6208\n",
      "Epoch 30: Train Huber=1.0334, Train MSE=4.6990, PC=0.8579 | Val MSE=14.3786, PC=0.5989\n",
      "Epoch 31: Train Huber=0.9164, Train MSE=3.8491, PC=0.8847 | Val MSE=15.4032, PC=0.5835\n"
     ]
    },
    {
     "name": "stderr",
     "output_type": "stream",
     "text": [
      "[I 2025-08-17 10:52:20,447] Trial 6 finished with value: 13.296364784240723 and parameters: {'hidden_dim': 200, 'nhead': 8, 'num_layers': 2, 'lr': 0.00017541893487450815, 'weight_decay': 3.058656666978529e-05}. Best is trial 6 with value: 13.296364784240723.\n"
     ]
    },
    {
     "name": "stdout",
     "output_type": "stream",
     "text": [
      "Epoch 32: Train Huber=0.8646, Train MSE=3.9510, PC=0.8829 | Val MSE=16.9874, PC=0.5974\n",
      "Early stopping\n",
      "\n",
      "[trial 7] build loaders...\n",
      "Epoch 01: Train Huber=3.1937, Train MSE=20.8671, PC=0.1952 | Val MSE=16.3136, PC=0.5364\n",
      "Epoch 02: Train Huber=2.6710, Train MSE=16.7615, PC=0.3497 | Val MSE=14.4457, PC=0.5780\n",
      "Epoch 03: Train Huber=2.3918, Train MSE=13.9986, PC=0.4779 | Val MSE=17.5478, PC=0.4721\n",
      "Epoch 04: Train Huber=2.3964, Train MSE=14.3319, PC=0.4784 | Val MSE=18.6671, PC=0.4568\n",
      "Epoch 05: Train Huber=2.4420, Train MSE=15.1286, PC=0.4471 | Val MSE=18.9888, PC=0.3462\n",
      "Epoch 06: Train Huber=2.7639, Train MSE=16.5793, PC=0.3269 | Val MSE=19.8761, PC=0.5349\n",
      "Epoch 07: Train Huber=2.5764, Train MSE=14.9664, PC=0.4148 | Val MSE=22.3091, PC=0.0885\n",
      "Epoch 08: Train Huber=2.6132, Train MSE=15.7309, PC=0.3908 | Val MSE=18.1696, PC=0.4292\n",
      "Epoch 09: Train Huber=2.3939, Train MSE=14.0310, PC=0.4763 | Val MSE=16.6085, PC=0.5218\n",
      "Epoch 10: Train Huber=2.4301, Train MSE=14.8856, PC=0.4729 | Val MSE=19.6348, PC=0.3842\n",
      "Epoch 11: Train Huber=2.5681, Train MSE=16.3197, PC=0.3901 | Val MSE=14.4512, PC=0.5410\n"
     ]
    },
    {
     "name": "stderr",
     "output_type": "stream",
     "text": [
      "[I 2025-08-17 10:53:34,418] Trial 7 finished with value: 14.445747375488281 and parameters: {'hidden_dim': 79, 'nhead': 4, 'num_layers': 3, 'lr': 0.0004201672054372534, 'weight_decay': 3.632486956676606e-05}. Best is trial 6 with value: 13.296364784240723.\n"
     ]
    },
    {
     "name": "stdout",
     "output_type": "stream",
     "text": [
      "Epoch 12: Train Huber=2.3637, Train MSE=13.8502, PC=0.4809 | Val MSE=17.9482, PC=0.4153\n",
      "Early stopping\n",
      "\n",
      "[trial 8] build loaders...\n",
      "Epoch 01: Train Huber=3.6416, Train MSE=24.8154, PC=-0.0460 | Val MSE=42.9097, PC=0.0398\n",
      "Epoch 02: Train Huber=3.5660, Train MSE=22.9497, PC=0.0995 | Val MSE=25.4848, PC=-0.0678\n",
      "Epoch 03: Train Huber=3.3737, Train MSE=21.2529, PC=-0.0115 | Val MSE=26.6536, PC=0.0552\n",
      "Epoch 04: Train Huber=3.4680, Train MSE=22.2441, PC=-0.0386 | Val MSE=25.2889, PC=-0.0637\n",
      "Epoch 05: Train Huber=3.2990, Train MSE=20.9621, PC=0.0157 | Val MSE=27.6779, PC=0.0092\n",
      "Epoch 06: Train Huber=3.2218, Train MSE=20.2021, PC=-0.0399 | Val MSE=29.4856, PC=0.0000\n",
      "Epoch 07: Train Huber=3.3160, Train MSE=20.3234, PC=-0.0387 | Val MSE=21.7306, PC=-0.0000\n",
      "Epoch 08: Train Huber=3.2670, Train MSE=20.3885, PC=0.0347 | Val MSE=20.2888, PC=0.0615\n",
      "Epoch 09: Train Huber=3.2068, Train MSE=18.8723, PC=-0.0291 | Val MSE=27.9724, PC=0.0000\n",
      "Epoch 10: Train Huber=3.1838, Train MSE=18.6726, PC=0.0053 | Val MSE=31.2191, PC=-0.0615\n",
      "Epoch 11: Train Huber=3.3631, Train MSE=20.7250, PC=0.0025 | Val MSE=23.3793, PC=-0.0092\n",
      "Epoch 12: Train Huber=3.2027, Train MSE=18.9161, PC=0.0349 | Val MSE=20.2754, PC=0.0000\n",
      "Epoch 13: Train Huber=3.2827, Train MSE=19.7718, PC=0.0037 | Val MSE=20.4110, PC=0.0615\n",
      "Epoch 14: Train Huber=3.3078, Train MSE=20.6843, PC=-0.0014 | Val MSE=25.9967, PC=0.0000\n",
      "Epoch 15: Train Huber=3.2686, Train MSE=18.9816, PC=-0.0994 | Val MSE=21.4142, PC=0.0615\n",
      "Epoch 16: Train Huber=3.2103, Train MSE=18.9407, PC=-0.0358 | Val MSE=23.2976, PC=-0.0045\n",
      "Epoch 17: Train Huber=3.3305, Train MSE=20.4537, PC=-0.1278 | Val MSE=20.5161, PC=0.0000\n",
      "Epoch 18: Train Huber=3.1600, Train MSE=18.5858, PC=0.0762 | Val MSE=22.0688, PC=0.0000\n",
      "Epoch 19: Train Huber=3.3152, Train MSE=20.0423, PC=0.0097 | Val MSE=21.3282, PC=0.0615\n",
      "Epoch 20: Train Huber=3.2048, Train MSE=18.3701, PC=-0.0368 | Val MSE=20.3648, PC=-0.0615\n",
      "Epoch 21: Train Huber=3.2141, Train MSE=18.5292, PC=-0.0832 | Val MSE=22.8452, PC=0.0000\n"
     ]
    },
    {
     "name": "stderr",
     "output_type": "stream",
     "text": [
      "[I 2025-08-17 10:56:33,449] Trial 8 finished with value: 20.27543830871582 and parameters: {'hidden_dim': 309, 'nhead': 8, 'num_layers': 4, 'lr': 0.007568292060167619, 'weight_decay': 0.00048359527764659497}. Best is trial 6 with value: 13.296364784240723.\n"
     ]
    },
    {
     "name": "stdout",
     "output_type": "stream",
     "text": [
      "Epoch 22: Train Huber=3.1676, Train MSE=18.3609, PC=-0.0546 | Val MSE=24.7973, PC=-0.0000\n",
      "Early stopping\n",
      "\n",
      "[trial 9] build loaders...\n",
      "Epoch 01: Train Huber=3.2292, Train MSE=22.8786, PC=0.1075 | Val MSE=16.4633, PC=0.4741\n",
      "Epoch 02: Train Huber=2.5368, Train MSE=15.2410, PC=0.4248 | Val MSE=15.8577, PC=0.5239\n",
      "Epoch 03: Train Huber=2.4359, Train MSE=14.3073, PC=0.4580 | Val MSE=14.7193, PC=0.5235\n",
      "Epoch 04: Train Huber=2.3784, Train MSE=14.0731, PC=0.4792 | Val MSE=15.1507, PC=0.5658\n",
      "Epoch 05: Train Huber=2.2574, Train MSE=13.6328, PC=0.5101 | Val MSE=15.2840, PC=0.5059\n",
      "Epoch 06: Train Huber=2.3791, Train MSE=13.8540, PC=0.4836 | Val MSE=15.2234, PC=0.5659\n",
      "Epoch 07: Train Huber=2.2486, Train MSE=13.1584, PC=0.5318 | Val MSE=13.8917, PC=0.5974\n",
      "Epoch 08: Train Huber=2.1501, Train MSE=12.5617, PC=0.5662 | Val MSE=14.7494, PC=0.6234\n",
      "Epoch 09: Train Huber=2.1190, Train MSE=12.3774, PC=0.5692 | Val MSE=15.9524, PC=0.5191\n",
      "Epoch 10: Train Huber=2.0728, Train MSE=11.6908, PC=0.5864 | Val MSE=14.1993, PC=0.6303\n",
      "Epoch 11: Train Huber=1.9788, Train MSE=11.7915, PC=0.5963 | Val MSE=13.4052, PC=0.6462\n",
      "Epoch 12: Train Huber=1.8982, Train MSE=10.8003, PC=0.6305 | Val MSE=13.7443, PC=0.6052\n",
      "Epoch 13: Train Huber=1.8059, Train MSE=10.6026, PC=0.6460 | Val MSE=13.9845, PC=0.6077\n",
      "Epoch 14: Train Huber=1.8380, Train MSE=10.3557, PC=0.6489 | Val MSE=12.9556, PC=0.6333\n",
      "Epoch 15: Train Huber=1.7092, Train MSE=9.4936, PC=0.6845 | Val MSE=15.4612, PC=0.6071\n",
      "Epoch 16: Train Huber=1.7845, Train MSE=10.2399, PC=0.6643 | Val MSE=13.6351, PC=0.6647\n",
      "Epoch 17: Train Huber=1.5742, Train MSE=8.6746, PC=0.7174 | Val MSE=16.3516, PC=0.5191\n",
      "Epoch 18: Train Huber=1.6862, Train MSE=8.9736, PC=0.7071 | Val MSE=12.9702, PC=0.6223\n",
      "Epoch 19: Train Huber=1.5853, Train MSE=8.6794, PC=0.7227 | Val MSE=14.1258, PC=0.6925\n",
      "Epoch 20: Train Huber=1.4594, Train MSE=7.4818, PC=0.7609 | Val MSE=11.9191, PC=0.6824\n",
      "Epoch 21: Train Huber=1.4446, Train MSE=7.7723, PC=0.7535 | Val MSE=13.0378, PC=0.6843\n",
      "Epoch 22: Train Huber=1.3718, Train MSE=7.0097, PC=0.7776 | Val MSE=14.1936, PC=0.6739\n",
      "Epoch 23: Train Huber=1.2977, Train MSE=6.5615, PC=0.7938 | Val MSE=12.4168, PC=0.6620\n",
      "Epoch 24: Train Huber=1.1312, Train MSE=5.5377, PC=0.8286 | Val MSE=15.4532, PC=0.6839\n",
      "Epoch 25: Train Huber=1.2250, Train MSE=5.6672, PC=0.8253 | Val MSE=11.6350, PC=0.6951\n",
      "Epoch 26: Train Huber=1.0968, Train MSE=4.9917, PC=0.8479 | Val MSE=13.5608, PC=0.6907\n",
      "Epoch 27: Train Huber=1.0236, Train MSE=4.8054, PC=0.8543 | Val MSE=14.1554, PC=0.6875\n",
      "Epoch 28: Train Huber=1.0506, Train MSE=4.6850, PC=0.8583 | Val MSE=13.6595, PC=0.6801\n",
      "Epoch 29: Train Huber=0.9461, Train MSE=4.1014, PC=0.8769 | Val MSE=13.9628, PC=0.6883\n",
      "Epoch 30: Train Huber=0.9464, Train MSE=4.3076, PC=0.8719 | Val MSE=13.0568, PC=0.6885\n",
      "Epoch 31: Train Huber=0.8648, Train MSE=3.7619, PC=0.8881 | Val MSE=16.7183, PC=0.6953\n",
      "Epoch 32: Train Huber=0.8523, Train MSE=3.5542, PC=0.8938 | Val MSE=13.8192, PC=0.7030\n",
      "Epoch 33: Train Huber=0.7962, Train MSE=3.3821, PC=0.9003 | Val MSE=12.9234, PC=0.6863\n",
      "Epoch 34: Train Huber=0.8197, Train MSE=3.4116, PC=0.8992 | Val MSE=13.5288, PC=0.6610\n"
     ]
    },
    {
     "name": "stderr",
     "output_type": "stream",
     "text": [
      "[I 2025-08-17 10:58:01,775] Trial 9 finished with value: 11.634990692138672 and parameters: {'hidden_dim': 332, 'nhead': 4, 'num_layers': 1, 'lr': 0.00012315571723666037, 'weight_decay': 9.462175356461487e-06}. Best is trial 9 with value: 11.634990692138672.\n"
     ]
    },
    {
     "name": "stdout",
     "output_type": "stream",
     "text": [
      "Epoch 35: Train Huber=0.7285, Train MSE=3.0296, PC=0.9114 | Val MSE=14.1286, PC=0.6970\n",
      "Early stopping\n",
      "\n",
      "[trial 10] build loaders...\n",
      "Epoch 01: Train Huber=3.6306, Train MSE=24.5395, PC=-0.0827 | Val MSE=22.2282, PC=-0.2067\n",
      "Epoch 02: Train Huber=3.4179, Train MSE=22.1629, PC=-0.0275 | Val MSE=33.4494, PC=-0.2523\n",
      "Epoch 03: Train Huber=3.3218, Train MSE=20.3584, PC=0.0471 | Val MSE=34.2782, PC=0.1217\n",
      "Epoch 04: Train Huber=3.3579, Train MSE=20.9519, PC=-0.0535 | Val MSE=21.6174, PC=0.0120\n",
      "Epoch 05: Train Huber=3.2731, Train MSE=20.3432, PC=0.0294 | Val MSE=20.5876, PC=0.0548\n",
      "Epoch 06: Train Huber=3.3366, Train MSE=20.4306, PC=-0.0314 | Val MSE=21.8485, PC=-0.0419\n",
      "Epoch 07: Train Huber=3.2011, Train MSE=18.8484, PC=0.0118 | Val MSE=27.3242, PC=-0.0246\n",
      "Epoch 08: Train Huber=3.3637, Train MSE=20.2471, PC=-0.1141 | Val MSE=21.2888, PC=-0.2894\n",
      "Epoch 09: Train Huber=3.1436, Train MSE=17.9377, PC=-0.0294 | Val MSE=21.6159, PC=-0.0165\n",
      "Epoch 10: Train Huber=3.1833, Train MSE=18.5200, PC=-0.0291 | Val MSE=23.0392, PC=-0.0757\n",
      "Epoch 11: Train Huber=3.1836, Train MSE=18.2273, PC=-0.1002 | Val MSE=20.8981, PC=0.0695\n",
      "Epoch 12: Train Huber=3.2681, Train MSE=20.2783, PC=0.0743 | Val MSE=20.2990, PC=-0.0191\n",
      "Epoch 13: Train Huber=3.3339, Train MSE=20.0075, PC=-0.0859 | Val MSE=20.2710, PC=-0.3519\n",
      "Epoch 14: Train Huber=3.1785, Train MSE=19.2358, PC=0.0314 | Val MSE=20.9159, PC=0.4199\n",
      "Epoch 15: Train Huber=3.1532, Train MSE=18.1961, PC=0.0248 | Val MSE=22.5400, PC=0.0135\n",
      "Epoch 16: Train Huber=3.1658, Train MSE=18.5421, PC=0.0245 | Val MSE=20.3046, PC=0.4410\n",
      "Epoch 17: Train Huber=3.1974, Train MSE=18.8355, PC=-0.0036 | Val MSE=23.0520, PC=0.4611\n",
      "Epoch 18: Train Huber=3.1877, Train MSE=18.6850, PC=-0.0607 | Val MSE=20.6973, PC=0.4207\n",
      "Epoch 19: Train Huber=3.1296, Train MSE=18.2427, PC=0.0668 | Val MSE=22.0836, PC=-0.0882\n",
      "Epoch 20: Train Huber=3.3253, Train MSE=20.7716, PC=0.0480 | Val MSE=21.0675, PC=0.1316\n",
      "Epoch 21: Train Huber=3.1509, Train MSE=18.3134, PC=0.0586 | Val MSE=20.8180, PC=0.1220\n",
      "Epoch 22: Train Huber=3.2362, Train MSE=18.8425, PC=-0.0178 | Val MSE=27.4824, PC=0.1050\n"
     ]
    },
    {
     "name": "stderr",
     "output_type": "stream",
     "text": [
      "[I 2025-08-17 10:59:45,492] Trial 10 finished with value: 20.27104377746582 and parameters: {'hidden_dim': 492, 'nhead': 8, 'num_layers': 2, 'lr': 0.0019036906911441944, 'weight_decay': 6.577496589979122e-06}. Best is trial 9 with value: 11.634990692138672.\n"
     ]
    },
    {
     "name": "stdout",
     "output_type": "stream",
     "text": [
      "Epoch 23: Train Huber=3.1671, Train MSE=18.7386, PC=0.0574 | Val MSE=26.0075, PC=0.0378\n",
      "Early stopping\n",
      "\n",
      "[trial 11] build loaders...\n",
      "Epoch 01: Train Huber=2.9205, Train MSE=19.4492, PC=0.2437 | Val MSE=25.9493, PC=0.4079\n",
      "Epoch 02: Train Huber=2.5648, Train MSE=15.5008, PC=0.4018 | Val MSE=16.5741, PC=0.4396\n",
      "Epoch 03: Train Huber=2.3960, Train MSE=14.9505, PC=0.4564 | Val MSE=21.1240, PC=0.5222\n",
      "Epoch 04: Train Huber=2.3631, Train MSE=14.0320, PC=0.4797 | Val MSE=15.9758, PC=0.5197\n",
      "Epoch 05: Train Huber=2.4586, Train MSE=15.3187, PC=0.4439 | Val MSE=15.3036, PC=0.4978\n",
      "Epoch 06: Train Huber=2.2665, Train MSE=13.8347, PC=0.5021 | Val MSE=16.9957, PC=0.6025\n",
      "Epoch 07: Train Huber=2.3009, Train MSE=13.9611, PC=0.4962 | Val MSE=16.3907, PC=0.5033\n",
      "Epoch 08: Train Huber=2.2979, Train MSE=13.8752, PC=0.5051 | Val MSE=19.5812, PC=0.5219\n",
      "Epoch 09: Train Huber=2.2961, Train MSE=13.5396, PC=0.5070 | Val MSE=19.7668, PC=0.5628\n",
      "Epoch 10: Train Huber=2.1666, Train MSE=12.8264, PC=0.5480 | Val MSE=14.8839, PC=0.5459\n",
      "Epoch 11: Train Huber=2.1408, Train MSE=12.3913, PC=0.5629 | Val MSE=15.0028, PC=0.5380\n",
      "Epoch 12: Train Huber=2.1158, Train MSE=12.1023, PC=0.5686 | Val MSE=14.7957, PC=0.5396\n",
      "Epoch 13: Train Huber=2.0351, Train MSE=11.5833, PC=0.5972 | Val MSE=13.6368, PC=0.5891\n",
      "Epoch 14: Train Huber=2.0442, Train MSE=11.9239, PC=0.5885 | Val MSE=15.0737, PC=0.5264\n",
      "Epoch 15: Train Huber=1.9480, Train MSE=11.0778, PC=0.6215 | Val MSE=14.9965, PC=0.5774\n",
      "Epoch 16: Train Huber=1.9299, Train MSE=11.0161, PC=0.6234 | Val MSE=16.6103, PC=0.4924\n",
      "Epoch 17: Train Huber=1.8777, Train MSE=10.4719, PC=0.6455 | Val MSE=16.7490, PC=0.6064\n",
      "Epoch 18: Train Huber=1.7495, Train MSE=9.3432, PC=0.6933 | Val MSE=14.7319, PC=0.5594\n",
      "Epoch 19: Train Huber=1.6762, Train MSE=9.3426, PC=0.6910 | Val MSE=16.2177, PC=0.5174\n",
      "Epoch 20: Train Huber=1.6683, Train MSE=8.4503, PC=0.7330 | Val MSE=14.5032, PC=0.5932\n",
      "Epoch 21: Train Huber=1.4885, Train MSE=7.6254, PC=0.7555 | Val MSE=14.9075, PC=0.5690\n",
      "Epoch 22: Train Huber=1.5313, Train MSE=7.7625, PC=0.7530 | Val MSE=15.0108, PC=0.5520\n"
     ]
    },
    {
     "name": "stderr",
     "output_type": "stream",
     "text": [
      "[I 2025-08-17 11:01:33,006] Trial 11 finished with value: 13.636795043945312 and parameters: {'hidden_dim': 180, 'nhead': 8, 'num_layers': 2, 'lr': 0.00011745878674220751, 'weight_decay': 8.533716477932941e-05}. Best is trial 9 with value: 11.634990692138672.\n"
     ]
    },
    {
     "name": "stdout",
     "output_type": "stream",
     "text": [
      "Epoch 23: Train Huber=1.4227, Train MSE=7.3380, PC=0.7678 | Val MSE=14.3326, PC=0.6152\n",
      "Early stopping\n",
      "\n",
      "[trial 12] build loaders...\n",
      "Epoch 01: Train Huber=3.2128, Train MSE=20.9846, PC=0.2015 | Val MSE=21.3114, PC=0.4388\n",
      "Epoch 02: Train Huber=2.5023, Train MSE=14.7806, PC=0.4246 | Val MSE=17.6935, PC=0.5036\n",
      "Epoch 03: Train Huber=2.3682, Train MSE=14.1916, PC=0.4727 | Val MSE=16.1756, PC=0.5292\n",
      "Epoch 04: Train Huber=2.4488, Train MSE=14.9996, PC=0.4401 | Val MSE=16.1647, PC=0.4929\n",
      "Epoch 05: Train Huber=2.3433, Train MSE=13.6415, PC=0.4887 | Val MSE=16.6375, PC=0.4878\n",
      "Epoch 06: Train Huber=2.2573, Train MSE=13.4329, PC=0.5121 | Val MSE=18.1006, PC=0.3968\n",
      "Epoch 07: Train Huber=2.2258, Train MSE=13.1164, PC=0.5327 | Val MSE=16.3588, PC=0.5773\n",
      "Epoch 08: Train Huber=2.4930, Train MSE=15.0001, PC=0.4391 | Val MSE=15.8041, PC=0.5289\n",
      "Epoch 09: Train Huber=2.1809, Train MSE=12.8985, PC=0.5480 | Val MSE=19.0581, PC=0.5728\n",
      "Epoch 10: Train Huber=2.1666, Train MSE=12.6172, PC=0.5539 | Val MSE=16.4606, PC=0.4800\n",
      "Epoch 11: Train Huber=2.1033, Train MSE=12.5279, PC=0.5647 | Val MSE=18.6453, PC=0.5161\n",
      "Epoch 12: Train Huber=2.0736, Train MSE=12.3931, PC=0.5690 | Val MSE=15.5228, PC=0.5638\n",
      "Epoch 13: Train Huber=2.0521, Train MSE=11.8259, PC=0.5878 | Val MSE=16.0873, PC=0.5147\n",
      "Epoch 14: Train Huber=1.9796, Train MSE=11.3888, PC=0.6101 | Val MSE=17.4404, PC=0.4717\n",
      "Epoch 15: Train Huber=1.9915, Train MSE=11.2775, PC=0.6094 | Val MSE=18.9749, PC=0.3969\n",
      "Epoch 16: Train Huber=1.8619, Train MSE=10.4508, PC=0.6448 | Val MSE=18.1099, PC=0.5529\n",
      "Epoch 17: Train Huber=1.8427, Train MSE=10.4973, PC=0.6502 | Val MSE=14.6963, PC=0.5987\n",
      "Epoch 18: Train Huber=1.7530, Train MSE=9.4492, PC=0.6919 | Val MSE=15.0148, PC=0.6247\n",
      "Epoch 19: Train Huber=1.7210, Train MSE=9.5696, PC=0.6861 | Val MSE=14.4651, PC=0.5854\n",
      "Epoch 20: Train Huber=1.7259, Train MSE=9.3675, PC=0.7032 | Val MSE=14.4453, PC=0.6632\n",
      "Epoch 21: Train Huber=1.6419, Train MSE=8.5485, PC=0.7213 | Val MSE=15.0534, PC=0.5946\n",
      "Epoch 22: Train Huber=1.4067, Train MSE=7.1990, PC=0.7713 | Val MSE=14.9664, PC=0.5868\n",
      "Epoch 23: Train Huber=1.4256, Train MSE=7.0777, PC=0.7767 | Val MSE=20.8509, PC=0.4238\n",
      "Epoch 24: Train Huber=1.3003, Train MSE=6.2293, PC=0.8065 | Val MSE=19.9495, PC=0.4597\n",
      "Epoch 25: Train Huber=1.2580, Train MSE=6.0866, PC=0.8135 | Val MSE=18.2374, PC=0.4473\n",
      "Epoch 26: Train Huber=1.1351, Train MSE=5.5040, PC=0.8327 | Val MSE=21.3056, PC=0.3554\n",
      "Epoch 27: Train Huber=1.1630, Train MSE=5.1487, PC=0.8435 | Val MSE=18.2839, PC=0.5035\n",
      "Epoch 28: Train Huber=0.9671, Train MSE=4.4855, PC=0.8644 | Val MSE=19.9814, PC=0.5323\n",
      "Epoch 29: Train Huber=0.9694, Train MSE=4.5393, PC=0.8652 | Val MSE=17.6017, PC=0.5330\n"
     ]
    },
    {
     "name": "stderr",
     "output_type": "stream",
     "text": [
      "[I 2025-08-17 11:02:53,212] Trial 12 finished with value: 14.445280075073242 and parameters: {'hidden_dim': 375, 'nhead': 8, 'num_layers': 1, 'lr': 0.00023540312753194602, 'weight_decay': 1.0654865730022553e-05}. Best is trial 9 with value: 11.634990692138672.\n"
     ]
    },
    {
     "name": "stdout",
     "output_type": "stream",
     "text": [
      "Epoch 30: Train Huber=0.9202, Train MSE=4.3107, PC=0.8713 | Val MSE=19.4020, PC=0.5381\n",
      "Early stopping\n",
      "\n",
      "[trial 13] build loaders...\n",
      "Epoch 01: Train Huber=3.5029, Train MSE=22.5413, PC=0.0405 | Val MSE=21.7911, PC=0.4078\n",
      "Epoch 02: Train Huber=3.1736, Train MSE=18.3504, PC=0.0170 | Val MSE=28.1398, PC=0.4223\n",
      "Epoch 03: Train Huber=3.3329, Train MSE=20.4189, PC=0.0522 | Val MSE=20.2769, PC=-0.2300\n",
      "Epoch 04: Train Huber=3.2189, Train MSE=18.8134, PC=-0.0791 | Val MSE=20.6139, PC=0.3341\n",
      "Epoch 05: Train Huber=3.1673, Train MSE=18.4056, PC=-0.0073 | Val MSE=19.1967, PC=0.2647\n",
      "Epoch 06: Train Huber=2.7379, Train MSE=16.4348, PC=0.3446 | Val MSE=24.8927, PC=0.2904\n",
      "Epoch 07: Train Huber=3.1155, Train MSE=20.8241, PC=0.1684 | Val MSE=24.7487, PC=0.0755\n",
      "Epoch 08: Train Huber=3.1107, Train MSE=17.8204, PC=0.1040 | Val MSE=21.0458, PC=0.1398\n",
      "Epoch 09: Train Huber=3.1180, Train MSE=18.2351, PC=0.0542 | Val MSE=22.6333, PC=0.2097\n",
      "Epoch 10: Train Huber=3.1428, Train MSE=19.3810, PC=0.1354 | Val MSE=25.6118, PC=-0.3807\n",
      "Epoch 11: Train Huber=3.3007, Train MSE=19.2399, PC=-0.0705 | Val MSE=20.3480, PC=0.3888\n",
      "Epoch 12: Train Huber=3.2523, Train MSE=19.6849, PC=-0.0222 | Val MSE=22.1088, PC=0.4051\n",
      "Epoch 13: Train Huber=3.1991, Train MSE=19.0272, PC=0.0008 | Val MSE=20.7126, PC=0.4090\n",
      "Epoch 14: Train Huber=3.1188, Train MSE=18.4668, PC=0.1335 | Val MSE=24.9855, PC=0.4000\n"
     ]
    },
    {
     "name": "stderr",
     "output_type": "stream",
     "text": [
      "[I 2025-08-17 11:04:02,560] Trial 13 finished with value: 19.196727752685547 and parameters: {'hidden_dim': 171, 'nhead': 8, 'num_layers': 2, 'lr': 0.000855519010443308, 'weight_decay': 0.00010635074528464759}. Best is trial 9 with value: 11.634990692138672.\n"
     ]
    },
    {
     "name": "stdout",
     "output_type": "stream",
     "text": [
      "Epoch 15: Train Huber=3.1952, Train MSE=18.4873, PC=-0.0465 | Val MSE=21.5546, PC=0.4368\n",
      "Early stopping\n",
      "\n",
      "[trial 14] build loaders...\n",
      "Epoch 01: Train Huber=2.8831, Train MSE=18.8493, PC=0.2680 | Val MSE=18.2630, PC=0.5049\n",
      "Epoch 02: Train Huber=2.5447, Train MSE=15.3373, PC=0.4252 | Val MSE=16.2369, PC=0.4826\n",
      "Epoch 03: Train Huber=2.4405, Train MSE=14.6571, PC=0.4687 | Val MSE=16.5708, PC=0.4271\n",
      "Epoch 04: Train Huber=2.3690, Train MSE=13.7801, PC=0.4959 | Val MSE=15.8472, PC=0.5918\n",
      "Epoch 05: Train Huber=2.3472, Train MSE=14.0705, PC=0.4790 | Val MSE=15.6814, PC=0.5365\n",
      "Epoch 06: Train Huber=2.2400, Train MSE=13.5462, PC=0.5255 | Val MSE=15.2377, PC=0.5322\n",
      "Epoch 07: Train Huber=2.2491, Train MSE=13.1230, PC=0.5269 | Val MSE=14.8306, PC=0.5525\n",
      "Epoch 08: Train Huber=2.1610, Train MSE=12.4671, PC=0.5656 | Val MSE=15.4348, PC=0.5278\n",
      "Epoch 09: Train Huber=2.0401, Train MSE=11.5246, PC=0.6008 | Val MSE=14.5536, PC=0.5870\n",
      "Epoch 10: Train Huber=2.0614, Train MSE=11.8557, PC=0.5860 | Val MSE=15.8755, PC=0.5847\n",
      "Epoch 11: Train Huber=1.9603, Train MSE=11.1595, PC=0.6232 | Val MSE=19.1262, PC=0.4270\n",
      "Epoch 12: Train Huber=1.9083, Train MSE=10.5354, PC=0.6446 | Val MSE=14.6366, PC=0.5813\n",
      "Epoch 13: Train Huber=1.8024, Train MSE=9.8517, PC=0.6746 | Val MSE=19.7330, PC=0.3672\n",
      "Epoch 14: Train Huber=1.7631, Train MSE=10.0214, PC=0.6704 | Val MSE=15.1577, PC=0.5956\n",
      "Epoch 15: Train Huber=1.7232, Train MSE=9.3310, PC=0.6919 | Val MSE=21.9819, PC=0.5466\n",
      "Epoch 16: Train Huber=1.8702, Train MSE=10.3557, PC=0.6599 | Val MSE=15.7510, PC=0.5370\n",
      "Epoch 17: Train Huber=1.5648, Train MSE=8.6642, PC=0.7167 | Val MSE=20.1142, PC=0.5619\n",
      "Epoch 18: Train Huber=1.5972, Train MSE=8.5613, PC=0.7272 | Val MSE=17.4896, PC=0.5743\n"
     ]
    },
    {
     "name": "stderr",
     "output_type": "stream",
     "text": [
      "[I 2025-08-17 11:04:53,245] Trial 14 finished with value: 14.553606986999512 and parameters: {'hidden_dim': 388, 'nhead': 4, 'num_layers': 1, 'lr': 0.00018255433393763343, 'weight_decay': 1.607230106754806e-05}. Best is trial 9 with value: 11.634990692138672.\n"
     ]
    },
    {
     "name": "stdout",
     "output_type": "stream",
     "text": [
      "Epoch 19: Train Huber=1.5315, Train MSE=7.7658, PC=0.7544 | Val MSE=16.8195, PC=0.5644\n",
      "Early stopping\n",
      "\n",
      "[trial 15] build loaders...\n",
      "Epoch 01: Train Huber=2.9316, Train MSE=18.9959, PC=0.2717 | Val MSE=19.6157, PC=0.5741\n",
      "Epoch 02: Train Huber=2.4844, Train MSE=15.0476, PC=0.4329 | Val MSE=17.2012, PC=0.4038\n",
      "Epoch 03: Train Huber=2.6260, Train MSE=15.3679, PC=0.3891 | Val MSE=17.0573, PC=0.4186\n",
      "Epoch 04: Train Huber=2.4728, Train MSE=14.8839, PC=0.4430 | Val MSE=18.4032, PC=0.4817\n",
      "Epoch 05: Train Huber=2.6401, Train MSE=16.5339, PC=0.3772 | Val MSE=20.2402, PC=0.2843\n",
      "Epoch 06: Train Huber=2.7904, Train MSE=16.5410, PC=0.3235 | Val MSE=15.2919, PC=0.5275\n",
      "Epoch 07: Train Huber=2.5155, Train MSE=14.9593, PC=0.4240 | Val MSE=19.6219, PC=0.3827\n",
      "Epoch 08: Train Huber=2.5924, Train MSE=15.1360, PC=0.4148 | Val MSE=15.3644, PC=0.5360\n",
      "Epoch 09: Train Huber=2.6443, Train MSE=15.7956, PC=0.4048 | Val MSE=17.7742, PC=0.4679\n",
      "Epoch 10: Train Huber=2.4231, Train MSE=13.9676, PC=0.4794 | Val MSE=18.9086, PC=0.4081\n",
      "Epoch 11: Train Huber=2.3462, Train MSE=14.1485, PC=0.4796 | Val MSE=20.2999, PC=0.4606\n",
      "Epoch 12: Train Huber=2.6115, Train MSE=15.6711, PC=0.3834 | Val MSE=16.0627, PC=0.5426\n",
      "Epoch 13: Train Huber=2.6459, Train MSE=15.9451, PC=0.3624 | Val MSE=14.3830, PC=0.5604\n",
      "Epoch 14: Train Huber=2.5175, Train MSE=14.7301, PC=0.4459 | Val MSE=20.4181, PC=0.4048\n",
      "Epoch 15: Train Huber=2.4350, Train MSE=14.5509, PC=0.4606 | Val MSE=19.7990, PC=0.3883\n",
      "Epoch 16: Train Huber=2.3934, Train MSE=14.2584, PC=0.4745 | Val MSE=18.5354, PC=0.4042\n",
      "Epoch 17: Train Huber=2.3902, Train MSE=14.3175, PC=0.4625 | Val MSE=18.1934, PC=0.4289\n",
      "Epoch 18: Train Huber=2.3996, Train MSE=13.9109, PC=0.4719 | Val MSE=20.9117, PC=0.4057\n",
      "Epoch 19: Train Huber=2.7524, Train MSE=17.1709, PC=0.3614 | Val MSE=17.9969, PC=0.4963\n",
      "Epoch 20: Train Huber=2.3560, Train MSE=13.7007, PC=0.4929 | Val MSE=17.1844, PC=0.4775\n",
      "Epoch 21: Train Huber=2.4186, Train MSE=14.7623, PC=0.4851 | Val MSE=23.3898, PC=0.4293\n",
      "Epoch 22: Train Huber=2.4158, Train MSE=14.9113, PC=0.4485 | Val MSE=20.4493, PC=0.4062\n"
     ]
    },
    {
     "name": "stderr",
     "output_type": "stream",
     "text": [
      "[I 2025-08-17 11:06:37,610] Trial 15 finished with value: 14.382996559143066 and parameters: {'hidden_dim': 190, 'nhead': 8, 'num_layers': 2, 'lr': 0.0006514930374067479, 'weight_decay': 3.4269912905230855e-06}. Best is trial 9 with value: 11.634990692138672.\n"
     ]
    },
    {
     "name": "stdout",
     "output_type": "stream",
     "text": [
      "Epoch 23: Train Huber=2.3932, Train MSE=14.3336, PC=0.4785 | Val MSE=18.5163, PC=0.4293\n",
      "Early stopping\n",
      "\n",
      "[trial 16] build loaders...\n",
      "Epoch 01: Train Huber=3.4526, Train MSE=22.5136, PC=-0.0405 | Val MSE=26.0503, PC=0.0471\n",
      "Epoch 02: Train Huber=2.9971, Train MSE=17.5785, PC=0.2241 | Val MSE=19.5694, PC=0.5232\n",
      "Epoch 03: Train Huber=2.6671, Train MSE=16.4747, PC=0.3824 | Val MSE=19.5329, PC=0.2658\n",
      "Epoch 04: Train Huber=2.8508, Train MSE=18.1745, PC=0.2848 | Val MSE=19.0669, PC=0.2992\n",
      "Epoch 05: Train Huber=2.8574, Train MSE=18.4032, PC=0.2953 | Val MSE=16.8673, PC=0.4919\n",
      "Epoch 06: Train Huber=2.5784, Train MSE=15.3588, PC=0.4339 | Val MSE=18.6685, PC=0.4688\n",
      "Epoch 07: Train Huber=2.7560, Train MSE=16.8922, PC=0.3509 | Val MSE=33.9102, PC=0.3955\n",
      "Epoch 08: Train Huber=2.5463, Train MSE=15.7577, PC=0.4187 | Val MSE=15.0442, PC=0.5121\n",
      "Epoch 09: Train Huber=2.5070, Train MSE=15.1274, PC=0.4228 | Val MSE=17.4509, PC=0.5085\n",
      "Epoch 10: Train Huber=2.4546, Train MSE=14.1257, PC=0.4827 | Val MSE=16.7691, PC=0.4846\n",
      "Epoch 11: Train Huber=2.5738, Train MSE=16.3473, PC=0.4081 | Val MSE=17.1801, PC=0.5488\n",
      "Epoch 12: Train Huber=2.4286, Train MSE=14.2364, PC=0.4577 | Val MSE=16.0537, PC=0.4972\n",
      "Epoch 13: Train Huber=2.6175, Train MSE=15.1821, PC=0.4027 | Val MSE=20.2220, PC=0.3307\n",
      "Epoch 14: Train Huber=2.3839, Train MSE=14.4794, PC=0.4936 | Val MSE=34.0954, PC=0.2733\n",
      "Epoch 15: Train Huber=2.5367, Train MSE=15.1314, PC=0.4406 | Val MSE=19.6951, PC=0.4125\n",
      "Epoch 16: Train Huber=2.5098, Train MSE=14.5575, PC=0.4579 | Val MSE=21.6137, PC=0.4339\n",
      "Epoch 17: Train Huber=2.3204, Train MSE=13.7760, PC=0.4921 | Val MSE=18.5225, PC=0.4518\n"
     ]
    },
    {
     "name": "stderr",
     "output_type": "stream",
     "text": [
      "[I 2025-08-17 11:07:24,190] Trial 16 finished with value: 15.044203758239746 and parameters: {'hidden_dim': 121, 'nhead': 8, 'num_layers': 1, 'lr': 0.002122329727228719, 'weight_decay': 0.00011462529646364284}. Best is trial 9 with value: 11.634990692138672.\n"
     ]
    },
    {
     "name": "stdout",
     "output_type": "stream",
     "text": [
      "Epoch 18: Train Huber=2.3107, Train MSE=13.8615, PC=0.4921 | Val MSE=16.0363, PC=0.4852\n",
      "Early stopping\n",
      "\n",
      "[trial 17] build loaders...\n",
      "Epoch 01: Train Huber=3.5471, Train MSE=24.2508, PC=0.0361 | Val MSE=21.3228, PC=-0.2784\n",
      "Epoch 02: Train Huber=3.6038, Train MSE=23.4597, PC=-0.0527 | Val MSE=31.6379, PC=0.4236\n",
      "Epoch 03: Train Huber=3.1521, Train MSE=18.9067, PC=0.0821 | Val MSE=23.6396, PC=0.4220\n",
      "Epoch 04: Train Huber=3.3900, Train MSE=20.6930, PC=-0.0987 | Val MSE=28.2133, PC=0.1896\n",
      "Epoch 05: Train Huber=3.3508, Train MSE=20.8235, PC=-0.0694 | Val MSE=20.3615, PC=0.4091\n",
      "Epoch 06: Train Huber=3.2785, Train MSE=19.5872, PC=-0.0389 | Val MSE=22.5069, PC=-0.2797\n",
      "Epoch 07: Train Huber=3.3494, Train MSE=20.7803, PC=0.0030 | Val MSE=21.8319, PC=-0.2031\n",
      "Epoch 08: Train Huber=3.2516, Train MSE=19.9950, PC=0.0283 | Val MSE=20.3727, PC=-0.4300\n",
      "Epoch 09: Train Huber=3.2568, Train MSE=19.0901, PC=-0.0166 | Val MSE=22.5105, PC=0.0456\n",
      "Epoch 10: Train Huber=3.2826, Train MSE=19.4265, PC=-0.0446 | Val MSE=20.4830, PC=-0.2136\n",
      "Epoch 11: Train Huber=3.2851, Train MSE=19.8924, PC=-0.0111 | Val MSE=20.9158, PC=0.1680\n",
      "Epoch 12: Train Huber=3.1639, Train MSE=18.8823, PC=-0.0118 | Val MSE=26.4051, PC=0.1856\n",
      "Epoch 13: Train Huber=3.4638, Train MSE=22.6129, PC=-0.0201 | Val MSE=20.6314, PC=0.3612\n",
      "Epoch 14: Train Huber=3.2551, Train MSE=19.9096, PC=0.0218 | Val MSE=28.7675, PC=-0.2053\n"
     ]
    },
    {
     "name": "stderr",
     "output_type": "stream",
     "text": [
      "[I 2025-08-17 11:08:29,195] Trial 17 finished with value: 20.36153793334961 and parameters: {'hidden_dim': 353, 'nhead': 4, 'num_layers': 2, 'lr': 0.004131731287812954, 'weight_decay': 2.4834734338553117e-05}. Best is trial 9 with value: 11.634990692138672.\n"
     ]
    },
    {
     "name": "stdout",
     "output_type": "stream",
     "text": [
      "Epoch 15: Train Huber=3.3262, Train MSE=21.2013, PC=-0.0111 | Val MSE=20.5058, PC=0.2121\n",
      "Early stopping\n",
      "\n",
      "[trial 18] build loaders...\n",
      "Epoch 01: Train Huber=3.0507, Train MSE=20.6772, PC=0.2135 | Val MSE=16.5927, PC=0.4676\n",
      "Epoch 02: Train Huber=2.5394, Train MSE=15.3256, PC=0.4106 | Val MSE=16.5058, PC=0.5040\n",
      "Epoch 03: Train Huber=2.3650, Train MSE=14.0192, PC=0.4837 | Val MSE=16.1698, PC=0.5486\n",
      "Epoch 04: Train Huber=2.3041, Train MSE=13.5541, PC=0.4992 | Val MSE=14.3429, PC=0.5696\n",
      "Epoch 05: Train Huber=2.2530, Train MSE=13.5840, PC=0.5129 | Val MSE=14.2202, PC=0.5801\n",
      "Epoch 06: Train Huber=2.2301, Train MSE=13.3107, PC=0.5244 | Val MSE=14.7705, PC=0.5472\n",
      "Epoch 07: Train Huber=2.2086, Train MSE=12.9244, PC=0.5301 | Val MSE=15.3495, PC=0.5936\n",
      "Epoch 08: Train Huber=2.2502, Train MSE=12.9020, PC=0.5414 | Val MSE=14.4310, PC=0.5676\n",
      "Epoch 09: Train Huber=2.1146, Train MSE=12.4305, PC=0.5625 | Val MSE=14.0110, PC=0.6170\n",
      "Epoch 10: Train Huber=2.0763, Train MSE=12.1059, PC=0.5758 | Val MSE=15.4213, PC=0.5272\n",
      "Epoch 11: Train Huber=1.9809, Train MSE=10.7150, PC=0.6306 | Val MSE=13.7132, PC=0.6348\n",
      "Epoch 12: Train Huber=1.9631, Train MSE=10.6562, PC=0.6387 | Val MSE=16.9200, PC=0.6403\n",
      "Epoch 13: Train Huber=1.8434, Train MSE=9.9828, PC=0.6696 | Val MSE=13.9246, PC=0.5861\n",
      "Epoch 14: Train Huber=1.7610, Train MSE=9.3993, PC=0.6942 | Val MSE=18.5033, PC=0.6341\n",
      "Epoch 15: Train Huber=1.6967, Train MSE=8.8666, PC=0.7129 | Val MSE=14.2386, PC=0.6276\n",
      "Epoch 16: Train Huber=1.6269, Train MSE=8.3721, PC=0.7322 | Val MSE=16.0552, PC=0.6420\n",
      "Epoch 17: Train Huber=1.5097, Train MSE=7.5707, PC=0.7561 | Val MSE=13.5222, PC=0.6514\n",
      "Epoch 18: Train Huber=1.5128, Train MSE=8.0250, PC=0.7479 | Val MSE=14.4249, PC=0.6148\n",
      "Epoch 19: Train Huber=1.3846, Train MSE=6.9587, PC=0.7796 | Val MSE=17.2879, PC=0.6706\n",
      "Epoch 20: Train Huber=1.4395, Train MSE=7.1913, PC=0.7763 | Val MSE=19.8310, PC=0.6375\n",
      "Epoch 21: Train Huber=1.4566, Train MSE=7.7152, PC=0.7606 | Val MSE=15.0144, PC=0.6718\n",
      "Epoch 22: Train Huber=1.2077, Train MSE=5.8938, PC=0.8195 | Val MSE=13.7591, PC=0.6553\n",
      "Epoch 23: Train Huber=1.1629, Train MSE=5.8111, PC=0.8217 | Val MSE=14.3567, PC=0.6570\n",
      "Epoch 24: Train Huber=1.1561, Train MSE=5.8302, PC=0.8218 | Val MSE=15.1726, PC=0.6661\n",
      "Epoch 25: Train Huber=0.9937, Train MSE=4.6976, PC=0.8597 | Val MSE=14.5337, PC=0.6674\n",
      "Epoch 26: Train Huber=0.9494, Train MSE=4.3676, PC=0.8705 | Val MSE=14.7007, PC=0.6791\n",
      "Epoch 27: Train Huber=0.8982, Train MSE=3.9503, PC=0.8821 | Val MSE=12.2395, PC=0.6888\n",
      "Epoch 28: Train Huber=0.8425, Train MSE=3.6341, PC=0.8917 | Val MSE=13.1094, PC=0.6627\n",
      "Epoch 29: Train Huber=0.8633, Train MSE=3.5436, PC=0.8947 | Val MSE=13.5702, PC=0.6269\n",
      "Epoch 30: Train Huber=0.8505, Train MSE=3.3223, PC=0.9012 | Val MSE=12.5261, PC=0.6765\n",
      "Epoch 31: Train Huber=0.7350, Train MSE=3.0405, PC=0.9109 | Val MSE=14.0833, PC=0.6981\n",
      "Epoch 32: Train Huber=0.7701, Train MSE=3.0177, PC=0.9110 | Val MSE=12.5390, PC=0.6958\n",
      "Epoch 33: Train Huber=0.6792, Train MSE=2.5552, PC=0.9251 | Val MSE=12.9906, PC=0.6882\n",
      "Epoch 34: Train Huber=0.6532, Train MSE=2.3902, PC=0.9307 | Val MSE=12.7955, PC=0.6910\n",
      "Epoch 35: Train Huber=0.6154, Train MSE=2.2583, PC=0.9340 | Val MSE=14.9428, PC=0.6825\n",
      "Epoch 36: Train Huber=0.5635, Train MSE=1.9603, PC=0.9431 | Val MSE=14.2257, PC=0.6547\n"
     ]
    },
    {
     "name": "stderr",
     "output_type": "stream",
     "text": [
      "[I 2025-08-17 11:10:02,495] Trial 18 finished with value: 12.239497184753418 and parameters: {'hidden_dim': 220, 'nhead': 4, 'num_layers': 1, 'lr': 0.00015840461542924918, 'weight_decay': 6.06133022762108e-06}. Best is trial 9 with value: 11.634990692138672.\n"
     ]
    },
    {
     "name": "stdout",
     "output_type": "stream",
     "text": [
      "Epoch 37: Train Huber=0.5659, Train MSE=1.9638, PC=0.9428 | Val MSE=12.8961, PC=0.7031\n",
      "Early stopping\n",
      "\n",
      "[trial 19] build loaders...\n",
      "Epoch 01: Train Huber=3.0104, Train MSE=18.8624, PC=0.2858 | Val MSE=16.8624, PC=0.4659\n",
      "Epoch 02: Train Huber=2.5257, Train MSE=14.9619, PC=0.4336 | Val MSE=17.9919, PC=0.4978\n",
      "Epoch 03: Train Huber=2.4654, Train MSE=14.3690, PC=0.4540 | Val MSE=16.1213, PC=0.5076\n",
      "Epoch 04: Train Huber=2.4411, Train MSE=14.7246, PC=0.4595 | Val MSE=15.2955, PC=0.5382\n",
      "Epoch 05: Train Huber=2.4046, Train MSE=14.6616, PC=0.4652 | Val MSE=15.2385, PC=0.5315\n",
      "Epoch 06: Train Huber=2.3231, Train MSE=13.8995, PC=0.4878 | Val MSE=15.1209, PC=0.5896\n",
      "Epoch 07: Train Huber=2.2596, Train MSE=13.2509, PC=0.5282 | Val MSE=14.1677, PC=0.5768\n",
      "Epoch 08: Train Huber=2.1400, Train MSE=12.3661, PC=0.5583 | Val MSE=15.3004, PC=0.5254\n",
      "Epoch 09: Train Huber=2.1011, Train MSE=12.0669, PC=0.5741 | Val MSE=12.5141, PC=0.6265\n",
      "Epoch 10: Train Huber=2.2005, Train MSE=13.0393, PC=0.5348 | Val MSE=14.7182, PC=0.5468\n",
      "Epoch 11: Train Huber=2.0099, Train MSE=11.5850, PC=0.5932 | Val MSE=13.7961, PC=0.5741\n",
      "Epoch 12: Train Huber=1.8704, Train MSE=10.4894, PC=0.6487 | Val MSE=15.3038, PC=0.6441\n",
      "Epoch 13: Train Huber=1.8343, Train MSE=10.3755, PC=0.6462 | Val MSE=13.3494, PC=0.6310\n",
      "Epoch 14: Train Huber=1.7177, Train MSE=9.7484, PC=0.6749 | Val MSE=14.2012, PC=0.5917\n",
      "Epoch 15: Train Huber=1.7102, Train MSE=9.1732, PC=0.6968 | Val MSE=13.5319, PC=0.6346\n",
      "Epoch 16: Train Huber=1.6755, Train MSE=9.6625, PC=0.6807 | Val MSE=14.7723, PC=0.5932\n",
      "Epoch 17: Train Huber=1.5697, Train MSE=8.8588, PC=0.7154 | Val MSE=13.1718, PC=0.6672\n",
      "Epoch 18: Train Huber=1.5730, Train MSE=8.4211, PC=0.7237 | Val MSE=14.4275, PC=0.6436\n"
     ]
    },
    {
     "name": "stderr",
     "output_type": "stream",
     "text": [
      "[I 2025-08-17 11:10:50,616] Trial 19 finished with value: 12.514138221740723 and parameters: {'hidden_dim': 432, 'nhead': 4, 'num_layers': 1, 'lr': 0.0001051909502813386, 'weight_decay': 1.1667255937334867e-06}. Best is trial 9 with value: 11.634990692138672.\n"
     ]
    },
    {
     "name": "stdout",
     "output_type": "stream",
     "text": [
      "Epoch 19: Train Huber=1.5337, Train MSE=8.2525, PC=0.7316 | Val MSE=14.4027, PC=0.6160\n",
      "Early stopping\n",
      "\n",
      "[trial 20] build loaders...\n",
      "Epoch 01: Train Huber=3.4185, Train MSE=24.0281, PC=0.1181 | Val MSE=19.7371, PC=0.4760\n",
      "Epoch 02: Train Huber=2.4768, Train MSE=15.0092, PC=0.4500 | Val MSE=16.3774, PC=0.5455\n",
      "Epoch 03: Train Huber=2.3413, Train MSE=13.4889, PC=0.4963 | Val MSE=21.6152, PC=0.5063\n",
      "Epoch 04: Train Huber=2.3683, Train MSE=13.6377, PC=0.4951 | Val MSE=17.0916, PC=0.4203\n",
      "Epoch 05: Train Huber=2.2427, Train MSE=13.3175, PC=0.5106 | Val MSE=15.4316, PC=0.5617\n",
      "Epoch 06: Train Huber=2.2305, Train MSE=13.0592, PC=0.5329 | Val MSE=15.9730, PC=0.5993\n",
      "Epoch 07: Train Huber=2.2236, Train MSE=12.7966, PC=0.5419 | Val MSE=17.5736, PC=0.4222\n",
      "Epoch 08: Train Huber=2.1181, Train MSE=12.1725, PC=0.5746 | Val MSE=15.6326, PC=0.5913\n",
      "Epoch 09: Train Huber=2.0776, Train MSE=12.4130, PC=0.5662 | Val MSE=23.3123, PC=0.4170\n",
      "Epoch 10: Train Huber=2.2528, Train MSE=13.0699, PC=0.5295 | Val MSE=15.6947, PC=0.5587\n",
      "Epoch 11: Train Huber=2.1145, Train MSE=12.3313, PC=0.5797 | Val MSE=16.4623, PC=0.4793\n",
      "Epoch 12: Train Huber=2.0384, Train MSE=12.1607, PC=0.5885 | Val MSE=15.1268, PC=0.5877\n",
      "Epoch 13: Train Huber=1.7932, Train MSE=9.9127, PC=0.6720 | Val MSE=14.8021, PC=0.5856\n",
      "Epoch 14: Train Huber=1.6904, Train MSE=9.0777, PC=0.7039 | Val MSE=19.0365, PC=0.5422\n",
      "Epoch 15: Train Huber=1.6189, Train MSE=8.5011, PC=0.7337 | Val MSE=19.6942, PC=0.4609\n",
      "Epoch 16: Train Huber=1.6516, Train MSE=8.6478, PC=0.7201 | Val MSE=15.9952, PC=0.5597\n",
      "Epoch 17: Train Huber=1.4646, Train MSE=6.7086, PC=0.7894 | Val MSE=20.5280, PC=0.4402\n",
      "Epoch 18: Train Huber=1.3309, Train MSE=6.5878, PC=0.7951 | Val MSE=17.4234, PC=0.5527\n",
      "Epoch 19: Train Huber=1.3094, Train MSE=6.6488, PC=0.7954 | Val MSE=14.7836, PC=0.6282\n",
      "Epoch 20: Train Huber=1.2106, Train MSE=5.6309, PC=0.8269 | Val MSE=17.9191, PC=0.5661\n",
      "Epoch 21: Train Huber=1.2209, Train MSE=5.5228, PC=0.8313 | Val MSE=20.9073, PC=0.5554\n",
      "Epoch 22: Train Huber=1.1050, Train MSE=5.4578, PC=0.8370 | Val MSE=15.9310, PC=0.6215\n",
      "Epoch 23: Train Huber=1.1576, Train MSE=5.8972, PC=0.8203 | Val MSE=15.7504, PC=0.5381\n",
      "Epoch 24: Train Huber=1.0633, Train MSE=4.8290, PC=0.8548 | Val MSE=21.4738, PC=0.5457\n",
      "Epoch 25: Train Huber=0.9569, Train MSE=4.1800, PC=0.8747 | Val MSE=17.3320, PC=0.5681\n",
      "Epoch 26: Train Huber=0.9185, Train MSE=4.0512, PC=0.8793 | Val MSE=21.6544, PC=0.4938\n",
      "Epoch 27: Train Huber=0.8858, Train MSE=3.9509, PC=0.8832 | Val MSE=17.8051, PC=0.5377\n",
      "Epoch 28: Train Huber=0.8011, Train MSE=3.7339, PC=0.8902 | Val MSE=21.0766, PC=0.4996\n",
      "Epoch 29: Train Huber=0.8549, Train MSE=3.7878, PC=0.8891 | Val MSE=14.5487, PC=0.6191\n",
      "Epoch 30: Train Huber=0.7502, Train MSE=3.3665, PC=0.9014 | Val MSE=18.1057, PC=0.5047\n",
      "Epoch 31: Train Huber=0.7470, Train MSE=3.3260, PC=0.9016 | Val MSE=18.4373, PC=0.5127\n",
      "Epoch 32: Train Huber=0.7925, Train MSE=3.5012, PC=0.8966 | Val MSE=24.5861, PC=0.4869\n",
      "Epoch 33: Train Huber=0.6417, Train MSE=2.7711, PC=0.9188 | Val MSE=17.7713, PC=0.5677\n",
      "Epoch 34: Train Huber=0.6947, Train MSE=2.8814, PC=0.9160 | Val MSE=16.8290, PC=0.5637\n",
      "Epoch 35: Train Huber=0.6627, Train MSE=2.7992, PC=0.9177 | Val MSE=14.4410, PC=0.6292\n",
      "Epoch 36: Train Huber=0.5869, Train MSE=2.4955, PC=0.9270 | Val MSE=15.4904, PC=0.5799\n",
      "Epoch 37: Train Huber=0.6103, Train MSE=2.4887, PC=0.9269 | Val MSE=22.0324, PC=0.4148\n",
      "Epoch 38: Train Huber=0.5679, Train MSE=2.3450, PC=0.9316 | Val MSE=15.2904, PC=0.5755\n",
      "Epoch 39: Train Huber=0.5439, Train MSE=2.3500, PC=0.9318 | Val MSE=21.6394, PC=0.4746\n"
     ]
    },
    {
     "name": "stderr",
     "output_type": "stream",
     "text": [
      "[I 2025-08-17 11:12:33,109] Trial 20 finished with value: 14.440999031066895 and parameters: {'hidden_dim': 296, 'nhead': 4, 'num_layers': 1, 'lr': 0.0003171946683848896, 'weight_decay': 4.977730011140566e-06}. Best is trial 9 with value: 11.634990692138672.\n"
     ]
    },
    {
     "name": "stdout",
     "output_type": "stream",
     "text": [
      "Epoch 40: Train Huber=0.5237, Train MSE=2.2334, PC=0.9347 | Val MSE=16.7077, PC=0.5401\n",
      "\n",
      "[trial 21] build loaders...\n",
      "Epoch 01: Train Huber=3.0864, Train MSE=19.7476, PC=0.2106 | Val MSE=17.8412, PC=0.4523\n",
      "Epoch 02: Train Huber=2.7105, Train MSE=16.6139, PC=0.3756 | Val MSE=17.0005, PC=0.4914\n",
      "Epoch 03: Train Huber=2.4828, Train MSE=15.3952, PC=0.4278 | Val MSE=15.6576, PC=0.4850\n",
      "Epoch 04: Train Huber=2.3495, Train MSE=14.1488, PC=0.4779 | Val MSE=15.0672, PC=0.5372\n",
      "Epoch 05: Train Huber=2.3394, Train MSE=13.8781, PC=0.4802 | Val MSE=15.7242, PC=0.5421\n",
      "Epoch 06: Train Huber=2.2559, Train MSE=13.6705, PC=0.5126 | Val MSE=15.5337, PC=0.5486\n",
      "Epoch 07: Train Huber=2.1740, Train MSE=12.6784, PC=0.5434 | Val MSE=15.6216, PC=0.4981\n",
      "Epoch 08: Train Huber=2.1863, Train MSE=13.0563, PC=0.5275 | Val MSE=15.9567, PC=0.5075\n",
      "Epoch 09: Train Huber=2.1200, Train MSE=12.4544, PC=0.5636 | Val MSE=14.7437, PC=0.5625\n",
      "Epoch 10: Train Huber=2.0393, Train MSE=11.5310, PC=0.6030 | Val MSE=14.1422, PC=0.5863\n",
      "Epoch 11: Train Huber=1.9696, Train MSE=11.4115, PC=0.6062 | Val MSE=16.3212, PC=0.4916\n",
      "Epoch 12: Train Huber=2.0584, Train MSE=12.4436, PC=0.5711 | Val MSE=16.8275, PC=0.6171\n",
      "Epoch 13: Train Huber=1.9762, Train MSE=11.7396, PC=0.6065 | Val MSE=16.3714, PC=0.5159\n",
      "Epoch 14: Train Huber=1.8726, Train MSE=10.4221, PC=0.6490 | Val MSE=15.4867, PC=0.6137\n",
      "Epoch 15: Train Huber=1.7901, Train MSE=10.0181, PC=0.6645 | Val MSE=12.9569, PC=0.6196\n",
      "Epoch 16: Train Huber=1.7524, Train MSE=10.2833, PC=0.6593 | Val MSE=15.3797, PC=0.5746\n",
      "Epoch 17: Train Huber=1.6386, Train MSE=9.2649, PC=0.6946 | Val MSE=13.3136, PC=0.6239\n",
      "Epoch 18: Train Huber=1.6388, Train MSE=9.2986, PC=0.6960 | Val MSE=14.4532, PC=0.6218\n",
      "Epoch 19: Train Huber=1.5348, Train MSE=8.5222, PC=0.7244 | Val MSE=14.2605, PC=0.6209\n",
      "Epoch 20: Train Huber=1.4774, Train MSE=8.1372, PC=0.7371 | Val MSE=14.9975, PC=0.6154\n",
      "Epoch 21: Train Huber=1.4763, Train MSE=7.9436, PC=0.7455 | Val MSE=13.4809, PC=0.6318\n",
      "Epoch 22: Train Huber=1.4534, Train MSE=7.9765, PC=0.7458 | Val MSE=12.9836, PC=0.6305\n",
      "Epoch 23: Train Huber=1.4021, Train MSE=7.4584, PC=0.7601 | Val MSE=14.2461, PC=0.6462\n",
      "Epoch 24: Train Huber=1.3573, Train MSE=7.5287, PC=0.7611 | Val MSE=15.5213, PC=0.6507\n"
     ]
    },
    {
     "name": "stderr",
     "output_type": "stream",
     "text": [
      "[I 2025-08-17 11:13:35,816] Trial 21 finished with value: 12.956894874572754 and parameters: {'hidden_dim': 435, 'nhead': 4, 'num_layers': 1, 'lr': 0.00010255298588593511, 'weight_decay': 1.242853030798922e-06}. Best is trial 9 with value: 11.634990692138672.\n"
     ]
    },
    {
     "name": "stdout",
     "output_type": "stream",
     "text": [
      "Epoch 25: Train Huber=1.3074, Train MSE=6.5535, PC=0.7938 | Val MSE=14.8820, PC=0.5647\n",
      "Early stopping\n",
      "\n",
      "[trial 22] build loaders...\n",
      "Epoch 01: Train Huber=3.1220, Train MSE=19.6394, PC=0.1726 | Val MSE=16.6799, PC=0.4746\n",
      "Epoch 02: Train Huber=2.5287, Train MSE=15.2393, PC=0.4212 | Val MSE=17.0432, PC=0.5170\n",
      "Epoch 03: Train Huber=2.4942, Train MSE=14.9857, PC=0.4342 | Val MSE=15.8332, PC=0.4926\n",
      "Epoch 04: Train Huber=2.3618, Train MSE=13.9735, PC=0.4944 | Val MSE=15.9033, PC=0.5056\n",
      "Epoch 05: Train Huber=2.3025, Train MSE=13.8999, PC=0.5013 | Val MSE=17.6119, PC=0.4049\n",
      "Epoch 06: Train Huber=2.3411, Train MSE=13.9501, PC=0.4860 | Val MSE=16.0478, PC=0.5519\n",
      "Epoch 07: Train Huber=2.2280, Train MSE=13.2240, PC=0.5237 | Val MSE=14.1841, PC=0.5843\n",
      "Epoch 08: Train Huber=2.1613, Train MSE=12.3593, PC=0.5586 | Val MSE=15.3223, PC=0.5462\n",
      "Epoch 09: Train Huber=2.1115, Train MSE=12.4358, PC=0.5608 | Val MSE=14.9380, PC=0.5579\n",
      "Epoch 10: Train Huber=2.0643, Train MSE=11.9441, PC=0.5809 | Val MSE=15.9832, PC=0.5643\n",
      "Epoch 11: Train Huber=2.0255, Train MSE=11.5392, PC=0.5986 | Val MSE=16.2415, PC=0.5846\n",
      "Epoch 12: Train Huber=1.9808, Train MSE=11.4383, PC=0.6054 | Val MSE=14.9447, PC=0.5307\n",
      "Epoch 13: Train Huber=1.9495, Train MSE=11.2365, PC=0.6155 | Val MSE=14.6776, PC=0.5555\n",
      "Epoch 14: Train Huber=1.8431, Train MSE=10.5315, PC=0.6495 | Val MSE=14.7286, PC=0.5662\n",
      "Epoch 15: Train Huber=1.7161, Train MSE=9.5182, PC=0.6851 | Val MSE=13.2189, PC=0.6160\n",
      "Epoch 16: Train Huber=1.6787, Train MSE=9.4511, PC=0.6876 | Val MSE=12.6578, PC=0.6482\n",
      "Epoch 17: Train Huber=1.5595, Train MSE=8.2992, PC=0.7301 | Val MSE=16.3844, PC=0.5137\n",
      "Epoch 18: Train Huber=1.5568, Train MSE=8.2812, PC=0.7352 | Val MSE=12.4614, PC=0.6534\n",
      "Epoch 19: Train Huber=1.4608, Train MSE=7.9125, PC=0.7483 | Val MSE=12.9041, PC=0.6345\n",
      "Epoch 20: Train Huber=1.3814, Train MSE=7.0831, PC=0.7786 | Val MSE=13.2954, PC=0.6371\n",
      "Epoch 21: Train Huber=1.3923, Train MSE=7.2492, PC=0.7691 | Val MSE=13.6484, PC=0.6849\n",
      "Epoch 22: Train Huber=1.2774, Train MSE=6.6500, PC=0.7916 | Val MSE=16.4986, PC=0.6492\n",
      "Epoch 23: Train Huber=1.2158, Train MSE=6.1948, PC=0.8097 | Val MSE=13.6394, PC=0.6480\n",
      "Epoch 24: Train Huber=1.1302, Train MSE=5.5788, PC=0.8295 | Val MSE=13.7920, PC=0.6505\n",
      "Epoch 25: Train Huber=1.0988, Train MSE=5.7058, PC=0.8258 | Val MSE=13.7037, PC=0.6117\n",
      "Epoch 26: Train Huber=0.9270, Train MSE=4.5426, PC=0.8632 | Val MSE=14.9193, PC=0.5921\n",
      "Epoch 27: Train Huber=0.9822, Train MSE=4.8194, PC=0.8539 | Val MSE=15.1334, PC=0.6028\n"
     ]
    },
    {
     "name": "stderr",
     "output_type": "stream",
     "text": [
      "[I 2025-08-17 11:14:45,774] Trial 22 finished with value: 12.461448669433594 and parameters: {'hidden_dim': 496, 'nhead': 4, 'num_layers': 1, 'lr': 0.00014214421526539866, 'weight_decay': 1.9739584183449646e-06}. Best is trial 9 with value: 11.634990692138672.\n"
     ]
    },
    {
     "name": "stdout",
     "output_type": "stream",
     "text": [
      "Epoch 28: Train Huber=0.9166, Train MSE=4.1307, PC=0.8764 | Val MSE=13.2697, PC=0.6484\n",
      "Early stopping\n",
      "\n",
      "[trial 23] build loaders...\n",
      "Epoch 01: Train Huber=3.0089, Train MSE=18.8841, PC=0.2809 | Val MSE=20.1698, PC=0.4689\n",
      "Epoch 02: Train Huber=2.4685, Train MSE=14.6421, PC=0.4510 | Val MSE=21.7529, PC=0.4988\n",
      "Epoch 03: Train Huber=2.4459, Train MSE=13.9892, PC=0.4719 | Val MSE=16.4178, PC=0.4907\n",
      "Epoch 04: Train Huber=2.4779, Train MSE=14.8724, PC=0.4697 | Val MSE=14.6350, PC=0.5373\n",
      "Epoch 05: Train Huber=2.3483, Train MSE=14.2945, PC=0.4992 | Val MSE=18.6001, PC=0.3983\n",
      "Epoch 06: Train Huber=2.2371, Train MSE=13.2746, PC=0.5285 | Val MSE=14.2581, PC=0.5724\n",
      "Epoch 07: Train Huber=2.2135, Train MSE=12.8689, PC=0.5327 | Val MSE=14.8433, PC=0.5792\n",
      "Epoch 08: Train Huber=2.1611, Train MSE=12.8143, PC=0.5468 | Val MSE=15.6089, PC=0.5503\n",
      "Epoch 09: Train Huber=2.1683, Train MSE=12.7274, PC=0.5512 | Val MSE=14.9375, PC=0.5965\n",
      "Epoch 10: Train Huber=2.0527, Train MSE=12.0736, PC=0.5753 | Val MSE=16.6292, PC=0.6091\n",
      "Epoch 11: Train Huber=2.0628, Train MSE=11.6420, PC=0.5970 | Val MSE=14.1507, PC=0.5977\n",
      "Epoch 12: Train Huber=2.0181, Train MSE=11.6610, PC=0.5950 | Val MSE=14.4602, PC=0.5743\n",
      "Epoch 13: Train Huber=1.9324, Train MSE=11.0566, PC=0.6193 | Val MSE=14.6240, PC=0.6109\n",
      "Epoch 14: Train Huber=1.8565, Train MSE=10.5085, PC=0.6488 | Val MSE=14.9218, PC=0.6026\n",
      "Epoch 15: Train Huber=1.7949, Train MSE=9.8145, PC=0.6771 | Val MSE=13.2849, PC=0.6245\n",
      "Epoch 16: Train Huber=1.6844, Train MSE=9.2674, PC=0.6921 | Val MSE=14.5157, PC=0.5672\n",
      "Epoch 17: Train Huber=1.6048, Train MSE=8.4309, PC=0.7245 | Val MSE=13.3529, PC=0.6081\n",
      "Epoch 18: Train Huber=1.6274, Train MSE=8.5176, PC=0.7267 | Val MSE=13.8591, PC=0.5899\n",
      "Epoch 19: Train Huber=1.5626, Train MSE=8.4283, PC=0.7257 | Val MSE=13.6163, PC=0.6413\n",
      "Epoch 20: Train Huber=1.4272, Train MSE=7.5274, PC=0.7605 | Val MSE=15.1050, PC=0.5767\n",
      "Epoch 21: Train Huber=1.3924, Train MSE=7.5669, PC=0.7607 | Val MSE=13.9605, PC=0.6693\n",
      "Epoch 22: Train Huber=1.3545, Train MSE=6.7475, PC=0.7870 | Val MSE=13.7468, PC=0.6619\n",
      "Epoch 23: Train Huber=1.2924, Train MSE=6.3265, PC=0.8016 | Val MSE=12.7937, PC=0.6692\n",
      "Epoch 24: Train Huber=1.3127, Train MSE=6.3733, PC=0.8010 | Val MSE=13.6537, PC=0.6196\n",
      "Epoch 25: Train Huber=1.1271, Train MSE=5.6815, PC=0.8250 | Val MSE=14.2591, PC=0.6545\n",
      "Epoch 26: Train Huber=1.0571, Train MSE=5.1615, PC=0.8418 | Val MSE=13.1425, PC=0.6524\n",
      "Epoch 27: Train Huber=1.0158, Train MSE=4.8542, PC=0.8524 | Val MSE=13.5334, PC=0.6342\n",
      "Epoch 28: Train Huber=1.0783, Train MSE=5.2414, PC=0.8392 | Val MSE=14.4326, PC=0.6569\n",
      "Epoch 29: Train Huber=0.8667, Train MSE=3.9412, PC=0.8816 | Val MSE=13.9929, PC=0.6381\n",
      "Epoch 30: Train Huber=0.9473, Train MSE=4.3851, PC=0.8698 | Val MSE=14.6553, PC=0.6119\n",
      "Epoch 31: Train Huber=0.8664, Train MSE=3.8528, PC=0.8846 | Val MSE=12.8902, PC=0.6120\n",
      "Epoch 32: Train Huber=0.7430, Train MSE=3.3445, PC=0.9008 | Val MSE=15.4508, PC=0.6272\n"
     ]
    },
    {
     "name": "stderr",
     "output_type": "stream",
     "text": [
      "[I 2025-08-17 11:16:08,330] Trial 23 finished with value: 12.79366397857666 and parameters: {'hidden_dim': 496, 'nhead': 4, 'num_layers': 1, 'lr': 0.00016205757030618662, 'weight_decay': 2.8404114886555435e-06}. Best is trial 9 with value: 11.634990692138672.\n"
     ]
    },
    {
     "name": "stdout",
     "output_type": "stream",
     "text": [
      "Epoch 33: Train Huber=0.7483, Train MSE=3.3278, PC=0.9017 | Val MSE=14.0320, PC=0.6248\n",
      "Early stopping\n",
      "\n",
      "[trial 24] build loaders...\n",
      "Epoch 01: Train Huber=3.0363, Train MSE=21.1587, PC=0.2290 | Val MSE=16.8147, PC=0.4720\n",
      "Epoch 02: Train Huber=2.4296, Train MSE=14.1424, PC=0.4743 | Val MSE=16.5565, PC=0.5839\n",
      "Epoch 03: Train Huber=2.4296, Train MSE=14.4993, PC=0.4610 | Val MSE=17.6311, PC=0.4699\n",
      "Epoch 04: Train Huber=2.3718, Train MSE=13.9206, PC=0.4856 | Val MSE=15.7071, PC=0.5137\n",
      "Epoch 05: Train Huber=2.2679, Train MSE=13.3611, PC=0.5168 | Val MSE=13.4467, PC=0.6093\n",
      "Epoch 06: Train Huber=2.3164, Train MSE=13.6017, PC=0.5015 | Val MSE=15.3505, PC=0.5953\n",
      "Epoch 07: Train Huber=2.1815, Train MSE=12.8316, PC=0.5461 | Val MSE=16.2957, PC=0.5427\n",
      "Epoch 08: Train Huber=2.1985, Train MSE=12.6195, PC=0.5661 | Val MSE=17.5240, PC=0.4480\n",
      "Epoch 09: Train Huber=2.0327, Train MSE=11.4818, PC=0.6031 | Val MSE=15.2565, PC=0.6004\n",
      "Epoch 10: Train Huber=1.9302, Train MSE=10.5048, PC=0.6426 | Val MSE=24.8726, PC=0.4634\n",
      "Epoch 11: Train Huber=2.4473, Train MSE=15.5164, PC=0.4672 | Val MSE=16.7238, PC=0.5248\n",
      "Epoch 12: Train Huber=1.8371, Train MSE=10.0883, PC=0.6630 | Val MSE=16.9721, PC=0.4761\n",
      "Epoch 13: Train Huber=1.7335, Train MSE=8.9568, PC=0.7070 | Val MSE=19.4555, PC=0.3850\n",
      "Epoch 14: Train Huber=1.9041, Train MSE=10.5334, PC=0.6627 | Val MSE=17.6609, PC=0.4406\n"
     ]
    },
    {
     "name": "stderr",
     "output_type": "stream",
     "text": [
      "[I 2025-08-17 11:16:46,110] Trial 24 finished with value: 13.446743965148926 and parameters: {'hidden_dim': 146, 'nhead': 4, 'num_layers': 1, 'lr': 0.0005264515322041251, 'weight_decay': 6.929716954568364e-06}. Best is trial 9 with value: 11.634990692138672.\n"
     ]
    },
    {
     "name": "stdout",
     "output_type": "stream",
     "text": [
      "Epoch 15: Train Huber=1.6320, Train MSE=8.6849, PC=0.7249 | Val MSE=17.4553, PC=0.6441\n",
      "Early stopping\n",
      "\n",
      "[trial 25] build loaders...\n",
      "Epoch 01: Train Huber=3.0768, Train MSE=21.5846, PC=0.1694 | Val MSE=25.2963, PC=0.5103\n",
      "Epoch 02: Train Huber=2.5197, Train MSE=14.9062, PC=0.4436 | Val MSE=15.8232, PC=0.5179\n",
      "Epoch 03: Train Huber=2.3324, Train MSE=14.1239, PC=0.4812 | Val MSE=25.4030, PC=0.4640\n",
      "Epoch 04: Train Huber=2.4966, Train MSE=15.7990, PC=0.4282 | Val MSE=16.7144, PC=0.4415\n",
      "Epoch 05: Train Huber=2.2786, Train MSE=13.2358, PC=0.5281 | Val MSE=21.7341, PC=0.4161\n",
      "Epoch 06: Train Huber=2.8434, Train MSE=17.2738, PC=0.3268 | Val MSE=19.4590, PC=0.4984\n",
      "Epoch 07: Train Huber=2.4598, Train MSE=14.6953, PC=0.4459 | Val MSE=20.0694, PC=0.2122\n",
      "Epoch 08: Train Huber=2.4919, Train MSE=14.3406, PC=0.4527 | Val MSE=17.7556, PC=0.5173\n",
      "Epoch 09: Train Huber=2.3443, Train MSE=13.5924, PC=0.4970 | Val MSE=15.9099, PC=0.5524\n",
      "Epoch 10: Train Huber=2.3006, Train MSE=13.6091, PC=0.5059 | Val MSE=17.7057, PC=0.4492\n",
      "Epoch 11: Train Huber=2.2789, Train MSE=13.4502, PC=0.5092 | Val MSE=15.8331, PC=0.4909\n"
     ]
    },
    {
     "name": "stderr",
     "output_type": "stream",
     "text": [
      "[I 2025-08-17 11:17:37,946] Trial 25 finished with value: 15.823229789733887 and parameters: {'hidden_dim': 233, 'nhead': 4, 'num_layers': 2, 'lr': 0.000256416393409436, 'weight_decay': 2.2465741431510888e-06}. Best is trial 9 with value: 11.634990692138672.\n"
     ]
    },
    {
     "name": "stdout",
     "output_type": "stream",
     "text": [
      "Epoch 12: Train Huber=2.2157, Train MSE=13.0712, PC=0.5298 | Val MSE=17.9434, PC=0.5344\n",
      "Early stopping\n",
      "\n",
      "[trial 26] build loaders...\n",
      "Epoch 01: Train Huber=3.1899, Train MSE=21.3262, PC=0.1614 | Val MSE=16.5972, PC=0.4511\n",
      "Epoch 02: Train Huber=2.5196, Train MSE=15.4517, PC=0.4333 | Val MSE=17.8603, PC=0.5342\n",
      "Epoch 03: Train Huber=2.4368, Train MSE=14.1584, PC=0.4603 | Val MSE=15.8840, PC=0.5092\n",
      "Epoch 04: Train Huber=2.3321, Train MSE=13.9888, PC=0.4987 | Val MSE=17.1328, PC=0.5698\n",
      "Epoch 05: Train Huber=2.2711, Train MSE=13.5485, PC=0.5158 | Val MSE=15.3106, PC=0.5218\n",
      "Epoch 06: Train Huber=2.2595, Train MSE=13.7918, PC=0.5047 | Val MSE=17.4347, PC=0.4335\n",
      "Epoch 07: Train Huber=2.2644, Train MSE=13.2291, PC=0.5224 | Val MSE=16.3764, PC=0.5322\n",
      "Epoch 08: Train Huber=2.2766, Train MSE=13.3824, PC=0.5203 | Val MSE=14.7861, PC=0.5572\n",
      "Epoch 09: Train Huber=2.1731, Train MSE=12.6888, PC=0.5429 | Val MSE=16.2618, PC=0.5919\n",
      "Epoch 10: Train Huber=2.0674, Train MSE=11.9791, PC=0.5839 | Val MSE=17.0007, PC=0.5919\n",
      "Epoch 11: Train Huber=2.1050, Train MSE=12.5593, PC=0.5626 | Val MSE=13.6070, PC=0.6016\n",
      "Epoch 12: Train Huber=1.9343, Train MSE=10.7696, PC=0.6349 | Val MSE=14.7281, PC=0.6096\n",
      "Epoch 13: Train Huber=1.9248, Train MSE=10.5924, PC=0.6375 | Val MSE=18.4515, PC=0.5949\n",
      "Epoch 14: Train Huber=1.8666, Train MSE=10.3429, PC=0.6552 | Val MSE=13.4340, PC=0.6549\n",
      "Epoch 15: Train Huber=1.7820, Train MSE=9.8327, PC=0.6720 | Val MSE=12.6633, PC=0.6396\n",
      "Epoch 16: Train Huber=1.6671, Train MSE=9.3089, PC=0.6932 | Val MSE=14.2880, PC=0.6394\n",
      "Epoch 17: Train Huber=1.7025, Train MSE=9.2257, PC=0.6993 | Val MSE=13.1036, PC=0.6503\n",
      "Epoch 18: Train Huber=1.6673, Train MSE=8.8712, PC=0.7083 | Val MSE=15.0740, PC=0.5564\n",
      "Epoch 19: Train Huber=1.6008, Train MSE=8.7267, PC=0.7174 | Val MSE=13.5309, PC=0.6706\n",
      "Epoch 20: Train Huber=1.5211, Train MSE=7.7816, PC=0.7515 | Val MSE=13.5474, PC=0.6634\n",
      "Epoch 21: Train Huber=1.4308, Train MSE=7.2337, PC=0.7692 | Val MSE=14.1026, PC=0.6878\n",
      "Epoch 22: Train Huber=1.3112, Train MSE=6.4487, PC=0.7989 | Val MSE=14.8859, PC=0.6074\n",
      "Epoch 23: Train Huber=1.2004, Train MSE=6.1174, PC=0.8113 | Val MSE=15.3287, PC=0.6101\n",
      "Epoch 24: Train Huber=1.2240, Train MSE=6.1539, PC=0.8089 | Val MSE=14.8149, PC=0.6094\n"
     ]
    },
    {
     "name": "stderr",
     "output_type": "stream",
     "text": [
      "[I 2025-08-17 11:18:40,742] Trial 26 finished with value: 12.663272857666016 and parameters: {'hidden_dim': 458, 'nhead': 4, 'num_layers': 1, 'lr': 0.00014275820766386575, 'weight_decay': 5.662010884712578e-06}. Best is trial 9 with value: 11.634990692138672.\n"
     ]
    },
    {
     "name": "stdout",
     "output_type": "stream",
     "text": [
      "Epoch 25: Train Huber=1.1324, Train MSE=5.4114, PC=0.8364 | Val MSE=14.6076, PC=0.5887\n",
      "Early stopping\n",
      "\n",
      "[trial 27] build loaders...\n",
      "Epoch 01: Train Huber=2.8087, Train MSE=18.3587, PC=0.2947 | Val MSE=18.9842, PC=0.2966\n",
      "Epoch 02: Train Huber=2.6941, Train MSE=16.3365, PC=0.3502 | Val MSE=18.4711, PC=0.4411\n",
      "Epoch 03: Train Huber=2.4234, Train MSE=14.3148, PC=0.4668 | Val MSE=16.6994, PC=0.4420\n",
      "Epoch 04: Train Huber=2.4030, Train MSE=14.2148, PC=0.4715 | Val MSE=18.1873, PC=0.4502\n",
      "Epoch 05: Train Huber=2.3158, Train MSE=13.4105, PC=0.5176 | Val MSE=15.1434, PC=0.5370\n",
      "Epoch 06: Train Huber=2.3161, Train MSE=13.1244, PC=0.5159 | Val MSE=17.6307, PC=0.5846\n",
      "Epoch 07: Train Huber=2.3837, Train MSE=13.8244, PC=0.4993 | Val MSE=15.1090, PC=0.5604\n",
      "Epoch 08: Train Huber=2.2711, Train MSE=12.9600, PC=0.5336 | Val MSE=17.1754, PC=0.5644\n",
      "Epoch 09: Train Huber=2.2830, Train MSE=13.3170, PC=0.5167 | Val MSE=15.1699, PC=0.5543\n",
      "Epoch 10: Train Huber=2.2837, Train MSE=13.0391, PC=0.5281 | Val MSE=19.0687, PC=0.5818\n",
      "Epoch 11: Train Huber=2.2854, Train MSE=13.1126, PC=0.5281 | Val MSE=17.1355, PC=0.4405\n",
      "Epoch 12: Train Huber=2.4146, Train MSE=14.0665, PC=0.4696 | Val MSE=19.4711, PC=0.3241\n",
      "Epoch 13: Train Huber=2.3084, Train MSE=13.5485, PC=0.5176 | Val MSE=19.6910, PC=0.5397\n",
      "Epoch 14: Train Huber=2.1476, Train MSE=12.0888, PC=0.5703 | Val MSE=17.5970, PC=0.4978\n",
      "Epoch 15: Train Huber=2.2877, Train MSE=13.7622, PC=0.5064 | Val MSE=19.7241, PC=0.5292\n",
      "Epoch 16: Train Huber=2.1260, Train MSE=12.0919, PC=0.5655 | Val MSE=18.3313, PC=0.5518\n"
     ]
    },
    {
     "name": "stderr",
     "output_type": "stream",
     "text": [
      "[I 2025-08-17 11:19:54,062] Trial 27 finished with value: 15.108980178833008 and parameters: {'hidden_dim': 397, 'nhead': 4, 'num_layers': 2, 'lr': 0.0002821486774575908, 'weight_decay': 1.9746619239000415e-06}. Best is trial 9 with value: 11.634990692138672.\n"
     ]
    },
    {
     "name": "stdout",
     "output_type": "stream",
     "text": [
      "Epoch 17: Train Huber=2.1644, Train MSE=13.0492, PC=0.5451 | Val MSE=19.6766, PC=0.3578\n",
      "Early stopping\n",
      "\n",
      "[trial 28] build loaders...\n",
      "Epoch 01: Train Huber=3.0167, Train MSE=19.7080, PC=0.2305 | Val MSE=24.1116, PC=0.4492\n",
      "Epoch 02: Train Huber=2.5503, Train MSE=14.9596, PC=0.4256 | Val MSE=16.5580, PC=0.4668\n",
      "Epoch 03: Train Huber=2.4392, Train MSE=14.1511, PC=0.4715 | Val MSE=17.5622, PC=0.5271\n",
      "Epoch 04: Train Huber=2.4847, Train MSE=15.2876, PC=0.4448 | Val MSE=17.7925, PC=0.5366\n",
      "Epoch 05: Train Huber=2.3567, Train MSE=14.1490, PC=0.4864 | Val MSE=14.8978, PC=0.5568\n",
      "Epoch 06: Train Huber=2.2135, Train MSE=13.1633, PC=0.5337 | Val MSE=15.5033, PC=0.5621\n",
      "Epoch 07: Train Huber=2.1227, Train MSE=12.4955, PC=0.5640 | Val MSE=17.0904, PC=0.5906\n",
      "Epoch 08: Train Huber=2.0921, Train MSE=11.9419, PC=0.5828 | Val MSE=15.4197, PC=0.5813\n",
      "Epoch 09: Train Huber=2.0747, Train MSE=12.5318, PC=0.5667 | Val MSE=14.9015, PC=0.5736\n",
      "Epoch 10: Train Huber=1.9529, Train MSE=10.8438, PC=0.6304 | Val MSE=15.4725, PC=0.5998\n",
      "Epoch 11: Train Huber=2.0189, Train MSE=11.6384, PC=0.5978 | Val MSE=16.3945, PC=0.4880\n",
      "Epoch 12: Train Huber=2.0075, Train MSE=11.4354, PC=0.6077 | Val MSE=13.8591, PC=0.6155\n",
      "Epoch 13: Train Huber=1.7575, Train MSE=9.6840, PC=0.6816 | Val MSE=15.9485, PC=0.6065\n",
      "Epoch 14: Train Huber=1.7606, Train MSE=9.5370, PC=0.6861 | Val MSE=14.5532, PC=0.6193\n",
      "Epoch 15: Train Huber=1.7199, Train MSE=9.2531, PC=0.6967 | Val MSE=15.2760, PC=0.5173\n",
      "Epoch 16: Train Huber=1.6215, Train MSE=8.8255, PC=0.7120 | Val MSE=13.7109, PC=0.6134\n",
      "Epoch 17: Train Huber=1.5587, Train MSE=8.3545, PC=0.7290 | Val MSE=14.7991, PC=0.5875\n",
      "Epoch 18: Train Huber=1.5360, Train MSE=8.5429, PC=0.7271 | Val MSE=14.5613, PC=0.5915\n",
      "Epoch 19: Train Huber=1.5402, Train MSE=7.5784, PC=0.7579 | Val MSE=16.0124, PC=0.5928\n",
      "Epoch 20: Train Huber=1.4231, Train MSE=7.5073, PC=0.7626 | Val MSE=14.3308, PC=0.6041\n",
      "Epoch 21: Train Huber=1.3501, Train MSE=6.6981, PC=0.7897 | Val MSE=15.8018, PC=0.6025\n",
      "Epoch 22: Train Huber=1.2563, Train MSE=6.0611, PC=0.8132 | Val MSE=15.2688, PC=0.5433\n",
      "Epoch 23: Train Huber=1.2834, Train MSE=6.0863, PC=0.8111 | Val MSE=16.3645, PC=0.6172\n",
      "Epoch 24: Train Huber=1.1705, Train MSE=5.5642, PC=0.8281 | Val MSE=16.2200, PC=0.6283\n",
      "Epoch 25: Train Huber=1.1218, Train MSE=5.5434, PC=0.8313 | Val MSE=14.6519, PC=0.5832\n"
     ]
    },
    {
     "name": "stderr",
     "output_type": "stream",
     "text": [
      "[I 2025-08-17 11:21:00,486] Trial 28 finished with value: 13.710877418518066 and parameters: {'hidden_dim': 322, 'nhead': 4, 'num_layers': 1, 'lr': 0.00014914799080664363, 'weight_decay': 9.383844544152492e-06}. Best is trial 9 with value: 11.634990692138672.\n"
     ]
    },
    {
     "name": "stdout",
     "output_type": "stream",
     "text": [
      "Epoch 26: Train Huber=1.1316, Train MSE=5.1059, PC=0.8447 | Val MSE=15.6164, PC=0.5404\n",
      "Early stopping\n",
      "\n",
      "[trial 29] build loaders...\n",
      "Epoch 01: Train Huber=3.0568, Train MSE=20.7987, PC=0.2217 | Val MSE=17.0595, PC=0.4649\n",
      "Epoch 02: Train Huber=2.5239, Train MSE=15.3189, PC=0.4401 | Val MSE=16.6978, PC=0.4831\n",
      "Epoch 03: Train Huber=2.5911, Train MSE=16.2991, PC=0.3825 | Val MSE=17.6554, PC=0.4163\n",
      "Epoch 04: Train Huber=2.4101, Train MSE=14.2364, PC=0.4795 | Val MSE=18.1350, PC=0.5582\n",
      "Epoch 05: Train Huber=2.3859, Train MSE=14.5163, PC=0.4702 | Val MSE=15.7348, PC=0.4957\n",
      "Epoch 06: Train Huber=2.4069, Train MSE=14.5794, PC=0.4708 | Val MSE=15.8341, PC=0.5695\n",
      "Epoch 07: Train Huber=2.4214, Train MSE=14.7618, PC=0.4661 | Val MSE=20.3454, PC=0.5047\n",
      "Epoch 08: Train Huber=2.2792, Train MSE=13.5419, PC=0.5100 | Val MSE=17.7422, PC=0.5395\n",
      "Epoch 09: Train Huber=2.3559, Train MSE=14.0017, PC=0.4927 | Val MSE=16.2429, PC=0.5358\n",
      "Epoch 10: Train Huber=2.2528, Train MSE=13.0708, PC=0.5483 | Val MSE=17.8376, PC=0.3629\n",
      "Epoch 11: Train Huber=2.2829, Train MSE=14.0040, PC=0.5034 | Val MSE=13.9482, PC=0.6179\n",
      "Epoch 12: Train Huber=2.0502, Train MSE=11.5959, PC=0.5981 | Val MSE=16.4603, PC=0.4637\n",
      "Epoch 13: Train Huber=2.1334, Train MSE=12.5099, PC=0.5618 | Val MSE=14.8529, PC=0.5449\n",
      "Epoch 14: Train Huber=1.9250, Train MSE=11.3592, PC=0.6124 | Val MSE=15.5733, PC=0.5392\n",
      "Epoch 15: Train Huber=1.8308, Train MSE=9.9020, PC=0.6731 | Val MSE=17.7027, PC=0.4962\n",
      "Epoch 16: Train Huber=1.7585, Train MSE=9.7457, PC=0.6851 | Val MSE=41.9951, PC=0.4444\n",
      "Epoch 17: Train Huber=2.3130, Train MSE=13.9191, PC=0.5302 | Val MSE=19.2629, PC=0.4349\n",
      "Epoch 18: Train Huber=1.6219, Train MSE=8.3993, PC=0.7267 | Val MSE=17.0045, PC=0.4652\n",
      "Epoch 19: Train Huber=1.7510, Train MSE=8.8839, PC=0.7083 | Val MSE=18.9825, PC=0.4577\n",
      "Epoch 20: Train Huber=1.5398, Train MSE=7.8019, PC=0.7559 | Val MSE=20.5800, PC=0.5806\n"
     ]
    },
    {
     "name": "stderr",
     "output_type": "stream",
     "text": [
      "[I 2025-08-17 11:21:53,215] Trial 29 finished with value: 13.948163032531738 and parameters: {'hidden_dim': 241, 'nhead': 4, 'num_layers': 1, 'lr': 0.0009652973366171388, 'weight_decay': 3.846546389413561e-06}. Best is trial 9 with value: 11.634990692138672.\n"
     ]
    },
    {
     "name": "stdout",
     "output_type": "stream",
     "text": [
      "Epoch 21: Train Huber=1.4185, Train MSE=6.7159, PC=0.7923 | Val MSE=22.3458, PC=0.3216\n",
      "Early stopping\n",
      "Best hyper-parameters: {'hidden_dim': 332, 'nhead': 4, 'num_layers': 1, 'lr': 0.00012315571723666037, 'weight_decay': 9.462175356461487e-06}\n",
      "Best Val MSE (Optuna): 11.634990692138672\n",
      "Reloaded eval — Train MSE=4.7953, PC=0.8565 | Val MSE=11.6350, PC=0.6951 | ΔMSE=0.000000\n",
      "Saved VAL preds → results_final\\video_reg_val_dep.csv\n"
     ]
    }
   ],
   "source": [
    "df = pd.read_csv('FinalDataset.csv')\n",
    "\n",
    "train_ids_dep = set(os.listdir('Person-Dependent_Split/train'))\n",
    "val_ids_dep = set(os.listdir('Person-Dependent_Split/val'))\n",
    "\n",
    "res_ind = run_split(\"dep\", train_ids_dep, val_ids_dep, input_dim=768)"
   ]
  },
  {
   "cell_type": "code",
   "execution_count": 49,
   "id": "9d2ba884-cad8-409e-b979-e0c7a51a92c9",
   "metadata": {},
   "outputs": [
    {
     "name": "stderr",
     "output_type": "stream",
     "text": [
      "C:\\Users\\Mansi Jadhav\\AppData\\Local\\Temp\\ipykernel_35428\\4139045899.py:3: FutureWarning: You are using `torch.load` with `weights_only=False` (the current default value), which uses the default pickle module implicitly. It is possible to construct malicious pickle data which will execute arbitrary code during unpickling (See https://github.com/pytorch/pytorch/blob/main/SECURITY.md#untrusted-models for more details). In a future release, the default value for `weights_only` will be flipped to `True`. This limits the functions that could be executed during unpickling. Arbitrary objects will no longer be allowed to be loaded via this mode unless they are explicitly allowlisted by the user via `torch.serialization.add_safe_globals`. We recommend you start setting `weights_only=True` for any use case where you don't have full control of the loaded file. Please open an issue on GitHub for any issues related to this experimental feature.\n",
      "  blob = torch.load('models_final/video_reg_dep.pt', map_location=DEVICE)\n",
      "C:\\ProgramData\\anaconda3\\Lib\\site-packages\\torch\\nn\\modules\\transformer.py:379: UserWarning: enable_nested_tensor is True, but self.use_nested_tensor is False because encoder_layer.self_attn.batch_first was not True(use batch_first for better inference performance)\n",
      "  warnings.warn(\n"
     ]
    },
    {
     "name": "stdout",
     "output_type": "stream",
     "text": [
      "Best Val (Optuna): MSE=11.6350, PC=0.6951\n",
      "Reloaded model eval: Val MSE=11.6350, PC=0.6951\n"
     ]
    }
   ],
   "source": [
    "import torch\n",
    "\n",
    "blob = torch.load('models_final/video_reg_dep.pt', map_location=DEVICE)\n",
    "best_params = blob[\"best_params\"]\n",
    "\n",
    "best_model = TransformerRegressor(\n",
    "    d_model=768,\n",
    "    nhead=best_params[\"nhead\"],\n",
    "    num_layers=best_params[\"num_layers\"]).to(DEVICE)\n",
    "\n",
    "best_model.load_state_dict(blob[\"state_dict\"])\n",
    "best_model.eval()\n",
    "\n",
    "df = pd.read_csv('FinalDataset.csv')\n",
    "\n",
    "train_ids_dep = set(os.listdir('Person-Dependent_Split/train'))\n",
    "val_ids_dep = set(os.listdir('Person-Dependent_Split/val'))\n",
    "train_df_dep = df[df.video_id.isin(train_ids_dep)].reset_index(drop=True)\n",
    "val_df_dep   = df[df.video_id.isin(val_ids_dep)].reset_index(drop=True)\n",
    "\n",
    "# Final evaluation metrics\n",
    "g = torch.Generator().manual_seed(SEED)\n",
    "train_loader = DataLoader(TemporalFeatureDataset(train_df_dep, 'videomae_features_new'), batch_size=BATCH_SIZE, shuffle=True, generator=g, \n",
    "                          num_workers=0, pin_memory=True)\n",
    "val_loader = DataLoader(TemporalFeatureDataset(val_df_dep, 'videomae_features_new'),batch_size=BATCH_SIZE, shuffle=False, \n",
    "                        num_workers=0, pin_memory=True)\n",
    "tr_mse, tr_pc, tr_preds, tr_tgts = evaluate(best_model, train_loader)\n",
    "vl_mse, vl_pc, vl_preds, vl_tgts = evaluate(best_model, val_loader)\n",
    "print(f\"Best Val (Optuna): MSE={blob[\"val_mse\"]:.4f}, PC={blob['val_pc']:.4f}\")\n",
    "print(f\"Reloaded model eval: Val MSE={vl_mse:.4f}, PC={vl_pc:.4f}\")"
   ]
  },
  {
   "cell_type": "code",
   "execution_count": null,
   "id": "a49eca5d-a79c-44ac-a28d-ebc4410c99c0",
   "metadata": {},
   "outputs": [],
   "source": []
  },
  {
   "cell_type": "markdown",
   "id": "a0121191-afe7-4d7b-9128-6367c420c5f1",
   "metadata": {},
   "source": [
    "# Test Predictions"
   ]
  },
  {
   "cell_type": "code",
   "execution_count": 1,
   "id": "2f1cea4b-b7b7-4706-b846-2eb807ab5de3",
   "metadata": {},
   "outputs": [
    {
     "name": "stdout",
     "output_type": "stream",
     "text": [
      "\n",
      "===== [ind] REG: Train+Val -> Test (labels from CSV) =====\n",
      "train+val: 350 | test: 150\n",
      "internal train: 295 | internal val: 55\n"
     ]
    },
    {
     "name": "stderr",
     "output_type": "stream",
     "text": [
      "C:\\Users\\Mansi Jadhav\\AppData\\Local\\Temp\\ipykernel_32448\\1127137794.py:251: FutureWarning: You are using `torch.load` with `weights_only=False` (the current default value), which uses the default pickle module implicitly. It is possible to construct malicious pickle data which will execute arbitrary code during unpickling (See https://github.com/pytorch/pytorch/blob/main/SECURITY.md#untrusted-models for more details). In a future release, the default value for `weights_only` will be flipped to `True`. This limits the functions that could be executed during unpickling. Arbitrary objects will no longer be allowed to be loaded via this mode unless they are explicitly allowlisted by the user via `torch.serialization.add_safe_globals`. We recommend you start setting `weights_only=True` for any use case where you don't have full control of the loaded file. Please open an issue on GitHub for any issues related to this experimental feature.\n",
      "  state_obj = torch.load(pt_path, map_location=DEVICE)\n",
      "C:\\ProgramData\\anaconda3\\Lib\\site-packages\\torch\\nn\\modules\\transformer.py:379: UserWarning: enable_nested_tensor is True, but self.use_nested_tensor is False because encoder_layer.norm_first was True\n",
      "  warnings.warn(\n"
     ]
    },
    {
     "name": "stdout",
     "output_type": "stream",
     "text": [
      "[ind] Loaded init weights (strict=False).\n",
      "Epoch 01 | Train Huber=3.1840 MSE=19.0002 PC=0.0163 || Val MSE=14.4978 PC=0.5847\n",
      "Epoch 02 | Train Huber=2.7116 MSE=15.4706 PC=0.2398 || Val MSE=9.5465 PC=0.6348\n",
      "Epoch 03 | Train Huber=2.3861 MSE=14.3495 PC=0.3510 || Val MSE=9.4672 PC=0.6280\n",
      "Epoch 04 | Train Huber=2.3966 MSE=14.5108 PC=0.3724 || Val MSE=13.2801 PC=0.5669\n",
      "Epoch 05 | Train Huber=2.3484 MSE=14.3251 PC=0.3838 || Val MSE=9.2055 PC=0.6272\n",
      "Epoch 06 | Train Huber=2.1744 MSE=13.6041 PC=0.4307 || Val MSE=12.4418 PC=0.5989\n",
      "Epoch 07 | Train Huber=2.1434 MSE=13.0432 PC=0.4721 || Val MSE=10.3460 PC=0.5998\n",
      "Epoch 08 | Train Huber=2.0468 MSE=12.4753 PC=0.5089 || Val MSE=12.5429 PC=0.5426\n",
      "Epoch 09 | Train Huber=2.0901 MSE=11.5850 PC=0.5304 || Val MSE=10.5114 PC=0.5850\n",
      "Epoch 10 | Train Huber=2.0117 MSE=11.8975 PC=0.5578 || Val MSE=18.8625 PC=0.1444\n",
      "Epoch 11 | Train Huber=1.9453 MSE=11.1193 PC=0.5646 || Val MSE=9.9445 PC=0.5935\n",
      "Epoch 12 | Train Huber=2.0235 MSE=12.0965 PC=0.5234 || Val MSE=13.0835 PC=0.5203\n",
      "Epoch 13 | Train Huber=1.8754 MSE=10.3603 PC=0.5876 || Val MSE=11.2446 PC=0.5266\n",
      "Early stopping.\n",
      "[ind] Best epoch: 5 | Best Val MSE=9.2055 | Val PC=0.6272\n",
      "[ind] TEST — MSE(log)=14.8672 | PC=0.5365 | MSE(views)=1280690782045513.00\n",
      "[ind] Saved test predictions to: results_final\\video_reg_test_ind.csv\n",
      "[ind] Saved final model bundle to: models_final\\video_reg_final_ind.pt\n",
      "\n",
      "===== [dep] REG: Train+Val -> Test (labels from CSV) =====\n",
      "train+val: 350 | test: 150\n",
      "internal train: 300 | internal val: 50\n",
      "[dep] Loaded init weights (strict=False).\n"
     ]
    },
    {
     "name": "stderr",
     "output_type": "stream",
     "text": [
      "C:\\Users\\Mansi Jadhav\\AppData\\Local\\Temp\\ipykernel_32448\\1127137794.py:251: FutureWarning: You are using `torch.load` with `weights_only=False` (the current default value), which uses the default pickle module implicitly. It is possible to construct malicious pickle data which will execute arbitrary code during unpickling (See https://github.com/pytorch/pytorch/blob/main/SECURITY.md#untrusted-models for more details). In a future release, the default value for `weights_only` will be flipped to `True`. This limits the functions that could be executed during unpickling. Arbitrary objects will no longer be allowed to be loaded via this mode unless they are explicitly allowlisted by the user via `torch.serialization.add_safe_globals`. We recommend you start setting `weights_only=True` for any use case where you don't have full control of the loaded file. Please open an issue on GitHub for any issues related to this experimental feature.\n",
      "  state_obj = torch.load(pt_path, map_location=DEVICE)\n",
      "C:\\ProgramData\\anaconda3\\Lib\\site-packages\\torch\\nn\\modules\\transformer.py:379: UserWarning: enable_nested_tensor is True, but self.use_nested_tensor is False because encoder_layer.norm_first was True\n",
      "  warnings.warn(\n"
     ]
    },
    {
     "name": "stdout",
     "output_type": "stream",
     "text": [
      "Epoch 01 | Train Huber=4.0380 MSE=31.6314 PC=-0.0489 || Val MSE=16.7622 PC=0.4311\n",
      "Epoch 02 | Train Huber=3.0549 MSE=17.9320 PC=0.3453 || Val MSE=15.5354 PC=0.3350\n",
      "Epoch 03 | Train Huber=2.8352 MSE=16.2316 PC=0.4239 || Val MSE=14.5150 PC=0.4098\n",
      "Epoch 04 | Train Huber=2.6522 MSE=14.9041 PC=0.4697 || Val MSE=14.4166 PC=0.4126\n",
      "Epoch 05 | Train Huber=2.5648 MSE=14.7092 PC=0.4526 || Val MSE=14.0705 PC=0.4162\n",
      "Epoch 06 | Train Huber=2.4978 MSE=14.0182 PC=0.4968 || Val MSE=14.2284 PC=0.3976\n",
      "Epoch 07 | Train Huber=2.3367 MSE=13.1949 PC=0.5280 || Val MSE=15.4379 PC=0.3607\n",
      "Epoch 08 | Train Huber=2.2855 MSE=12.8853 PC=0.5479 || Val MSE=15.5132 PC=0.3993\n",
      "Epoch 09 | Train Huber=2.2530 MSE=12.8772 PC=0.5525 || Val MSE=16.2282 PC=0.3484\n",
      "Epoch 10 | Train Huber=2.1904 MSE=12.4974 PC=0.5678 || Val MSE=16.9641 PC=0.3223\n",
      "Epoch 11 | Train Huber=2.0198 MSE=11.3784 PC=0.6176 || Val MSE=17.1819 PC=0.3213\n",
      "Epoch 12 | Train Huber=1.9836 MSE=11.4122 PC=0.6191 || Val MSE=19.9119 PC=0.3393\n",
      "Epoch 13 | Train Huber=2.0629 MSE=11.5408 PC=0.6130 || Val MSE=17.4849 PC=0.3084\n",
      "Early stopping.\n",
      "[dep] Best epoch: 5 | Best Val MSE=14.0705 | Val PC=0.4162\n",
      "[dep] TEST — MSE(log)=14.1122 | PC=0.3458 | MSE(views)=1087743184628630.62\n",
      "[dep] Saved test predictions to: results_final\\video_reg_test_dep.csv\n",
      "[dep] Saved final model bundle to: models_final\\video_reg_final_dep.pt\n"
     ]
    }
   ],
   "source": [
    "import os\n",
    "import json\n",
    "import math\n",
    "import copy\n",
    "import numpy as np\n",
    "import pandas as pd\n",
    "from pathlib import Path\n",
    "\n",
    "# Ensure reproducibility\n",
    "SEED = 42\n",
    "os.environ[\"PYTHONHASHSEED\"] = str(SEED)\n",
    "os.environ[\"CUBLAS_WORKSPACE_CONFIG\"] = \":4096:8\"  # for deterministic CuBLAS paths\n",
    "\n",
    "import torch\n",
    "import torch.nn as nn\n",
    "import torch.optim as optim\n",
    "from torch.utils.data import Dataset, DataLoader\n",
    "\n",
    "from sklearn.model_selection import StratifiedGroupKFold, StratifiedKFold\n",
    "import pickle\n",
    "\n",
    "FEATURE_DIR = \"videomae_features_new\"\n",
    "CSV_PATH    = \"FinalDataset.csv\" \n",
    "\n",
    "MODEL_DIR   = Path(\"models_final\")  \n",
    "MODEL_DIR.mkdir(exist_ok=True)\n",
    "RESULTS_DIR = Path(\"results_final\") \n",
    "RESULTS_DIR.mkdir(exist_ok=True)\n",
    "\n",
    "BATCH_SIZE_DEFAULT = 8\n",
    "N_EPOCHS    = 40\n",
    "PATIENCE    = 8\n",
    "INPUT_DIM   = 768\n",
    "NUM_WORKERS = 0\n",
    "DEVICE      = torch.device(\"cuda\" if torch.cuda.is_available() else \"cpu\")\n",
    "PIN         = torch.cuda.is_available()\n",
    "\n",
    "LABEL_COL_MAP = {\n",
    "    \"ind\": \"view_range_enc_ind\",\n",
    "    \"dep\": \"view_range_enc_dep\",\n",
    "}\n",
    "\n",
    "# Set the seeds\n",
    "def set_seed(seed=SEED):\n",
    "    np.random.seed(seed)\n",
    "    torch.manual_seed(seed)\n",
    "    if torch.cuda.is_available():\n",
    "        torch.cuda.manual_seed_all(seed)\n",
    "    torch.backends.cudnn.deterministic = True\n",
    "    torch.backends.cudnn.benchmark     = False\n",
    "\n",
    "# Initialize each DataLoader worker with a different deterministic seed\n",
    "def worker_init_fn(worker_id):\n",
    "    s = SEED + worker_id\n",
    "    np.random.seed(s)\n",
    "    torch.manual_seed(s)\n",
    "\n",
    "set_seed(SEED)\n",
    "\n",
    "# Same as above\n",
    "def safe_pearsonr(preds, targets, eps=1e-8):\n",
    "    preds   = np.asarray(preds).squeeze()\n",
    "    targets = np.asarray(targets).squeeze()\n",
    "    cov = ((preds - preds.mean()) * (targets - targets.mean())).mean()\n",
    "    return float(cov / ((preds.std() + eps) * (targets.std() + eps)))\n",
    "\n",
    "def log_to_views(arr):\n",
    "    return np.expm1(np.asarray(arr, dtype=float))\n",
    "\n",
    "# Return set of file names without extension\n",
    "def read_ids_from_dir(dir_path: str):\n",
    "    assert os.path.isdir(dir_path), f\"Missing directory: {dir_path}\"\n",
    "    return set(os.path.splitext(fn)[0] for fn in os.listdir(dir_path))\n",
    "\n",
    "def get_dfs_for_split(split_tag: str):\n",
    "    \"\"\"\n",
    "    Returns trainval_df and test_df for the split by reading id-lists from folders:\n",
    "      Person-<Split>_Split/{train,val,test}\n",
    "    Uses CSV with original encoded labels (no recomputation).\n",
    "    \"\"\"\n",
    "    df = pd.read_csv(CSV_PATH)\n",
    "    base = f\"Person-{'Independent' if split_tag=='ind' else 'Dependent'}_Split\"\n",
    "    train_ids = read_ids_from_dir(os.path.join(base, \"train\"))\n",
    "    val_ids   = read_ids_from_dir(os.path.join(base, \"val\"))\n",
    "    test_ids  = read_ids_from_dir(os.path.join(base, \"test\"))\n",
    "\n",
    "    trainval_ids = train_ids | val_ids\n",
    "    trainval_df  = df[df.video_id.isin(trainval_ids)].reset_index(drop=True)  # train+val\n",
    "    test_df      = df[df.video_id.isin(test_ids)].reset_index(drop=True)      # test\n",
    "\n",
    "    need = {\"video_id\",\"channel_id\",\"log_view_count\",\"view_count\",\n",
    "            \"view_range_enc_ind\",\"view_range_enc_dep\"}\n",
    "    assert need.issubset(trainval_df.columns), f\"Missing in trainval: {need - set(trainval_df.columns)}\"\n",
    "    assert need.issubset(test_df.columns), f\"Missing in test: {need - set(test_df.columns)}\"\n",
    "    return trainval_df, test_df\n",
    "\n",
    "def build_internal_val_from_labels(trainval_df: pd.DataFrame, split_tag: str,\n",
    "                                   val_rel=0.15, seed=SEED):\n",
    "    \"\"\"\n",
    "    Build ONE internal validation split from train+val using the PRECOMPUTED\n",
    "    encoded labels (no new bins). PI: StratifiedGroupKFold (group=channel_id).\n",
    "    PD: StratifiedKFold. We take the first fold to approximate ~val_rel.\n",
    "    \"\"\"\n",
    "    label_col = LABEL_COL_MAP[split_tag]\n",
    "    assert label_col in trainval_df.columns, f\"Missing {label_col}.\"\n",
    "    assert \"channel_id\" in trainval_df.columns, \"Missing channel_id.\"\n",
    "\n",
    "    y = pd.Series(trainval_df[label_col]).astype(str)\n",
    "    if not y.str.fullmatch(r\"\\d+\").all():\n",
    "        y = pd.Series(pd.Categorical(y).codes)\n",
    "    else:\n",
    "        y = y.astype(int)\n",
    "\n",
    "    n_splits = max(2, int(round(1.0 / val_rel)))  # e.g., 0.15 -> ~7\n",
    "    idx = np.arange(len(trainval_df))\n",
    "\n",
    "    if split_tag == \"ind\":\n",
    "        groups = trainval_df[\"channel_id\"].values\n",
    "        cv = StratifiedGroupKFold(n_splits=n_splits, shuffle=True, random_state=seed)   # no channel overlap for ind\n",
    "        tr_idx, va_idx = next(cv.split(idx, y, groups=groups)) \n",
    "    else:\n",
    "        cv = StratifiedKFold(n_splits=n_splits, shuffle=True, random_state=seed)    # channel overlap\n",
    "        tr_idx, va_idx = next(cv.split(idx.reshape(-1,1), y))\n",
    "\n",
    "    return tr_idx, va_idx\n",
    "\n",
    "def load_best_reg_bundle(split_tag: str):\n",
    "    \"\"\"\n",
    "    Loads:\n",
    "      - state_dict (if you saved one) from models*/video_reg_{split}.pt OR video_trans_reg_{split}.pt\n",
    "      - best_params from accompanying pkl (optional)\n",
    "    \"\"\"\n",
    "    pt_path = MODEL_DIR / f\"video_reg_{split_tag}.pt\"\n",
    "\n",
    "    state_obj = torch.load(pt_path, map_location=DEVICE)\n",
    "    if isinstance(state_obj, dict) and \"state_dict\" in state_obj:\n",
    "        state_dict = state_obj[\"state_dict\"]\n",
    "        best_params_from_pt = state_obj.get(\"best_params\", None)\n",
    "    else:\n",
    "        state_dict = state_obj\n",
    "        best_params_from_pt = None\n",
    "\n",
    "    pkl_path = MODEL_DIR / f\"video_reg_{split_tag}.pkl\"\n",
    "    \n",
    "    best_params = None\n",
    "    if pkl_path.exists():\n",
    "        with open(pkl_path, \"rb\") as f:\n",
    "            bundle = pickle.load(f)\n",
    "    best_params = bundle.get(\"best_params\") or bundle.get(\"params\") or None\n",
    "\n",
    "    if best_params is None:\n",
    "        best_params = best_params_from_pt\n",
    "\n",
    "    return state_dict, best_params\n",
    "\n",
    "# ======================= Runner (train+val -> test) ===========\n",
    "def train_on_trainval_then_test_reg(split_tag: str):\n",
    "    \"\"\"\n",
    "    Regression pipeline:\n",
    "    - Load best params/state (state used only as init; params drive the model)\n",
    "    - Create one internal val from train+val via PRECOMPUTED labels (no new bins)\n",
    "    - Train with Huber, early stop on Val MSE (log space)\n",
    "    - Evaluate on TEST: MSE(log), Pearson r, and MSE(views)\n",
    "    - Save predictions CSV (video_id, y_true, y_pred) + save final train+val-tuned model\n",
    "    \"\"\"\n",
    "    set_seed(SEED)\n",
    "    print(f\"\\n===== [{split_tag}] REG: Train+Val -> Test (labels from CSV) =====\")\n",
    "\n",
    "    # Dataframes\n",
    "    trainval_df, test_df = get_dfs_for_split(split_tag)\n",
    "    print(f\"train+val: {len(trainval_df)} | test: {len(test_df)}\")\n",
    "\n",
    "    # Load best bundle (state dict + hyperparams)\n",
    "    state_dict, best_params = load_best_reg_bundle(split_tag)\n",
    "    batch_size = int(best_params.get(\"batch_size\", BATCH_SIZE_DEFAULT))\n",
    "\n",
    "    # Build internal split for early stopping\n",
    "    tr_idx, va_idx = build_internal_val_from_labels(trainval_df, split_tag=split_tag, val_rel=0.15, seed=SEED)\n",
    "    tr_in = trainval_df.iloc[tr_idx].reset_index(drop=True)\n",
    "    va_in = trainval_df.iloc[va_idx].reset_index(drop=True)\n",
    "    print(f\"internal train: {len(tr_in)} | internal val: {len(va_in)}\")\n",
    "\n",
    "    # Model\n",
    "    model = TransformerRegressor(\n",
    "        d_model=int(best_params[\"d_model\"]),\n",
    "        nhead=int(best_params[\"nhead\"]),\n",
    "        num_layers=int(best_params[\"num_layers\"])\n",
    "    ).to(DEVICE)\n",
    "\n",
    "    # Loaders\n",
    "    g = torch.Generator().manual_seed(SEED)\n",
    "    tr_loader = DataLoader(\n",
    "        TemporalFeatureDataset(tr_in, feature_dir=FEATURE_DIR, target_col=\"log_view_count\"),\n",
    "        batch_size=batch_size, shuffle=True, generator=g,\n",
    "        num_workers=NUM_WORKERS, pin_memory=PIN,\n",
    "        worker_init_fn=worker_init_fn if NUM_WORKERS>0 else None\n",
    "    )\n",
    "    va_loader = DataLoader(\n",
    "        TemporalFeatureDataset(va_in, feature_dir=FEATURE_DIR, target_col=\"log_view_count\"),\n",
    "        batch_size=batch_size, shuffle=False,\n",
    "        num_workers=NUM_WORKERS, pin_memory=PIN,\n",
    "        worker_init_fn=worker_init_fn if NUM_WORKERS>0 else None\n",
    "    )\n",
    "    te_loader = DataLoader(\n",
    "        TemporalFeatureDataset(test_df, feature_dir=FEATURE_DIR, target_col=\"log_view_count\"),\n",
    "        batch_size=batch_size, shuffle=False,\n",
    "        num_workers=NUM_WORKERS, pin_memory=PIN,\n",
    "        worker_init_fn=worker_init_fn if NUM_WORKERS>0 else None\n",
    "    )\n",
    "\n",
    "    # Train with early stopping on val MSE (log)\n",
    "    criterion = nn.HuberLoss(delta=1.0)   # Huber loss\n",
    "    optimizer = optim.Adam(model.parameters(), lr=float(best_params[\"lr\"]), weight_decay=float(best_params[\"weight_decay\"])) # Get the best params\n",
    "\n",
    "    best_val, best_state, best_pc, best_epoch, bad = float(\"inf\"), None, None, None, 0\n",
    "    for ep in range(1, N_EPOCHS + 1):\n",
    "        tr_hub, tr_mse, tr_pc = train_one_epoch(model, tr_loader, criterion, optimizer)  # Train the model\n",
    "        va_mse, va_pc, _, _   = evaluate(model, va_loader)   # Evaluate\n",
    "        print(f\"Epoch {ep:02d} | Train Huber={tr_hub:.4f} MSE={tr_mse:.4f} PC={tr_pc:.4f} || \"\n",
    "              f\"Val MSE={va_mse:.4f} PC={va_pc:.4f}\")\n",
    "        if va_mse < best_val:\n",
    "            best_val, best_pc = float(va_mse), float(va_pc)\n",
    "            best_state = copy.deepcopy(model.state_dict())\n",
    "            best_epoch = ep\n",
    "            bad = 0\n",
    "        else:\n",
    "            bad += 1\n",
    "            if bad >= PATIENCE:\n",
    "                print(\"Early stopping.\")\n",
    "                break\n",
    "\n",
    "    if best_state is not None:\n",
    "        model.load_state_dict(best_state)\n",
    "    print(f\"[{split_tag}] Best epoch: {best_epoch} | Best Val MSE={best_val:.4f} | Val PC={best_pc:.4f}\")\n",
    "\n",
    "    # Test evaluation\n",
    "    te_mse, te_pc, te_preds, te_tgts = evaluate(model, te_loader)   # Evaluate on test\n",
    "    te_views_mse = float(np.mean((log_to_views(te_preds) - log_to_views(te_tgts))**2))  # Get the raw views\n",
    "\n",
    "    print(f\"[{split_tag}] TEST — MSE(log)={te_mse:.4f} | PC={te_pc:.4f} | MSE(views)={te_views_mse:.2f}\")\n",
    "\n",
    "    # Save predictions CSV (slim)\n",
    "    out = test_df[[\"video_id\"]].copy()\n",
    "    out[\"y_true\"] = test_df[\"log_view_count\"].to_numpy()\n",
    "    out[\"y_pred\"] = np.asarray(te_preds).reshape(-1)\n",
    "    save_csv = RESULTS_DIR / f\"video_reg_test_{split_tag}.csv\"\n",
    "    out.to_csv(save_csv, index=False)\n",
    "    print(f\"[{split_tag}] Saved test predictions to: {save_csv}\")\n",
    "\n",
    "    # Save the train+val-tuned model bundle\n",
    "    final_bundle = {\n",
    "        \"state_dict\": model.state_dict(),\n",
    "        \"best_params\": best_params,\n",
    "        \"internal_val_mse\": float(best_val),\n",
    "        \"internal_val_pc\":  float(best_pc),\n",
    "        \"seed\": SEED,\n",
    "    }\n",
    "    final_path = MODEL_DIR / f\"video_reg_final_{split_tag}.pt\"\n",
    "    torch.save(final_bundle, final_path)\n",
    "    print(f\"[{split_tag}] Saved final model bundle to: {final_path}\")\n",
    "\n",
    "\n",
    "    return {\n",
    "        \"model\": model,\n",
    "        \"test_mse_log\": te_mse,\n",
    "        \"test_pc\": te_pc,\n",
    "        \"test_mse_views\": te_views_mse,\n",
    "        \"preds_path\": save_csv,\n",
    "        \"best_epoch\": best_epoch\n",
    "    }\n",
    "\n",
    "# ======================= Run both splits =====================\n",
    "if __name__ == \"__main__\":\n",
    "    res_ind = train_on_trainval_then_test_reg(\"ind\")\n",
    "    res_dep = train_on_trainval_then_test_reg(\"dep\")"
   ]
  },
  {
   "cell_type": "code",
   "execution_count": null,
   "id": "e9cf1e00-3c96-4aef-ac27-2c601d87d71a",
   "metadata": {},
   "outputs": [],
   "source": []
  }
 ],
 "metadata": {
  "kernelspec": {
   "display_name": "Python 3 (ipykernel)",
   "language": "python",
   "name": "python3"
  },
  "language_info": {
   "codemirror_mode": {
    "name": "ipython",
    "version": 3
   },
   "file_extension": ".py",
   "mimetype": "text/x-python",
   "name": "python",
   "nbconvert_exporter": "python",
   "pygments_lexer": "ipython3",
   "version": "3.12.7"
  }
 },
 "nbformat": 4,
 "nbformat_minor": 5
}
